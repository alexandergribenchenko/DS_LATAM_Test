{
  "nbformat": 4,
  "nbformat_minor": 0,
  "metadata": {
    "colab": {
      "provenance": [],
      "toc_visible": true,
      "authorship_tag": "ABX9TyMy8NUrg3ISA6+Z4L3yaG0k",
      "include_colab_link": true
    },
    "kernelspec": {
      "name": "python3",
      "display_name": "Python 3"
    },
    "language_info": {
      "name": "python"
    }
  },
  "cells": [
    {
      "cell_type": "markdown",
      "metadata": {
        "id": "view-in-github",
        "colab_type": "text"
      },
      "source": [
        "<a href=\"https://colab.research.google.com/github/alexandergribenchenko/DS_LATAM_Test/blob/main/LATAM_N_02_Pipeline.ipynb\" target=\"_parent\"><img src=\"https://colab.research.google.com/assets/colab-badge.svg\" alt=\"Open In Colab\"/></a>"
      ]
    },
    {
      "cell_type": "code",
      "execution_count": 17,
      "metadata": {
        "id": "S6qCcz81fq-l"
      },
      "outputs": [],
      "source": [
        "import pandas as pd\n",
        "import numpy as np\n",
        "\n",
        "from sklearn.base import BaseEstimator, TransformerMixin\n",
        "from sklearn.pipeline import Pipeline\n",
        "\n",
        "import warnings\n",
        "warnings.filterwarnings(\"ignore\")"
      ]
    },
    {
      "cell_type": "markdown",
      "source": [
        "## B. Dataframe raw"
      ],
      "metadata": {
        "id": "VhGEv_0ShOEt"
      }
    },
    {
      "cell_type": "code",
      "source": [
        "path_github = 'https://raw.githubusercontent.com/alexandergribenchenko/DS_LATAM_Test/main/dataset_SCL.csv'             "
      ],
      "metadata": {
        "id": "ze_c1IL9frvv"
      },
      "execution_count": 18,
      "outputs": []
    },
    {
      "cell_type": "code",
      "source": [
        "df_raw = pd.read_csv(path_github, dtype=object)\n",
        "df_raw"
      ],
      "metadata": {
        "colab": {
          "base_uri": "https://localhost:8080/",
          "height": 467
        },
        "id": "3HsSBVFnhoiF",
        "outputId": "4162bf7d-cd91-4ebc-bbda-e6a321184051"
      },
      "execution_count": 19,
      "outputs": [
        {
          "output_type": "execute_result",
          "data": {
            "text/plain": [
              "                   Fecha-I Vlo-I Ori-I Des-I Emp-I              Fecha-O  \\\n",
              "0      2017-01-01 23:30:00   226  SCEL  KMIA   AAL  2017-01-01 23:33:00   \n",
              "1      2017-01-02 23:30:00   226  SCEL  KMIA   AAL  2017-01-02 23:39:00   \n",
              "2      2017-01-03 23:30:00   226  SCEL  KMIA   AAL  2017-01-03 23:39:00   \n",
              "3      2017-01-04 23:30:00   226  SCEL  KMIA   AAL  2017-01-04 23:33:00   \n",
              "4      2017-01-05 23:30:00   226  SCEL  KMIA   AAL  2017-01-05 23:28:00   \n",
              "...                    ...   ...   ...   ...   ...                  ...   \n",
              "68201  2017-12-22 14:55:00   400  SCEL  SPJC   JAT  2017-12-22 15:41:00   \n",
              "68202  2017-12-25 14:55:00   400  SCEL  SPJC   JAT  2017-12-25 15:11:00   \n",
              "68203  2017-12-27 14:55:00   400  SCEL  SPJC   JAT  2017-12-27 15:35:00   \n",
              "68204  2017-12-29 14:55:00   400  SCEL  SPJC   JAT  2017-12-29 15:08:00   \n",
              "68205  2017-12-31 14:55:00   400  SCEL  SPJC   JAT  2017-12-31 15:04:00   \n",
              "\n",
              "       Vlo-O Ori-O Des-O Emp-O DIA MES   AÑO     DIANOM TIPOVUELO  \\\n",
              "0        226  SCEL  KMIA   AAL   1   1  2017    Domingo         I   \n",
              "1        226  SCEL  KMIA   AAL   2   1  2017      Lunes         I   \n",
              "2        226  SCEL  KMIA   AAL   3   1  2017     Martes         I   \n",
              "3        226  SCEL  KMIA   AAL   4   1  2017  Miercoles         I   \n",
              "4        226  SCEL  KMIA   AAL   5   1  2017     Jueves         I   \n",
              "...      ...   ...   ...   ...  ..  ..   ...        ...       ...   \n",
              "68201  400.0  SCEL  SPJC   JAT  22  12  2017    Viernes         I   \n",
              "68202  400.0  SCEL  SPJC   JAT  25  12  2017      Lunes         I   \n",
              "68203  400.0  SCEL  SPJC   JAT  27  12  2017  Miercoles         I   \n",
              "68204  400.0  SCEL  SPJC   JAT  29  12  2017    Viernes         I   \n",
              "68205  400.0  SCEL  SPJC   JAT  31  12  2017    Domingo         I   \n",
              "\n",
              "                   OPERA  SIGLAORI SIGLADES  \n",
              "0      American Airlines  Santiago    Miami  \n",
              "1      American Airlines  Santiago    Miami  \n",
              "2      American Airlines  Santiago    Miami  \n",
              "3      American Airlines  Santiago    Miami  \n",
              "4      American Airlines  Santiago    Miami  \n",
              "...                  ...       ...      ...  \n",
              "68201       JetSmart SPA  Santiago     Lima  \n",
              "68202       JetSmart SPA  Santiago     Lima  \n",
              "68203       JetSmart SPA  Santiago     Lima  \n",
              "68204       JetSmart SPA  Santiago     Lima  \n",
              "68205       JetSmart SPA  Santiago     Lima  \n",
              "\n",
              "[68206 rows x 18 columns]"
            ],
            "text/html": [
              "\n",
              "  <div id=\"df-7c71fb76-09c6-4bba-8047-e32a78ffd2aa\">\n",
              "    <div class=\"colab-df-container\">\n",
              "      <div>\n",
              "<style scoped>\n",
              "    .dataframe tbody tr th:only-of-type {\n",
              "        vertical-align: middle;\n",
              "    }\n",
              "\n",
              "    .dataframe tbody tr th {\n",
              "        vertical-align: top;\n",
              "    }\n",
              "\n",
              "    .dataframe thead th {\n",
              "        text-align: right;\n",
              "    }\n",
              "</style>\n",
              "<table border=\"1\" class=\"dataframe\">\n",
              "  <thead>\n",
              "    <tr style=\"text-align: right;\">\n",
              "      <th></th>\n",
              "      <th>Fecha-I</th>\n",
              "      <th>Vlo-I</th>\n",
              "      <th>Ori-I</th>\n",
              "      <th>Des-I</th>\n",
              "      <th>Emp-I</th>\n",
              "      <th>Fecha-O</th>\n",
              "      <th>Vlo-O</th>\n",
              "      <th>Ori-O</th>\n",
              "      <th>Des-O</th>\n",
              "      <th>Emp-O</th>\n",
              "      <th>DIA</th>\n",
              "      <th>MES</th>\n",
              "      <th>AÑO</th>\n",
              "      <th>DIANOM</th>\n",
              "      <th>TIPOVUELO</th>\n",
              "      <th>OPERA</th>\n",
              "      <th>SIGLAORI</th>\n",
              "      <th>SIGLADES</th>\n",
              "    </tr>\n",
              "  </thead>\n",
              "  <tbody>\n",
              "    <tr>\n",
              "      <th>0</th>\n",
              "      <td>2017-01-01 23:30:00</td>\n",
              "      <td>226</td>\n",
              "      <td>SCEL</td>\n",
              "      <td>KMIA</td>\n",
              "      <td>AAL</td>\n",
              "      <td>2017-01-01 23:33:00</td>\n",
              "      <td>226</td>\n",
              "      <td>SCEL</td>\n",
              "      <td>KMIA</td>\n",
              "      <td>AAL</td>\n",
              "      <td>1</td>\n",
              "      <td>1</td>\n",
              "      <td>2017</td>\n",
              "      <td>Domingo</td>\n",
              "      <td>I</td>\n",
              "      <td>American Airlines</td>\n",
              "      <td>Santiago</td>\n",
              "      <td>Miami</td>\n",
              "    </tr>\n",
              "    <tr>\n",
              "      <th>1</th>\n",
              "      <td>2017-01-02 23:30:00</td>\n",
              "      <td>226</td>\n",
              "      <td>SCEL</td>\n",
              "      <td>KMIA</td>\n",
              "      <td>AAL</td>\n",
              "      <td>2017-01-02 23:39:00</td>\n",
              "      <td>226</td>\n",
              "      <td>SCEL</td>\n",
              "      <td>KMIA</td>\n",
              "      <td>AAL</td>\n",
              "      <td>2</td>\n",
              "      <td>1</td>\n",
              "      <td>2017</td>\n",
              "      <td>Lunes</td>\n",
              "      <td>I</td>\n",
              "      <td>American Airlines</td>\n",
              "      <td>Santiago</td>\n",
              "      <td>Miami</td>\n",
              "    </tr>\n",
              "    <tr>\n",
              "      <th>2</th>\n",
              "      <td>2017-01-03 23:30:00</td>\n",
              "      <td>226</td>\n",
              "      <td>SCEL</td>\n",
              "      <td>KMIA</td>\n",
              "      <td>AAL</td>\n",
              "      <td>2017-01-03 23:39:00</td>\n",
              "      <td>226</td>\n",
              "      <td>SCEL</td>\n",
              "      <td>KMIA</td>\n",
              "      <td>AAL</td>\n",
              "      <td>3</td>\n",
              "      <td>1</td>\n",
              "      <td>2017</td>\n",
              "      <td>Martes</td>\n",
              "      <td>I</td>\n",
              "      <td>American Airlines</td>\n",
              "      <td>Santiago</td>\n",
              "      <td>Miami</td>\n",
              "    </tr>\n",
              "    <tr>\n",
              "      <th>3</th>\n",
              "      <td>2017-01-04 23:30:00</td>\n",
              "      <td>226</td>\n",
              "      <td>SCEL</td>\n",
              "      <td>KMIA</td>\n",
              "      <td>AAL</td>\n",
              "      <td>2017-01-04 23:33:00</td>\n",
              "      <td>226</td>\n",
              "      <td>SCEL</td>\n",
              "      <td>KMIA</td>\n",
              "      <td>AAL</td>\n",
              "      <td>4</td>\n",
              "      <td>1</td>\n",
              "      <td>2017</td>\n",
              "      <td>Miercoles</td>\n",
              "      <td>I</td>\n",
              "      <td>American Airlines</td>\n",
              "      <td>Santiago</td>\n",
              "      <td>Miami</td>\n",
              "    </tr>\n",
              "    <tr>\n",
              "      <th>4</th>\n",
              "      <td>2017-01-05 23:30:00</td>\n",
              "      <td>226</td>\n",
              "      <td>SCEL</td>\n",
              "      <td>KMIA</td>\n",
              "      <td>AAL</td>\n",
              "      <td>2017-01-05 23:28:00</td>\n",
              "      <td>226</td>\n",
              "      <td>SCEL</td>\n",
              "      <td>KMIA</td>\n",
              "      <td>AAL</td>\n",
              "      <td>5</td>\n",
              "      <td>1</td>\n",
              "      <td>2017</td>\n",
              "      <td>Jueves</td>\n",
              "      <td>I</td>\n",
              "      <td>American Airlines</td>\n",
              "      <td>Santiago</td>\n",
              "      <td>Miami</td>\n",
              "    </tr>\n",
              "    <tr>\n",
              "      <th>...</th>\n",
              "      <td>...</td>\n",
              "      <td>...</td>\n",
              "      <td>...</td>\n",
              "      <td>...</td>\n",
              "      <td>...</td>\n",
              "      <td>...</td>\n",
              "      <td>...</td>\n",
              "      <td>...</td>\n",
              "      <td>...</td>\n",
              "      <td>...</td>\n",
              "      <td>...</td>\n",
              "      <td>...</td>\n",
              "      <td>...</td>\n",
              "      <td>...</td>\n",
              "      <td>...</td>\n",
              "      <td>...</td>\n",
              "      <td>...</td>\n",
              "      <td>...</td>\n",
              "    </tr>\n",
              "    <tr>\n",
              "      <th>68201</th>\n",
              "      <td>2017-12-22 14:55:00</td>\n",
              "      <td>400</td>\n",
              "      <td>SCEL</td>\n",
              "      <td>SPJC</td>\n",
              "      <td>JAT</td>\n",
              "      <td>2017-12-22 15:41:00</td>\n",
              "      <td>400.0</td>\n",
              "      <td>SCEL</td>\n",
              "      <td>SPJC</td>\n",
              "      <td>JAT</td>\n",
              "      <td>22</td>\n",
              "      <td>12</td>\n",
              "      <td>2017</td>\n",
              "      <td>Viernes</td>\n",
              "      <td>I</td>\n",
              "      <td>JetSmart SPA</td>\n",
              "      <td>Santiago</td>\n",
              "      <td>Lima</td>\n",
              "    </tr>\n",
              "    <tr>\n",
              "      <th>68202</th>\n",
              "      <td>2017-12-25 14:55:00</td>\n",
              "      <td>400</td>\n",
              "      <td>SCEL</td>\n",
              "      <td>SPJC</td>\n",
              "      <td>JAT</td>\n",
              "      <td>2017-12-25 15:11:00</td>\n",
              "      <td>400.0</td>\n",
              "      <td>SCEL</td>\n",
              "      <td>SPJC</td>\n",
              "      <td>JAT</td>\n",
              "      <td>25</td>\n",
              "      <td>12</td>\n",
              "      <td>2017</td>\n",
              "      <td>Lunes</td>\n",
              "      <td>I</td>\n",
              "      <td>JetSmart SPA</td>\n",
              "      <td>Santiago</td>\n",
              "      <td>Lima</td>\n",
              "    </tr>\n",
              "    <tr>\n",
              "      <th>68203</th>\n",
              "      <td>2017-12-27 14:55:00</td>\n",
              "      <td>400</td>\n",
              "      <td>SCEL</td>\n",
              "      <td>SPJC</td>\n",
              "      <td>JAT</td>\n",
              "      <td>2017-12-27 15:35:00</td>\n",
              "      <td>400.0</td>\n",
              "      <td>SCEL</td>\n",
              "      <td>SPJC</td>\n",
              "      <td>JAT</td>\n",
              "      <td>27</td>\n",
              "      <td>12</td>\n",
              "      <td>2017</td>\n",
              "      <td>Miercoles</td>\n",
              "      <td>I</td>\n",
              "      <td>JetSmart SPA</td>\n",
              "      <td>Santiago</td>\n",
              "      <td>Lima</td>\n",
              "    </tr>\n",
              "    <tr>\n",
              "      <th>68204</th>\n",
              "      <td>2017-12-29 14:55:00</td>\n",
              "      <td>400</td>\n",
              "      <td>SCEL</td>\n",
              "      <td>SPJC</td>\n",
              "      <td>JAT</td>\n",
              "      <td>2017-12-29 15:08:00</td>\n",
              "      <td>400.0</td>\n",
              "      <td>SCEL</td>\n",
              "      <td>SPJC</td>\n",
              "      <td>JAT</td>\n",
              "      <td>29</td>\n",
              "      <td>12</td>\n",
              "      <td>2017</td>\n",
              "      <td>Viernes</td>\n",
              "      <td>I</td>\n",
              "      <td>JetSmart SPA</td>\n",
              "      <td>Santiago</td>\n",
              "      <td>Lima</td>\n",
              "    </tr>\n",
              "    <tr>\n",
              "      <th>68205</th>\n",
              "      <td>2017-12-31 14:55:00</td>\n",
              "      <td>400</td>\n",
              "      <td>SCEL</td>\n",
              "      <td>SPJC</td>\n",
              "      <td>JAT</td>\n",
              "      <td>2017-12-31 15:04:00</td>\n",
              "      <td>400.0</td>\n",
              "      <td>SCEL</td>\n",
              "      <td>SPJC</td>\n",
              "      <td>JAT</td>\n",
              "      <td>31</td>\n",
              "      <td>12</td>\n",
              "      <td>2017</td>\n",
              "      <td>Domingo</td>\n",
              "      <td>I</td>\n",
              "      <td>JetSmart SPA</td>\n",
              "      <td>Santiago</td>\n",
              "      <td>Lima</td>\n",
              "    </tr>\n",
              "  </tbody>\n",
              "</table>\n",
              "<p>68206 rows × 18 columns</p>\n",
              "</div>\n",
              "      <button class=\"colab-df-convert\" onclick=\"convertToInteractive('df-7c71fb76-09c6-4bba-8047-e32a78ffd2aa')\"\n",
              "              title=\"Convert this dataframe to an interactive table.\"\n",
              "              style=\"display:none;\">\n",
              "        \n",
              "  <svg xmlns=\"http://www.w3.org/2000/svg\" height=\"24px\"viewBox=\"0 0 24 24\"\n",
              "       width=\"24px\">\n",
              "    <path d=\"M0 0h24v24H0V0z\" fill=\"none\"/>\n",
              "    <path d=\"M18.56 5.44l.94 2.06.94-2.06 2.06-.94-2.06-.94-.94-2.06-.94 2.06-2.06.94zm-11 1L8.5 8.5l.94-2.06 2.06-.94-2.06-.94L8.5 2.5l-.94 2.06-2.06.94zm10 10l.94 2.06.94-2.06 2.06-.94-2.06-.94-.94-2.06-.94 2.06-2.06.94z\"/><path d=\"M17.41 7.96l-1.37-1.37c-.4-.4-.92-.59-1.43-.59-.52 0-1.04.2-1.43.59L10.3 9.45l-7.72 7.72c-.78.78-.78 2.05 0 2.83L4 21.41c.39.39.9.59 1.41.59.51 0 1.02-.2 1.41-.59l7.78-7.78 2.81-2.81c.8-.78.8-2.07 0-2.86zM5.41 20L4 18.59l7.72-7.72 1.47 1.35L5.41 20z\"/>\n",
              "  </svg>\n",
              "      </button>\n",
              "      \n",
              "  <style>\n",
              "    .colab-df-container {\n",
              "      display:flex;\n",
              "      flex-wrap:wrap;\n",
              "      gap: 12px;\n",
              "    }\n",
              "\n",
              "    .colab-df-convert {\n",
              "      background-color: #E8F0FE;\n",
              "      border: none;\n",
              "      border-radius: 50%;\n",
              "      cursor: pointer;\n",
              "      display: none;\n",
              "      fill: #1967D2;\n",
              "      height: 32px;\n",
              "      padding: 0 0 0 0;\n",
              "      width: 32px;\n",
              "    }\n",
              "\n",
              "    .colab-df-convert:hover {\n",
              "      background-color: #E2EBFA;\n",
              "      box-shadow: 0px 1px 2px rgba(60, 64, 67, 0.3), 0px 1px 3px 1px rgba(60, 64, 67, 0.15);\n",
              "      fill: #174EA6;\n",
              "    }\n",
              "\n",
              "    [theme=dark] .colab-df-convert {\n",
              "      background-color: #3B4455;\n",
              "      fill: #D2E3FC;\n",
              "    }\n",
              "\n",
              "    [theme=dark] .colab-df-convert:hover {\n",
              "      background-color: #434B5C;\n",
              "      box-shadow: 0px 1px 3px 1px rgba(0, 0, 0, 0.15);\n",
              "      filter: drop-shadow(0px 1px 2px rgba(0, 0, 0, 0.3));\n",
              "      fill: #FFFFFF;\n",
              "    }\n",
              "  </style>\n",
              "\n",
              "      <script>\n",
              "        const buttonEl =\n",
              "          document.querySelector('#df-7c71fb76-09c6-4bba-8047-e32a78ffd2aa button.colab-df-convert');\n",
              "        buttonEl.style.display =\n",
              "          google.colab.kernel.accessAllowed ? 'block' : 'none';\n",
              "\n",
              "        async function convertToInteractive(key) {\n",
              "          const element = document.querySelector('#df-7c71fb76-09c6-4bba-8047-e32a78ffd2aa');\n",
              "          const dataTable =\n",
              "            await google.colab.kernel.invokeFunction('convertToInteractive',\n",
              "                                                     [key], {});\n",
              "          if (!dataTable) return;\n",
              "\n",
              "          const docLinkHtml = 'Like what you see? Visit the ' +\n",
              "            '<a target=\"_blank\" href=https://colab.research.google.com/notebooks/data_table.ipynb>data table notebook</a>'\n",
              "            + ' to learn more about interactive tables.';\n",
              "          element.innerHTML = '';\n",
              "          dataTable['output_type'] = 'display_data';\n",
              "          await google.colab.output.renderOutput(dataTable, element);\n",
              "          const docLink = document.createElement('div');\n",
              "          docLink.innerHTML = docLinkHtml;\n",
              "          element.appendChild(docLink);\n",
              "        }\n",
              "      </script>\n",
              "    </div>\n",
              "  </div>\n",
              "  "
            ]
          },
          "metadata": {},
          "execution_count": 19
        }
      ]
    },
    {
      "cell_type": "markdown",
      "source": [
        "# 03. Transformadores"
      ],
      "metadata": {
        "id": "7KejINP1f1ET"
      }
    },
    {
      "cell_type": "markdown",
      "source": [
        "## 03.01. FeatureSelector"
      ],
      "metadata": {
        "id": "UAqdz-d0f8as"
      }
    },
    {
      "cell_type": "code",
      "source": [
        "class FeatureSelector(BaseEstimator, TransformerMixin):\n",
        "    \n",
        "    def __init__(self, params_FeatureSelector):\n",
        "        self.feature_names = params_FeatureSelector['feature_names'] \n",
        "    \n",
        "    def fit(self, X, y = None):\n",
        "        return self \n",
        "    \n",
        "    def transform(self, X, y = None):\n",
        "      X_output = X[self.feature_names]\n",
        "      return X_output"
      ],
      "metadata": {
        "id": "mGpzDmr_frtY"
      },
      "execution_count": 61,
      "outputs": []
    },
    {
      "cell_type": "markdown",
      "source": [
        "## 03.02. DateType"
      ],
      "metadata": {
        "id": "sxp3bo3rrntK"
      }
    },
    {
      "cell_type": "code",
      "source": [
        "class DateType(BaseEstimator, TransformerMixin):\n",
        "    \n",
        "    def __init__(self, params_FeatureSelector):\n",
        "        self.cols_dates = params_DateType['cols_dates'] \n",
        "    \n",
        "    def fit(self, X, y = None):\n",
        "        return self \n",
        "    \n",
        "    def transform(self, X, y = None):\n",
        "      X_output = X.copy()\n",
        "      for col in self.cols_dates:\n",
        "        X_output[col] = pd.to_datetime(X_output[col])\n",
        "      return X_output"
      ],
      "metadata": {
        "id": "oF31aOlurRm7"
      },
      "execution_count": 63,
      "outputs": []
    },
    {
      "cell_type": "markdown",
      "source": [
        "## 03.03. TemporadaAlta"
      ],
      "metadata": {
        "id": "yc2A1Uzkkx_r"
      }
    },
    {
      "cell_type": "code",
      "source": [
        "class TemporadaAlta(BaseEstimator, TransformerMixin):\n",
        "    \n",
        "    def __init__(self, params_TemporadaAlta):\n",
        "        self.columna_fecha = params_TemporadaAlta['columna_fecha'] \n",
        "    \n",
        "    def fit(self, X, y = None):\n",
        "        return self\n",
        "\n",
        "    def fun_temporada_alta(self, fecha):\n",
        "      mes = fecha.month\n",
        "      dia = fecha.day\n",
        "      if (mes == 12 and dia >= 15) or \\\n",
        "      (mes in [1, 2]) or \\\n",
        "      (mes == 3 and dia <= 3) or \\\n",
        "      (mes == 7 and (dia >= 15 and dia <= 31)) or \\\n",
        "      (mes == 9 and (dia >= 11 and dia <= 30)):\n",
        "          return 1\n",
        "      else:\n",
        "          return 0\n",
        "    \n",
        "    def transform(self, X, y = None):\n",
        "      X_output = X.copy()\n",
        "      # X_output[self.columna_fecha] = pd.to_datetime(X_output[self.columna_fecha])\n",
        "      X_output['temporada_alta'] = X_output[self.columna_fecha].apply(self.fun_temporada_alta)\n",
        "      return X_output"
      ],
      "metadata": {
        "id": "YcNiTxRAkOfh"
      },
      "execution_count": 72,
      "outputs": []
    },
    {
      "cell_type": "markdown",
      "source": [
        "## 03.04. DifMin"
      ],
      "metadata": {
        "id": "Kfhptw5uqOms"
      }
    },
    {
      "cell_type": "code",
      "source": [
        "class DifMin(BaseEstimator, TransformerMixin):\n",
        "    \n",
        "    def __init__(self, params_DifMin):\n",
        "        self.empty = params_DifMin \n",
        "    \n",
        "    def fit(self, X, y = None):\n",
        "        return self\n",
        "    \n",
        "    def transform(self, X, y = None):\n",
        "      X_output = X.copy()\n",
        "      X_output['dif_min'] = (X_output['Fecha-O']-X_output['Fecha-I'])/pd.Timedelta(minutes=1)\n",
        "      return X_output"
      ],
      "metadata": {
        "id": "N4kime5nqG-W"
      },
      "execution_count": 90,
      "outputs": []
    },
    {
      "cell_type": "markdown",
      "source": [
        "## 03.05. Atraso15"
      ],
      "metadata": {
        "id": "N4_9yX1KyizR"
      }
    },
    {
      "cell_type": "code",
      "source": [
        "class Atraso15(BaseEstimator, TransformerMixin):\n",
        "    \n",
        "    def __init__(self, params_Atraso15):\n",
        "        self.empty = params_Atraso15 \n",
        "    \n",
        "    def fit(self, X, y = None):\n",
        "        return self\n",
        "    \n",
        "    def transform(self, X, y = None):\n",
        "      X_output = X.copy()\n",
        "      X_output['atraso_15'] = (X_output['dif_min'] > 15).astype(int)\n",
        "      return X_output"
      ],
      "metadata": {
        "id": "iG9KDF49x7ei"
      },
      "execution_count": 102,
      "outputs": []
    },
    {
      "cell_type": "markdown",
      "source": [
        "## 03.05. PeriodoDia"
      ],
      "metadata": {
        "id": "JH-5LDzUvTIz"
      }
    },
    {
      "cell_type": "code",
      "source": [
        "class PeriodoDia(BaseEstimator, TransformerMixin):\n",
        "    \n",
        "    def __init__(self, params_PeriodoDia):\n",
        "        self.columna_fecha = params_PeriodoDia['columna_fecha'] \n",
        "    \n",
        "    def fit(self, X, y = None):\n",
        "        return self\n",
        "\n",
        "    def fun_periodo_dia(self, fecha):\n",
        "      hora = fecha.hour\n",
        "      if hora >= 5 and hora <= 11:\n",
        "          return 'mañana'\n",
        "      elif hora >= 12 and hora <= 18:\n",
        "          return 'tarde'\n",
        "      else:\n",
        "          return 'noche'\n",
        "    \n",
        "    def transform(self, X, y = None):\n",
        "      X_output = X.copy()\n",
        "      X_output['periodo_dia'] = X_output[self.columna_fecha].apply(self.fun_periodo_dia)\n",
        "      return X_output"
      ],
      "metadata": {
        "id": "fGO9TlPBvSpY"
      },
      "execution_count": 113,
      "outputs": []
    },
    {
      "cell_type": "markdown",
      "source": [
        "## 03.05. OrderOutput"
      ],
      "metadata": {
        "id": "hPx8sfpI1rOn"
      }
    },
    {
      "cell_type": "code",
      "source": [
        "class OrderOutput(BaseEstimator, TransformerMixin):\n",
        "    \n",
        "    def __init__(self, params_OrderOutput):\n",
        "        self.feature_names = params_OrderOutput['feature_names'] \n",
        "    \n",
        "    def fit(self, X, y = None):\n",
        "        return self \n",
        "    \n",
        "    def transform(self, X, y = None):\n",
        "      X_output = X[self.feature_names]\n",
        "      return X_output"
      ],
      "metadata": {
        "id": "RQp6t_0OvQ7o"
      },
      "execution_count": 119,
      "outputs": []
    },
    {
      "cell_type": "code",
      "source": [],
      "metadata": {
        "id": "b595rSk8vKzU"
      },
      "execution_count": null,
      "outputs": []
    },
    {
      "cell_type": "code",
      "source": [],
      "metadata": {
        "id": "N0j5CPsHvKtw"
      },
      "execution_count": null,
      "outputs": []
    },
    {
      "cell_type": "code",
      "source": [],
      "metadata": {
        "id": "c2PgODzfqG1I"
      },
      "execution_count": null,
      "outputs": []
    },
    {
      "cell_type": "code",
      "source": [],
      "metadata": {
        "id": "mQivUR0ckOdA"
      },
      "execution_count": null,
      "outputs": []
    },
    {
      "cell_type": "markdown",
      "source": [
        "# 04. Pipeline"
      ],
      "metadata": {
        "id": "mQ8rq9T8gKSD"
      }
    },
    {
      "cell_type": "markdown",
      "source": [
        "## 04.01. Parametros"
      ],
      "metadata": {
        "id": "0OIi1r9ogX8Y"
      }
    },
    {
      "cell_type": "code",
      "source": [
        "params_FeatureSelector = {}\n",
        "params_FeatureSelector['feature_names']= ['Fecha-I', \n",
        "                                          'Des-I',\n",
        "                                          'Emp-I', \n",
        "                                          'TIPOVUELO', \n",
        "                                          'Fecha-O',\n",
        "                                         ]\n",
        "\n",
        "params_DateType = {}\n",
        "params_DateType['cols_dates']= ['Fecha-I', 'Fecha-O']\n",
        "\n",
        "params_TemporadaAlta = {}\n",
        "params_TemporadaAlta['columna_fecha']= 'Fecha-I'\n",
        "\n",
        "params_DifMin = {}\n",
        "\n",
        "params_Atraso15 = params_DifMin\n",
        "\n",
        "params_PeriodoDia = params_TemporadaAlta\n",
        "\n",
        "params_OrderOutput = {}\n",
        "params_OrderOutput['feature_names']= ['temporada_alta',\n",
        "                                      'dif_min',\n",
        "                                      'atraso_15',\t\n",
        "                                      'periodo_dia'\n",
        "                                         ]"
      ],
      "metadata": {
        "id": "1KivIP0zfrrU"
      },
      "execution_count": 122,
      "outputs": []
    },
    {
      "cell_type": "code",
      "source": [
        "Transformer_FeatureSelector = FeatureSelector(params_FeatureSelector)\n",
        "Transformer_DateType = DateType(params_DateType)\n",
        "Transformer_TemporadaAlta = TemporadaAlta(params_TemporadaAlta)\n",
        "Transformer_DifMin = DifMin(params_DifMin)\n",
        "Transformer_Atraso15 = Atraso15(params_Atraso15)\n",
        "Transformer_PeriodoDia = PeriodoDia(params_PeriodoDia)\n",
        "Transformer_OrderOutput = OrderOutput(params_OrderOutput)"
      ],
      "metadata": {
        "id": "kFrAuO8Rfrpc"
      },
      "execution_count": 123,
      "outputs": []
    },
    {
      "cell_type": "code",
      "source": [
        "pipeline_data_LATAM = Pipeline(steps=[('NameFeatureSelector', Transformer_FeatureSelector),\n",
        "                              ('NameDateType', Transformer_DateType),\n",
        "                              ('NameTemporadaAlta', Transformer_TemporadaAlta),\n",
        "                              ('NameDifMin', Transformer_DifMin),\n",
        "                              ('NameDateAtraso15', Transformer_Atraso15),\n",
        "                              ('NamePeriodoDia', Transformer_PeriodoDia),\n",
        "                              ('NameOrderOutput', Transformer_OrderOutput)\n",
        "                              ])"
      ],
      "metadata": {
        "id": "Ui94hQ_bfrlR"
      },
      "execution_count": 124,
      "outputs": []
    },
    {
      "cell_type": "code",
      "source": [
        "df = pipeline_data_LATAM.transform(df_raw)\n",
        "df"
      ],
      "metadata": {
        "colab": {
          "base_uri": "https://localhost:8080/",
          "height": 423
        },
        "id": "-62AsiUqfu6h",
        "outputId": "96c928a0-2072-4f85-bdd5-b34cf7da4ef4"
      },
      "execution_count": 125,
      "outputs": [
        {
          "output_type": "execute_result",
          "data": {
            "text/plain": [
              "       temporada_alta  dif_min  atraso_15 periodo_dia\n",
              "0                   1      3.0          0       noche\n",
              "1                   1      9.0          0       noche\n",
              "2                   1      9.0          0       noche\n",
              "3                   1      3.0          0       noche\n",
              "4                   1     -2.0          0       noche\n",
              "...               ...      ...        ...         ...\n",
              "68201               1     46.0          1       tarde\n",
              "68202               1     16.0          1       tarde\n",
              "68203               1     40.0          1       tarde\n",
              "68204               1     13.0          0       tarde\n",
              "68205               1      9.0          0       tarde\n",
              "\n",
              "[68206 rows x 4 columns]"
            ],
            "text/html": [
              "\n",
              "  <div id=\"df-fd34fb30-c50c-4c5f-8575-75d1cfecd8b0\">\n",
              "    <div class=\"colab-df-container\">\n",
              "      <div>\n",
              "<style scoped>\n",
              "    .dataframe tbody tr th:only-of-type {\n",
              "        vertical-align: middle;\n",
              "    }\n",
              "\n",
              "    .dataframe tbody tr th {\n",
              "        vertical-align: top;\n",
              "    }\n",
              "\n",
              "    .dataframe thead th {\n",
              "        text-align: right;\n",
              "    }\n",
              "</style>\n",
              "<table border=\"1\" class=\"dataframe\">\n",
              "  <thead>\n",
              "    <tr style=\"text-align: right;\">\n",
              "      <th></th>\n",
              "      <th>temporada_alta</th>\n",
              "      <th>dif_min</th>\n",
              "      <th>atraso_15</th>\n",
              "      <th>periodo_dia</th>\n",
              "    </tr>\n",
              "  </thead>\n",
              "  <tbody>\n",
              "    <tr>\n",
              "      <th>0</th>\n",
              "      <td>1</td>\n",
              "      <td>3.0</td>\n",
              "      <td>0</td>\n",
              "      <td>noche</td>\n",
              "    </tr>\n",
              "    <tr>\n",
              "      <th>1</th>\n",
              "      <td>1</td>\n",
              "      <td>9.0</td>\n",
              "      <td>0</td>\n",
              "      <td>noche</td>\n",
              "    </tr>\n",
              "    <tr>\n",
              "      <th>2</th>\n",
              "      <td>1</td>\n",
              "      <td>9.0</td>\n",
              "      <td>0</td>\n",
              "      <td>noche</td>\n",
              "    </tr>\n",
              "    <tr>\n",
              "      <th>3</th>\n",
              "      <td>1</td>\n",
              "      <td>3.0</td>\n",
              "      <td>0</td>\n",
              "      <td>noche</td>\n",
              "    </tr>\n",
              "    <tr>\n",
              "      <th>4</th>\n",
              "      <td>1</td>\n",
              "      <td>-2.0</td>\n",
              "      <td>0</td>\n",
              "      <td>noche</td>\n",
              "    </tr>\n",
              "    <tr>\n",
              "      <th>...</th>\n",
              "      <td>...</td>\n",
              "      <td>...</td>\n",
              "      <td>...</td>\n",
              "      <td>...</td>\n",
              "    </tr>\n",
              "    <tr>\n",
              "      <th>68201</th>\n",
              "      <td>1</td>\n",
              "      <td>46.0</td>\n",
              "      <td>1</td>\n",
              "      <td>tarde</td>\n",
              "    </tr>\n",
              "    <tr>\n",
              "      <th>68202</th>\n",
              "      <td>1</td>\n",
              "      <td>16.0</td>\n",
              "      <td>1</td>\n",
              "      <td>tarde</td>\n",
              "    </tr>\n",
              "    <tr>\n",
              "      <th>68203</th>\n",
              "      <td>1</td>\n",
              "      <td>40.0</td>\n",
              "      <td>1</td>\n",
              "      <td>tarde</td>\n",
              "    </tr>\n",
              "    <tr>\n",
              "      <th>68204</th>\n",
              "      <td>1</td>\n",
              "      <td>13.0</td>\n",
              "      <td>0</td>\n",
              "      <td>tarde</td>\n",
              "    </tr>\n",
              "    <tr>\n",
              "      <th>68205</th>\n",
              "      <td>1</td>\n",
              "      <td>9.0</td>\n",
              "      <td>0</td>\n",
              "      <td>tarde</td>\n",
              "    </tr>\n",
              "  </tbody>\n",
              "</table>\n",
              "<p>68206 rows × 4 columns</p>\n",
              "</div>\n",
              "      <button class=\"colab-df-convert\" onclick=\"convertToInteractive('df-fd34fb30-c50c-4c5f-8575-75d1cfecd8b0')\"\n",
              "              title=\"Convert this dataframe to an interactive table.\"\n",
              "              style=\"display:none;\">\n",
              "        \n",
              "  <svg xmlns=\"http://www.w3.org/2000/svg\" height=\"24px\"viewBox=\"0 0 24 24\"\n",
              "       width=\"24px\">\n",
              "    <path d=\"M0 0h24v24H0V0z\" fill=\"none\"/>\n",
              "    <path d=\"M18.56 5.44l.94 2.06.94-2.06 2.06-.94-2.06-.94-.94-2.06-.94 2.06-2.06.94zm-11 1L8.5 8.5l.94-2.06 2.06-.94-2.06-.94L8.5 2.5l-.94 2.06-2.06.94zm10 10l.94 2.06.94-2.06 2.06-.94-2.06-.94-.94-2.06-.94 2.06-2.06.94z\"/><path d=\"M17.41 7.96l-1.37-1.37c-.4-.4-.92-.59-1.43-.59-.52 0-1.04.2-1.43.59L10.3 9.45l-7.72 7.72c-.78.78-.78 2.05 0 2.83L4 21.41c.39.39.9.59 1.41.59.51 0 1.02-.2 1.41-.59l7.78-7.78 2.81-2.81c.8-.78.8-2.07 0-2.86zM5.41 20L4 18.59l7.72-7.72 1.47 1.35L5.41 20z\"/>\n",
              "  </svg>\n",
              "      </button>\n",
              "      \n",
              "  <style>\n",
              "    .colab-df-container {\n",
              "      display:flex;\n",
              "      flex-wrap:wrap;\n",
              "      gap: 12px;\n",
              "    }\n",
              "\n",
              "    .colab-df-convert {\n",
              "      background-color: #E8F0FE;\n",
              "      border: none;\n",
              "      border-radius: 50%;\n",
              "      cursor: pointer;\n",
              "      display: none;\n",
              "      fill: #1967D2;\n",
              "      height: 32px;\n",
              "      padding: 0 0 0 0;\n",
              "      width: 32px;\n",
              "    }\n",
              "\n",
              "    .colab-df-convert:hover {\n",
              "      background-color: #E2EBFA;\n",
              "      box-shadow: 0px 1px 2px rgba(60, 64, 67, 0.3), 0px 1px 3px 1px rgba(60, 64, 67, 0.15);\n",
              "      fill: #174EA6;\n",
              "    }\n",
              "\n",
              "    [theme=dark] .colab-df-convert {\n",
              "      background-color: #3B4455;\n",
              "      fill: #D2E3FC;\n",
              "    }\n",
              "\n",
              "    [theme=dark] .colab-df-convert:hover {\n",
              "      background-color: #434B5C;\n",
              "      box-shadow: 0px 1px 3px 1px rgba(0, 0, 0, 0.15);\n",
              "      filter: drop-shadow(0px 1px 2px rgba(0, 0, 0, 0.3));\n",
              "      fill: #FFFFFF;\n",
              "    }\n",
              "  </style>\n",
              "\n",
              "      <script>\n",
              "        const buttonEl =\n",
              "          document.querySelector('#df-fd34fb30-c50c-4c5f-8575-75d1cfecd8b0 button.colab-df-convert');\n",
              "        buttonEl.style.display =\n",
              "          google.colab.kernel.accessAllowed ? 'block' : 'none';\n",
              "\n",
              "        async function convertToInteractive(key) {\n",
              "          const element = document.querySelector('#df-fd34fb30-c50c-4c5f-8575-75d1cfecd8b0');\n",
              "          const dataTable =\n",
              "            await google.colab.kernel.invokeFunction('convertToInteractive',\n",
              "                                                     [key], {});\n",
              "          if (!dataTable) return;\n",
              "\n",
              "          const docLinkHtml = 'Like what you see? Visit the ' +\n",
              "            '<a target=\"_blank\" href=https://colab.research.google.com/notebooks/data_table.ipynb>data table notebook</a>'\n",
              "            + ' to learn more about interactive tables.';\n",
              "          element.innerHTML = '';\n",
              "          dataTable['output_type'] = 'display_data';\n",
              "          await google.colab.output.renderOutput(dataTable, element);\n",
              "          const docLink = document.createElement('div');\n",
              "          docLink.innerHTML = docLinkHtml;\n",
              "          element.appendChild(docLink);\n",
              "        }\n",
              "      </script>\n",
              "    </div>\n",
              "  </div>\n",
              "  "
            ]
          },
          "metadata": {},
          "execution_count": 125
        }
      ]
    },
    {
      "cell_type": "code",
      "source": [],
      "metadata": {
        "id": "TykI89wcfrjN"
      },
      "execution_count": null,
      "outputs": []
    },
    {
      "cell_type": "code",
      "source": [],
      "metadata": {
        "id": "P0giPJKKfrhC"
      },
      "execution_count": null,
      "outputs": []
    },
    {
      "cell_type": "code",
      "source": [],
      "metadata": {
        "id": "n3fP66m2fre-"
      },
      "execution_count": null,
      "outputs": []
    },
    {
      "cell_type": "code",
      "source": [],
      "metadata": {
        "id": "ulIQbD9Vfrc_"
      },
      "execution_count": null,
      "outputs": []
    }
  ]
}