{
  "nbformat": 4,
  "nbformat_minor": 0,
  "metadata": {
    "colab": {
      "provenance": [],
      "toc_visible": true,
      "include_colab_link": true
    },
    "kernelspec": {
      "name": "python3",
      "display_name": "Python 3"
    },
    "language_info": {
      "name": "python"
    },
    "widgets": {
      "application/vnd.jupyter.widget-state+json": {
        "bd75940631784c26adb18d79349cb2fa": {
          "model_module": "@jupyter-widgets/controls",
          "model_name": "HBoxModel",
          "model_module_version": "1.5.0",
          "state": {
            "_dom_classes": [],
            "_model_module": "@jupyter-widgets/controls",
            "_model_module_version": "1.5.0",
            "_model_name": "HBoxModel",
            "_view_count": null,
            "_view_module": "@jupyter-widgets/controls",
            "_view_module_version": "1.5.0",
            "_view_name": "HBoxView",
            "box_style": "",
            "children": [
              "IPY_MODEL_07d06a6e54cf4e768df9c3cd6cf50f54",
              "IPY_MODEL_ac3cf7bf0c074a9eac48ffca1f0c8183",
              "IPY_MODEL_8e9d253878144a7980155eec5ea2453e"
            ],
            "layout": "IPY_MODEL_292497b83e204d9ea51aa059b8916e3f"
          }
        },
        "07d06a6e54cf4e768df9c3cd6cf50f54": {
          "model_module": "@jupyter-widgets/controls",
          "model_name": "HTMLModel",
          "model_module_version": "1.5.0",
          "state": {
            "_dom_classes": [],
            "_model_module": "@jupyter-widgets/controls",
            "_model_module_version": "1.5.0",
            "_model_name": "HTMLModel",
            "_view_count": null,
            "_view_module": "@jupyter-widgets/controls",
            "_view_module_version": "1.5.0",
            "_view_name": "HTMLView",
            "description": "",
            "description_tooltip": null,
            "layout": "IPY_MODEL_c0ed12346a4345d180e3184a4efa91f8",
            "placeholder": "​",
            "style": "IPY_MODEL_12fe8690b1db4112ad1402c4aa591de9",
            "value": "Processing: 100%"
          }
        },
        "ac3cf7bf0c074a9eac48ffca1f0c8183": {
          "model_module": "@jupyter-widgets/controls",
          "model_name": "FloatProgressModel",
          "model_module_version": "1.5.0",
          "state": {
            "_dom_classes": [],
            "_model_module": "@jupyter-widgets/controls",
            "_model_module_version": "1.5.0",
            "_model_name": "FloatProgressModel",
            "_view_count": null,
            "_view_module": "@jupyter-widgets/controls",
            "_view_module_version": "1.5.0",
            "_view_name": "ProgressView",
            "bar_style": "",
            "description": "",
            "description_tooltip": null,
            "layout": "IPY_MODEL_4f06df2f430d4df2aa09bdefc69d4f74",
            "max": 65,
            "min": 0,
            "orientation": "horizontal",
            "style": "IPY_MODEL_cdc5aedcfed840febc5da1d308621d3b",
            "value": 65
          }
        },
        "8e9d253878144a7980155eec5ea2453e": {
          "model_module": "@jupyter-widgets/controls",
          "model_name": "HTMLModel",
          "model_module_version": "1.5.0",
          "state": {
            "_dom_classes": [],
            "_model_module": "@jupyter-widgets/controls",
            "_model_module_version": "1.5.0",
            "_model_name": "HTMLModel",
            "_view_count": null,
            "_view_module": "@jupyter-widgets/controls",
            "_view_module_version": "1.5.0",
            "_view_name": "HTMLView",
            "description": "",
            "description_tooltip": null,
            "layout": "IPY_MODEL_d1947939e8f640918cc7fea545e8bdbb",
            "placeholder": "​",
            "style": "IPY_MODEL_4b9c298b49094f2288fde81e4b080cce",
            "value": " 65/65 [01:19&lt;00:00,  1.83it/s]"
          }
        },
        "292497b83e204d9ea51aa059b8916e3f": {
          "model_module": "@jupyter-widgets/base",
          "model_name": "LayoutModel",
          "model_module_version": "1.2.0",
          "state": {
            "_model_module": "@jupyter-widgets/base",
            "_model_module_version": "1.2.0",
            "_model_name": "LayoutModel",
            "_view_count": null,
            "_view_module": "@jupyter-widgets/base",
            "_view_module_version": "1.2.0",
            "_view_name": "LayoutView",
            "align_content": null,
            "align_items": null,
            "align_self": null,
            "border": null,
            "bottom": null,
            "display": null,
            "flex": null,
            "flex_flow": null,
            "grid_area": null,
            "grid_auto_columns": null,
            "grid_auto_flow": null,
            "grid_auto_rows": null,
            "grid_column": null,
            "grid_gap": null,
            "grid_row": null,
            "grid_template_areas": null,
            "grid_template_columns": null,
            "grid_template_rows": null,
            "height": null,
            "justify_content": null,
            "justify_items": null,
            "left": null,
            "margin": null,
            "max_height": null,
            "max_width": null,
            "min_height": null,
            "min_width": null,
            "object_fit": null,
            "object_position": null,
            "order": null,
            "overflow": null,
            "overflow_x": null,
            "overflow_y": null,
            "padding": null,
            "right": null,
            "top": null,
            "visibility": "hidden",
            "width": null
          }
        },
        "c0ed12346a4345d180e3184a4efa91f8": {
          "model_module": "@jupyter-widgets/base",
          "model_name": "LayoutModel",
          "model_module_version": "1.2.0",
          "state": {
            "_model_module": "@jupyter-widgets/base",
            "_model_module_version": "1.2.0",
            "_model_name": "LayoutModel",
            "_view_count": null,
            "_view_module": "@jupyter-widgets/base",
            "_view_module_version": "1.2.0",
            "_view_name": "LayoutView",
            "align_content": null,
            "align_items": null,
            "align_self": null,
            "border": null,
            "bottom": null,
            "display": null,
            "flex": null,
            "flex_flow": null,
            "grid_area": null,
            "grid_auto_columns": null,
            "grid_auto_flow": null,
            "grid_auto_rows": null,
            "grid_column": null,
            "grid_gap": null,
            "grid_row": null,
            "grid_template_areas": null,
            "grid_template_columns": null,
            "grid_template_rows": null,
            "height": null,
            "justify_content": null,
            "justify_items": null,
            "left": null,
            "margin": null,
            "max_height": null,
            "max_width": null,
            "min_height": null,
            "min_width": null,
            "object_fit": null,
            "object_position": null,
            "order": null,
            "overflow": null,
            "overflow_x": null,
            "overflow_y": null,
            "padding": null,
            "right": null,
            "top": null,
            "visibility": null,
            "width": null
          }
        },
        "12fe8690b1db4112ad1402c4aa591de9": {
          "model_module": "@jupyter-widgets/controls",
          "model_name": "DescriptionStyleModel",
          "model_module_version": "1.5.0",
          "state": {
            "_model_module": "@jupyter-widgets/controls",
            "_model_module_version": "1.5.0",
            "_model_name": "DescriptionStyleModel",
            "_view_count": null,
            "_view_module": "@jupyter-widgets/base",
            "_view_module_version": "1.2.0",
            "_view_name": "StyleView",
            "description_width": ""
          }
        },
        "4f06df2f430d4df2aa09bdefc69d4f74": {
          "model_module": "@jupyter-widgets/base",
          "model_name": "LayoutModel",
          "model_module_version": "1.2.0",
          "state": {
            "_model_module": "@jupyter-widgets/base",
            "_model_module_version": "1.2.0",
            "_model_name": "LayoutModel",
            "_view_count": null,
            "_view_module": "@jupyter-widgets/base",
            "_view_module_version": "1.2.0",
            "_view_name": "LayoutView",
            "align_content": null,
            "align_items": null,
            "align_self": null,
            "border": null,
            "bottom": null,
            "display": null,
            "flex": null,
            "flex_flow": null,
            "grid_area": null,
            "grid_auto_columns": null,
            "grid_auto_flow": null,
            "grid_auto_rows": null,
            "grid_column": null,
            "grid_gap": null,
            "grid_row": null,
            "grid_template_areas": null,
            "grid_template_columns": null,
            "grid_template_rows": null,
            "height": null,
            "justify_content": null,
            "justify_items": null,
            "left": null,
            "margin": null,
            "max_height": null,
            "max_width": null,
            "min_height": null,
            "min_width": null,
            "object_fit": null,
            "object_position": null,
            "order": null,
            "overflow": null,
            "overflow_x": null,
            "overflow_y": null,
            "padding": null,
            "right": null,
            "top": null,
            "visibility": null,
            "width": null
          }
        },
        "cdc5aedcfed840febc5da1d308621d3b": {
          "model_module": "@jupyter-widgets/controls",
          "model_name": "ProgressStyleModel",
          "model_module_version": "1.5.0",
          "state": {
            "_model_module": "@jupyter-widgets/controls",
            "_model_module_version": "1.5.0",
            "_model_name": "ProgressStyleModel",
            "_view_count": null,
            "_view_module": "@jupyter-widgets/base",
            "_view_module_version": "1.2.0",
            "_view_name": "StyleView",
            "bar_color": null,
            "description_width": ""
          }
        },
        "d1947939e8f640918cc7fea545e8bdbb": {
          "model_module": "@jupyter-widgets/base",
          "model_name": "LayoutModel",
          "model_module_version": "1.2.0",
          "state": {
            "_model_module": "@jupyter-widgets/base",
            "_model_module_version": "1.2.0",
            "_model_name": "LayoutModel",
            "_view_count": null,
            "_view_module": "@jupyter-widgets/base",
            "_view_module_version": "1.2.0",
            "_view_name": "LayoutView",
            "align_content": null,
            "align_items": null,
            "align_self": null,
            "border": null,
            "bottom": null,
            "display": null,
            "flex": null,
            "flex_flow": null,
            "grid_area": null,
            "grid_auto_columns": null,
            "grid_auto_flow": null,
            "grid_auto_rows": null,
            "grid_column": null,
            "grid_gap": null,
            "grid_row": null,
            "grid_template_areas": null,
            "grid_template_columns": null,
            "grid_template_rows": null,
            "height": null,
            "justify_content": null,
            "justify_items": null,
            "left": null,
            "margin": null,
            "max_height": null,
            "max_width": null,
            "min_height": null,
            "min_width": null,
            "object_fit": null,
            "object_position": null,
            "order": null,
            "overflow": null,
            "overflow_x": null,
            "overflow_y": null,
            "padding": null,
            "right": null,
            "top": null,
            "visibility": null,
            "width": null
          }
        },
        "4b9c298b49094f2288fde81e4b080cce": {
          "model_module": "@jupyter-widgets/controls",
          "model_name": "DescriptionStyleModel",
          "model_module_version": "1.5.0",
          "state": {
            "_model_module": "@jupyter-widgets/controls",
            "_model_module_version": "1.5.0",
            "_model_name": "DescriptionStyleModel",
            "_view_count": null,
            "_view_module": "@jupyter-widgets/base",
            "_view_module_version": "1.2.0",
            "_view_name": "StyleView",
            "description_width": ""
          }
        },
        "bcfc9a4eebfa4908b08003976d7c7e7c": {
          "model_module": "@jupyter-widgets/controls",
          "model_name": "HBoxModel",
          "model_module_version": "1.5.0",
          "state": {
            "_dom_classes": [],
            "_model_module": "@jupyter-widgets/controls",
            "_model_module_version": "1.5.0",
            "_model_name": "HBoxModel",
            "_view_count": null,
            "_view_module": "@jupyter-widgets/controls",
            "_view_module_version": "1.5.0",
            "_view_name": "HBoxView",
            "box_style": "",
            "children": [
              "IPY_MODEL_39f9a19c89fe43028c8d6ae48cb35e52",
              "IPY_MODEL_aa37a8c818534a788a78b8a157c44709",
              "IPY_MODEL_a1e49526c2664bdbb4bc8b6bb4b23868"
            ],
            "layout": "IPY_MODEL_15f2e4a5d48b4383b6ea97496d36c10a"
          }
        },
        "39f9a19c89fe43028c8d6ae48cb35e52": {
          "model_module": "@jupyter-widgets/controls",
          "model_name": "HTMLModel",
          "model_module_version": "1.5.0",
          "state": {
            "_dom_classes": [],
            "_model_module": "@jupyter-widgets/controls",
            "_model_module_version": "1.5.0",
            "_model_name": "HTMLModel",
            "_view_count": null,
            "_view_module": "@jupyter-widgets/controls",
            "_view_module_version": "1.5.0",
            "_view_name": "HTMLView",
            "description": "",
            "description_tooltip": null,
            "layout": "IPY_MODEL_7c757711465247d6972e7a7de5c7d1c5",
            "placeholder": "​",
            "style": "IPY_MODEL_5d8ed4e1f6d14f3a923fd4b5325b18ec",
            "value": "Processing: 100%"
          }
        },
        "aa37a8c818534a788a78b8a157c44709": {
          "model_module": "@jupyter-widgets/controls",
          "model_name": "FloatProgressModel",
          "model_module_version": "1.5.0",
          "state": {
            "_dom_classes": [],
            "_model_module": "@jupyter-widgets/controls",
            "_model_module_version": "1.5.0",
            "_model_name": "FloatProgressModel",
            "_view_count": null,
            "_view_module": "@jupyter-widgets/controls",
            "_view_module_version": "1.5.0",
            "_view_name": "ProgressView",
            "bar_style": "",
            "description": "",
            "description_tooltip": null,
            "layout": "IPY_MODEL_7dded27bf10f4ff3948fbc9bfa3d76f0",
            "max": 4,
            "min": 0,
            "orientation": "horizontal",
            "style": "IPY_MODEL_52317a472cec4ebeaca52e7eed348557",
            "value": 4
          }
        },
        "a1e49526c2664bdbb4bc8b6bb4b23868": {
          "model_module": "@jupyter-widgets/controls",
          "model_name": "HTMLModel",
          "model_module_version": "1.5.0",
          "state": {
            "_dom_classes": [],
            "_model_module": "@jupyter-widgets/controls",
            "_model_module_version": "1.5.0",
            "_model_name": "HTMLModel",
            "_view_count": null,
            "_view_module": "@jupyter-widgets/controls",
            "_view_module_version": "1.5.0",
            "_view_name": "HTMLView",
            "description": "",
            "description_tooltip": null,
            "layout": "IPY_MODEL_b3051d1e76c1471dbe13630cdca27b72",
            "placeholder": "​",
            "style": "IPY_MODEL_35962d6f5271475f8cc6366d7adf58eb",
            "value": " 4/4 [00:01&lt;00:00,  2.86it/s]"
          }
        },
        "15f2e4a5d48b4383b6ea97496d36c10a": {
          "model_module": "@jupyter-widgets/base",
          "model_name": "LayoutModel",
          "model_module_version": "1.2.0",
          "state": {
            "_model_module": "@jupyter-widgets/base",
            "_model_module_version": "1.2.0",
            "_model_name": "LayoutModel",
            "_view_count": null,
            "_view_module": "@jupyter-widgets/base",
            "_view_module_version": "1.2.0",
            "_view_name": "LayoutView",
            "align_content": null,
            "align_items": null,
            "align_self": null,
            "border": null,
            "bottom": null,
            "display": null,
            "flex": null,
            "flex_flow": null,
            "grid_area": null,
            "grid_auto_columns": null,
            "grid_auto_flow": null,
            "grid_auto_rows": null,
            "grid_column": null,
            "grid_gap": null,
            "grid_row": null,
            "grid_template_areas": null,
            "grid_template_columns": null,
            "grid_template_rows": null,
            "height": null,
            "justify_content": null,
            "justify_items": null,
            "left": null,
            "margin": null,
            "max_height": null,
            "max_width": null,
            "min_height": null,
            "min_width": null,
            "object_fit": null,
            "object_position": null,
            "order": null,
            "overflow": null,
            "overflow_x": null,
            "overflow_y": null,
            "padding": null,
            "right": null,
            "top": null,
            "visibility": "hidden",
            "width": null
          }
        },
        "7c757711465247d6972e7a7de5c7d1c5": {
          "model_module": "@jupyter-widgets/base",
          "model_name": "LayoutModel",
          "model_module_version": "1.2.0",
          "state": {
            "_model_module": "@jupyter-widgets/base",
            "_model_module_version": "1.2.0",
            "_model_name": "LayoutModel",
            "_view_count": null,
            "_view_module": "@jupyter-widgets/base",
            "_view_module_version": "1.2.0",
            "_view_name": "LayoutView",
            "align_content": null,
            "align_items": null,
            "align_self": null,
            "border": null,
            "bottom": null,
            "display": null,
            "flex": null,
            "flex_flow": null,
            "grid_area": null,
            "grid_auto_columns": null,
            "grid_auto_flow": null,
            "grid_auto_rows": null,
            "grid_column": null,
            "grid_gap": null,
            "grid_row": null,
            "grid_template_areas": null,
            "grid_template_columns": null,
            "grid_template_rows": null,
            "height": null,
            "justify_content": null,
            "justify_items": null,
            "left": null,
            "margin": null,
            "max_height": null,
            "max_width": null,
            "min_height": null,
            "min_width": null,
            "object_fit": null,
            "object_position": null,
            "order": null,
            "overflow": null,
            "overflow_x": null,
            "overflow_y": null,
            "padding": null,
            "right": null,
            "top": null,
            "visibility": null,
            "width": null
          }
        },
        "5d8ed4e1f6d14f3a923fd4b5325b18ec": {
          "model_module": "@jupyter-widgets/controls",
          "model_name": "DescriptionStyleModel",
          "model_module_version": "1.5.0",
          "state": {
            "_model_module": "@jupyter-widgets/controls",
            "_model_module_version": "1.5.0",
            "_model_name": "DescriptionStyleModel",
            "_view_count": null,
            "_view_module": "@jupyter-widgets/base",
            "_view_module_version": "1.2.0",
            "_view_name": "StyleView",
            "description_width": ""
          }
        },
        "7dded27bf10f4ff3948fbc9bfa3d76f0": {
          "model_module": "@jupyter-widgets/base",
          "model_name": "LayoutModel",
          "model_module_version": "1.2.0",
          "state": {
            "_model_module": "@jupyter-widgets/base",
            "_model_module_version": "1.2.0",
            "_model_name": "LayoutModel",
            "_view_count": null,
            "_view_module": "@jupyter-widgets/base",
            "_view_module_version": "1.2.0",
            "_view_name": "LayoutView",
            "align_content": null,
            "align_items": null,
            "align_self": null,
            "border": null,
            "bottom": null,
            "display": null,
            "flex": null,
            "flex_flow": null,
            "grid_area": null,
            "grid_auto_columns": null,
            "grid_auto_flow": null,
            "grid_auto_rows": null,
            "grid_column": null,
            "grid_gap": null,
            "grid_row": null,
            "grid_template_areas": null,
            "grid_template_columns": null,
            "grid_template_rows": null,
            "height": null,
            "justify_content": null,
            "justify_items": null,
            "left": null,
            "margin": null,
            "max_height": null,
            "max_width": null,
            "min_height": null,
            "min_width": null,
            "object_fit": null,
            "object_position": null,
            "order": null,
            "overflow": null,
            "overflow_x": null,
            "overflow_y": null,
            "padding": null,
            "right": null,
            "top": null,
            "visibility": null,
            "width": null
          }
        },
        "52317a472cec4ebeaca52e7eed348557": {
          "model_module": "@jupyter-widgets/controls",
          "model_name": "ProgressStyleModel",
          "model_module_version": "1.5.0",
          "state": {
            "_model_module": "@jupyter-widgets/controls",
            "_model_module_version": "1.5.0",
            "_model_name": "ProgressStyleModel",
            "_view_count": null,
            "_view_module": "@jupyter-widgets/base",
            "_view_module_version": "1.2.0",
            "_view_name": "StyleView",
            "bar_color": null,
            "description_width": ""
          }
        },
        "b3051d1e76c1471dbe13630cdca27b72": {
          "model_module": "@jupyter-widgets/base",
          "model_name": "LayoutModel",
          "model_module_version": "1.2.0",
          "state": {
            "_model_module": "@jupyter-widgets/base",
            "_model_module_version": "1.2.0",
            "_model_name": "LayoutModel",
            "_view_count": null,
            "_view_module": "@jupyter-widgets/base",
            "_view_module_version": "1.2.0",
            "_view_name": "LayoutView",
            "align_content": null,
            "align_items": null,
            "align_self": null,
            "border": null,
            "bottom": null,
            "display": null,
            "flex": null,
            "flex_flow": null,
            "grid_area": null,
            "grid_auto_columns": null,
            "grid_auto_flow": null,
            "grid_auto_rows": null,
            "grid_column": null,
            "grid_gap": null,
            "grid_row": null,
            "grid_template_areas": null,
            "grid_template_columns": null,
            "grid_template_rows": null,
            "height": null,
            "justify_content": null,
            "justify_items": null,
            "left": null,
            "margin": null,
            "max_height": null,
            "max_width": null,
            "min_height": null,
            "min_width": null,
            "object_fit": null,
            "object_position": null,
            "order": null,
            "overflow": null,
            "overflow_x": null,
            "overflow_y": null,
            "padding": null,
            "right": null,
            "top": null,
            "visibility": null,
            "width": null
          }
        },
        "35962d6f5271475f8cc6366d7adf58eb": {
          "model_module": "@jupyter-widgets/controls",
          "model_name": "DescriptionStyleModel",
          "model_module_version": "1.5.0",
          "state": {
            "_model_module": "@jupyter-widgets/controls",
            "_model_module_version": "1.5.0",
            "_model_name": "DescriptionStyleModel",
            "_view_count": null,
            "_view_module": "@jupyter-widgets/base",
            "_view_module_version": "1.2.0",
            "_view_name": "StyleView",
            "description_width": ""
          }
        }
      }
    }
  },
  "cells": [
    {
      "cell_type": "markdown",
      "metadata": {
        "id": "view-in-github",
        "colab_type": "text"
      },
      "source": [
        "<a href=\"https://colab.research.google.com/github/alexandergribenchenko/DS_LATAM_Test/blob/main/solution.ipynb\" target=\"_parent\"><img src=\"https://colab.research.google.com/assets/colab-badge.svg\" alt=\"Open In Colab\"/></a>"
      ]
    },
    {
      "cell_type": "markdown",
      "source": [
        "# ¿Cuál es la probabilidad de que se retrase mi vuelo?\n",
        "**Data Scientist Challenge - LATAM Airlines (Presentado por: Alexander Ortega, Marzo 2023)**\n",
        "\n"
      ],
      "metadata": {
        "id": "PJ7HBoIdUHm4"
      }
    },
    {
      "cell_type": "markdown",
      "source": [
        "Este notebook presenta la solución al reto analítico propuesto por LATAM que consiste en predecir la probabilidad de atraso de los vuelos que aterrizan o despegan del aeropuerto de Santiago de Chile (SCL).\n",
        " \n",
        "El notebook está compuesto de 5 secciones que dan respuesta a cada uno de los ítems descritos en la sección de `Desafío`:\n",
        " \n",
        "- **Sección 01. Distribución de los datos:** se analiza la distribución de los datos para cada uno de los features que componen el dataset.\n",
        "- **Sección 02. Generación de columnas adicionales:** se genera un dataset denominado `synthetic_features.csv` con las columnas adicionales que dan cuenta de la temporada (alta o baja), el retraso en minutos, la etiqueta de atrasado (si, no) si el retraso es superior a 15 minutos y por último en periodo del día (mañana, tarde o noche).\n",
        "- **Sección 03. Comportamiento del atraso vs features relevantes:** se describe la relación entre la variable de retraso y las variables destino, aerolínea, mes del año, día de la semana, temporada y tipo de vuelo. A partir de sus resultados se discuten cuáles son las que pueden presentar mayor relevancia en el modelo.\n",
        "- **Sección 04. Entrenamiento de modelos propuestos:** se presenta el pipeline que compone el procesamiento de datos y entrenamiento de 3 modelos base: Logistic Regression, Decision Tree Classifier y Xgboost. De manera adicional se presenta la alternativa para la evaluación de un conjunto más amplio de modelos a partir del uso de la librería de AutoML Pycaret.\n",
        "- **Sección 05. Evaluación de modelos propuestos:** se discute la métrica elegida para evaluar el performance del modelo y se presentan los resultados para cada uno de los modelos. Así mismo se discuten las variables que mayor influencia presentan en la predicción y algunas alternativas para mejorar su performance.\n"
      ],
      "metadata": {
        "id": "ojvuq0N9UsNp"
      }
    },
    {
      "cell_type": "markdown",
      "source": [
        "# A. Líbrerías"
      ],
      "metadata": {
        "id": "wAUWsWfum0VC"
      }
    },
    {
      "cell_type": "code",
      "execution_count": 1,
      "metadata": {
        "id": "aG5HunFirai0"
      },
      "outputs": [],
      "source": [
        "import pandas as pd\n",
        "\n",
        "import seaborn as sns\n",
        "import matplotlib.pyplot as plt\n",
        "sns.set_theme(style=\"whitegrid\")\n",
        "\n",
        "from sklearn.base import BaseEstimator, TransformerMixin\n",
        "from sklearn.pipeline import Pipeline\n",
        "\n",
        "from sklearn.preprocessing import OneHotEncoder\n",
        "from sklearn.compose import ColumnTransformer\n",
        "\n",
        "from sklearn.model_selection import train_test_split\n",
        "\n",
        "from sklearn.linear_model import LogisticRegression\n",
        "from sklearn.tree import DecisionTreeClassifier\n",
        "import xgboost as xgb\n",
        "\n",
        "from sklearn.metrics import confusion_matrix, classification_report\n",
        "\n",
        "import warnings\n",
        "warnings.filterwarnings(\"ignore\")"
      ]
    },
    {
      "cell_type": "code",
      "source": [
        "!pip install pycaret > /dev/null\n",
        "import pycaret\n",
        "from pycaret.classification import *"
      ],
      "metadata": {
        "id": "8qZLSc-x75Le"
      },
      "execution_count": 2,
      "outputs": []
    },
    {
      "cell_type": "markdown",
      "source": [
        "# B. Dataframe raw"
      ],
      "metadata": {
        "id": "5FjYqdd6m_vd"
      }
    },
    {
      "cell_type": "code",
      "source": [
        "path_github = 'https://raw.githubusercontent.com/alexandergribenchenko/DS_LATAM_Test/main/data/dataset_SCL.csv'"
      ],
      "metadata": {
        "id": "AWhUExDhrt34"
      },
      "execution_count": 3,
      "outputs": []
    },
    {
      "cell_type": "code",
      "source": [
        "df_raw = pd.read_csv(path_github, dtype=object)\n",
        "df_raw"
      ],
      "metadata": {
        "colab": {
          "base_uri": "https://localhost:8080/",
          "height": 467
        },
        "id": "cnK82fRJrt1w",
        "outputId": "59be5996-2fae-45ad-c204-56b4c29842f2"
      },
      "execution_count": 4,
      "outputs": [
        {
          "output_type": "execute_result",
          "data": {
            "text/plain": [
              "                   Fecha-I Vlo-I Ori-I Des-I Emp-I              Fecha-O  \\\n",
              "0      2017-01-01 23:30:00   226  SCEL  KMIA   AAL  2017-01-01 23:33:00   \n",
              "1      2017-01-02 23:30:00   226  SCEL  KMIA   AAL  2017-01-02 23:39:00   \n",
              "2      2017-01-03 23:30:00   226  SCEL  KMIA   AAL  2017-01-03 23:39:00   \n",
              "3      2017-01-04 23:30:00   226  SCEL  KMIA   AAL  2017-01-04 23:33:00   \n",
              "4      2017-01-05 23:30:00   226  SCEL  KMIA   AAL  2017-01-05 23:28:00   \n",
              "...                    ...   ...   ...   ...   ...                  ...   \n",
              "68201  2017-12-22 14:55:00   400  SCEL  SPJC   JAT  2017-12-22 15:41:00   \n",
              "68202  2017-12-25 14:55:00   400  SCEL  SPJC   JAT  2017-12-25 15:11:00   \n",
              "68203  2017-12-27 14:55:00   400  SCEL  SPJC   JAT  2017-12-27 15:35:00   \n",
              "68204  2017-12-29 14:55:00   400  SCEL  SPJC   JAT  2017-12-29 15:08:00   \n",
              "68205  2017-12-31 14:55:00   400  SCEL  SPJC   JAT  2017-12-31 15:04:00   \n",
              "\n",
              "       Vlo-O Ori-O Des-O Emp-O DIA MES   AÑO     DIANOM TIPOVUELO  \\\n",
              "0        226  SCEL  KMIA   AAL   1   1  2017    Domingo         I   \n",
              "1        226  SCEL  KMIA   AAL   2   1  2017      Lunes         I   \n",
              "2        226  SCEL  KMIA   AAL   3   1  2017     Martes         I   \n",
              "3        226  SCEL  KMIA   AAL   4   1  2017  Miercoles         I   \n",
              "4        226  SCEL  KMIA   AAL   5   1  2017     Jueves         I   \n",
              "...      ...   ...   ...   ...  ..  ..   ...        ...       ...   \n",
              "68201  400.0  SCEL  SPJC   JAT  22  12  2017    Viernes         I   \n",
              "68202  400.0  SCEL  SPJC   JAT  25  12  2017      Lunes         I   \n",
              "68203  400.0  SCEL  SPJC   JAT  27  12  2017  Miercoles         I   \n",
              "68204  400.0  SCEL  SPJC   JAT  29  12  2017    Viernes         I   \n",
              "68205  400.0  SCEL  SPJC   JAT  31  12  2017    Domingo         I   \n",
              "\n",
              "                   OPERA  SIGLAORI SIGLADES  \n",
              "0      American Airlines  Santiago    Miami  \n",
              "1      American Airlines  Santiago    Miami  \n",
              "2      American Airlines  Santiago    Miami  \n",
              "3      American Airlines  Santiago    Miami  \n",
              "4      American Airlines  Santiago    Miami  \n",
              "...                  ...       ...      ...  \n",
              "68201       JetSmart SPA  Santiago     Lima  \n",
              "68202       JetSmart SPA  Santiago     Lima  \n",
              "68203       JetSmart SPA  Santiago     Lima  \n",
              "68204       JetSmart SPA  Santiago     Lima  \n",
              "68205       JetSmart SPA  Santiago     Lima  \n",
              "\n",
              "[68206 rows x 18 columns]"
            ],
            "text/html": [
              "\n",
              "  <div id=\"df-94cc8f9c-234b-4b27-af82-0ccf38bc0ce3\">\n",
              "    <div class=\"colab-df-container\">\n",
              "      <div>\n",
              "<style scoped>\n",
              "    .dataframe tbody tr th:only-of-type {\n",
              "        vertical-align: middle;\n",
              "    }\n",
              "\n",
              "    .dataframe tbody tr th {\n",
              "        vertical-align: top;\n",
              "    }\n",
              "\n",
              "    .dataframe thead th {\n",
              "        text-align: right;\n",
              "    }\n",
              "</style>\n",
              "<table border=\"1\" class=\"dataframe\">\n",
              "  <thead>\n",
              "    <tr style=\"text-align: right;\">\n",
              "      <th></th>\n",
              "      <th>Fecha-I</th>\n",
              "      <th>Vlo-I</th>\n",
              "      <th>Ori-I</th>\n",
              "      <th>Des-I</th>\n",
              "      <th>Emp-I</th>\n",
              "      <th>Fecha-O</th>\n",
              "      <th>Vlo-O</th>\n",
              "      <th>Ori-O</th>\n",
              "      <th>Des-O</th>\n",
              "      <th>Emp-O</th>\n",
              "      <th>DIA</th>\n",
              "      <th>MES</th>\n",
              "      <th>AÑO</th>\n",
              "      <th>DIANOM</th>\n",
              "      <th>TIPOVUELO</th>\n",
              "      <th>OPERA</th>\n",
              "      <th>SIGLAORI</th>\n",
              "      <th>SIGLADES</th>\n",
              "    </tr>\n",
              "  </thead>\n",
              "  <tbody>\n",
              "    <tr>\n",
              "      <th>0</th>\n",
              "      <td>2017-01-01 23:30:00</td>\n",
              "      <td>226</td>\n",
              "      <td>SCEL</td>\n",
              "      <td>KMIA</td>\n",
              "      <td>AAL</td>\n",
              "      <td>2017-01-01 23:33:00</td>\n",
              "      <td>226</td>\n",
              "      <td>SCEL</td>\n",
              "      <td>KMIA</td>\n",
              "      <td>AAL</td>\n",
              "      <td>1</td>\n",
              "      <td>1</td>\n",
              "      <td>2017</td>\n",
              "      <td>Domingo</td>\n",
              "      <td>I</td>\n",
              "      <td>American Airlines</td>\n",
              "      <td>Santiago</td>\n",
              "      <td>Miami</td>\n",
              "    </tr>\n",
              "    <tr>\n",
              "      <th>1</th>\n",
              "      <td>2017-01-02 23:30:00</td>\n",
              "      <td>226</td>\n",
              "      <td>SCEL</td>\n",
              "      <td>KMIA</td>\n",
              "      <td>AAL</td>\n",
              "      <td>2017-01-02 23:39:00</td>\n",
              "      <td>226</td>\n",
              "      <td>SCEL</td>\n",
              "      <td>KMIA</td>\n",
              "      <td>AAL</td>\n",
              "      <td>2</td>\n",
              "      <td>1</td>\n",
              "      <td>2017</td>\n",
              "      <td>Lunes</td>\n",
              "      <td>I</td>\n",
              "      <td>American Airlines</td>\n",
              "      <td>Santiago</td>\n",
              "      <td>Miami</td>\n",
              "    </tr>\n",
              "    <tr>\n",
              "      <th>2</th>\n",
              "      <td>2017-01-03 23:30:00</td>\n",
              "      <td>226</td>\n",
              "      <td>SCEL</td>\n",
              "      <td>KMIA</td>\n",
              "      <td>AAL</td>\n",
              "      <td>2017-01-03 23:39:00</td>\n",
              "      <td>226</td>\n",
              "      <td>SCEL</td>\n",
              "      <td>KMIA</td>\n",
              "      <td>AAL</td>\n",
              "      <td>3</td>\n",
              "      <td>1</td>\n",
              "      <td>2017</td>\n",
              "      <td>Martes</td>\n",
              "      <td>I</td>\n",
              "      <td>American Airlines</td>\n",
              "      <td>Santiago</td>\n",
              "      <td>Miami</td>\n",
              "    </tr>\n",
              "    <tr>\n",
              "      <th>3</th>\n",
              "      <td>2017-01-04 23:30:00</td>\n",
              "      <td>226</td>\n",
              "      <td>SCEL</td>\n",
              "      <td>KMIA</td>\n",
              "      <td>AAL</td>\n",
              "      <td>2017-01-04 23:33:00</td>\n",
              "      <td>226</td>\n",
              "      <td>SCEL</td>\n",
              "      <td>KMIA</td>\n",
              "      <td>AAL</td>\n",
              "      <td>4</td>\n",
              "      <td>1</td>\n",
              "      <td>2017</td>\n",
              "      <td>Miercoles</td>\n",
              "      <td>I</td>\n",
              "      <td>American Airlines</td>\n",
              "      <td>Santiago</td>\n",
              "      <td>Miami</td>\n",
              "    </tr>\n",
              "    <tr>\n",
              "      <th>4</th>\n",
              "      <td>2017-01-05 23:30:00</td>\n",
              "      <td>226</td>\n",
              "      <td>SCEL</td>\n",
              "      <td>KMIA</td>\n",
              "      <td>AAL</td>\n",
              "      <td>2017-01-05 23:28:00</td>\n",
              "      <td>226</td>\n",
              "      <td>SCEL</td>\n",
              "      <td>KMIA</td>\n",
              "      <td>AAL</td>\n",
              "      <td>5</td>\n",
              "      <td>1</td>\n",
              "      <td>2017</td>\n",
              "      <td>Jueves</td>\n",
              "      <td>I</td>\n",
              "      <td>American Airlines</td>\n",
              "      <td>Santiago</td>\n",
              "      <td>Miami</td>\n",
              "    </tr>\n",
              "    <tr>\n",
              "      <th>...</th>\n",
              "      <td>...</td>\n",
              "      <td>...</td>\n",
              "      <td>...</td>\n",
              "      <td>...</td>\n",
              "      <td>...</td>\n",
              "      <td>...</td>\n",
              "      <td>...</td>\n",
              "      <td>...</td>\n",
              "      <td>...</td>\n",
              "      <td>...</td>\n",
              "      <td>...</td>\n",
              "      <td>...</td>\n",
              "      <td>...</td>\n",
              "      <td>...</td>\n",
              "      <td>...</td>\n",
              "      <td>...</td>\n",
              "      <td>...</td>\n",
              "      <td>...</td>\n",
              "    </tr>\n",
              "    <tr>\n",
              "      <th>68201</th>\n",
              "      <td>2017-12-22 14:55:00</td>\n",
              "      <td>400</td>\n",
              "      <td>SCEL</td>\n",
              "      <td>SPJC</td>\n",
              "      <td>JAT</td>\n",
              "      <td>2017-12-22 15:41:00</td>\n",
              "      <td>400.0</td>\n",
              "      <td>SCEL</td>\n",
              "      <td>SPJC</td>\n",
              "      <td>JAT</td>\n",
              "      <td>22</td>\n",
              "      <td>12</td>\n",
              "      <td>2017</td>\n",
              "      <td>Viernes</td>\n",
              "      <td>I</td>\n",
              "      <td>JetSmart SPA</td>\n",
              "      <td>Santiago</td>\n",
              "      <td>Lima</td>\n",
              "    </tr>\n",
              "    <tr>\n",
              "      <th>68202</th>\n",
              "      <td>2017-12-25 14:55:00</td>\n",
              "      <td>400</td>\n",
              "      <td>SCEL</td>\n",
              "      <td>SPJC</td>\n",
              "      <td>JAT</td>\n",
              "      <td>2017-12-25 15:11:00</td>\n",
              "      <td>400.0</td>\n",
              "      <td>SCEL</td>\n",
              "      <td>SPJC</td>\n",
              "      <td>JAT</td>\n",
              "      <td>25</td>\n",
              "      <td>12</td>\n",
              "      <td>2017</td>\n",
              "      <td>Lunes</td>\n",
              "      <td>I</td>\n",
              "      <td>JetSmart SPA</td>\n",
              "      <td>Santiago</td>\n",
              "      <td>Lima</td>\n",
              "    </tr>\n",
              "    <tr>\n",
              "      <th>68203</th>\n",
              "      <td>2017-12-27 14:55:00</td>\n",
              "      <td>400</td>\n",
              "      <td>SCEL</td>\n",
              "      <td>SPJC</td>\n",
              "      <td>JAT</td>\n",
              "      <td>2017-12-27 15:35:00</td>\n",
              "      <td>400.0</td>\n",
              "      <td>SCEL</td>\n",
              "      <td>SPJC</td>\n",
              "      <td>JAT</td>\n",
              "      <td>27</td>\n",
              "      <td>12</td>\n",
              "      <td>2017</td>\n",
              "      <td>Miercoles</td>\n",
              "      <td>I</td>\n",
              "      <td>JetSmart SPA</td>\n",
              "      <td>Santiago</td>\n",
              "      <td>Lima</td>\n",
              "    </tr>\n",
              "    <tr>\n",
              "      <th>68204</th>\n",
              "      <td>2017-12-29 14:55:00</td>\n",
              "      <td>400</td>\n",
              "      <td>SCEL</td>\n",
              "      <td>SPJC</td>\n",
              "      <td>JAT</td>\n",
              "      <td>2017-12-29 15:08:00</td>\n",
              "      <td>400.0</td>\n",
              "      <td>SCEL</td>\n",
              "      <td>SPJC</td>\n",
              "      <td>JAT</td>\n",
              "      <td>29</td>\n",
              "      <td>12</td>\n",
              "      <td>2017</td>\n",
              "      <td>Viernes</td>\n",
              "      <td>I</td>\n",
              "      <td>JetSmart SPA</td>\n",
              "      <td>Santiago</td>\n",
              "      <td>Lima</td>\n",
              "    </tr>\n",
              "    <tr>\n",
              "      <th>68205</th>\n",
              "      <td>2017-12-31 14:55:00</td>\n",
              "      <td>400</td>\n",
              "      <td>SCEL</td>\n",
              "      <td>SPJC</td>\n",
              "      <td>JAT</td>\n",
              "      <td>2017-12-31 15:04:00</td>\n",
              "      <td>400.0</td>\n",
              "      <td>SCEL</td>\n",
              "      <td>SPJC</td>\n",
              "      <td>JAT</td>\n",
              "      <td>31</td>\n",
              "      <td>12</td>\n",
              "      <td>2017</td>\n",
              "      <td>Domingo</td>\n",
              "      <td>I</td>\n",
              "      <td>JetSmart SPA</td>\n",
              "      <td>Santiago</td>\n",
              "      <td>Lima</td>\n",
              "    </tr>\n",
              "  </tbody>\n",
              "</table>\n",
              "<p>68206 rows × 18 columns</p>\n",
              "</div>\n",
              "      <button class=\"colab-df-convert\" onclick=\"convertToInteractive('df-94cc8f9c-234b-4b27-af82-0ccf38bc0ce3')\"\n",
              "              title=\"Convert this dataframe to an interactive table.\"\n",
              "              style=\"display:none;\">\n",
              "        \n",
              "  <svg xmlns=\"http://www.w3.org/2000/svg\" height=\"24px\"viewBox=\"0 0 24 24\"\n",
              "       width=\"24px\">\n",
              "    <path d=\"M0 0h24v24H0V0z\" fill=\"none\"/>\n",
              "    <path d=\"M18.56 5.44l.94 2.06.94-2.06 2.06-.94-2.06-.94-.94-2.06-.94 2.06-2.06.94zm-11 1L8.5 8.5l.94-2.06 2.06-.94-2.06-.94L8.5 2.5l-.94 2.06-2.06.94zm10 10l.94 2.06.94-2.06 2.06-.94-2.06-.94-.94-2.06-.94 2.06-2.06.94z\"/><path d=\"M17.41 7.96l-1.37-1.37c-.4-.4-.92-.59-1.43-.59-.52 0-1.04.2-1.43.59L10.3 9.45l-7.72 7.72c-.78.78-.78 2.05 0 2.83L4 21.41c.39.39.9.59 1.41.59.51 0 1.02-.2 1.41-.59l7.78-7.78 2.81-2.81c.8-.78.8-2.07 0-2.86zM5.41 20L4 18.59l7.72-7.72 1.47 1.35L5.41 20z\"/>\n",
              "  </svg>\n",
              "      </button>\n",
              "      \n",
              "  <style>\n",
              "    .colab-df-container {\n",
              "      display:flex;\n",
              "      flex-wrap:wrap;\n",
              "      gap: 12px;\n",
              "    }\n",
              "\n",
              "    .colab-df-convert {\n",
              "      background-color: #E8F0FE;\n",
              "      border: none;\n",
              "      border-radius: 50%;\n",
              "      cursor: pointer;\n",
              "      display: none;\n",
              "      fill: #1967D2;\n",
              "      height: 32px;\n",
              "      padding: 0 0 0 0;\n",
              "      width: 32px;\n",
              "    }\n",
              "\n",
              "    .colab-df-convert:hover {\n",
              "      background-color: #E2EBFA;\n",
              "      box-shadow: 0px 1px 2px rgba(60, 64, 67, 0.3), 0px 1px 3px 1px rgba(60, 64, 67, 0.15);\n",
              "      fill: #174EA6;\n",
              "    }\n",
              "\n",
              "    [theme=dark] .colab-df-convert {\n",
              "      background-color: #3B4455;\n",
              "      fill: #D2E3FC;\n",
              "    }\n",
              "\n",
              "    [theme=dark] .colab-df-convert:hover {\n",
              "      background-color: #434B5C;\n",
              "      box-shadow: 0px 1px 3px 1px rgba(0, 0, 0, 0.15);\n",
              "      filter: drop-shadow(0px 1px 2px rgba(0, 0, 0, 0.3));\n",
              "      fill: #FFFFFF;\n",
              "    }\n",
              "  </style>\n",
              "\n",
              "      <script>\n",
              "        const buttonEl =\n",
              "          document.querySelector('#df-94cc8f9c-234b-4b27-af82-0ccf38bc0ce3 button.colab-df-convert');\n",
              "        buttonEl.style.display =\n",
              "          google.colab.kernel.accessAllowed ? 'block' : 'none';\n",
              "\n",
              "        async function convertToInteractive(key) {\n",
              "          const element = document.querySelector('#df-94cc8f9c-234b-4b27-af82-0ccf38bc0ce3');\n",
              "          const dataTable =\n",
              "            await google.colab.kernel.invokeFunction('convertToInteractive',\n",
              "                                                     [key], {});\n",
              "          if (!dataTable) return;\n",
              "\n",
              "          const docLinkHtml = 'Like what you see? Visit the ' +\n",
              "            '<a target=\"_blank\" href=https://colab.research.google.com/notebooks/data_table.ipynb>data table notebook</a>'\n",
              "            + ' to learn more about interactive tables.';\n",
              "          element.innerHTML = '';\n",
              "          dataTable['output_type'] = 'display_data';\n",
              "          await google.colab.output.renderOutput(dataTable, element);\n",
              "          const docLink = document.createElement('div');\n",
              "          docLink.innerHTML = docLinkHtml;\n",
              "          element.appendChild(docLink);\n",
              "        }\n",
              "      </script>\n",
              "    </div>\n",
              "  </div>\n",
              "  "
            ]
          },
          "metadata": {},
          "execution_count": 4
        }
      ]
    },
    {
      "cell_type": "code",
      "source": [
        "df_raw.info()"
      ],
      "metadata": {
        "colab": {
          "base_uri": "https://localhost:8080/"
        },
        "id": "jurmWwlrrtzs",
        "outputId": "b9d7d000-8630-4cc2-9f69-3dc06c11efe2"
      },
      "execution_count": 5,
      "outputs": [
        {
          "output_type": "stream",
          "name": "stdout",
          "text": [
            "<class 'pandas.core.frame.DataFrame'>\n",
            "RangeIndex: 68206 entries, 0 to 68205\n",
            "Data columns (total 18 columns):\n",
            " #   Column     Non-Null Count  Dtype \n",
            "---  ------     --------------  ----- \n",
            " 0   Fecha-I    68206 non-null  object\n",
            " 1   Vlo-I      68206 non-null  object\n",
            " 2   Ori-I      68206 non-null  object\n",
            " 3   Des-I      68206 non-null  object\n",
            " 4   Emp-I      68206 non-null  object\n",
            " 5   Fecha-O    68206 non-null  object\n",
            " 6   Vlo-O      68205 non-null  object\n",
            " 7   Ori-O      68206 non-null  object\n",
            " 8   Des-O      68206 non-null  object\n",
            " 9   Emp-O      68206 non-null  object\n",
            " 10  DIA        68206 non-null  object\n",
            " 11  MES        68206 non-null  object\n",
            " 12  AÑO        68206 non-null  object\n",
            " 13  DIANOM     68206 non-null  object\n",
            " 14  TIPOVUELO  68206 non-null  object\n",
            " 15  OPERA      68206 non-null  object\n",
            " 16  SIGLAORI   68206 non-null  object\n",
            " 17  SIGLADES   68206 non-null  object\n",
            "dtypes: object(18)\n",
            "memory usage: 9.4+ MB\n"
          ]
        }
      ]
    },
    {
      "cell_type": "markdown",
      "source": [
        "# Sección 01. Distribución de los datos"
      ],
      "metadata": {
        "id": "uOSVzygenScm"
      }
    },
    {
      "cell_type": "markdown",
      "source": [
        "En la actual sección se analiza la distribución de los datos para cada uno de los features que resultan relevantes del dataset. Un análisis más detallado que relaciona estas distribuciones a su vez con la tasa de retrasos se puede encontrar en la `sección 03`."
      ],
      "metadata": {
        "id": "nhRExhqfcC-T"
      }
    },
    {
      "cell_type": "markdown",
      "source": [
        "## 01.01. Validaciones preliminares"
      ],
      "metadata": {
        "id": "OXzgYwlqaTCm"
      }
    },
    {
      "cell_type": "markdown",
      "source": [
        "### ---> Valores nulos:\n",
        "En general el dataset no presenta valores nulos, por lo cual no se tendrán que realizar procesos de imputación. El único valor nulo puede descartarse o tratarse de manera puntual."
      ],
      "metadata": {
        "id": "FSkVAQRcXE13"
      }
    },
    {
      "cell_type": "code",
      "source": [
        "df_raw.isnull().sum()"
      ],
      "metadata": {
        "id": "pUfo9X6TW5qt",
        "outputId": "07c2215c-bdc9-4e3a-ed2f-90b449ab00b2",
        "colab": {
          "base_uri": "https://localhost:8080/"
        }
      },
      "execution_count": 6,
      "outputs": [
        {
          "output_type": "execute_result",
          "data": {
            "text/plain": [
              "Fecha-I      0\n",
              "Vlo-I        0\n",
              "Ori-I        0\n",
              "Des-I        0\n",
              "Emp-I        0\n",
              "Fecha-O      0\n",
              "Vlo-O        1\n",
              "Ori-O        0\n",
              "Des-O        0\n",
              "Emp-O        0\n",
              "DIA          0\n",
              "MES          0\n",
              "AÑO          0\n",
              "DIANOM       0\n",
              "TIPOVUELO    0\n",
              "OPERA        0\n",
              "SIGLAORI     0\n",
              "SIGLADES     0\n",
              "dtype: int64"
            ]
          },
          "metadata": {},
          "execution_count": 6
        }
      ]
    },
    {
      "cell_type": "markdown",
      "source": [
        "### ---> Columnas para precindir:\n",
        "Dado que todos los vuelos salen de Santiago de Chile nos damos cuanta que las columnas `Ori-I`, `Ori-O`, `SIGLAORI` no presentan ningun aporte y precindiremos de ellas."
      ],
      "metadata": {
        "id": "kwF3m_mpF4Jp"
      }
    },
    {
      "cell_type": "code",
      "source": [
        "columnas_unicas = df_raw.loc[:, df_raw.nunique() == 1].columns.tolist()\n",
        "columnas_unicas"
      ],
      "metadata": {
        "id": "fQ2aPuG6GlfA",
        "outputId": "98f1939e-2837-4fcc-810f-c5de06eb07e6",
        "colab": {
          "base_uri": "https://localhost:8080/"
        }
      },
      "execution_count": 7,
      "outputs": [
        {
          "output_type": "execute_result",
          "data": {
            "text/plain": [
              "['Ori-I', 'Ori-O', 'SIGLAORI']"
            ]
          },
          "metadata": {},
          "execution_count": 7
        }
      ]
    },
    {
      "cell_type": "code",
      "source": [
        "for col in columnas_unicas:\n",
        "    print(f\"Unico valor para {col}: {df_raw[col].unique()[0]}\")"
      ],
      "metadata": {
        "id": "Uv-qAjt1Il1W",
        "outputId": "950571a7-f049-4e08-8c00-10dac64d1643",
        "colab": {
          "base_uri": "https://localhost:8080/"
        }
      },
      "execution_count": 8,
      "outputs": [
        {
          "output_type": "stream",
          "name": "stdout",
          "text": [
            "Unico valor para Ori-I: SCEL\n",
            "Unico valor para Ori-O: SCEL\n",
            "Unico valor para SIGLAORI: Santiago\n"
          ]
        }
      ]
    },
    {
      "cell_type": "markdown",
      "source": [
        "Si bien la columna `AÑO` presenta 2 registros para 2018 tampoco presenta ningún aporte porque realmente todos los datos corresponden a vuelos itinerados de 2017 por lo cual también prescindiremos de ella."
      ],
      "metadata": {
        "id": "eOBgLs4fKh_6"
      }
    },
    {
      "cell_type": "code",
      "source": [
        "df_raw['AÑO'].value_counts()"
      ],
      "metadata": {
        "id": "AvnSUyiHF1sO",
        "outputId": "07422dd7-e036-4831-b98e-cd5d76a6471e",
        "colab": {
          "base_uri": "https://localhost:8080/"
        }
      },
      "execution_count": 9,
      "outputs": [
        {
          "output_type": "execute_result",
          "data": {
            "text/plain": [
              "2017    68204\n",
              "2018        2\n",
              "Name: AÑO, dtype: int64"
            ]
          },
          "metadata": {},
          "execution_count": 9
        }
      ]
    },
    {
      "cell_type": "code",
      "source": [
        "print('Fecha mínima dataset:', min(df_raw['Fecha-I']))\n",
        "print('Fecha máxima dataset:', max(df_raw['Fecha-I']))"
      ],
      "metadata": {
        "id": "qhrZQqFXF1pn",
        "outputId": "9e4708aa-1264-4413-a73f-4eae8e6b2310",
        "colab": {
          "base_uri": "https://localhost:8080/"
        }
      },
      "execution_count": 10,
      "outputs": [
        {
          "output_type": "stream",
          "name": "stdout",
          "text": [
            "Fecha mínima dataset: 2017-01-01 00:15:00\n",
            "Fecha máxima dataset: 2017-12-31 23:55:00\n"
          ]
        }
      ]
    },
    {
      "cell_type": "markdown",
      "source": [
        "### ---> Columnas con información homogenea (o casi homogenea):\n",
        "Algunas columnas presentan información completamante similar o con muy ligeras variaciones, por lo cual solo se tomará en cuenta una de las columnas para el analis de la informacion. Un ejemplo de ello es el par: `Emp-I`, `OPERA`."
      ],
      "metadata": {
        "id": "yeY-8cayX9AA"
      }
    },
    {
      "cell_type": "code",
      "source": [
        "df_raw.groupby(['Emp-I'], as_index=False).\\\n",
        "           agg(unique_col=('OPERA', lambda x: x.nunique()),\n",
        "               conca=('OPERA', lambda x: ','.join(x.unique()))).\\\n",
        "           sort_values(by=['Emp-I'], ascending=[True])"
      ],
      "metadata": {
        "id": "2aX4fx_-X8Wc",
        "outputId": "a2a689f0-50b3-43ef-aee5-4813ff2838d9",
        "colab": {
          "base_uri": "https://localhost:8080/",
          "height": 989
        }
      },
      "execution_count": 11,
      "outputs": [
        {
          "output_type": "execute_result",
          "data": {
            "text/plain": [
              "   Emp-I  unique_col                     conca\n",
              "0    AAL           1         American Airlines\n",
              "1    ACA           1                Air Canada\n",
              "2    AFR           1                Air France\n",
              "3    AMX           1                Aeromexico\n",
              "4    ARG           1     Aerolineas Argentinas\n",
              "5    AUT           1                   Austral\n",
              "6    AVA           1                   Avianca\n",
              "7    AZA           1                  Alitalia\n",
              "8    BAW           1           British Airways\n",
              "9    CMP           1                  Copa Air\n",
              "10   DAL           1                 Delta Air\n",
              "11   DSM           1               Grupo LATAM\n",
              "12   GLO           1                 Gol Trans\n",
              "13   IBE           1                    Iberia\n",
              "14   JAT           1              JetSmart SPA\n",
              "15   JMR           1      Latin American Wings\n",
              "16   KLM           1                    K.L.M.\n",
              "17   LAN           1               Grupo LATAM\n",
              "18   LAP           1               Grupo LATAM\n",
              "19   LAW           1      Latin American Wings\n",
              "20   LNE           1               Grupo LATAM\n",
              "21   LPE           1               Grupo LATAM\n",
              "22   LRC           1                     Lacsa\n",
              "23   LXP           1               Grupo LATAM\n",
              "24   ONE           1    Oceanair Linhas Aereas\n",
              "25   PUE           1  Plus Ultra Lineas Aereas\n",
              "26   QFU           1            Qantas Airways\n",
              "27   SKU           1               Sky Airline\n",
              "28   TAM           1               Grupo LATAM\n",
              "29   UAL           1           United Airlines"
            ],
            "text/html": [
              "\n",
              "  <div id=\"df-285fd967-dedb-4d12-845f-1304a4f3d029\">\n",
              "    <div class=\"colab-df-container\">\n",
              "      <div>\n",
              "<style scoped>\n",
              "    .dataframe tbody tr th:only-of-type {\n",
              "        vertical-align: middle;\n",
              "    }\n",
              "\n",
              "    .dataframe tbody tr th {\n",
              "        vertical-align: top;\n",
              "    }\n",
              "\n",
              "    .dataframe thead th {\n",
              "        text-align: right;\n",
              "    }\n",
              "</style>\n",
              "<table border=\"1\" class=\"dataframe\">\n",
              "  <thead>\n",
              "    <tr style=\"text-align: right;\">\n",
              "      <th></th>\n",
              "      <th>Emp-I</th>\n",
              "      <th>unique_col</th>\n",
              "      <th>conca</th>\n",
              "    </tr>\n",
              "  </thead>\n",
              "  <tbody>\n",
              "    <tr>\n",
              "      <th>0</th>\n",
              "      <td>AAL</td>\n",
              "      <td>1</td>\n",
              "      <td>American Airlines</td>\n",
              "    </tr>\n",
              "    <tr>\n",
              "      <th>1</th>\n",
              "      <td>ACA</td>\n",
              "      <td>1</td>\n",
              "      <td>Air Canada</td>\n",
              "    </tr>\n",
              "    <tr>\n",
              "      <th>2</th>\n",
              "      <td>AFR</td>\n",
              "      <td>1</td>\n",
              "      <td>Air France</td>\n",
              "    </tr>\n",
              "    <tr>\n",
              "      <th>3</th>\n",
              "      <td>AMX</td>\n",
              "      <td>1</td>\n",
              "      <td>Aeromexico</td>\n",
              "    </tr>\n",
              "    <tr>\n",
              "      <th>4</th>\n",
              "      <td>ARG</td>\n",
              "      <td>1</td>\n",
              "      <td>Aerolineas Argentinas</td>\n",
              "    </tr>\n",
              "    <tr>\n",
              "      <th>5</th>\n",
              "      <td>AUT</td>\n",
              "      <td>1</td>\n",
              "      <td>Austral</td>\n",
              "    </tr>\n",
              "    <tr>\n",
              "      <th>6</th>\n",
              "      <td>AVA</td>\n",
              "      <td>1</td>\n",
              "      <td>Avianca</td>\n",
              "    </tr>\n",
              "    <tr>\n",
              "      <th>7</th>\n",
              "      <td>AZA</td>\n",
              "      <td>1</td>\n",
              "      <td>Alitalia</td>\n",
              "    </tr>\n",
              "    <tr>\n",
              "      <th>8</th>\n",
              "      <td>BAW</td>\n",
              "      <td>1</td>\n",
              "      <td>British Airways</td>\n",
              "    </tr>\n",
              "    <tr>\n",
              "      <th>9</th>\n",
              "      <td>CMP</td>\n",
              "      <td>1</td>\n",
              "      <td>Copa Air</td>\n",
              "    </tr>\n",
              "    <tr>\n",
              "      <th>10</th>\n",
              "      <td>DAL</td>\n",
              "      <td>1</td>\n",
              "      <td>Delta Air</td>\n",
              "    </tr>\n",
              "    <tr>\n",
              "      <th>11</th>\n",
              "      <td>DSM</td>\n",
              "      <td>1</td>\n",
              "      <td>Grupo LATAM</td>\n",
              "    </tr>\n",
              "    <tr>\n",
              "      <th>12</th>\n",
              "      <td>GLO</td>\n",
              "      <td>1</td>\n",
              "      <td>Gol Trans</td>\n",
              "    </tr>\n",
              "    <tr>\n",
              "      <th>13</th>\n",
              "      <td>IBE</td>\n",
              "      <td>1</td>\n",
              "      <td>Iberia</td>\n",
              "    </tr>\n",
              "    <tr>\n",
              "      <th>14</th>\n",
              "      <td>JAT</td>\n",
              "      <td>1</td>\n",
              "      <td>JetSmart SPA</td>\n",
              "    </tr>\n",
              "    <tr>\n",
              "      <th>15</th>\n",
              "      <td>JMR</td>\n",
              "      <td>1</td>\n",
              "      <td>Latin American Wings</td>\n",
              "    </tr>\n",
              "    <tr>\n",
              "      <th>16</th>\n",
              "      <td>KLM</td>\n",
              "      <td>1</td>\n",
              "      <td>K.L.M.</td>\n",
              "    </tr>\n",
              "    <tr>\n",
              "      <th>17</th>\n",
              "      <td>LAN</td>\n",
              "      <td>1</td>\n",
              "      <td>Grupo LATAM</td>\n",
              "    </tr>\n",
              "    <tr>\n",
              "      <th>18</th>\n",
              "      <td>LAP</td>\n",
              "      <td>1</td>\n",
              "      <td>Grupo LATAM</td>\n",
              "    </tr>\n",
              "    <tr>\n",
              "      <th>19</th>\n",
              "      <td>LAW</td>\n",
              "      <td>1</td>\n",
              "      <td>Latin American Wings</td>\n",
              "    </tr>\n",
              "    <tr>\n",
              "      <th>20</th>\n",
              "      <td>LNE</td>\n",
              "      <td>1</td>\n",
              "      <td>Grupo LATAM</td>\n",
              "    </tr>\n",
              "    <tr>\n",
              "      <th>21</th>\n",
              "      <td>LPE</td>\n",
              "      <td>1</td>\n",
              "      <td>Grupo LATAM</td>\n",
              "    </tr>\n",
              "    <tr>\n",
              "      <th>22</th>\n",
              "      <td>LRC</td>\n",
              "      <td>1</td>\n",
              "      <td>Lacsa</td>\n",
              "    </tr>\n",
              "    <tr>\n",
              "      <th>23</th>\n",
              "      <td>LXP</td>\n",
              "      <td>1</td>\n",
              "      <td>Grupo LATAM</td>\n",
              "    </tr>\n",
              "    <tr>\n",
              "      <th>24</th>\n",
              "      <td>ONE</td>\n",
              "      <td>1</td>\n",
              "      <td>Oceanair Linhas Aereas</td>\n",
              "    </tr>\n",
              "    <tr>\n",
              "      <th>25</th>\n",
              "      <td>PUE</td>\n",
              "      <td>1</td>\n",
              "      <td>Plus Ultra Lineas Aereas</td>\n",
              "    </tr>\n",
              "    <tr>\n",
              "      <th>26</th>\n",
              "      <td>QFU</td>\n",
              "      <td>1</td>\n",
              "      <td>Qantas Airways</td>\n",
              "    </tr>\n",
              "    <tr>\n",
              "      <th>27</th>\n",
              "      <td>SKU</td>\n",
              "      <td>1</td>\n",
              "      <td>Sky Airline</td>\n",
              "    </tr>\n",
              "    <tr>\n",
              "      <th>28</th>\n",
              "      <td>TAM</td>\n",
              "      <td>1</td>\n",
              "      <td>Grupo LATAM</td>\n",
              "    </tr>\n",
              "    <tr>\n",
              "      <th>29</th>\n",
              "      <td>UAL</td>\n",
              "      <td>1</td>\n",
              "      <td>United Airlines</td>\n",
              "    </tr>\n",
              "  </tbody>\n",
              "</table>\n",
              "</div>\n",
              "      <button class=\"colab-df-convert\" onclick=\"convertToInteractive('df-285fd967-dedb-4d12-845f-1304a4f3d029')\"\n",
              "              title=\"Convert this dataframe to an interactive table.\"\n",
              "              style=\"display:none;\">\n",
              "        \n",
              "  <svg xmlns=\"http://www.w3.org/2000/svg\" height=\"24px\"viewBox=\"0 0 24 24\"\n",
              "       width=\"24px\">\n",
              "    <path d=\"M0 0h24v24H0V0z\" fill=\"none\"/>\n",
              "    <path d=\"M18.56 5.44l.94 2.06.94-2.06 2.06-.94-2.06-.94-.94-2.06-.94 2.06-2.06.94zm-11 1L8.5 8.5l.94-2.06 2.06-.94-2.06-.94L8.5 2.5l-.94 2.06-2.06.94zm10 10l.94 2.06.94-2.06 2.06-.94-2.06-.94-.94-2.06-.94 2.06-2.06.94z\"/><path d=\"M17.41 7.96l-1.37-1.37c-.4-.4-.92-.59-1.43-.59-.52 0-1.04.2-1.43.59L10.3 9.45l-7.72 7.72c-.78.78-.78 2.05 0 2.83L4 21.41c.39.39.9.59 1.41.59.51 0 1.02-.2 1.41-.59l7.78-7.78 2.81-2.81c.8-.78.8-2.07 0-2.86zM5.41 20L4 18.59l7.72-7.72 1.47 1.35L5.41 20z\"/>\n",
              "  </svg>\n",
              "      </button>\n",
              "      \n",
              "  <style>\n",
              "    .colab-df-container {\n",
              "      display:flex;\n",
              "      flex-wrap:wrap;\n",
              "      gap: 12px;\n",
              "    }\n",
              "\n",
              "    .colab-df-convert {\n",
              "      background-color: #E8F0FE;\n",
              "      border: none;\n",
              "      border-radius: 50%;\n",
              "      cursor: pointer;\n",
              "      display: none;\n",
              "      fill: #1967D2;\n",
              "      height: 32px;\n",
              "      padding: 0 0 0 0;\n",
              "      width: 32px;\n",
              "    }\n",
              "\n",
              "    .colab-df-convert:hover {\n",
              "      background-color: #E2EBFA;\n",
              "      box-shadow: 0px 1px 2px rgba(60, 64, 67, 0.3), 0px 1px 3px 1px rgba(60, 64, 67, 0.15);\n",
              "      fill: #174EA6;\n",
              "    }\n",
              "\n",
              "    [theme=dark] .colab-df-convert {\n",
              "      background-color: #3B4455;\n",
              "      fill: #D2E3FC;\n",
              "    }\n",
              "\n",
              "    [theme=dark] .colab-df-convert:hover {\n",
              "      background-color: #434B5C;\n",
              "      box-shadow: 0px 1px 3px 1px rgba(0, 0, 0, 0.15);\n",
              "      filter: drop-shadow(0px 1px 2px rgba(0, 0, 0, 0.3));\n",
              "      fill: #FFFFFF;\n",
              "    }\n",
              "  </style>\n",
              "\n",
              "      <script>\n",
              "        const buttonEl =\n",
              "          document.querySelector('#df-285fd967-dedb-4d12-845f-1304a4f3d029 button.colab-df-convert');\n",
              "        buttonEl.style.display =\n",
              "          google.colab.kernel.accessAllowed ? 'block' : 'none';\n",
              "\n",
              "        async function convertToInteractive(key) {\n",
              "          const element = document.querySelector('#df-285fd967-dedb-4d12-845f-1304a4f3d029');\n",
              "          const dataTable =\n",
              "            await google.colab.kernel.invokeFunction('convertToInteractive',\n",
              "                                                     [key], {});\n",
              "          if (!dataTable) return;\n",
              "\n",
              "          const docLinkHtml = 'Like what you see? Visit the ' +\n",
              "            '<a target=\"_blank\" href=https://colab.research.google.com/notebooks/data_table.ipynb>data table notebook</a>'\n",
              "            + ' to learn more about interactive tables.';\n",
              "          element.innerHTML = '';\n",
              "          dataTable['output_type'] = 'display_data';\n",
              "          await google.colab.output.renderOutput(dataTable, element);\n",
              "          const docLink = document.createElement('div');\n",
              "          docLink.innerHTML = docLinkHtml;\n",
              "          element.appendChild(docLink);\n",
              "        }\n",
              "      </script>\n",
              "    </div>\n",
              "  </div>\n",
              "  "
            ]
          },
          "metadata": {},
          "execution_count": 11
        }
      ]
    },
    {
      "cell_type": "markdown",
      "source": [
        "## 01.02. Columnas de interés"
      ],
      "metadata": {
        "id": "40bBFqKMZ0mM"
      }
    },
    {
      "cell_type": "markdown",
      "source": [
        "### ---> Aproximación de la solución:\n",
        "Esta sección se presentan para cada una de las variables descritas una tabla con las siguientes variables:\n",
        "- `vuelos`: cantidad de vuelos por grupo de agregación.\n",
        "- `porcentaje_de_vuelos`: porcentaje de vuelos por grupo de agregación respecto al total de vuelos reportados en el dataset.\n",
        "- `porcentaje_acomulado`: porcentaje acumulado. \n",
        "\n",
        "\n",
        "A su vez, también se presentan de manera gráfica la cantidad total de vuelos. Tanto la tabla como la gráfica se encuentran organizadas de manera descendente presentando inicialmente los grupos con mayor relevancia.\n"
      ],
      "metadata": {
        "id": "imuGpO_QkeLe"
      }
    },
    {
      "cell_type": "markdown",
      "source": [
        "### ---> Funciones para la generación de la tabla y gráficos del numeral:"
      ],
      "metadata": {
        "id": "A9ggDAVTkSxr"
      }
    },
    {
      "cell_type": "code",
      "source": [
        "def dataframe_agregacion(df, col_interes):\n",
        "  df_output = df.groupby([col_interes], as_index=False).\\\n",
        "                            agg(vuelos =(col_interes, 'count'),\n",
        "                                porcentaje_vuelos= (col_interes, lambda x: round(100*x.count()/len(df_raw),2))\n",
        "                                ).\\\n",
        "                            sort_values(by=['porcentaje_vuelos'], ascending=[False]).reset_index(drop=True)\n",
        "  df_output['porcentaje_acumulado'] = df_output['porcentaje_vuelos'].cumsum()\n",
        "\n",
        "  return df_output"
      ],
      "metadata": {
        "id": "E4pcD-T4dd4M"
      },
      "execution_count": 12,
      "outputs": []
    },
    {
      "cell_type": "code",
      "source": [
        "def plot_distribucion(df, width, length):\n",
        "\n",
        "  fig, ax = plt.subplots()\n",
        "  fig.set_size_inches(width,length)\n",
        "\n",
        "  sns.set_color_codes(\"pastel\")\n",
        "  sns.barplot(y=df.columns[0], x=df.columns[1], data=df,\n",
        "              label=\"Total\", color=\"b\")\n",
        "\n",
        "  ax.set_xlabel(\"Cantidad de vuelos\")\n",
        "  ax.set_ylabel(\"Variable de interes\")\n",
        "\n",
        "  plt.show()"
      ],
      "metadata": {
        "id": "vxxLaFAle-2T"
      },
      "execution_count": 13,
      "outputs": []
    },
    {
      "cell_type": "markdown",
      "source": [
        "### ---> Distribución por destino"
      ],
      "metadata": {
        "id": "VZVszltGbGp6"
      }
    },
    {
      "cell_type": "markdown",
      "source": [
        "Con relación al destino podemos encontrar que 15 destinos de las 64 posibles constituyen cerca del 80% de la totalidad de los vuelos reportados para el periodo. Existe una marcada diferencia entre la cantidad de vuelos para cada ruta. En la sección 3 se presenta una discusión más detallada en relación con la tasa de retrasos para los distintos destinos."
      ],
      "metadata": {
        "id": "hYkq6EcJmwU4"
      }
    },
    {
      "cell_type": "code",
      "source": [
        "df_agregacion_destino = dataframe_agregacion(df_raw,'SIGLADES')\n",
        "df_agregacion_destino"
      ],
      "metadata": {
        "id": "lWOJOx6fZz-_",
        "outputId": "4a179b64-9338-450f-872e-bdf283bc309c",
        "colab": {
          "base_uri": "https://localhost:8080/",
          "height": 423
        }
      },
      "execution_count": 14,
      "outputs": [
        {
          "output_type": "execute_result",
          "data": {
            "text/plain": [
              "            SIGLADES  vuelos  porcentaje_vuelos  porcentaje_acumulado\n",
              "0       Buenos Aires    6335               9.29                  9.29\n",
              "1        Antofagasta    5786               8.48                 17.77\n",
              "2               Lima    5270               7.73                 25.50\n",
              "3             Calama    5146               7.54                 33.04\n",
              "4       Puerto Montt    4357               6.39                 39.43\n",
              "..               ...     ...                ...                   ...\n",
              "57         Bariloche       2               0.00                 99.96\n",
              "58  Cataratas Iguacu       2               0.00                 99.96\n",
              "59        Cochabamba       1               0.00                 99.96\n",
              "60    Curitiba, Bra.       3               0.00                 99.96\n",
              "61        Washington       1               0.00                 99.96\n",
              "\n",
              "[62 rows x 4 columns]"
            ],
            "text/html": [
              "\n",
              "  <div id=\"df-415425eb-c126-484f-8616-c3ba66894be0\">\n",
              "    <div class=\"colab-df-container\">\n",
              "      <div>\n",
              "<style scoped>\n",
              "    .dataframe tbody tr th:only-of-type {\n",
              "        vertical-align: middle;\n",
              "    }\n",
              "\n",
              "    .dataframe tbody tr th {\n",
              "        vertical-align: top;\n",
              "    }\n",
              "\n",
              "    .dataframe thead th {\n",
              "        text-align: right;\n",
              "    }\n",
              "</style>\n",
              "<table border=\"1\" class=\"dataframe\">\n",
              "  <thead>\n",
              "    <tr style=\"text-align: right;\">\n",
              "      <th></th>\n",
              "      <th>SIGLADES</th>\n",
              "      <th>vuelos</th>\n",
              "      <th>porcentaje_vuelos</th>\n",
              "      <th>porcentaje_acumulado</th>\n",
              "    </tr>\n",
              "  </thead>\n",
              "  <tbody>\n",
              "    <tr>\n",
              "      <th>0</th>\n",
              "      <td>Buenos Aires</td>\n",
              "      <td>6335</td>\n",
              "      <td>9.29</td>\n",
              "      <td>9.29</td>\n",
              "    </tr>\n",
              "    <tr>\n",
              "      <th>1</th>\n",
              "      <td>Antofagasta</td>\n",
              "      <td>5786</td>\n",
              "      <td>8.48</td>\n",
              "      <td>17.77</td>\n",
              "    </tr>\n",
              "    <tr>\n",
              "      <th>2</th>\n",
              "      <td>Lima</td>\n",
              "      <td>5270</td>\n",
              "      <td>7.73</td>\n",
              "      <td>25.50</td>\n",
              "    </tr>\n",
              "    <tr>\n",
              "      <th>3</th>\n",
              "      <td>Calama</td>\n",
              "      <td>5146</td>\n",
              "      <td>7.54</td>\n",
              "      <td>33.04</td>\n",
              "    </tr>\n",
              "    <tr>\n",
              "      <th>4</th>\n",
              "      <td>Puerto Montt</td>\n",
              "      <td>4357</td>\n",
              "      <td>6.39</td>\n",
              "      <td>39.43</td>\n",
              "    </tr>\n",
              "    <tr>\n",
              "      <th>...</th>\n",
              "      <td>...</td>\n",
              "      <td>...</td>\n",
              "      <td>...</td>\n",
              "      <td>...</td>\n",
              "    </tr>\n",
              "    <tr>\n",
              "      <th>57</th>\n",
              "      <td>Bariloche</td>\n",
              "      <td>2</td>\n",
              "      <td>0.00</td>\n",
              "      <td>99.96</td>\n",
              "    </tr>\n",
              "    <tr>\n",
              "      <th>58</th>\n",
              "      <td>Cataratas Iguacu</td>\n",
              "      <td>2</td>\n",
              "      <td>0.00</td>\n",
              "      <td>99.96</td>\n",
              "    </tr>\n",
              "    <tr>\n",
              "      <th>59</th>\n",
              "      <td>Cochabamba</td>\n",
              "      <td>1</td>\n",
              "      <td>0.00</td>\n",
              "      <td>99.96</td>\n",
              "    </tr>\n",
              "    <tr>\n",
              "      <th>60</th>\n",
              "      <td>Curitiba, Bra.</td>\n",
              "      <td>3</td>\n",
              "      <td>0.00</td>\n",
              "      <td>99.96</td>\n",
              "    </tr>\n",
              "    <tr>\n",
              "      <th>61</th>\n",
              "      <td>Washington</td>\n",
              "      <td>1</td>\n",
              "      <td>0.00</td>\n",
              "      <td>99.96</td>\n",
              "    </tr>\n",
              "  </tbody>\n",
              "</table>\n",
              "<p>62 rows × 4 columns</p>\n",
              "</div>\n",
              "      <button class=\"colab-df-convert\" onclick=\"convertToInteractive('df-415425eb-c126-484f-8616-c3ba66894be0')\"\n",
              "              title=\"Convert this dataframe to an interactive table.\"\n",
              "              style=\"display:none;\">\n",
              "        \n",
              "  <svg xmlns=\"http://www.w3.org/2000/svg\" height=\"24px\"viewBox=\"0 0 24 24\"\n",
              "       width=\"24px\">\n",
              "    <path d=\"M0 0h24v24H0V0z\" fill=\"none\"/>\n",
              "    <path d=\"M18.56 5.44l.94 2.06.94-2.06 2.06-.94-2.06-.94-.94-2.06-.94 2.06-2.06.94zm-11 1L8.5 8.5l.94-2.06 2.06-.94-2.06-.94L8.5 2.5l-.94 2.06-2.06.94zm10 10l.94 2.06.94-2.06 2.06-.94-2.06-.94-.94-2.06-.94 2.06-2.06.94z\"/><path d=\"M17.41 7.96l-1.37-1.37c-.4-.4-.92-.59-1.43-.59-.52 0-1.04.2-1.43.59L10.3 9.45l-7.72 7.72c-.78.78-.78 2.05 0 2.83L4 21.41c.39.39.9.59 1.41.59.51 0 1.02-.2 1.41-.59l7.78-7.78 2.81-2.81c.8-.78.8-2.07 0-2.86zM5.41 20L4 18.59l7.72-7.72 1.47 1.35L5.41 20z\"/>\n",
              "  </svg>\n",
              "      </button>\n",
              "      \n",
              "  <style>\n",
              "    .colab-df-container {\n",
              "      display:flex;\n",
              "      flex-wrap:wrap;\n",
              "      gap: 12px;\n",
              "    }\n",
              "\n",
              "    .colab-df-convert {\n",
              "      background-color: #E8F0FE;\n",
              "      border: none;\n",
              "      border-radius: 50%;\n",
              "      cursor: pointer;\n",
              "      display: none;\n",
              "      fill: #1967D2;\n",
              "      height: 32px;\n",
              "      padding: 0 0 0 0;\n",
              "      width: 32px;\n",
              "    }\n",
              "\n",
              "    .colab-df-convert:hover {\n",
              "      background-color: #E2EBFA;\n",
              "      box-shadow: 0px 1px 2px rgba(60, 64, 67, 0.3), 0px 1px 3px 1px rgba(60, 64, 67, 0.15);\n",
              "      fill: #174EA6;\n",
              "    }\n",
              "\n",
              "    [theme=dark] .colab-df-convert {\n",
              "      background-color: #3B4455;\n",
              "      fill: #D2E3FC;\n",
              "    }\n",
              "\n",
              "    [theme=dark] .colab-df-convert:hover {\n",
              "      background-color: #434B5C;\n",
              "      box-shadow: 0px 1px 3px 1px rgba(0, 0, 0, 0.15);\n",
              "      filter: drop-shadow(0px 1px 2px rgba(0, 0, 0, 0.3));\n",
              "      fill: #FFFFFF;\n",
              "    }\n",
              "  </style>\n",
              "\n",
              "      <script>\n",
              "        const buttonEl =\n",
              "          document.querySelector('#df-415425eb-c126-484f-8616-c3ba66894be0 button.colab-df-convert');\n",
              "        buttonEl.style.display =\n",
              "          google.colab.kernel.accessAllowed ? 'block' : 'none';\n",
              "\n",
              "        async function convertToInteractive(key) {\n",
              "          const element = document.querySelector('#df-415425eb-c126-484f-8616-c3ba66894be0');\n",
              "          const dataTable =\n",
              "            await google.colab.kernel.invokeFunction('convertToInteractive',\n",
              "                                                     [key], {});\n",
              "          if (!dataTable) return;\n",
              "\n",
              "          const docLinkHtml = 'Like what you see? Visit the ' +\n",
              "            '<a target=\"_blank\" href=https://colab.research.google.com/notebooks/data_table.ipynb>data table notebook</a>'\n",
              "            + ' to learn more about interactive tables.';\n",
              "          element.innerHTML = '';\n",
              "          dataTable['output_type'] = 'display_data';\n",
              "          await google.colab.output.renderOutput(dataTable, element);\n",
              "          const docLink = document.createElement('div');\n",
              "          docLink.innerHTML = docLinkHtml;\n",
              "          element.appendChild(docLink);\n",
              "        }\n",
              "      </script>\n",
              "    </div>\n",
              "  </div>\n",
              "  "
            ]
          },
          "metadata": {},
          "execution_count": 14
        }
      ]
    },
    {
      "cell_type": "code",
      "source": [
        "plot_distribucion(df_agregacion_destino, 10, 20)"
      ],
      "metadata": {
        "id": "NufO9YF2f5br",
        "outputId": "b430e9fe-b9ac-466e-cbb5-ef6bc2df3e9b",
        "colab": {
          "base_uri": "https://localhost:8080/",
          "height": 1000
        }
      },
      "execution_count": 15,
      "outputs": [
        {
          "output_type": "display_data",
          "data": {
            "text/plain": [
              "<Figure size 720x1440 with 1 Axes>"
            ],
            "image/png": "[encoded data removed]"
          },
          "metadata": {
            "needs_background": "light"
          }
        }
      ]
    },
    {
      "cell_type": "markdown",
      "source": [
        "### ---> Distribución por aerolínea"
      ],
      "metadata": {
        "id": "Vz1ucuhnbbcS"
      }
    },
    {
      "cell_type": "markdown",
      "source": [
        "Con relación a las aerolíneas podemos encontrar que 2 aerolíneas de las 23 reportadas constituyen cerca del 80% de la totalidad de los vuelos reportados para el periodo, y cerca del 60% corresponden únicamente al Grupo LATAM. Existe una drástica  diferencia entre la cantidad de vuelos para las diferentes aerolíneas. En la sección 3 se presenta una discusión más detallada en relación con la tasa de retrasos para las distintas aerolíneas."
      ],
      "metadata": {
        "id": "ivrMBuBwoPWm"
      }
    },
    {
      "cell_type": "code",
      "source": [
        "df_agregacion_aerolinea = dataframe_agregacion(df_raw,'OPERA')\n",
        "df_agregacion_aerolinea"
      ],
      "metadata": {
        "id": "25ji6zoVW5nl",
        "outputId": "32b7a2fa-f859-40d5-b8e7-2b98774c06f5",
        "colab": {
          "base_uri": "https://localhost:8080/",
          "height": 770
        }
      },
      "execution_count": 16,
      "outputs": [
        {
          "output_type": "execute_result",
          "data": {
            "text/plain": [
              "                       OPERA  vuelos  porcentaje_vuelos  porcentaje_acumulado\n",
              "0                Grupo LATAM   40892              59.95                 59.95\n",
              "1                Sky Airline   14298              20.96                 80.91\n",
              "2      Aerolineas Argentinas    1949               2.86                 83.77\n",
              "3                   Copa Air    1850               2.71                 86.48\n",
              "4       Latin American Wings    1674               2.45                 88.93\n",
              "5                    Avianca    1152               1.69                 90.62\n",
              "6               JetSmart SPA    1095               1.61                 92.23\n",
              "7                  Gol Trans     806               1.18                 93.41\n",
              "8          American Airlines     757               1.11                 94.52\n",
              "9                 Air Canada     565               0.83                 95.35\n",
              "10                    Iberia     362               0.53                 95.88\n",
              "11                 Delta Air     358               0.52                 96.40\n",
              "12                Air France     358               0.52                 96.92\n",
              "13                Aeromexico     351               0.51                 97.43\n",
              "14           United Airlines     335               0.49                 97.92\n",
              "15    Oceanair Linhas Aereas     279               0.41                 98.33\n",
              "16                  Alitalia     259               0.38                 98.71\n",
              "17                    K.L.M.     251               0.37                 99.08\n",
              "18           British Airways     205               0.30                 99.38\n",
              "19            Qantas Airways     195               0.29                 99.67\n",
              "20                     Lacsa      92               0.13                 99.80\n",
              "21                   Austral      74               0.11                 99.91\n",
              "22  Plus Ultra Lineas Aereas      49               0.07                 99.98"
            ],
            "text/html": [
              "\n",
              "  <div id=\"df-c47e83c9-320f-45ee-8749-b78bdf11cf4d\">\n",
              "    <div class=\"colab-df-container\">\n",
              "      <div>\n",
              "<style scoped>\n",
              "    .dataframe tbody tr th:only-of-type {\n",
              "        vertical-align: middle;\n",
              "    }\n",
              "\n",
              "    .dataframe tbody tr th {\n",
              "        vertical-align: top;\n",
              "    }\n",
              "\n",
              "    .dataframe thead th {\n",
              "        text-align: right;\n",
              "    }\n",
              "</style>\n",
              "<table border=\"1\" class=\"dataframe\">\n",
              "  <thead>\n",
              "    <tr style=\"text-align: right;\">\n",
              "      <th></th>\n",
              "      <th>OPERA</th>\n",
              "      <th>vuelos</th>\n",
              "      <th>porcentaje_vuelos</th>\n",
              "      <th>porcentaje_acumulado</th>\n",
              "    </tr>\n",
              "  </thead>\n",
              "  <tbody>\n",
              "    <tr>\n",
              "      <th>0</th>\n",
              "      <td>Grupo LATAM</td>\n",
              "      <td>40892</td>\n",
              "      <td>59.95</td>\n",
              "      <td>59.95</td>\n",
              "    </tr>\n",
              "    <tr>\n",
              "      <th>1</th>\n",
              "      <td>Sky Airline</td>\n",
              "      <td>14298</td>\n",
              "      <td>20.96</td>\n",
              "      <td>80.91</td>\n",
              "    </tr>\n",
              "    <tr>\n",
              "      <th>2</th>\n",
              "      <td>Aerolineas Argentinas</td>\n",
              "      <td>1949</td>\n",
              "      <td>2.86</td>\n",
              "      <td>83.77</td>\n",
              "    </tr>\n",
              "    <tr>\n",
              "      <th>3</th>\n",
              "      <td>Copa Air</td>\n",
              "      <td>1850</td>\n",
              "      <td>2.71</td>\n",
              "      <td>86.48</td>\n",
              "    </tr>\n",
              "    <tr>\n",
              "      <th>4</th>\n",
              "      <td>Latin American Wings</td>\n",
              "      <td>1674</td>\n",
              "      <td>2.45</td>\n",
              "      <td>88.93</td>\n",
              "    </tr>\n",
              "    <tr>\n",
              "      <th>5</th>\n",
              "      <td>Avianca</td>\n",
              "      <td>1152</td>\n",
              "      <td>1.69</td>\n",
              "      <td>90.62</td>\n",
              "    </tr>\n",
              "    <tr>\n",
              "      <th>6</th>\n",
              "      <td>JetSmart SPA</td>\n",
              "      <td>1095</td>\n",
              "      <td>1.61</td>\n",
              "      <td>92.23</td>\n",
              "    </tr>\n",
              "    <tr>\n",
              "      <th>7</th>\n",
              "      <td>Gol Trans</td>\n",
              "      <td>806</td>\n",
              "      <td>1.18</td>\n",
              "      <td>93.41</td>\n",
              "    </tr>\n",
              "    <tr>\n",
              "      <th>8</th>\n",
              "      <td>American Airlines</td>\n",
              "      <td>757</td>\n",
              "      <td>1.11</td>\n",
              "      <td>94.52</td>\n",
              "    </tr>\n",
              "    <tr>\n",
              "      <th>9</th>\n",
              "      <td>Air Canada</td>\n",
              "      <td>565</td>\n",
              "      <td>0.83</td>\n",
              "      <td>95.35</td>\n",
              "    </tr>\n",
              "    <tr>\n",
              "      <th>10</th>\n",
              "      <td>Iberia</td>\n",
              "      <td>362</td>\n",
              "      <td>0.53</td>\n",
              "      <td>95.88</td>\n",
              "    </tr>\n",
              "    <tr>\n",
              "      <th>11</th>\n",
              "      <td>Delta Air</td>\n",
              "      <td>358</td>\n",
              "      <td>0.52</td>\n",
              "      <td>96.40</td>\n",
              "    </tr>\n",
              "    <tr>\n",
              "      <th>12</th>\n",
              "      <td>Air France</td>\n",
              "      <td>358</td>\n",
              "      <td>0.52</td>\n",
              "      <td>96.92</td>\n",
              "    </tr>\n",
              "    <tr>\n",
              "      <th>13</th>\n",
              "      <td>Aeromexico</td>\n",
              "      <td>351</td>\n",
              "      <td>0.51</td>\n",
              "      <td>97.43</td>\n",
              "    </tr>\n",
              "    <tr>\n",
              "      <th>14</th>\n",
              "      <td>United Airlines</td>\n",
              "      <td>335</td>\n",
              "      <td>0.49</td>\n",
              "      <td>97.92</td>\n",
              "    </tr>\n",
              "    <tr>\n",
              "      <th>15</th>\n",
              "      <td>Oceanair Linhas Aereas</td>\n",
              "      <td>279</td>\n",
              "      <td>0.41</td>\n",
              "      <td>98.33</td>\n",
              "    </tr>\n",
              "    <tr>\n",
              "      <th>16</th>\n",
              "      <td>Alitalia</td>\n",
              "      <td>259</td>\n",
              "      <td>0.38</td>\n",
              "      <td>98.71</td>\n",
              "    </tr>\n",
              "    <tr>\n",
              "      <th>17</th>\n",
              "      <td>K.L.M.</td>\n",
              "      <td>251</td>\n",
              "      <td>0.37</td>\n",
              "      <td>99.08</td>\n",
              "    </tr>\n",
              "    <tr>\n",
              "      <th>18</th>\n",
              "      <td>British Airways</td>\n",
              "      <td>205</td>\n",
              "      <td>0.30</td>\n",
              "      <td>99.38</td>\n",
              "    </tr>\n",
              "    <tr>\n",
              "      <th>19</th>\n",
              "      <td>Qantas Airways</td>\n",
              "      <td>195</td>\n",
              "      <td>0.29</td>\n",
              "      <td>99.67</td>\n",
              "    </tr>\n",
              "    <tr>\n",
              "      <th>20</th>\n",
              "      <td>Lacsa</td>\n",
              "      <td>92</td>\n",
              "      <td>0.13</td>\n",
              "      <td>99.80</td>\n",
              "    </tr>\n",
              "    <tr>\n",
              "      <th>21</th>\n",
              "      <td>Austral</td>\n",
              "      <td>74</td>\n",
              "      <td>0.11</td>\n",
              "      <td>99.91</td>\n",
              "    </tr>\n",
              "    <tr>\n",
              "      <th>22</th>\n",
              "      <td>Plus Ultra Lineas Aereas</td>\n",
              "      <td>49</td>\n",
              "      <td>0.07</td>\n",
              "      <td>99.98</td>\n",
              "    </tr>\n",
              "  </tbody>\n",
              "</table>\n",
              "</div>\n",
              "      <button class=\"colab-df-convert\" onclick=\"convertToInteractive('df-c47e83c9-320f-45ee-8749-b78bdf11cf4d')\"\n",
              "              title=\"Convert this dataframe to an interactive table.\"\n",
              "              style=\"display:none;\">\n",
              "        \n",
              "  <svg xmlns=\"http://www.w3.org/2000/svg\" height=\"24px\"viewBox=\"0 0 24 24\"\n",
              "       width=\"24px\">\n",
              "    <path d=\"M0 0h24v24H0V0z\" fill=\"none\"/>\n",
              "    <path d=\"M18.56 5.44l.94 2.06.94-2.06 2.06-.94-2.06-.94-.94-2.06-.94 2.06-2.06.94zm-11 1L8.5 8.5l.94-2.06 2.06-.94-2.06-.94L8.5 2.5l-.94 2.06-2.06.94zm10 10l.94 2.06.94-2.06 2.06-.94-2.06-.94-.94-2.06-.94 2.06-2.06.94z\"/><path d=\"M17.41 7.96l-1.37-1.37c-.4-.4-.92-.59-1.43-.59-.52 0-1.04.2-1.43.59L10.3 9.45l-7.72 7.72c-.78.78-.78 2.05 0 2.83L4 21.41c.39.39.9.59 1.41.59.51 0 1.02-.2 1.41-.59l7.78-7.78 2.81-2.81c.8-.78.8-2.07 0-2.86zM5.41 20L4 18.59l7.72-7.72 1.47 1.35L5.41 20z\"/>\n",
              "  </svg>\n",
              "      </button>\n",
              "      \n",
              "  <style>\n",
              "    .colab-df-container {\n",
              "      display:flex;\n",
              "      flex-wrap:wrap;\n",
              "      gap: 12px;\n",
              "    }\n",
              "\n",
              "    .colab-df-convert {\n",
              "      background-color: #E8F0FE;\n",
              "      border: none;\n",
              "      border-radius: 50%;\n",
              "      cursor: pointer;\n",
              "      display: none;\n",
              "      fill: #1967D2;\n",
              "      height: 32px;\n",
              "      padding: 0 0 0 0;\n",
              "      width: 32px;\n",
              "    }\n",
              "\n",
              "    .colab-df-convert:hover {\n",
              "      background-color: #E2EBFA;\n",
              "      box-shadow: 0px 1px 2px rgba(60, 64, 67, 0.3), 0px 1px 3px 1px rgba(60, 64, 67, 0.15);\n",
              "      fill: #174EA6;\n",
              "    }\n",
              "\n",
              "    [theme=dark] .colab-df-convert {\n",
              "      background-color: #3B4455;\n",
              "      fill: #D2E3FC;\n",
              "    }\n",
              "\n",
              "    [theme=dark] .colab-df-convert:hover {\n",
              "      background-color: #434B5C;\n",
              "      box-shadow: 0px 1px 3px 1px rgba(0, 0, 0, 0.15);\n",
              "      filter: drop-shadow(0px 1px 2px rgba(0, 0, 0, 0.3));\n",
              "      fill: #FFFFFF;\n",
              "    }\n",
              "  </style>\n",
              "\n",
              "      <script>\n",
              "        const buttonEl =\n",
              "          document.querySelector('#df-c47e83c9-320f-45ee-8749-b78bdf11cf4d button.colab-df-convert');\n",
              "        buttonEl.style.display =\n",
              "          google.colab.kernel.accessAllowed ? 'block' : 'none';\n",
              "\n",
              "        async function convertToInteractive(key) {\n",
              "          const element = document.querySelector('#df-c47e83c9-320f-45ee-8749-b78bdf11cf4d');\n",
              "          const dataTable =\n",
              "            await google.colab.kernel.invokeFunction('convertToInteractive',\n",
              "                                                     [key], {});\n",
              "          if (!dataTable) return;\n",
              "\n",
              "          const docLinkHtml = 'Like what you see? Visit the ' +\n",
              "            '<a target=\"_blank\" href=https://colab.research.google.com/notebooks/data_table.ipynb>data table notebook</a>'\n",
              "            + ' to learn more about interactive tables.';\n",
              "          element.innerHTML = '';\n",
              "          dataTable['output_type'] = 'display_data';\n",
              "          await google.colab.output.renderOutput(dataTable, element);\n",
              "          const docLink = document.createElement('div');\n",
              "          docLink.innerHTML = docLinkHtml;\n",
              "          element.appendChild(docLink);\n",
              "        }\n",
              "      </script>\n",
              "    </div>\n",
              "  </div>\n",
              "  "
            ]
          },
          "metadata": {},
          "execution_count": 16
        }
      ]
    },
    {
      "cell_type": "code",
      "source": [
        "plot_distribucion(df_agregacion_aerolinea, 10, 10)"
      ],
      "metadata": {
        "id": "K0idBZWgi4nO",
        "outputId": "b9baca55-b9a9-4271-9f93-da1c60e24e8a",
        "colab": {
          "base_uri": "https://localhost:8080/",
          "height": 606
        }
      },
      "execution_count": 17,
      "outputs": [
        {
          "output_type": "display_data",
          "data": {
            "text/plain": [
              "<Figure size 720x720 with 1 Axes>"
            ],
            "image/png": "[encoded data removed]"
          },
          "metadata": {
            "needs_background": "light"
          }
        }
      ]
    },
    {
      "cell_type": "markdown",
      "source": [
        "### ---> Distribución por mes del año"
      ],
      "metadata": {
        "id": "axe23aK_bgC-"
      }
    },
    {
      "cell_type": "markdown",
      "source": [
        "Con relación al mes del año encontramos que si bien existe incremento en los valores en el último trimestre del año y en meses de temporada alta, esta variación no es tan drástica como en los subgrupos descritos en las subsecciones anteriores."
      ],
      "metadata": {
        "id": "1VDkGBxzquBg"
      }
    },
    {
      "cell_type": "code",
      "source": [
        "df_agregacion_MES = dataframe_agregacion(df_raw,'MES')\n",
        "df_agregacion_MES"
      ],
      "metadata": {
        "id": "fuVG5_1Pbev7",
        "outputId": "2e321af7-d811-4ad6-c051-0e1a3246d1bd",
        "colab": {
          "base_uri": "https://localhost:8080/",
          "height": 425
        }
      },
      "execution_count": 18,
      "outputs": [
        {
          "output_type": "execute_result",
          "data": {
            "text/plain": [
              "   MES  vuelos  porcentaje_vuelos  porcentaje_acumulado\n",
              "0   12    6356               9.32                  9.32\n",
              "1    1    6108               8.96                 18.28\n",
              "2   11    6080               8.91                 27.19\n",
              "3   10    6032               8.84                 36.03\n",
              "4    7    5992               8.79                 44.82\n",
              "5    8    5744               8.42                 53.24\n",
              "6    9    5610               8.23                 61.47\n",
              "7    2    5561               8.15                 69.62\n",
              "8    3    5482               8.04                 77.66\n",
              "9    5    5240               7.68                 85.34\n",
              "10   4    5020               7.36                 92.70\n",
              "11   6    4981               7.30                100.00"
            ],
            "text/html": [
              "\n",
              "  <div id=\"df-5a0c0be2-f62e-4c2e-96af-5c03d513e135\">\n",
              "    <div class=\"colab-df-container\">\n",
              "      <div>\n",
              "<style scoped>\n",
              "    .dataframe tbody tr th:only-of-type {\n",
              "        vertical-align: middle;\n",
              "    }\n",
              "\n",
              "    .dataframe tbody tr th {\n",
              "        vertical-align: top;\n",
              "    }\n",
              "\n",
              "    .dataframe thead th {\n",
              "        text-align: right;\n",
              "    }\n",
              "</style>\n",
              "<table border=\"1\" class=\"dataframe\">\n",
              "  <thead>\n",
              "    <tr style=\"text-align: right;\">\n",
              "      <th></th>\n",
              "      <th>MES</th>\n",
              "      <th>vuelos</th>\n",
              "      <th>porcentaje_vuelos</th>\n",
              "      <th>porcentaje_acumulado</th>\n",
              "    </tr>\n",
              "  </thead>\n",
              "  <tbody>\n",
              "    <tr>\n",
              "      <th>0</th>\n",
              "      <td>12</td>\n",
              "      <td>6356</td>\n",
              "      <td>9.32</td>\n",
              "      <td>9.32</td>\n",
              "    </tr>\n",
              "    <tr>\n",
              "      <th>1</th>\n",
              "      <td>1</td>\n",
              "      <td>6108</td>\n",
              "      <td>8.96</td>\n",
              "      <td>18.28</td>\n",
              "    </tr>\n",
              "    <tr>\n",
              "      <th>2</th>\n",
              "      <td>11</td>\n",
              "      <td>6080</td>\n",
              "      <td>8.91</td>\n",
              "      <td>27.19</td>\n",
              "    </tr>\n",
              "    <tr>\n",
              "      <th>3</th>\n",
              "      <td>10</td>\n",
              "      <td>6032</td>\n",
              "      <td>8.84</td>\n",
              "      <td>36.03</td>\n",
              "    </tr>\n",
              "    <tr>\n",
              "      <th>4</th>\n",
              "      <td>7</td>\n",
              "      <td>5992</td>\n",
              "      <td>8.79</td>\n",
              "      <td>44.82</td>\n",
              "    </tr>\n",
              "    <tr>\n",
              "      <th>5</th>\n",
              "      <td>8</td>\n",
              "      <td>5744</td>\n",
              "      <td>8.42</td>\n",
              "      <td>53.24</td>\n",
              "    </tr>\n",
              "    <tr>\n",
              "      <th>6</th>\n",
              "      <td>9</td>\n",
              "      <td>5610</td>\n",
              "      <td>8.23</td>\n",
              "      <td>61.47</td>\n",
              "    </tr>\n",
              "    <tr>\n",
              "      <th>7</th>\n",
              "      <td>2</td>\n",
              "      <td>5561</td>\n",
              "      <td>8.15</td>\n",
              "      <td>69.62</td>\n",
              "    </tr>\n",
              "    <tr>\n",
              "      <th>8</th>\n",
              "      <td>3</td>\n",
              "      <td>5482</td>\n",
              "      <td>8.04</td>\n",
              "      <td>77.66</td>\n",
              "    </tr>\n",
              "    <tr>\n",
              "      <th>9</th>\n",
              "      <td>5</td>\n",
              "      <td>5240</td>\n",
              "      <td>7.68</td>\n",
              "      <td>85.34</td>\n",
              "    </tr>\n",
              "    <tr>\n",
              "      <th>10</th>\n",
              "      <td>4</td>\n",
              "      <td>5020</td>\n",
              "      <td>7.36</td>\n",
              "      <td>92.70</td>\n",
              "    </tr>\n",
              "    <tr>\n",
              "      <th>11</th>\n",
              "      <td>6</td>\n",
              "      <td>4981</td>\n",
              "      <td>7.30</td>\n",
              "      <td>100.00</td>\n",
              "    </tr>\n",
              "  </tbody>\n",
              "</table>\n",
              "</div>\n",
              "      <button class=\"colab-df-convert\" onclick=\"convertToInteractive('df-5a0c0be2-f62e-4c2e-96af-5c03d513e135')\"\n",
              "              title=\"Convert this dataframe to an interactive table.\"\n",
              "              style=\"display:none;\">\n",
              "        \n",
              "  <svg xmlns=\"http://www.w3.org/2000/svg\" height=\"24px\"viewBox=\"0 0 24 24\"\n",
              "       width=\"24px\">\n",
              "    <path d=\"M0 0h24v24H0V0z\" fill=\"none\"/>\n",
              "    <path d=\"M18.56 5.44l.94 2.06.94-2.06 2.06-.94-2.06-.94-.94-2.06-.94 2.06-2.06.94zm-11 1L8.5 8.5l.94-2.06 2.06-.94-2.06-.94L8.5 2.5l-.94 2.06-2.06.94zm10 10l.94 2.06.94-2.06 2.06-.94-2.06-.94-.94-2.06-.94 2.06-2.06.94z\"/><path d=\"M17.41 7.96l-1.37-1.37c-.4-.4-.92-.59-1.43-.59-.52 0-1.04.2-1.43.59L10.3 9.45l-7.72 7.72c-.78.78-.78 2.05 0 2.83L4 21.41c.39.39.9.59 1.41.59.51 0 1.02-.2 1.41-.59l7.78-7.78 2.81-2.81c.8-.78.8-2.07 0-2.86zM5.41 20L4 18.59l7.72-7.72 1.47 1.35L5.41 20z\"/>\n",
              "  </svg>\n",
              "      </button>\n",
              "      \n",
              "  <style>\n",
              "    .colab-df-container {\n",
              "      display:flex;\n",
              "      flex-wrap:wrap;\n",
              "      gap: 12px;\n",
              "    }\n",
              "\n",
              "    .colab-df-convert {\n",
              "      background-color: #E8F0FE;\n",
              "      border: none;\n",
              "      border-radius: 50%;\n",
              "      cursor: pointer;\n",
              "      display: none;\n",
              "      fill: #1967D2;\n",
              "      height: 32px;\n",
              "      padding: 0 0 0 0;\n",
              "      width: 32px;\n",
              "    }\n",
              "\n",
              "    .colab-df-convert:hover {\n",
              "      background-color: #E2EBFA;\n",
              "      box-shadow: 0px 1px 2px rgba(60, 64, 67, 0.3), 0px 1px 3px 1px rgba(60, 64, 67, 0.15);\n",
              "      fill: #174EA6;\n",
              "    }\n",
              "\n",
              "    [theme=dark] .colab-df-convert {\n",
              "      background-color: #3B4455;\n",
              "      fill: #D2E3FC;\n",
              "    }\n",
              "\n",
              "    [theme=dark] .colab-df-convert:hover {\n",
              "      background-color: #434B5C;\n",
              "      box-shadow: 0px 1px 3px 1px rgba(0, 0, 0, 0.15);\n",
              "      filter: drop-shadow(0px 1px 2px rgba(0, 0, 0, 0.3));\n",
              "      fill: #FFFFFF;\n",
              "    }\n",
              "  </style>\n",
              "\n",
              "      <script>\n",
              "        const buttonEl =\n",
              "          document.querySelector('#df-5a0c0be2-f62e-4c2e-96af-5c03d513e135 button.colab-df-convert');\n",
              "        buttonEl.style.display =\n",
              "          google.colab.kernel.accessAllowed ? 'block' : 'none';\n",
              "\n",
              "        async function convertToInteractive(key) {\n",
              "          const element = document.querySelector('#df-5a0c0be2-f62e-4c2e-96af-5c03d513e135');\n",
              "          const dataTable =\n",
              "            await google.colab.kernel.invokeFunction('convertToInteractive',\n",
              "                                                     [key], {});\n",
              "          if (!dataTable) return;\n",
              "\n",
              "          const docLinkHtml = 'Like what you see? Visit the ' +\n",
              "            '<a target=\"_blank\" href=https://colab.research.google.com/notebooks/data_table.ipynb>data table notebook</a>'\n",
              "            + ' to learn more about interactive tables.';\n",
              "          element.innerHTML = '';\n",
              "          dataTable['output_type'] = 'display_data';\n",
              "          await google.colab.output.renderOutput(dataTable, element);\n",
              "          const docLink = document.createElement('div');\n",
              "          docLink.innerHTML = docLinkHtml;\n",
              "          element.appendChild(docLink);\n",
              "        }\n",
              "      </script>\n",
              "    </div>\n",
              "  </div>\n",
              "  "
            ]
          },
          "metadata": {},
          "execution_count": 18
        }
      ]
    },
    {
      "cell_type": "code",
      "source": [
        "plot_distribucion(df_agregacion_MES, 10, 5)"
      ],
      "metadata": {
        "id": "xGlkeR-OgAeI",
        "outputId": "62f44671-1d00-440f-d182-2c3fa283e7de",
        "colab": {
          "base_uri": "https://localhost:8080/",
          "height": 334
        }
      },
      "execution_count": 19,
      "outputs": [
        {
          "output_type": "display_data",
          "data": {
            "text/plain": [
              "<Figure size 720x360 with 1 Axes>"
            ],
            "image/png": "[encoded data removed]"
          },
          "metadata": {
            "needs_background": "light"
          }
        }
      ]
    },
    {
      "cell_type": "markdown",
      "source": [
        "### ---> Distribución por día de la semana"
      ],
      "metadata": {
        "id": "_RD8MmhAbqFv"
      }
    },
    {
      "cell_type": "markdown",
      "source": [
        "En relación al día de la semana destaca el hecho de que los días sábados se presente una reducción aproximada del 20% respectos la media de cualquier otro día de semana. Es posible que se deba a que las personas viajan ya sea antes del fin de semana para disfrutarlo o finalizando para regresar de su destino."
      ],
      "metadata": {
        "id": "g2KqG72fq1tY"
      }
    },
    {
      "cell_type": "code",
      "source": [
        "df_agregacion_dia_semana = dataframe_agregacion(df_raw,'DIANOM')\n",
        "df_agregacion_dia_semana"
      ],
      "metadata": {
        "id": "PG6rAYFGbzX2",
        "outputId": "bc0f3415-b19d-4aa3-82cf-792da8c1a459",
        "colab": {
          "base_uri": "https://localhost:8080/",
          "height": 269
        }
      },
      "execution_count": 20,
      "outputs": [
        {
          "output_type": "execute_result",
          "data": {
            "text/plain": [
              "      DIANOM  vuelos  porcentaje_vuelos  porcentaje_acumulado\n",
              "0    Viernes   10292              15.09                 15.09\n",
              "1     Jueves   10251              15.03                 30.12\n",
              "2      Lunes   10131              14.85                 44.97\n",
              "3    Domingo    9796              14.36                 59.33\n",
              "4  Miercoles    9722              14.25                 73.58\n",
              "5     Martes    9662              14.17                 87.75\n",
              "6     Sabado    8352              12.25                100.00"
            ],
            "text/html": [
              "\n",
              "  <div id=\"df-ccbf19fb-4d02-44bb-9799-2f9f0e29cab5\">\n",
              "    <div class=\"colab-df-container\">\n",
              "      <div>\n",
              "<style scoped>\n",
              "    .dataframe tbody tr th:only-of-type {\n",
              "        vertical-align: middle;\n",
              "    }\n",
              "\n",
              "    .dataframe tbody tr th {\n",
              "        vertical-align: top;\n",
              "    }\n",
              "\n",
              "    .dataframe thead th {\n",
              "        text-align: right;\n",
              "    }\n",
              "</style>\n",
              "<table border=\"1\" class=\"dataframe\">\n",
              "  <thead>\n",
              "    <tr style=\"text-align: right;\">\n",
              "      <th></th>\n",
              "      <th>DIANOM</th>\n",
              "      <th>vuelos</th>\n",
              "      <th>porcentaje_vuelos</th>\n",
              "      <th>porcentaje_acumulado</th>\n",
              "    </tr>\n",
              "  </thead>\n",
              "  <tbody>\n",
              "    <tr>\n",
              "      <th>0</th>\n",
              "      <td>Viernes</td>\n",
              "      <td>10292</td>\n",
              "      <td>15.09</td>\n",
              "      <td>15.09</td>\n",
              "    </tr>\n",
              "    <tr>\n",
              "      <th>1</th>\n",
              "      <td>Jueves</td>\n",
              "      <td>10251</td>\n",
              "      <td>15.03</td>\n",
              "      <td>30.12</td>\n",
              "    </tr>\n",
              "    <tr>\n",
              "      <th>2</th>\n",
              "      <td>Lunes</td>\n",
              "      <td>10131</td>\n",
              "      <td>14.85</td>\n",
              "      <td>44.97</td>\n",
              "    </tr>\n",
              "    <tr>\n",
              "      <th>3</th>\n",
              "      <td>Domingo</td>\n",
              "      <td>9796</td>\n",
              "      <td>14.36</td>\n",
              "      <td>59.33</td>\n",
              "    </tr>\n",
              "    <tr>\n",
              "      <th>4</th>\n",
              "      <td>Miercoles</td>\n",
              "      <td>9722</td>\n",
              "      <td>14.25</td>\n",
              "      <td>73.58</td>\n",
              "    </tr>\n",
              "    <tr>\n",
              "      <th>5</th>\n",
              "      <td>Martes</td>\n",
              "      <td>9662</td>\n",
              "      <td>14.17</td>\n",
              "      <td>87.75</td>\n",
              "    </tr>\n",
              "    <tr>\n",
              "      <th>6</th>\n",
              "      <td>Sabado</td>\n",
              "      <td>8352</td>\n",
              "      <td>12.25</td>\n",
              "      <td>100.00</td>\n",
              "    </tr>\n",
              "  </tbody>\n",
              "</table>\n",
              "</div>\n",
              "      <button class=\"colab-df-convert\" onclick=\"convertToInteractive('df-ccbf19fb-4d02-44bb-9799-2f9f0e29cab5')\"\n",
              "              title=\"Convert this dataframe to an interactive table.\"\n",
              "              style=\"display:none;\">\n",
              "        \n",
              "  <svg xmlns=\"http://www.w3.org/2000/svg\" height=\"24px\"viewBox=\"0 0 24 24\"\n",
              "       width=\"24px\">\n",
              "    <path d=\"M0 0h24v24H0V0z\" fill=\"none\"/>\n",
              "    <path d=\"M18.56 5.44l.94 2.06.94-2.06 2.06-.94-2.06-.94-.94-2.06-.94 2.06-2.06.94zm-11 1L8.5 8.5l.94-2.06 2.06-.94-2.06-.94L8.5 2.5l-.94 2.06-2.06.94zm10 10l.94 2.06.94-2.06 2.06-.94-2.06-.94-.94-2.06-.94 2.06-2.06.94z\"/><path d=\"M17.41 7.96l-1.37-1.37c-.4-.4-.92-.59-1.43-.59-.52 0-1.04.2-1.43.59L10.3 9.45l-7.72 7.72c-.78.78-.78 2.05 0 2.83L4 21.41c.39.39.9.59 1.41.59.51 0 1.02-.2 1.41-.59l7.78-7.78 2.81-2.81c.8-.78.8-2.07 0-2.86zM5.41 20L4 18.59l7.72-7.72 1.47 1.35L5.41 20z\"/>\n",
              "  </svg>\n",
              "      </button>\n",
              "      \n",
              "  <style>\n",
              "    .colab-df-container {\n",
              "      display:flex;\n",
              "      flex-wrap:wrap;\n",
              "      gap: 12px;\n",
              "    }\n",
              "\n",
              "    .colab-df-convert {\n",
              "      background-color: #E8F0FE;\n",
              "      border: none;\n",
              "      border-radius: 50%;\n",
              "      cursor: pointer;\n",
              "      display: none;\n",
              "      fill: #1967D2;\n",
              "      height: 32px;\n",
              "      padding: 0 0 0 0;\n",
              "      width: 32px;\n",
              "    }\n",
              "\n",
              "    .colab-df-convert:hover {\n",
              "      background-color: #E2EBFA;\n",
              "      box-shadow: 0px 1px 2px rgba(60, 64, 67, 0.3), 0px 1px 3px 1px rgba(60, 64, 67, 0.15);\n",
              "      fill: #174EA6;\n",
              "    }\n",
              "\n",
              "    [theme=dark] .colab-df-convert {\n",
              "      background-color: #3B4455;\n",
              "      fill: #D2E3FC;\n",
              "    }\n",
              "\n",
              "    [theme=dark] .colab-df-convert:hover {\n",
              "      background-color: #434B5C;\n",
              "      box-shadow: 0px 1px 3px 1px rgba(0, 0, 0, 0.15);\n",
              "      filter: drop-shadow(0px 1px 2px rgba(0, 0, 0, 0.3));\n",
              "      fill: #FFFFFF;\n",
              "    }\n",
              "  </style>\n",
              "\n",
              "      <script>\n",
              "        const buttonEl =\n",
              "          document.querySelector('#df-ccbf19fb-4d02-44bb-9799-2f9f0e29cab5 button.colab-df-convert');\n",
              "        buttonEl.style.display =\n",
              "          google.colab.kernel.accessAllowed ? 'block' : 'none';\n",
              "\n",
              "        async function convertToInteractive(key) {\n",
              "          const element = document.querySelector('#df-ccbf19fb-4d02-44bb-9799-2f9f0e29cab5');\n",
              "          const dataTable =\n",
              "            await google.colab.kernel.invokeFunction('convertToInteractive',\n",
              "                                                     [key], {});\n",
              "          if (!dataTable) return;\n",
              "\n",
              "          const docLinkHtml = 'Like what you see? Visit the ' +\n",
              "            '<a target=\"_blank\" href=https://colab.research.google.com/notebooks/data_table.ipynb>data table notebook</a>'\n",
              "            + ' to learn more about interactive tables.';\n",
              "          element.innerHTML = '';\n",
              "          dataTable['output_type'] = 'display_data';\n",
              "          await google.colab.output.renderOutput(dataTable, element);\n",
              "          const docLink = document.createElement('div');\n",
              "          docLink.innerHTML = docLinkHtml;\n",
              "          element.appendChild(docLink);\n",
              "        }\n",
              "      </script>\n",
              "    </div>\n",
              "  </div>\n",
              "  "
            ]
          },
          "metadata": {},
          "execution_count": 20
        }
      ]
    },
    {
      "cell_type": "code",
      "source": [
        "plot_distribucion(df_agregacion_dia_semana, 10, 3)"
      ],
      "metadata": {
        "id": "PvVp2551jR5s",
        "outputId": "49f466b6-e161-4da9-c67d-322448bc1886",
        "colab": {
          "base_uri": "https://localhost:8080/",
          "height": 225
        }
      },
      "execution_count": 21,
      "outputs": [
        {
          "output_type": "display_data",
          "data": {
            "text/plain": [
              "<Figure size 720x216 with 1 Axes>"
            ],
            "image/png": "[encoded data removed]"
          },
          "metadata": {
            "needs_background": "light"
          }
        }
      ]
    },
    {
      "cell_type": "markdown",
      "source": [
        "### ---> Distribución por tipo de vuelo"
      ],
      "metadata": {
        "id": "Y9qdgbkrbkeo"
      }
    },
    {
      "cell_type": "markdown",
      "source": [
        "En relación a la composición entre los vuelos nacionales e internacionales encontramos que hay una ligera diferencia inclinada mayoritariamente a los destinos nacionales. Sin embargo esa diferencia entre grupos no es tan marcada como los descritos en subsecciones anteriores."
      ],
      "metadata": {
        "id": "a1rfAYCLtNp9"
      }
    },
    {
      "cell_type": "code",
      "source": [
        "df_agregacion_tipo_vuelo = dataframe_agregacion(df_raw,'TIPOVUELO')\n",
        "df_agregacion_tipo_vuelo"
      ],
      "metadata": {
        "id": "HDJKOwNZbkL-",
        "outputId": "7627f6a2-ef0a-43bf-8f96-8c603d9df21f",
        "colab": {
          "base_uri": "https://localhost:8080/",
          "height": 112
        }
      },
      "execution_count": 22,
      "outputs": [
        {
          "output_type": "execute_result",
          "data": {
            "text/plain": [
              "  TIPOVUELO  vuelos  porcentaje_vuelos  porcentaje_acumulado\n",
              "0         N   36966               54.2                  54.2\n",
              "1         I   31240               45.8                 100.0"
            ],
            "text/html": [
              "\n",
              "  <div id=\"df-949ea50b-0567-4f1d-b23b-d4f47daaee65\">\n",
              "    <div class=\"colab-df-container\">\n",
              "      <div>\n",
              "<style scoped>\n",
              "    .dataframe tbody tr th:only-of-type {\n",
              "        vertical-align: middle;\n",
              "    }\n",
              "\n",
              "    .dataframe tbody tr th {\n",
              "        vertical-align: top;\n",
              "    }\n",
              "\n",
              "    .dataframe thead th {\n",
              "        text-align: right;\n",
              "    }\n",
              "</style>\n",
              "<table border=\"1\" class=\"dataframe\">\n",
              "  <thead>\n",
              "    <tr style=\"text-align: right;\">\n",
              "      <th></th>\n",
              "      <th>TIPOVUELO</th>\n",
              "      <th>vuelos</th>\n",
              "      <th>porcentaje_vuelos</th>\n",
              "      <th>porcentaje_acumulado</th>\n",
              "    </tr>\n",
              "  </thead>\n",
              "  <tbody>\n",
              "    <tr>\n",
              "      <th>0</th>\n",
              "      <td>N</td>\n",
              "      <td>36966</td>\n",
              "      <td>54.2</td>\n",
              "      <td>54.2</td>\n",
              "    </tr>\n",
              "    <tr>\n",
              "      <th>1</th>\n",
              "      <td>I</td>\n",
              "      <td>31240</td>\n",
              "      <td>45.8</td>\n",
              "      <td>100.0</td>\n",
              "    </tr>\n",
              "  </tbody>\n",
              "</table>\n",
              "</div>\n",
              "      <button class=\"colab-df-convert\" onclick=\"convertToInteractive('df-949ea50b-0567-4f1d-b23b-d4f47daaee65')\"\n",
              "              title=\"Convert this dataframe to an interactive table.\"\n",
              "              style=\"display:none;\">\n",
              "        \n",
              "  <svg xmlns=\"http://www.w3.org/2000/svg\" height=\"24px\"viewBox=\"0 0 24 24\"\n",
              "       width=\"24px\">\n",
              "    <path d=\"M0 0h24v24H0V0z\" fill=\"none\"/>\n",
              "    <path d=\"M18.56 5.44l.94 2.06.94-2.06 2.06-.94-2.06-.94-.94-2.06-.94 2.06-2.06.94zm-11 1L8.5 8.5l.94-2.06 2.06-.94-2.06-.94L8.5 2.5l-.94 2.06-2.06.94zm10 10l.94 2.06.94-2.06 2.06-.94-2.06-.94-.94-2.06-.94 2.06-2.06.94z\"/><path d=\"M17.41 7.96l-1.37-1.37c-.4-.4-.92-.59-1.43-.59-.52 0-1.04.2-1.43.59L10.3 9.45l-7.72 7.72c-.78.78-.78 2.05 0 2.83L4 21.41c.39.39.9.59 1.41.59.51 0 1.02-.2 1.41-.59l7.78-7.78 2.81-2.81c.8-.78.8-2.07 0-2.86zM5.41 20L4 18.59l7.72-7.72 1.47 1.35L5.41 20z\"/>\n",
              "  </svg>\n",
              "      </button>\n",
              "      \n",
              "  <style>\n",
              "    .colab-df-container {\n",
              "      display:flex;\n",
              "      flex-wrap:wrap;\n",
              "      gap: 12px;\n",
              "    }\n",
              "\n",
              "    .colab-df-convert {\n",
              "      background-color: #E8F0FE;\n",
              "      border: none;\n",
              "      border-radius: 50%;\n",
              "      cursor: pointer;\n",
              "      display: none;\n",
              "      fill: #1967D2;\n",
              "      height: 32px;\n",
              "      padding: 0 0 0 0;\n",
              "      width: 32px;\n",
              "    }\n",
              "\n",
              "    .colab-df-convert:hover {\n",
              "      background-color: #E2EBFA;\n",
              "      box-shadow: 0px 1px 2px rgba(60, 64, 67, 0.3), 0px 1px 3px 1px rgba(60, 64, 67, 0.15);\n",
              "      fill: #174EA6;\n",
              "    }\n",
              "\n",
              "    [theme=dark] .colab-df-convert {\n",
              "      background-color: #3B4455;\n",
              "      fill: #D2E3FC;\n",
              "    }\n",
              "\n",
              "    [theme=dark] .colab-df-convert:hover {\n",
              "      background-color: #434B5C;\n",
              "      box-shadow: 0px 1px 3px 1px rgba(0, 0, 0, 0.15);\n",
              "      filter: drop-shadow(0px 1px 2px rgba(0, 0, 0, 0.3));\n",
              "      fill: #FFFFFF;\n",
              "    }\n",
              "  </style>\n",
              "\n",
              "      <script>\n",
              "        const buttonEl =\n",
              "          document.querySelector('#df-949ea50b-0567-4f1d-b23b-d4f47daaee65 button.colab-df-convert');\n",
              "        buttonEl.style.display =\n",
              "          google.colab.kernel.accessAllowed ? 'block' : 'none';\n",
              "\n",
              "        async function convertToInteractive(key) {\n",
              "          const element = document.querySelector('#df-949ea50b-0567-4f1d-b23b-d4f47daaee65');\n",
              "          const dataTable =\n",
              "            await google.colab.kernel.invokeFunction('convertToInteractive',\n",
              "                                                     [key], {});\n",
              "          if (!dataTable) return;\n",
              "\n",
              "          const docLinkHtml = 'Like what you see? Visit the ' +\n",
              "            '<a target=\"_blank\" href=https://colab.research.google.com/notebooks/data_table.ipynb>data table notebook</a>'\n",
              "            + ' to learn more about interactive tables.';\n",
              "          element.innerHTML = '';\n",
              "          dataTable['output_type'] = 'display_data';\n",
              "          await google.colab.output.renderOutput(dataTable, element);\n",
              "          const docLink = document.createElement('div');\n",
              "          docLink.innerHTML = docLinkHtml;\n",
              "          element.appendChild(docLink);\n",
              "        }\n",
              "      </script>\n",
              "    </div>\n",
              "  </div>\n",
              "  "
            ]
          },
          "metadata": {},
          "execution_count": 22
        }
      ]
    },
    {
      "cell_type": "code",
      "source": [
        "plot_distribucion(df_agregacion_tipo_vuelo, 10, 2)"
      ],
      "metadata": {
        "id": "Q-O8frDxjS-9",
        "outputId": "e3f40733-57fe-440a-900c-ee4659960990",
        "colab": {
          "base_uri": "https://localhost:8080/",
          "height": 171
        }
      },
      "execution_count": 23,
      "outputs": [
        {
          "output_type": "display_data",
          "data": {
            "text/plain": [
              "<Figure size 720x144 with 1 Axes>"
            ],
            "image/png": "[encoded data removed]"
          },
          "metadata": {
            "needs_background": "light"
          }
        }
      ]
    },
    {
      "cell_type": "markdown",
      "source": [
        "# Sección 02. Generación de Columnas Adicionales\n",
        "\n",
        "En esta sección se genera un dataset denominado `synthetic_features.csv` con las columnas adicionales que dan cuenta de la temporada (alta o baja), el retraso en minutos, la etiqueta de atrasado (si o no) si el retraso es superior a 15 minutos y por último en periodo del día (mañana, tarde o noche).\n"
      ],
      "metadata": {
        "id": "f65xZgtlMQ1T"
      }
    },
    {
      "cell_type": "markdown",
      "source": [
        "### ---> Aproximación de la solución:\n",
        "Esta sección se desarrolla empleando en uso transformadores y pipelines bajo la aproximación de programación OOP. Si bien el procedimiento para un proceso de transformación simple puede prescindir de ello, la idea de esta aproximación presenta algunas ventajas:\n",
        "- **Estandarización del desarrollo:**  se pueda contar con transformadores y pipelines que estandarizan los procedimientos garantizando que se estarán haciendo de la misma manera sobre cualquier conjunto de datos. \n",
        "- **Facilita pruebas unitarias**: dado que los transformadores y pipelines cumplen con tareas específicas se pueden facilitar las pruebas unitarias sobre el desarrollo.\n",
        "- **Parametrización y agilidad en el desarrollo:** permite que el desarrollo sea fácilmente parametrizable pues cambiando únicamente las entradas de los transformadores se pueden crear nuevos pipelines para necesidades específicas."
      ],
      "metadata": {
        "id": "eRN5T9HQqaJC"
      }
    },
    {
      "cell_type": "markdown",
      "source": [
        "## 02.01. Definición de los Transformadores"
      ],
      "metadata": {
        "id": "7KejINP1f1ET"
      }
    },
    {
      "cell_type": "markdown",
      "source": [
        "### ---> FeatureSelector\n",
        "Filtra las columnas seleccionadas en el dataset de entrada."
      ],
      "metadata": {
        "id": "UAqdz-d0f8as"
      }
    },
    {
      "cell_type": "code",
      "source": [
        "class FeatureSelector(BaseEstimator, TransformerMixin):\n",
        "    \n",
        "    def __init__(self, params_FeatureSelector):\n",
        "        self.feature_names = params_FeatureSelector['feature_names'] \n",
        "    \n",
        "    def fit(self, X, y = None):\n",
        "        return self \n",
        "    \n",
        "    def transform(self, X, y = None):\n",
        "      X_output = X[self.feature_names]\n",
        "      return X_output"
      ],
      "metadata": {
        "id": "mGpzDmr_frtY"
      },
      "execution_count": 24,
      "outputs": []
    },
    {
      "cell_type": "markdown",
      "source": [
        "### ---> DateType\n",
        "Convierte a formato `datetime` las columnas seleccionadas."
      ],
      "metadata": {
        "id": "sxp3bo3rrntK"
      }
    },
    {
      "cell_type": "code",
      "source": [
        "class DateType(BaseEstimator, TransformerMixin):\n",
        "    \n",
        "    def __init__(self, params_FeatureSelector):\n",
        "        self.cols_dates = params_DateType['cols_dates'] \n",
        "    \n",
        "    def fit(self, X, y = None):\n",
        "        return self \n",
        "    \n",
        "    def transform(self, X, y = None):\n",
        "      X_output = X.copy()\n",
        "      for col in self.cols_dates:\n",
        "        X_output[col] = pd.to_datetime(X_output[col])\n",
        "      return X_output"
      ],
      "metadata": {
        "id": "oF31aOlurRm7"
      },
      "execution_count": 25,
      "outputs": []
    },
    {
      "cell_type": "markdown",
      "source": [
        "### ---> TemporadaAlta\n",
        "Crea la columna `temporada_alta` a partir de una columna de fecha que se le especifíque. \n",
        "\n",
        "EL criterio usado es: \n",
        "- temporada_alta(1): si Fecha-I está entre 15-Dic y 3-Mar, o 15-Jul y 31-Jul, o 11-Sep y 30-Sep.\n",
        "- temporada_alta(0): si es diferente a las fechas descritas en 1."
      ],
      "metadata": {
        "id": "yc2A1Uzkkx_r"
      }
    },
    {
      "cell_type": "code",
      "source": [
        "class TemporadaAlta(BaseEstimator, TransformerMixin):\n",
        "    \n",
        "    def __init__(self, params_TemporadaAlta):\n",
        "        self.columna_fecha = params_TemporadaAlta['columna_fecha'] \n",
        "    \n",
        "    def fit(self, X, y = None):\n",
        "        return self\n",
        "\n",
        "    def fun_temporada_alta(self, fecha):\n",
        "      mes = fecha.month\n",
        "      dia = fecha.day\n",
        "      if (mes == 12 and dia >= 15) or \\\n",
        "      (mes in [1, 2]) or \\\n",
        "      (mes == 3 and dia <= 3) or \\\n",
        "      (mes == 7 and (dia >= 15 and dia <= 31)) or \\\n",
        "      (mes == 9 and (dia >= 11 and dia <= 30)):\n",
        "          return 1\n",
        "      else:\n",
        "          return 0\n",
        "    \n",
        "    def transform(self, X, y = None):\n",
        "      X_output = X.copy()\n",
        "      X_output['temporada_alta'] = X_output[self.columna_fecha].apply(self.fun_temporada_alta)\n",
        "      return X_output"
      ],
      "metadata": {
        "id": "YcNiTxRAkOfh"
      },
      "execution_count": 26,
      "outputs": []
    },
    {
      "cell_type": "markdown",
      "source": [
        "### ---> DifMin\n",
        "Crea la columna `dif_min` que es la diferencia en minutos entre Fecha-O y Fecha-I. Básicamante el tiempo en minutos que se retraso el vuelo."
      ],
      "metadata": {
        "id": "Kfhptw5uqOms"
      }
    },
    {
      "cell_type": "code",
      "source": [
        "class DifMin(BaseEstimator, TransformerMixin):\n",
        "    \n",
        "    def __init__(self, params_DifMin):\n",
        "        self.empty = params_DifMin \n",
        "    \n",
        "    def fit(self, X, y = None):\n",
        "        return self\n",
        "    \n",
        "    def transform(self, X, y = None):\n",
        "      X_output = X.copy()\n",
        "      X_output['dif_min'] = (X_output['Fecha-O']-X_output['Fecha-I'])/pd.Timedelta(minutes=1)\n",
        "      return X_output"
      ],
      "metadata": {
        "id": "N4kime5nqG-W"
      },
      "execution_count": 27,
      "outputs": []
    },
    {
      "cell_type": "markdown",
      "source": [
        "### ---> Atraso15\n",
        "Crea la columna `atraso_15` a partir de una columna `dif_min`. Esta columna es la que servirá como target en nuestro modelo de clasificación.\n",
        "\n",
        "EL criterio usado es: \n",
        "- temporada_alta(1): si dif_min > 15\n",
        "- temporada_alta(0): si dif_min <= 15"
      ],
      "metadata": {
        "id": "N4_9yX1KyizR"
      }
    },
    {
      "cell_type": "code",
      "source": [
        "class Atraso15(BaseEstimator, TransformerMixin):\n",
        "    \n",
        "    def __init__(self, params_Atraso15):\n",
        "        self.empty = params_Atraso15 \n",
        "    \n",
        "    def fit(self, X, y = None):\n",
        "        return self\n",
        "    \n",
        "    def transform(self, X, y = None):\n",
        "      X_output = X.copy()\n",
        "      X_output['atraso_15'] = (X_output['dif_min'] > 15).astype(int)\n",
        "      return X_output"
      ],
      "metadata": {
        "id": "iG9KDF49x7ei"
      },
      "execution_count": 28,
      "outputs": []
    },
    {
      "cell_type": "markdown",
      "source": [
        "### ---> PeriodoDia\n",
        "Crea la columna `periodo_dia` a partir de una columna de fecha que se le especifíque. \n",
        "\n",
        "EL criterio usado es: \n",
        "- periodo_dia(mañana): entre 5:00 y 11:59 hrs.\n",
        "- periodo_dia(tarde): entre 12:00 y 18:59 hrs.\n",
        "- periodo_dia(noche): entre 19:00 y 4:59 hrs.\n",
        "\n"
      ],
      "metadata": {
        "id": "JH-5LDzUvTIz"
      }
    },
    {
      "cell_type": "code",
      "source": [
        "class PeriodoDia(BaseEstimator, TransformerMixin):\n",
        "    \n",
        "    def __init__(self, params_PeriodoDia):\n",
        "        self.columna_fecha = params_PeriodoDia['columna_fecha'] \n",
        "    \n",
        "    def fit(self, X, y = None):\n",
        "        return self\n",
        "\n",
        "    def fun_periodo_dia(self, fecha):\n",
        "      hora = fecha.hour\n",
        "      if hora >= 5 and hora <= 11:\n",
        "          return 'mañana'\n",
        "      elif hora >= 12 and hora <= 18:\n",
        "          return 'tarde'\n",
        "      else:\n",
        "          return 'noche'\n",
        "    \n",
        "    def transform(self, X, y = None):\n",
        "      X_output = X.copy()\n",
        "      X_output['periodo_dia'] = X_output[self.columna_fecha].apply(self.fun_periodo_dia)\n",
        "      return X_output"
      ],
      "metadata": {
        "id": "fGO9TlPBvSpY"
      },
      "execution_count": 29,
      "outputs": []
    },
    {
      "cell_type": "markdown",
      "source": [
        "### ---> OrderOutput\n",
        "Filtra las columnas seleccionadas en el dataset de entrada. Lo usamos para obtener las columnas que deseamos en el dataset de salida."
      ],
      "metadata": {
        "id": "hPx8sfpI1rOn"
      }
    },
    {
      "cell_type": "code",
      "source": [
        "class OrderOutput(BaseEstimator, TransformerMixin):\n",
        "    \n",
        "    def __init__(self, params_OrderOutput):\n",
        "        self.feature_names = params_OrderOutput['feature_names'] \n",
        "    \n",
        "    def fit(self, X, y = None):\n",
        "        return self \n",
        "    \n",
        "    def transform(self, X, y = None):\n",
        "      X_output = X[self.feature_names]\n",
        "      return X_output"
      ],
      "metadata": {
        "id": "RQp6t_0OvQ7o"
      },
      "execution_count": 30,
      "outputs": []
    },
    {
      "cell_type": "markdown",
      "source": [
        "## 02.02. Definición de Pipeline"
      ],
      "metadata": {
        "id": "mQ8rq9T8gKSD"
      }
    },
    {
      "cell_type": "markdown",
      "source": [
        "### ---> Parámetros de los transformadores\n",
        "Definimos cada uno de los parámetros de entrada que deben tener los transformadores para nuestro pipeline."
      ],
      "metadata": {
        "id": "0OIi1r9ogX8Y"
      }
    },
    {
      "cell_type": "code",
      "source": [
        "params_FeatureSelector = {}\n",
        "params_FeatureSelector['feature_names']= ['Fecha-I', \n",
        "                                          'Des-I',\n",
        "                                          'Emp-I', \n",
        "                                          'TIPOVUELO', \n",
        "                                          'Fecha-O',\n",
        "                                         ]\n",
        "\n",
        "params_DateType = {}\n",
        "params_DateType['cols_dates']= ['Fecha-I', 'Fecha-O']\n",
        "\n",
        "params_TemporadaAlta = {}\n",
        "params_TemporadaAlta['columna_fecha']= 'Fecha-I'\n",
        "\n",
        "params_DifMin = {}\n",
        "\n",
        "params_Atraso15 = params_DifMin\n",
        "\n",
        "params_PeriodoDia = params_TemporadaAlta\n",
        "\n",
        "params_OrderOutput = {}\n",
        "params_OrderOutput['feature_names']= ['temporada_alta',\n",
        "                                      'dif_min',\n",
        "                                      'atraso_15',\t\n",
        "                                      'periodo_dia'\n",
        "                                         ]"
      ],
      "metadata": {
        "id": "1KivIP0zfrrU"
      },
      "execution_count": 31,
      "outputs": []
    },
    {
      "cell_type": "markdown",
      "source": [
        "### ---> Instanciamiento de los Transformadores"
      ],
      "metadata": {
        "id": "7tZGTkRJgUXc"
      }
    },
    {
      "cell_type": "markdown",
      "source": [
        "Instanciamos nuestros transformadores."
      ],
      "metadata": {
        "id": "x7e6RerCldb_"
      }
    },
    {
      "cell_type": "code",
      "source": [
        "Transformer_FeatureSelector = FeatureSelector(params_FeatureSelector)\n",
        "Transformer_DateType = DateType(params_DateType)\n",
        "Transformer_TemporadaAlta = TemporadaAlta(params_TemporadaAlta)\n",
        "Transformer_DifMin = DifMin(params_DifMin)\n",
        "Transformer_Atraso15 = Atraso15(params_Atraso15)\n",
        "Transformer_PeriodoDia = PeriodoDia(params_PeriodoDia)\n",
        "Transformer_OrderOutput = OrderOutput(params_OrderOutput)"
      ],
      "metadata": {
        "id": "kFrAuO8Rfrpc"
      },
      "execution_count": 32,
      "outputs": []
    },
    {
      "cell_type": "markdown",
      "source": [
        "### ---> Instanciamiento del Pipeline\n",
        "Instanciamos el pipeline que dará origen al dataset `synthetic_features.csv`."
      ],
      "metadata": {
        "id": "oM-mq2y0gbxQ"
      }
    },
    {
      "cell_type": "code",
      "source": [
        "pipeline_synthetic_features = Pipeline(steps=[('NameFeatureSelector', Transformer_FeatureSelector),\n",
        "                              ('NameDateType', Transformer_DateType),\n",
        "                              ('NameTemporadaAlta', Transformer_TemporadaAlta),\n",
        "                              ('NameDifMin', Transformer_DifMin),\n",
        "                              ('NameDateAtraso15', Transformer_Atraso15),\n",
        "                              ('NamePeriodoDia', Transformer_PeriodoDia),\n",
        "                              ('NameOrderOutput', Transformer_OrderOutput)\n",
        "                              ])"
      ],
      "metadata": {
        "id": "Ui94hQ_bfrlR"
      },
      "execution_count": 33,
      "outputs": []
    },
    {
      "cell_type": "markdown",
      "source": [
        "## 02.03. Generación del dataframe solicitado\n",
        "Generamos el dataset solicitado con las 4 columnas y lo almacenamos. Esta dataset posteriormente se mueve y queda almacenado en el folder `data` del repositorio principal.\n",
        "\n",
        "**Supuesto**: se asume que se desean únicamente las 4 columnas descritas en este archivo. Si se desearan otras adicionales solo se deberían cambiar los parámetros de los transformadores FeatureSelector y OrderOutput."
      ],
      "metadata": {
        "id": "s0Vi2eO_gpes"
      }
    },
    {
      "cell_type": "code",
      "source": [
        "df_synthetic_features = pipeline_synthetic_features.transform(df_raw)\n",
        "df_synthetic_features"
      ],
      "metadata": {
        "colab": {
          "base_uri": "https://localhost:8080/",
          "height": 423
        },
        "id": "-62AsiUqfu6h",
        "outputId": "16f95257-b26a-4c66-8382-9a8667c4c182"
      },
      "execution_count": 34,
      "outputs": [
        {
          "output_type": "execute_result",
          "data": {
            "text/plain": [
              "       temporada_alta  dif_min  atraso_15 periodo_dia\n",
              "0                   1      3.0          0       noche\n",
              "1                   1      9.0          0       noche\n",
              "2                   1      9.0          0       noche\n",
              "3                   1      3.0          0       noche\n",
              "4                   1     -2.0          0       noche\n",
              "...               ...      ...        ...         ...\n",
              "68201               1     46.0          1       tarde\n",
              "68202               1     16.0          1       tarde\n",
              "68203               1     40.0          1       tarde\n",
              "68204               1     13.0          0       tarde\n",
              "68205               1      9.0          0       tarde\n",
              "\n",
              "[68206 rows x 4 columns]"
            ],
            "text/html": [
              "\n",
              "  <div id=\"df-9231a5ed-4cb3-4f76-8865-b53716e77cb9\">\n",
              "    <div class=\"colab-df-container\">\n",
              "      <div>\n",
              "<style scoped>\n",
              "    .dataframe tbody tr th:only-of-type {\n",
              "        vertical-align: middle;\n",
              "    }\n",
              "\n",
              "    .dataframe tbody tr th {\n",
              "        vertical-align: top;\n",
              "    }\n",
              "\n",
              "    .dataframe thead th {\n",
              "        text-align: right;\n",
              "    }\n",
              "</style>\n",
              "<table border=\"1\" class=\"dataframe\">\n",
              "  <thead>\n",
              "    <tr style=\"text-align: right;\">\n",
              "      <th></th>\n",
              "      <th>temporada_alta</th>\n",
              "      <th>dif_min</th>\n",
              "      <th>atraso_15</th>\n",
              "      <th>periodo_dia</th>\n",
              "    </tr>\n",
              "  </thead>\n",
              "  <tbody>\n",
              "    <tr>\n",
              "      <th>0</th>\n",
              "      <td>1</td>\n",
              "      <td>3.0</td>\n",
              "      <td>0</td>\n",
              "      <td>noche</td>\n",
              "    </tr>\n",
              "    <tr>\n",
              "      <th>1</th>\n",
              "      <td>1</td>\n",
              "      <td>9.0</td>\n",
              "      <td>0</td>\n",
              "      <td>noche</td>\n",
              "    </tr>\n",
              "    <tr>\n",
              "      <th>2</th>\n",
              "      <td>1</td>\n",
              "      <td>9.0</td>\n",
              "      <td>0</td>\n",
              "      <td>noche</td>\n",
              "    </tr>\n",
              "    <tr>\n",
              "      <th>3</th>\n",
              "      <td>1</td>\n",
              "      <td>3.0</td>\n",
              "      <td>0</td>\n",
              "      <td>noche</td>\n",
              "    </tr>\n",
              "    <tr>\n",
              "      <th>4</th>\n",
              "      <td>1</td>\n",
              "      <td>-2.0</td>\n",
              "      <td>0</td>\n",
              "      <td>noche</td>\n",
              "    </tr>\n",
              "    <tr>\n",
              "      <th>...</th>\n",
              "      <td>...</td>\n",
              "      <td>...</td>\n",
              "      <td>...</td>\n",
              "      <td>...</td>\n",
              "    </tr>\n",
              "    <tr>\n",
              "      <th>68201</th>\n",
              "      <td>1</td>\n",
              "      <td>46.0</td>\n",
              "      <td>1</td>\n",
              "      <td>tarde</td>\n",
              "    </tr>\n",
              "    <tr>\n",
              "      <th>68202</th>\n",
              "      <td>1</td>\n",
              "      <td>16.0</td>\n",
              "      <td>1</td>\n",
              "      <td>tarde</td>\n",
              "    </tr>\n",
              "    <tr>\n",
              "      <th>68203</th>\n",
              "      <td>1</td>\n",
              "      <td>40.0</td>\n",
              "      <td>1</td>\n",
              "      <td>tarde</td>\n",
              "    </tr>\n",
              "    <tr>\n",
              "      <th>68204</th>\n",
              "      <td>1</td>\n",
              "      <td>13.0</td>\n",
              "      <td>0</td>\n",
              "      <td>tarde</td>\n",
              "    </tr>\n",
              "    <tr>\n",
              "      <th>68205</th>\n",
              "      <td>1</td>\n",
              "      <td>9.0</td>\n",
              "      <td>0</td>\n",
              "      <td>tarde</td>\n",
              "    </tr>\n",
              "  </tbody>\n",
              "</table>\n",
              "<p>68206 rows × 4 columns</p>\n",
              "</div>\n",
              "      <button class=\"colab-df-convert\" onclick=\"convertToInteractive('df-9231a5ed-4cb3-4f76-8865-b53716e77cb9')\"\n",
              "              title=\"Convert this dataframe to an interactive table.\"\n",
              "              style=\"display:none;\">\n",
              "        \n",
              "  <svg xmlns=\"http://www.w3.org/2000/svg\" height=\"24px\"viewBox=\"0 0 24 24\"\n",
              "       width=\"24px\">\n",
              "    <path d=\"M0 0h24v24H0V0z\" fill=\"none\"/>\n",
              "    <path d=\"M18.56 5.44l.94 2.06.94-2.06 2.06-.94-2.06-.94-.94-2.06-.94 2.06-2.06.94zm-11 1L8.5 8.5l.94-2.06 2.06-.94-2.06-.94L8.5 2.5l-.94 2.06-2.06.94zm10 10l.94 2.06.94-2.06 2.06-.94-2.06-.94-.94-2.06-.94 2.06-2.06.94z\"/><path d=\"M17.41 7.96l-1.37-1.37c-.4-.4-.92-.59-1.43-.59-.52 0-1.04.2-1.43.59L10.3 9.45l-7.72 7.72c-.78.78-.78 2.05 0 2.83L4 21.41c.39.39.9.59 1.41.59.51 0 1.02-.2 1.41-.59l7.78-7.78 2.81-2.81c.8-.78.8-2.07 0-2.86zM5.41 20L4 18.59l7.72-7.72 1.47 1.35L5.41 20z\"/>\n",
              "  </svg>\n",
              "      </button>\n",
              "      \n",
              "  <style>\n",
              "    .colab-df-container {\n",
              "      display:flex;\n",
              "      flex-wrap:wrap;\n",
              "      gap: 12px;\n",
              "    }\n",
              "\n",
              "    .colab-df-convert {\n",
              "      background-color: #E8F0FE;\n",
              "      border: none;\n",
              "      border-radius: 50%;\n",
              "      cursor: pointer;\n",
              "      display: none;\n",
              "      fill: #1967D2;\n",
              "      height: 32px;\n",
              "      padding: 0 0 0 0;\n",
              "      width: 32px;\n",
              "    }\n",
              "\n",
              "    .colab-df-convert:hover {\n",
              "      background-color: #E2EBFA;\n",
              "      box-shadow: 0px 1px 2px rgba(60, 64, 67, 0.3), 0px 1px 3px 1px rgba(60, 64, 67, 0.15);\n",
              "      fill: #174EA6;\n",
              "    }\n",
              "\n",
              "    [theme=dark] .colab-df-convert {\n",
              "      background-color: #3B4455;\n",
              "      fill: #D2E3FC;\n",
              "    }\n",
              "\n",
              "    [theme=dark] .colab-df-convert:hover {\n",
              "      background-color: #434B5C;\n",
              "      box-shadow: 0px 1px 3px 1px rgba(0, 0, 0, 0.15);\n",
              "      filter: drop-shadow(0px 1px 2px rgba(0, 0, 0, 0.3));\n",
              "      fill: #FFFFFF;\n",
              "    }\n",
              "  </style>\n",
              "\n",
              "      <script>\n",
              "        const buttonEl =\n",
              "          document.querySelector('#df-9231a5ed-4cb3-4f76-8865-b53716e77cb9 button.colab-df-convert');\n",
              "        buttonEl.style.display =\n",
              "          google.colab.kernel.accessAllowed ? 'block' : 'none';\n",
              "\n",
              "        async function convertToInteractive(key) {\n",
              "          const element = document.querySelector('#df-9231a5ed-4cb3-4f76-8865-b53716e77cb9');\n",
              "          const dataTable =\n",
              "            await google.colab.kernel.invokeFunction('convertToInteractive',\n",
              "                                                     [key], {});\n",
              "          if (!dataTable) return;\n",
              "\n",
              "          const docLinkHtml = 'Like what you see? Visit the ' +\n",
              "            '<a target=\"_blank\" href=https://colab.research.google.com/notebooks/data_table.ipynb>data table notebook</a>'\n",
              "            + ' to learn more about interactive tables.';\n",
              "          element.innerHTML = '';\n",
              "          dataTable['output_type'] = 'display_data';\n",
              "          await google.colab.output.renderOutput(dataTable, element);\n",
              "          const docLink = document.createElement('div');\n",
              "          docLink.innerHTML = docLinkHtml;\n",
              "          element.appendChild(docLink);\n",
              "        }\n",
              "      </script>\n",
              "    </div>\n",
              "  </div>\n",
              "  "
            ]
          },
          "metadata": {},
          "execution_count": 34
        }
      ]
    },
    {
      "cell_type": "code",
      "source": [
        "df_synthetic_features.to_csv('synthetic_features.csv', index=False)"
      ],
      "metadata": {
        "id": "5eEB7PESnWOs"
      },
      "execution_count": 35,
      "outputs": []
    },
    {
      "cell_type": "markdown",
      "source": [
        "# Sección 03. Composición de la tasa de atraso"
      ],
      "metadata": {
        "id": "pWJZe_HSPiAN"
      }
    },
    {
      "cell_type": "markdown",
      "source": [
        "En la presente sección se describe la relación entre la variable de retraso y las variables destino, aerolínea, mes del año, día de la semana, temporada y tipo de vuelo. Para cada una de las variables hay una pequeña discución de los elementos mas relevantes que presentan sus distribuciiones, y en el numeral final de la sección se discuten cuáles son las que se estima pueden presentar mayor relevancia en el modelo. "
      ],
      "metadata": {
        "id": "x7mwV92Vaxj2"
      }
    },
    {
      "cell_type": "markdown",
      "source": [
        "### ---> Aproximación de la solución:\n",
        "Esta sección se presentan para cada una de las variables descritas una tabla con las siguientes variables:\n",
        "- `porcentaje_vuelos_con_atraso`: porcentaje de vuelos dentro del grupo de interes que presentaron retraso. \n",
        "- `porcentaje_vuelos_sin_atraso`: porcentaje de vuelos dentro del grupo de interes que no presentaron retraso.\n",
        "- `vuelos_con_atraso`: cantidad de vuelos dentro del grupo de interes que presentaron retraso.\n",
        "- `vuelos_sin_atraso`: cantidad de vuelos dentro del grupo de interes que no presentaron retraso.\n",
        "\n",
        "A su vez, tambien se presentan 2 gráficos para cada una de las variables: \n",
        "- `Gráfico izquierdo (absoluto por grupo)`: presenta la cantidad de vuelos (totales, sin atraso y con atraso) organizados descendentemente en relación con el grupo que mayores atrasos presenta. Es decir permite evidenciar en cantidad, cuales son los grupos que de manera absoluta que más aportan a los retrasos.\n",
        "- `Grafico derecho (relativo por grupo)`: presenta de manera porcentual la taza de vuelos con y sin retraso para cada uno de los grupos. Esta organizado descendentemente acorde al grupo que mayor porcentaje de retraso presenta. Nos permite evidenciar intpendientemente de la cantidad de vuelos cual es grupo presentas más retrasos de manera porcentual.\n",
        "\n"
      ],
      "metadata": {
        "id": "Vfwz8vCva_L1"
      }
    },
    {
      "cell_type": "markdown",
      "source": [
        "### ---> Dataset preparado para el numeral:"
      ],
      "metadata": {
        "id": "-KWpr6TEfx-V"
      }
    },
    {
      "cell_type": "code",
      "source": [
        "columnas_interes = ['SIGLADES','OPERA', 'MES', 'DIANOM', 'temporada_alta', 'TIPOVUELO', 'atraso_15']\n",
        "df_atraso = pd.concat([df_raw, df_synthetic_features], axis=1)[columnas_interes]\n",
        "df_atraso['temporada_alta'] = df_atraso['temporada_alta'].astype(str)\n",
        "df_atraso"
      ],
      "metadata": {
        "id": "JNCVf92ieYct",
        "colab": {
          "base_uri": "https://localhost:8080/",
          "height": 423
        },
        "outputId": "647d220c-9046-4827-8bbd-ec64730d6b2c"
      },
      "execution_count": 36,
      "outputs": [
        {
          "output_type": "execute_result",
          "data": {
            "text/plain": [
              "      SIGLADES              OPERA MES     DIANOM temporada_alta TIPOVUELO  \\\n",
              "0        Miami  American Airlines   1    Domingo              1         I   \n",
              "1        Miami  American Airlines   1      Lunes              1         I   \n",
              "2        Miami  American Airlines   1     Martes              1         I   \n",
              "3        Miami  American Airlines   1  Miercoles              1         I   \n",
              "4        Miami  American Airlines   1     Jueves              1         I   \n",
              "...        ...                ...  ..        ...            ...       ...   \n",
              "68201     Lima       JetSmart SPA  12    Viernes              1         I   \n",
              "68202     Lima       JetSmart SPA  12      Lunes              1         I   \n",
              "68203     Lima       JetSmart SPA  12  Miercoles              1         I   \n",
              "68204     Lima       JetSmart SPA  12    Viernes              1         I   \n",
              "68205     Lima       JetSmart SPA  12    Domingo              1         I   \n",
              "\n",
              "       atraso_15  \n",
              "0              0  \n",
              "1              0  \n",
              "2              0  \n",
              "3              0  \n",
              "4              0  \n",
              "...          ...  \n",
              "68201          1  \n",
              "68202          1  \n",
              "68203          1  \n",
              "68204          0  \n",
              "68205          0  \n",
              "\n",
              "[68206 rows x 7 columns]"
            ],
            "text/html": [
              "\n",
              "  <div id=\"df-b1a6aa41-b41f-4fed-953f-f2dcf9c1c75b\">\n",
              "    <div class=\"colab-df-container\">\n",
              "      <div>\n",
              "<style scoped>\n",
              "    .dataframe tbody tr th:only-of-type {\n",
              "        vertical-align: middle;\n",
              "    }\n",
              "\n",
              "    .dataframe tbody tr th {\n",
              "        vertical-align: top;\n",
              "    }\n",
              "\n",
              "    .dataframe thead th {\n",
              "        text-align: right;\n",
              "    }\n",
              "</style>\n",
              "<table border=\"1\" class=\"dataframe\">\n",
              "  <thead>\n",
              "    <tr style=\"text-align: right;\">\n",
              "      <th></th>\n",
              "      <th>SIGLADES</th>\n",
              "      <th>OPERA</th>\n",
              "      <th>MES</th>\n",
              "      <th>DIANOM</th>\n",
              "      <th>temporada_alta</th>\n",
              "      <th>TIPOVUELO</th>\n",
              "      <th>atraso_15</th>\n",
              "    </tr>\n",
              "  </thead>\n",
              "  <tbody>\n",
              "    <tr>\n",
              "      <th>0</th>\n",
              "      <td>Miami</td>\n",
              "      <td>American Airlines</td>\n",
              "      <td>1</td>\n",
              "      <td>Domingo</td>\n",
              "      <td>1</td>\n",
              "      <td>I</td>\n",
              "      <td>0</td>\n",
              "    </tr>\n",
              "    <tr>\n",
              "      <th>1</th>\n",
              "      <td>Miami</td>\n",
              "      <td>American Airlines</td>\n",
              "      <td>1</td>\n",
              "      <td>Lunes</td>\n",
              "      <td>1</td>\n",
              "      <td>I</td>\n",
              "      <td>0</td>\n",
              "    </tr>\n",
              "    <tr>\n",
              "      <th>2</th>\n",
              "      <td>Miami</td>\n",
              "      <td>American Airlines</td>\n",
              "      <td>1</td>\n",
              "      <td>Martes</td>\n",
              "      <td>1</td>\n",
              "      <td>I</td>\n",
              "      <td>0</td>\n",
              "    </tr>\n",
              "    <tr>\n",
              "      <th>3</th>\n",
              "      <td>Miami</td>\n",
              "      <td>American Airlines</td>\n",
              "      <td>1</td>\n",
              "      <td>Miercoles</td>\n",
              "      <td>1</td>\n",
              "      <td>I</td>\n",
              "      <td>0</td>\n",
              "    </tr>\n",
              "    <tr>\n",
              "      <th>4</th>\n",
              "      <td>Miami</td>\n",
              "      <td>American Airlines</td>\n",
              "      <td>1</td>\n",
              "      <td>Jueves</td>\n",
              "      <td>1</td>\n",
              "      <td>I</td>\n",
              "      <td>0</td>\n",
              "    </tr>\n",
              "    <tr>\n",
              "      <th>...</th>\n",
              "      <td>...</td>\n",
              "      <td>...</td>\n",
              "      <td>...</td>\n",
              "      <td>...</td>\n",
              "      <td>...</td>\n",
              "      <td>...</td>\n",
              "      <td>...</td>\n",
              "    </tr>\n",
              "    <tr>\n",
              "      <th>68201</th>\n",
              "      <td>Lima</td>\n",
              "      <td>JetSmart SPA</td>\n",
              "      <td>12</td>\n",
              "      <td>Viernes</td>\n",
              "      <td>1</td>\n",
              "      <td>I</td>\n",
              "      <td>1</td>\n",
              "    </tr>\n",
              "    <tr>\n",
              "      <th>68202</th>\n",
              "      <td>Lima</td>\n",
              "      <td>JetSmart SPA</td>\n",
              "      <td>12</td>\n",
              "      <td>Lunes</td>\n",
              "      <td>1</td>\n",
              "      <td>I</td>\n",
              "      <td>1</td>\n",
              "    </tr>\n",
              "    <tr>\n",
              "      <th>68203</th>\n",
              "      <td>Lima</td>\n",
              "      <td>JetSmart SPA</td>\n",
              "      <td>12</td>\n",
              "      <td>Miercoles</td>\n",
              "      <td>1</td>\n",
              "      <td>I</td>\n",
              "      <td>1</td>\n",
              "    </tr>\n",
              "    <tr>\n",
              "      <th>68204</th>\n",
              "      <td>Lima</td>\n",
              "      <td>JetSmart SPA</td>\n",
              "      <td>12</td>\n",
              "      <td>Viernes</td>\n",
              "      <td>1</td>\n",
              "      <td>I</td>\n",
              "      <td>0</td>\n",
              "    </tr>\n",
              "    <tr>\n",
              "      <th>68205</th>\n",
              "      <td>Lima</td>\n",
              "      <td>JetSmart SPA</td>\n",
              "      <td>12</td>\n",
              "      <td>Domingo</td>\n",
              "      <td>1</td>\n",
              "      <td>I</td>\n",
              "      <td>0</td>\n",
              "    </tr>\n",
              "  </tbody>\n",
              "</table>\n",
              "<p>68206 rows × 7 columns</p>\n",
              "</div>\n",
              "      <button class=\"colab-df-convert\" onclick=\"convertToInteractive('df-b1a6aa41-b41f-4fed-953f-f2dcf9c1c75b')\"\n",
              "              title=\"Convert this dataframe to an interactive table.\"\n",
              "              style=\"display:none;\">\n",
              "        \n",
              "  <svg xmlns=\"http://www.w3.org/2000/svg\" height=\"24px\"viewBox=\"0 0 24 24\"\n",
              "       width=\"24px\">\n",
              "    <path d=\"M0 0h24v24H0V0z\" fill=\"none\"/>\n",
              "    <path d=\"M18.56 5.44l.94 2.06.94-2.06 2.06-.94-2.06-.94-.94-2.06-.94 2.06-2.06.94zm-11 1L8.5 8.5l.94-2.06 2.06-.94-2.06-.94L8.5 2.5l-.94 2.06-2.06.94zm10 10l.94 2.06.94-2.06 2.06-.94-2.06-.94-.94-2.06-.94 2.06-2.06.94z\"/><path d=\"M17.41 7.96l-1.37-1.37c-.4-.4-.92-.59-1.43-.59-.52 0-1.04.2-1.43.59L10.3 9.45l-7.72 7.72c-.78.78-.78 2.05 0 2.83L4 21.41c.39.39.9.59 1.41.59.51 0 1.02-.2 1.41-.59l7.78-7.78 2.81-2.81c.8-.78.8-2.07 0-2.86zM5.41 20L4 18.59l7.72-7.72 1.47 1.35L5.41 20z\"/>\n",
              "  </svg>\n",
              "      </button>\n",
              "      \n",
              "  <style>\n",
              "    .colab-df-container {\n",
              "      display:flex;\n",
              "      flex-wrap:wrap;\n",
              "      gap: 12px;\n",
              "    }\n",
              "\n",
              "    .colab-df-convert {\n",
              "      background-color: #E8F0FE;\n",
              "      border: none;\n",
              "      border-radius: 50%;\n",
              "      cursor: pointer;\n",
              "      display: none;\n",
              "      fill: #1967D2;\n",
              "      height: 32px;\n",
              "      padding: 0 0 0 0;\n",
              "      width: 32px;\n",
              "    }\n",
              "\n",
              "    .colab-df-convert:hover {\n",
              "      background-color: #E2EBFA;\n",
              "      box-shadow: 0px 1px 2px rgba(60, 64, 67, 0.3), 0px 1px 3px 1px rgba(60, 64, 67, 0.15);\n",
              "      fill: #174EA6;\n",
              "    }\n",
              "\n",
              "    [theme=dark] .colab-df-convert {\n",
              "      background-color: #3B4455;\n",
              "      fill: #D2E3FC;\n",
              "    }\n",
              "\n",
              "    [theme=dark] .colab-df-convert:hover {\n",
              "      background-color: #434B5C;\n",
              "      box-shadow: 0px 1px 3px 1px rgba(0, 0, 0, 0.15);\n",
              "      filter: drop-shadow(0px 1px 2px rgba(0, 0, 0, 0.3));\n",
              "      fill: #FFFFFF;\n",
              "    }\n",
              "  </style>\n",
              "\n",
              "      <script>\n",
              "        const buttonEl =\n",
              "          document.querySelector('#df-b1a6aa41-b41f-4fed-953f-f2dcf9c1c75b button.colab-df-convert');\n",
              "        buttonEl.style.display =\n",
              "          google.colab.kernel.accessAllowed ? 'block' : 'none';\n",
              "\n",
              "        async function convertToInteractive(key) {\n",
              "          const element = document.querySelector('#df-b1a6aa41-b41f-4fed-953f-f2dcf9c1c75b');\n",
              "          const dataTable =\n",
              "            await google.colab.kernel.invokeFunction('convertToInteractive',\n",
              "                                                     [key], {});\n",
              "          if (!dataTable) return;\n",
              "\n",
              "          const docLinkHtml = 'Like what you see? Visit the ' +\n",
              "            '<a target=\"_blank\" href=https://colab.research.google.com/notebooks/data_table.ipynb>data table notebook</a>'\n",
              "            + ' to learn more about interactive tables.';\n",
              "          element.innerHTML = '';\n",
              "          dataTable['output_type'] = 'display_data';\n",
              "          await google.colab.output.renderOutput(dataTable, element);\n",
              "          const docLink = document.createElement('div');\n",
              "          docLink.innerHTML = docLinkHtml;\n",
              "          element.appendChild(docLink);\n",
              "        }\n",
              "      </script>\n",
              "    </div>\n",
              "  </div>\n",
              "  "
            ]
          },
          "metadata": {},
          "execution_count": 36
        }
      ]
    },
    {
      "cell_type": "markdown",
      "source": [
        "### ---> Funciones para la generación de la tabla y gráficos del numeral:"
      ],
      "metadata": {
        "id": "XAV5EwfJgDu0"
      }
    },
    {
      "cell_type": "code",
      "source": [
        "def dataframe_atraso_por(df_atraso, col_interes):\n",
        "  df_output = df_atraso.groupby([col_interes], as_index=False).\\\n",
        "                            agg(porcentaje_vuelos_con_atraso = ('atraso_15', lambda x: round(100*(x == 1).sum()/x.count(),2)),\n",
        "                                porcentaje_vuelos_sin_atraso = ('atraso_15', lambda x: round(100*(x == 0).sum()/x.count(),2)),\n",
        "                                vuelos_con_atraso = ('atraso_15', lambda x: (x == 1).sum()), \n",
        "                                vuelos_sin_atraso = ('atraso_15', lambda x: (x == 0).sum()),\n",
        "                                vuelos_total=('atraso_15', 'count'),\n",
        "                                ).\\\n",
        "                            sort_values(by=[col_interes], ascending=[True])\n",
        "\n",
        "  return df_output"
      ],
      "metadata": {
        "id": "470fOIVNi9H3"
      },
      "execution_count": 37,
      "outputs": []
    },
    {
      "cell_type": "code",
      "source": [
        "def plot_absoluto_porcentual(df_atraso_por_destino, col_interes, width, length):\n",
        "\n",
        "  order_absoluto = list(df_atraso_por_destino.sort_values(by=['vuelos_con_atraso'], ascending=[False])[col_interes])\n",
        "  order_porcentual = list(df_atraso_por_destino.sort_values(by=['porcentaje_vuelos_con_atraso'], ascending=[False])[col_interes])\n",
        "\n",
        "  fig, axs = plt.subplots(nrows=1, ncols=2, sharey=False)\n",
        "  fig.set_size_inches(width, length)\n",
        "  fig.subplots_adjust(wspace=0.5)\n",
        "\n",
        "  # Grafico derecho: Absoluto\n",
        "  sns.set_color_codes(\"pastel\")\n",
        "  sns.barplot(ax=axs[0], x=\"vuelos_total\", y=col_interes, data=df_atraso_por_destino,\n",
        "              label=\"Total\", color=\"g\", order=order_absoluto)\n",
        "\n",
        "  sns.set_color_codes(\"muted\")\n",
        "  sns.barplot(ax=axs[0], x=\"vuelos_sin_atraso\", y=col_interes, data=df_atraso_por_destino,\n",
        "              label=\"vuelos_sin_atraso\", color=\"b\", order=order_absoluto )\n",
        "\n",
        "  sns.barplot(ax=axs[0], x=\"vuelos_con_atraso\", y=col_interes, data=df_atraso_por_destino,\n",
        "              label=\"vuelos_con_atraso\", color=\"r\", order=order_absoluto)\n",
        "\n",
        "  axs[0].legend(ncol=3, loc=\"upper right\", bbox_to_anchor=(1,1.05), frameon=True)\n",
        "  axs[0].set_xlabel(\"Cantidad de vuelos\")\n",
        "  axs[0].set_ylabel(\"\")\n",
        "\n",
        "  # Grafico derecho: Porcentual\n",
        "  sns.set_color_codes(\"muted\")\n",
        "  sns.barplot(ax=axs[1], x=\"porcentaje_vuelos_sin_atraso\", y=col_interes, data=df_atraso_por_destino,\n",
        "              label=\"porcentaje_vuelos_sin_atraso\", color=\"b\", order=order_porcentual, alpha=0.7)\n",
        "\n",
        "  sns.barplot(ax=axs[1], x=\"porcentaje_vuelos_con_atraso\", y=col_interes, data=df_atraso_por_destino,\n",
        "              label=\"porcentaje_vuelos_con_atraso\", color=\"r\", order=order_porcentual, alpha=0.7)\n",
        "\n",
        "  axs[1].legend(ncol=2, loc=\"upper right\", bbox_to_anchor=(1,1.05), frameon=True)\n",
        "  axs[1].set_xlabel(\"Porcentaje\")\n",
        "  axs[1].set_ylabel(\"\")\n",
        "  axs[1].set_xlim(0, 100)\n",
        "\n",
        "  plt.show()"
      ],
      "metadata": {
        "id": "k5y9F27d3lMj"
      },
      "execution_count": 38,
      "outputs": []
    },
    {
      "cell_type": "markdown",
      "source": [
        "## 03.01. Tasa de atraso por destino"
      ],
      "metadata": {
        "id": "cezlcgpdiGjX"
      }
    },
    {
      "cell_type": "markdown",
      "source": [
        "Principales hallazgos:\n",
        "- Existe una diferencia importante en los valores absolutos para cada uno de los destinos (una fracción pequeña de destino vuelos, representa una cantidad importante de la totalidad de los vuelos). \n",
        "- De manera general que los destinos que mayor tasa absoluta de retraso presentan, son los que presentan al mismo tiempo una mayor cantidad total de vuelos.\n",
        "- Sin embargo, si evaluamos porcentualmente cuales son los destinos que presentan mayores retrasos porcentuales, estos no corresponden de manera general con los que de manera absoluta presentan las mayores retrasos.\n",
        "\n",
        "\n",
        "Posible tratamiento para los datos y para el problema de negocio:\n",
        "- Acorde al problema de negocio los 2 frentes son problemáticos: tanto las rutas que presentan de manera absoluta muchas retrasos, aunque tengan muchos vuelos, así como las rutas que aunque tengan pocas retrasos (quiza aun mas molesto para los usuarios, porque aun con pocos vuelos los retrasos son muy frecuentes). \n",
        "- Un posible criterio para atender este problema es fijar un umbral a partir de un percentil (Q3 por ejemplo) a partir del cual deban priorizar la atención para los vuelos que superen el umbral ya sea de manera relativa o absoluta. \n",
        "\n",
        "Posible tratamiento de los datos para el modelo:\n",
        "- Si se quisiera reducir la cardinalidad de esta variable (dada la gran cantidad de destinos) podrían analizarse diferentes criterios de agregación. El de la distribución por percentiles puede ser uno de ellos, pero debería explorarse con mayor detalle en caso de que sea necesario.\n",
        "\n",
        "**Nota:** todos los valores descritos de manera general podrian cálcularse en detalle en caso de ser necesario. Por el alcance y tiempo de la prueba no se desarrollan con mayor detalle."
      ],
      "metadata": {
        "id": "J5MifM3iiELA"
      }
    },
    {
      "cell_type": "code",
      "source": [
        "df_atraso_por_destino = dataframe_atraso_por(df_atraso, 'SIGLADES')\n",
        "df_atraso_por_destino"
      ],
      "metadata": {
        "id": "V-W1NS7wkBwU",
        "colab": {
          "base_uri": "https://localhost:8080/",
          "height": 423
        },
        "outputId": "6a236e88-1089-4bbf-9432-3c18adfe185d"
      },
      "execution_count": 39,
      "outputs": [
        {
          "output_type": "execute_result",
          "data": {
            "text/plain": [
              "         SIGLADES  porcentaje_vuelos_con_atraso  porcentaje_vuelos_sin_atraso  \\\n",
              "0     Antofagasta                         14.64                         85.36   \n",
              "1           Arica                         13.55                         86.45   \n",
              "2        Asuncion                         28.45                         71.55   \n",
              "3         Atlanta                          5.87                         94.13   \n",
              "4   Auckland N.Z.                         37.40                         62.60   \n",
              "..            ...                           ...                           ...   \n",
              "57        Toronto                         31.45                         68.55   \n",
              "58        Tucuman                         26.32                         73.68   \n",
              "59         Ushuia                         66.67                         33.33   \n",
              "60       Valdivia                         15.54                         84.46   \n",
              "61     Washington                          0.00                        100.00   \n",
              "\n",
              "    vuelos_con_atraso  vuelos_sin_atraso  vuelos_total  \n",
              "0                 847               4939          5786  \n",
              "1                 330               2106          2436  \n",
              "2                  66                166           232  \n",
              "3                  21                337           358  \n",
              "4                 135                226           361  \n",
              "..                ...                ...           ...  \n",
              "57                 89                194           283  \n",
              "58                 10                 28            38  \n",
              "59                  4                  2             6  \n",
              "60                117                636           753  \n",
              "61                  0                  1             1  \n",
              "\n",
              "[62 rows x 6 columns]"
            ],
            "text/html": [
              "\n",
              "  <div id=\"df-90f911cf-3469-440a-9b37-1c20391f142e\">\n",
              "    <div class=\"colab-df-container\">\n",
              "      <div>\n",
              "<style scoped>\n",
              "    .dataframe tbody tr th:only-of-type {\n",
              "        vertical-align: middle;\n",
              "    }\n",
              "\n",
              "    .dataframe tbody tr th {\n",
              "        vertical-align: top;\n",
              "    }\n",
              "\n",
              "    .dataframe thead th {\n",
              "        text-align: right;\n",
              "    }\n",
              "</style>\n",
              "<table border=\"1\" class=\"dataframe\">\n",
              "  <thead>\n",
              "    <tr style=\"text-align: right;\">\n",
              "      <th></th>\n",
              "      <th>SIGLADES</th>\n",
              "      <th>porcentaje_vuelos_con_atraso</th>\n",
              "      <th>porcentaje_vuelos_sin_atraso</th>\n",
              "      <th>vuelos_con_atraso</th>\n",
              "      <th>vuelos_sin_atraso</th>\n",
              "      <th>vuelos_total</th>\n",
              "    </tr>\n",
              "  </thead>\n",
              "  <tbody>\n",
              "    <tr>\n",
              "      <th>0</th>\n",
              "      <td>Antofagasta</td>\n",
              "      <td>14.64</td>\n",
              "      <td>85.36</td>\n",
              "      <td>847</td>\n",
              "      <td>4939</td>\n",
              "      <td>5786</td>\n",
              "    </tr>\n",
              "    <tr>\n",
              "      <th>1</th>\n",
              "      <td>Arica</td>\n",
              "      <td>13.55</td>\n",
              "      <td>86.45</td>\n",
              "      <td>330</td>\n",
              "      <td>2106</td>\n",
              "      <td>2436</td>\n",
              "    </tr>\n",
              "    <tr>\n",
              "      <th>2</th>\n",
              "      <td>Asuncion</td>\n",
              "      <td>28.45</td>\n",
              "      <td>71.55</td>\n",
              "      <td>66</td>\n",
              "      <td>166</td>\n",
              "      <td>232</td>\n",
              "    </tr>\n",
              "    <tr>\n",
              "      <th>3</th>\n",
              "      <td>Atlanta</td>\n",
              "      <td>5.87</td>\n",
              "      <td>94.13</td>\n",
              "      <td>21</td>\n",
              "      <td>337</td>\n",
              "      <td>358</td>\n",
              "    </tr>\n",
              "    <tr>\n",
              "      <th>4</th>\n",
              "      <td>Auckland N.Z.</td>\n",
              "      <td>37.40</td>\n",
              "      <td>62.60</td>\n",
              "      <td>135</td>\n",
              "      <td>226</td>\n",
              "      <td>361</td>\n",
              "    </tr>\n",
              "    <tr>\n",
              "      <th>...</th>\n",
              "      <td>...</td>\n",
              "      <td>...</td>\n",
              "      <td>...</td>\n",
              "      <td>...</td>\n",
              "      <td>...</td>\n",
              "      <td>...</td>\n",
              "    </tr>\n",
              "    <tr>\n",
              "      <th>57</th>\n",
              "      <td>Toronto</td>\n",
              "      <td>31.45</td>\n",
              "      <td>68.55</td>\n",
              "      <td>89</td>\n",
              "      <td>194</td>\n",
              "      <td>283</td>\n",
              "    </tr>\n",
              "    <tr>\n",
              "      <th>58</th>\n",
              "      <td>Tucuman</td>\n",
              "      <td>26.32</td>\n",
              "      <td>73.68</td>\n",
              "      <td>10</td>\n",
              "      <td>28</td>\n",
              "      <td>38</td>\n",
              "    </tr>\n",
              "    <tr>\n",
              "      <th>59</th>\n",
              "      <td>Ushuia</td>\n",
              "      <td>66.67</td>\n",
              "      <td>33.33</td>\n",
              "      <td>4</td>\n",
              "      <td>2</td>\n",
              "      <td>6</td>\n",
              "    </tr>\n",
              "    <tr>\n",
              "      <th>60</th>\n",
              "      <td>Valdivia</td>\n",
              "      <td>15.54</td>\n",
              "      <td>84.46</td>\n",
              "      <td>117</td>\n",
              "      <td>636</td>\n",
              "      <td>753</td>\n",
              "    </tr>\n",
              "    <tr>\n",
              "      <th>61</th>\n",
              "      <td>Washington</td>\n",
              "      <td>0.00</td>\n",
              "      <td>100.00</td>\n",
              "      <td>0</td>\n",
              "      <td>1</td>\n",
              "      <td>1</td>\n",
              "    </tr>\n",
              "  </tbody>\n",
              "</table>\n",
              "<p>62 rows × 6 columns</p>\n",
              "</div>\n",
              "      <button class=\"colab-df-convert\" onclick=\"convertToInteractive('df-90f911cf-3469-440a-9b37-1c20391f142e')\"\n",
              "              title=\"Convert this dataframe to an interactive table.\"\n",
              "              style=\"display:none;\">\n",
              "        \n",
              "  <svg xmlns=\"http://www.w3.org/2000/svg\" height=\"24px\"viewBox=\"0 0 24 24\"\n",
              "       width=\"24px\">\n",
              "    <path d=\"M0 0h24v24H0V0z\" fill=\"none\"/>\n",
              "    <path d=\"M18.56 5.44l.94 2.06.94-2.06 2.06-.94-2.06-.94-.94-2.06-.94 2.06-2.06.94zm-11 1L8.5 8.5l.94-2.06 2.06-.94-2.06-.94L8.5 2.5l-.94 2.06-2.06.94zm10 10l.94 2.06.94-2.06 2.06-.94-2.06-.94-.94-2.06-.94 2.06-2.06.94z\"/><path d=\"M17.41 7.96l-1.37-1.37c-.4-.4-.92-.59-1.43-.59-.52 0-1.04.2-1.43.59L10.3 9.45l-7.72 7.72c-.78.78-.78 2.05 0 2.83L4 21.41c.39.39.9.59 1.41.59.51 0 1.02-.2 1.41-.59l7.78-7.78 2.81-2.81c.8-.78.8-2.07 0-2.86zM5.41 20L4 18.59l7.72-7.72 1.47 1.35L5.41 20z\"/>\n",
              "  </svg>\n",
              "      </button>\n",
              "      \n",
              "  <style>\n",
              "    .colab-df-container {\n",
              "      display:flex;\n",
              "      flex-wrap:wrap;\n",
              "      gap: 12px;\n",
              "    }\n",
              "\n",
              "    .colab-df-convert {\n",
              "      background-color: #E8F0FE;\n",
              "      border: none;\n",
              "      border-radius: 50%;\n",
              "      cursor: pointer;\n",
              "      display: none;\n",
              "      fill: #1967D2;\n",
              "      height: 32px;\n",
              "      padding: 0 0 0 0;\n",
              "      width: 32px;\n",
              "    }\n",
              "\n",
              "    .colab-df-convert:hover {\n",
              "      background-color: #E2EBFA;\n",
              "      box-shadow: 0px 1px 2px rgba(60, 64, 67, 0.3), 0px 1px 3px 1px rgba(60, 64, 67, 0.15);\n",
              "      fill: #174EA6;\n",
              "    }\n",
              "\n",
              "    [theme=dark] .colab-df-convert {\n",
              "      background-color: #3B4455;\n",
              "      fill: #D2E3FC;\n",
              "    }\n",
              "\n",
              "    [theme=dark] .colab-df-convert:hover {\n",
              "      background-color: #434B5C;\n",
              "      box-shadow: 0px 1px 3px 1px rgba(0, 0, 0, 0.15);\n",
              "      filter: drop-shadow(0px 1px 2px rgba(0, 0, 0, 0.3));\n",
              "      fill: #FFFFFF;\n",
              "    }\n",
              "  </style>\n",
              "\n",
              "      <script>\n",
              "        const buttonEl =\n",
              "          document.querySelector('#df-90f911cf-3469-440a-9b37-1c20391f142e button.colab-df-convert');\n",
              "        buttonEl.style.display =\n",
              "          google.colab.kernel.accessAllowed ? 'block' : 'none';\n",
              "\n",
              "        async function convertToInteractive(key) {\n",
              "          const element = document.querySelector('#df-90f911cf-3469-440a-9b37-1c20391f142e');\n",
              "          const dataTable =\n",
              "            await google.colab.kernel.invokeFunction('convertToInteractive',\n",
              "                                                     [key], {});\n",
              "          if (!dataTable) return;\n",
              "\n",
              "          const docLinkHtml = 'Like what you see? Visit the ' +\n",
              "            '<a target=\"_blank\" href=https://colab.research.google.com/notebooks/data_table.ipynb>data table notebook</a>'\n",
              "            + ' to learn more about interactive tables.';\n",
              "          element.innerHTML = '';\n",
              "          dataTable['output_type'] = 'display_data';\n",
              "          await google.colab.output.renderOutput(dataTable, element);\n",
              "          const docLink = document.createElement('div');\n",
              "          docLink.innerHTML = docLinkHtml;\n",
              "          element.appendChild(docLink);\n",
              "        }\n",
              "      </script>\n",
              "    </div>\n",
              "  </div>\n",
              "  "
            ]
          },
          "metadata": {},
          "execution_count": 39
        }
      ]
    },
    {
      "cell_type": "code",
      "source": [
        "plot_absoluto_porcentual(df_atraso_por_destino, 'SIGLADES', 15, 15)"
      ],
      "metadata": {
        "id": "H1lWFJiL3ouK",
        "colab": {
          "base_uri": "https://localhost:8080/",
          "height": 913
        },
        "outputId": "1e9057fa-e906-4953-d906-bf5dee2514b5"
      },
      "execution_count": 40,
      "outputs": [
        {
          "output_type": "display_data",
          "data": {
            "text/plain": [
              "<Figure size 1080x1080 with 2 Axes>"
            ],
            "image/png": "[encoded data removed]"
          },
          "metadata": {
            "needs_background": "light"
          }
        }
      ]
    },
    {
      "cell_type": "markdown",
      "source": [
        "## 03.02. Tasa de atraso por aerolinea"
      ],
      "metadata": {
        "id": "1GFy1KV90rtp"
      }
    },
    {
      "cell_type": "markdown",
      "source": [
        "Los hallazgos y el posible tratamiento para los datos y para el problema de negocio, es similar al ya descrito para la variable destino `destino`."
      ],
      "metadata": {
        "id": "Na2F3sERn8iW"
      }
    },
    {
      "cell_type": "code",
      "source": [
        "df_atraso_por_aerolinea = dataframe_atraso_por(df_atraso, 'OPERA')\n",
        "df_atraso_por_aerolinea"
      ],
      "metadata": {
        "id": "LXfaw4fr0rtr",
        "colab": {
          "base_uri": "https://localhost:8080/",
          "height": 770
        },
        "outputId": "cc6e309d-c47a-4c4f-a2b1-e75a8a199331"
      },
      "execution_count": 41,
      "outputs": [
        {
          "output_type": "execute_result",
          "data": {
            "text/plain": [
              "                       OPERA  porcentaje_vuelos_con_atraso  \\\n",
              "0      Aerolineas Argentinas                         24.01   \n",
              "1                 Aeromexico                          2.85   \n",
              "2                 Air Canada                         45.66   \n",
              "3                 Air France                          8.38   \n",
              "4                   Alitalia                         11.20   \n",
              "5          American Airlines                          6.74   \n",
              "6                    Austral                         20.27   \n",
              "7                    Avianca                         26.56   \n",
              "8            British Airways                         14.15   \n",
              "9                   Copa Air                          6.27   \n",
              "10                 Delta Air                          5.87   \n",
              "11                 Gol Trans                         35.61   \n",
              "12               Grupo LATAM                         17.87   \n",
              "13                    Iberia                          9.94   \n",
              "14              JetSmart SPA                         17.90   \n",
              "15                    K.L.M.                          8.37   \n",
              "16                     Lacsa                         11.96   \n",
              "17      Latin American Wings                         40.68   \n",
              "18    Oceanair Linhas Aereas                         15.41   \n",
              "19  Plus Ultra Lineas Aereas                         61.22   \n",
              "20            Qantas Airways                         57.95   \n",
              "21               Sky Airline                         17.76   \n",
              "22           United Airlines                          5.07   \n",
              "\n",
              "    porcentaje_vuelos_sin_atraso  vuelos_con_atraso  vuelos_sin_atraso  \\\n",
              "0                          75.99                468               1481   \n",
              "1                          97.15                 10                341   \n",
              "2                          54.34                258                307   \n",
              "3                          91.62                 30                328   \n",
              "4                          88.80                 29                230   \n",
              "5                          93.26                 51                706   \n",
              "6                          79.73                 15                 59   \n",
              "7                          73.44                306                846   \n",
              "8                          85.85                 29                176   \n",
              "9                          93.73                116               1734   \n",
              "10                         94.13                 21                337   \n",
              "11                         64.39                287                519   \n",
              "12                         82.13               7306              33586   \n",
              "13                         90.06                 36                326   \n",
              "14                         82.10                196                899   \n",
              "15                         91.63                 21                230   \n",
              "16                         88.04                 11                 81   \n",
              "17                         59.32                681                993   \n",
              "18                         84.59                 43                236   \n",
              "19                         38.78                 30                 19   \n",
              "20                         42.05                113                 82   \n",
              "21                         82.24               2540              11758   \n",
              "22                         94.93                 17                318   \n",
              "\n",
              "    vuelos_total  \n",
              "0           1949  \n",
              "1            351  \n",
              "2            565  \n",
              "3            358  \n",
              "4            259  \n",
              "5            757  \n",
              "6             74  \n",
              "7           1152  \n",
              "8            205  \n",
              "9           1850  \n",
              "10           358  \n",
              "11           806  \n",
              "12         40892  \n",
              "13           362  \n",
              "14          1095  \n",
              "15           251  \n",
              "16            92  \n",
              "17          1674  \n",
              "18           279  \n",
              "19            49  \n",
              "20           195  \n",
              "21         14298  \n",
              "22           335  "
            ],
            "text/html": [
              "\n",
              "  <div id=\"df-8abbf980-17d5-470b-af6b-1b4d9b78539b\">\n",
              "    <div class=\"colab-df-container\">\n",
              "      <div>\n",
              "<style scoped>\n",
              "    .dataframe tbody tr th:only-of-type {\n",
              "        vertical-align: middle;\n",
              "    }\n",
              "\n",
              "    .dataframe tbody tr th {\n",
              "        vertical-align: top;\n",
              "    }\n",
              "\n",
              "    .dataframe thead th {\n",
              "        text-align: right;\n",
              "    }\n",
              "</style>\n",
              "<table border=\"1\" class=\"dataframe\">\n",
              "  <thead>\n",
              "    <tr style=\"text-align: right;\">\n",
              "      <th></th>\n",
              "      <th>OPERA</th>\n",
              "      <th>porcentaje_vuelos_con_atraso</th>\n",
              "      <th>porcentaje_vuelos_sin_atraso</th>\n",
              "      <th>vuelos_con_atraso</th>\n",
              "      <th>vuelos_sin_atraso</th>\n",
              "      <th>vuelos_total</th>\n",
              "    </tr>\n",
              "  </thead>\n",
              "  <tbody>\n",
              "    <tr>\n",
              "      <th>0</th>\n",
              "      <td>Aerolineas Argentinas</td>\n",
              "      <td>24.01</td>\n",
              "      <td>75.99</td>\n",
              "      <td>468</td>\n",
              "      <td>1481</td>\n",
              "      <td>1949</td>\n",
              "    </tr>\n",
              "    <tr>\n",
              "      <th>1</th>\n",
              "      <td>Aeromexico</td>\n",
              "      <td>2.85</td>\n",
              "      <td>97.15</td>\n",
              "      <td>10</td>\n",
              "      <td>341</td>\n",
              "      <td>351</td>\n",
              "    </tr>\n",
              "    <tr>\n",
              "      <th>2</th>\n",
              "      <td>Air Canada</td>\n",
              "      <td>45.66</td>\n",
              "      <td>54.34</td>\n",
              "      <td>258</td>\n",
              "      <td>307</td>\n",
              "      <td>565</td>\n",
              "    </tr>\n",
              "    <tr>\n",
              "      <th>3</th>\n",
              "      <td>Air France</td>\n",
              "      <td>8.38</td>\n",
              "      <td>91.62</td>\n",
              "      <td>30</td>\n",
              "      <td>328</td>\n",
              "      <td>358</td>\n",
              "    </tr>\n",
              "    <tr>\n",
              "      <th>4</th>\n",
              "      <td>Alitalia</td>\n",
              "      <td>11.20</td>\n",
              "      <td>88.80</td>\n",
              "      <td>29</td>\n",
              "      <td>230</td>\n",
              "      <td>259</td>\n",
              "    </tr>\n",
              "    <tr>\n",
              "      <th>5</th>\n",
              "      <td>American Airlines</td>\n",
              "      <td>6.74</td>\n",
              "      <td>93.26</td>\n",
              "      <td>51</td>\n",
              "      <td>706</td>\n",
              "      <td>757</td>\n",
              "    </tr>\n",
              "    <tr>\n",
              "      <th>6</th>\n",
              "      <td>Austral</td>\n",
              "      <td>20.27</td>\n",
              "      <td>79.73</td>\n",
              "      <td>15</td>\n",
              "      <td>59</td>\n",
              "      <td>74</td>\n",
              "    </tr>\n",
              "    <tr>\n",
              "      <th>7</th>\n",
              "      <td>Avianca</td>\n",
              "      <td>26.56</td>\n",
              "      <td>73.44</td>\n",
              "      <td>306</td>\n",
              "      <td>846</td>\n",
              "      <td>1152</td>\n",
              "    </tr>\n",
              "    <tr>\n",
              "      <th>8</th>\n",
              "      <td>British Airways</td>\n",
              "      <td>14.15</td>\n",
              "      <td>85.85</td>\n",
              "      <td>29</td>\n",
              "      <td>176</td>\n",
              "      <td>205</td>\n",
              "    </tr>\n",
              "    <tr>\n",
              "      <th>9</th>\n",
              "      <td>Copa Air</td>\n",
              "      <td>6.27</td>\n",
              "      <td>93.73</td>\n",
              "      <td>116</td>\n",
              "      <td>1734</td>\n",
              "      <td>1850</td>\n",
              "    </tr>\n",
              "    <tr>\n",
              "      <th>10</th>\n",
              "      <td>Delta Air</td>\n",
              "      <td>5.87</td>\n",
              "      <td>94.13</td>\n",
              "      <td>21</td>\n",
              "      <td>337</td>\n",
              "      <td>358</td>\n",
              "    </tr>\n",
              "    <tr>\n",
              "      <th>11</th>\n",
              "      <td>Gol Trans</td>\n",
              "      <td>35.61</td>\n",
              "      <td>64.39</td>\n",
              "      <td>287</td>\n",
              "      <td>519</td>\n",
              "      <td>806</td>\n",
              "    </tr>\n",
              "    <tr>\n",
              "      <th>12</th>\n",
              "      <td>Grupo LATAM</td>\n",
              "      <td>17.87</td>\n",
              "      <td>82.13</td>\n",
              "      <td>7306</td>\n",
              "      <td>33586</td>\n",
              "      <td>40892</td>\n",
              "    </tr>\n",
              "    <tr>\n",
              "      <th>13</th>\n",
              "      <td>Iberia</td>\n",
              "      <td>9.94</td>\n",
              "      <td>90.06</td>\n",
              "      <td>36</td>\n",
              "      <td>326</td>\n",
              "      <td>362</td>\n",
              "    </tr>\n",
              "    <tr>\n",
              "      <th>14</th>\n",
              "      <td>JetSmart SPA</td>\n",
              "      <td>17.90</td>\n",
              "      <td>82.10</td>\n",
              "      <td>196</td>\n",
              "      <td>899</td>\n",
              "      <td>1095</td>\n",
              "    </tr>\n",
              "    <tr>\n",
              "      <th>15</th>\n",
              "      <td>K.L.M.</td>\n",
              "      <td>8.37</td>\n",
              "      <td>91.63</td>\n",
              "      <td>21</td>\n",
              "      <td>230</td>\n",
              "      <td>251</td>\n",
              "    </tr>\n",
              "    <tr>\n",
              "      <th>16</th>\n",
              "      <td>Lacsa</td>\n",
              "      <td>11.96</td>\n",
              "      <td>88.04</td>\n",
              "      <td>11</td>\n",
              "      <td>81</td>\n",
              "      <td>92</td>\n",
              "    </tr>\n",
              "    <tr>\n",
              "      <th>17</th>\n",
              "      <td>Latin American Wings</td>\n",
              "      <td>40.68</td>\n",
              "      <td>59.32</td>\n",
              "      <td>681</td>\n",
              "      <td>993</td>\n",
              "      <td>1674</td>\n",
              "    </tr>\n",
              "    <tr>\n",
              "      <th>18</th>\n",
              "      <td>Oceanair Linhas Aereas</td>\n",
              "      <td>15.41</td>\n",
              "      <td>84.59</td>\n",
              "      <td>43</td>\n",
              "      <td>236</td>\n",
              "      <td>279</td>\n",
              "    </tr>\n",
              "    <tr>\n",
              "      <th>19</th>\n",
              "      <td>Plus Ultra Lineas Aereas</td>\n",
              "      <td>61.22</td>\n",
              "      <td>38.78</td>\n",
              "      <td>30</td>\n",
              "      <td>19</td>\n",
              "      <td>49</td>\n",
              "    </tr>\n",
              "    <tr>\n",
              "      <th>20</th>\n",
              "      <td>Qantas Airways</td>\n",
              "      <td>57.95</td>\n",
              "      <td>42.05</td>\n",
              "      <td>113</td>\n",
              "      <td>82</td>\n",
              "      <td>195</td>\n",
              "    </tr>\n",
              "    <tr>\n",
              "      <th>21</th>\n",
              "      <td>Sky Airline</td>\n",
              "      <td>17.76</td>\n",
              "      <td>82.24</td>\n",
              "      <td>2540</td>\n",
              "      <td>11758</td>\n",
              "      <td>14298</td>\n",
              "    </tr>\n",
              "    <tr>\n",
              "      <th>22</th>\n",
              "      <td>United Airlines</td>\n",
              "      <td>5.07</td>\n",
              "      <td>94.93</td>\n",
              "      <td>17</td>\n",
              "      <td>318</td>\n",
              "      <td>335</td>\n",
              "    </tr>\n",
              "  </tbody>\n",
              "</table>\n",
              "</div>\n",
              "      <button class=\"colab-df-convert\" onclick=\"convertToInteractive('df-8abbf980-17d5-470b-af6b-1b4d9b78539b')\"\n",
              "              title=\"Convert this dataframe to an interactive table.\"\n",
              "              style=\"display:none;\">\n",
              "        \n",
              "  <svg xmlns=\"http://www.w3.org/2000/svg\" height=\"24px\"viewBox=\"0 0 24 24\"\n",
              "       width=\"24px\">\n",
              "    <path d=\"M0 0h24v24H0V0z\" fill=\"none\"/>\n",
              "    <path d=\"M18.56 5.44l.94 2.06.94-2.06 2.06-.94-2.06-.94-.94-2.06-.94 2.06-2.06.94zm-11 1L8.5 8.5l.94-2.06 2.06-.94-2.06-.94L8.5 2.5l-.94 2.06-2.06.94zm10 10l.94 2.06.94-2.06 2.06-.94-2.06-.94-.94-2.06-.94 2.06-2.06.94z\"/><path d=\"M17.41 7.96l-1.37-1.37c-.4-.4-.92-.59-1.43-.59-.52 0-1.04.2-1.43.59L10.3 9.45l-7.72 7.72c-.78.78-.78 2.05 0 2.83L4 21.41c.39.39.9.59 1.41.59.51 0 1.02-.2 1.41-.59l7.78-7.78 2.81-2.81c.8-.78.8-2.07 0-2.86zM5.41 20L4 18.59l7.72-7.72 1.47 1.35L5.41 20z\"/>\n",
              "  </svg>\n",
              "      </button>\n",
              "      \n",
              "  <style>\n",
              "    .colab-df-container {\n",
              "      display:flex;\n",
              "      flex-wrap:wrap;\n",
              "      gap: 12px;\n",
              "    }\n",
              "\n",
              "    .colab-df-convert {\n",
              "      background-color: #E8F0FE;\n",
              "      border: none;\n",
              "      border-radius: 50%;\n",
              "      cursor: pointer;\n",
              "      display: none;\n",
              "      fill: #1967D2;\n",
              "      height: 32px;\n",
              "      padding: 0 0 0 0;\n",
              "      width: 32px;\n",
              "    }\n",
              "\n",
              "    .colab-df-convert:hover {\n",
              "      background-color: #E2EBFA;\n",
              "      box-shadow: 0px 1px 2px rgba(60, 64, 67, 0.3), 0px 1px 3px 1px rgba(60, 64, 67, 0.15);\n",
              "      fill: #174EA6;\n",
              "    }\n",
              "\n",
              "    [theme=dark] .colab-df-convert {\n",
              "      background-color: #3B4455;\n",
              "      fill: #D2E3FC;\n",
              "    }\n",
              "\n",
              "    [theme=dark] .colab-df-convert:hover {\n",
              "      background-color: #434B5C;\n",
              "      box-shadow: 0px 1px 3px 1px rgba(0, 0, 0, 0.15);\n",
              "      filter: drop-shadow(0px 1px 2px rgba(0, 0, 0, 0.3));\n",
              "      fill: #FFFFFF;\n",
              "    }\n",
              "  </style>\n",
              "\n",
              "      <script>\n",
              "        const buttonEl =\n",
              "          document.querySelector('#df-8abbf980-17d5-470b-af6b-1b4d9b78539b button.colab-df-convert');\n",
              "        buttonEl.style.display =\n",
              "          google.colab.kernel.accessAllowed ? 'block' : 'none';\n",
              "\n",
              "        async function convertToInteractive(key) {\n",
              "          const element = document.querySelector('#df-8abbf980-17d5-470b-af6b-1b4d9b78539b');\n",
              "          const dataTable =\n",
              "            await google.colab.kernel.invokeFunction('convertToInteractive',\n",
              "                                                     [key], {});\n",
              "          if (!dataTable) return;\n",
              "\n",
              "          const docLinkHtml = 'Like what you see? Visit the ' +\n",
              "            '<a target=\"_blank\" href=https://colab.research.google.com/notebooks/data_table.ipynb>data table notebook</a>'\n",
              "            + ' to learn more about interactive tables.';\n",
              "          element.innerHTML = '';\n",
              "          dataTable['output_type'] = 'display_data';\n",
              "          await google.colab.output.renderOutput(dataTable, element);\n",
              "          const docLink = document.createElement('div');\n",
              "          docLink.innerHTML = docLinkHtml;\n",
              "          element.appendChild(docLink);\n",
              "        }\n",
              "      </script>\n",
              "    </div>\n",
              "  </div>\n",
              "  "
            ]
          },
          "metadata": {},
          "execution_count": 41
        }
      ]
    },
    {
      "cell_type": "code",
      "source": [
        "plot_absoluto_porcentual(df_atraso_por_aerolinea, \"OPERA\", 15, 10)"
      ],
      "metadata": {
        "id": "PXpFHuvJhrTL",
        "colab": {
          "base_uri": "https://localhost:8080/",
          "height": 628
        },
        "outputId": "8f1f933b-c853-4f61-f0f1-5bf02e406f43"
      },
      "execution_count": 42,
      "outputs": [
        {
          "output_type": "display_data",
          "data": {
            "text/plain": [
              "<Figure size 1080x720 with 2 Axes>"
            ],
            "image/png": "[encoded data removed]"
          },
          "metadata": {
            "needs_background": "light"
          }
        }
      ]
    },
    {
      "cell_type": "markdown",
      "source": [
        "## 03.03. Tasa de atraso por mes del año"
      ],
      "metadata": {
        "id": "DRdXiKP03FeD"
      }
    },
    {
      "cell_type": "markdown",
      "source": [
        "Principales hallazgos:\n",
        "- Si bien existe una diferencia entre los valores absolutos de los grupos, esta diferencia no es tan significativa como en el caso de los destinos y las aerolíneas. \n",
        "- Por lo anterior de manera general el orden tanto de manera absoluta como relativa se conserva.\n",
        "- Se observa que varios de los meses que presentan mayores retrasos se encuentran también en temporadas altas (julio, diciembre) y que el último trimestre del año es el periodo con mayores retrasos.\n",
        "- Si se desea reducir la cardinalidad podría explorarse la opción de los trimestres como forma de agregación.\n"
      ],
      "metadata": {
        "id": "omqaJKceozPD"
      }
    },
    {
      "cell_type": "code",
      "source": [
        "df_atraso_por_mes = dataframe_atraso_por(df_atraso, 'MES')\n",
        "df_atraso_por_mes"
      ],
      "metadata": {
        "id": "Y8rmBFQn0jlQ",
        "colab": {
          "base_uri": "https://localhost:8080/",
          "height": 425
        },
        "outputId": "b00c708a-2339-4784-c6e9-86e5d60a26b0"
      },
      "execution_count": 43,
      "outputs": [
        {
          "output_type": "execute_result",
          "data": {
            "text/plain": [
              "   MES  porcentaje_vuelos_con_atraso  porcentaje_vuelos_sin_atraso  \\\n",
              "0    1                         16.01                         83.99   \n",
              "1   10                         22.60                         77.40   \n",
              "2   11                         19.72                         80.28   \n",
              "3   12                         25.41                         74.59   \n",
              "4    2                         15.16                         84.84   \n",
              "5    3                         11.51                         88.49   \n",
              "6    4                         11.65                         88.35   \n",
              "7    5                         15.78                         84.22   \n",
              "8    6                         17.10                         82.90   \n",
              "9    7                         29.34                         70.66   \n",
              "10   8                         17.34                         82.66   \n",
              "11   9                         17.24                         82.76   \n",
              "\n",
              "    vuelos_con_atraso  vuelos_sin_atraso  vuelos_total  \n",
              "0                 978               5130          6108  \n",
              "1                1363               4669          6032  \n",
              "2                1199               4881          6080  \n",
              "3                1615               4741          6356  \n",
              "4                 843               4718          5561  \n",
              "5                 631               4851          5482  \n",
              "6                 585               4435          5020  \n",
              "7                 827               4413          5240  \n",
              "8                 852               4129          4981  \n",
              "9                1758               4234          5992  \n",
              "10                996               4748          5744  \n",
              "11                967               4643          5610  "
            ],
            "text/html": [
              "\n",
              "  <div id=\"df-831c8e35-d331-4396-a4bb-aa8a010cd28c\">\n",
              "    <div class=\"colab-df-container\">\n",
              "      <div>\n",
              "<style scoped>\n",
              "    .dataframe tbody tr th:only-of-type {\n",
              "        vertical-align: middle;\n",
              "    }\n",
              "\n",
              "    .dataframe tbody tr th {\n",
              "        vertical-align: top;\n",
              "    }\n",
              "\n",
              "    .dataframe thead th {\n",
              "        text-align: right;\n",
              "    }\n",
              "</style>\n",
              "<table border=\"1\" class=\"dataframe\">\n",
              "  <thead>\n",
              "    <tr style=\"text-align: right;\">\n",
              "      <th></th>\n",
              "      <th>MES</th>\n",
              "      <th>porcentaje_vuelos_con_atraso</th>\n",
              "      <th>porcentaje_vuelos_sin_atraso</th>\n",
              "      <th>vuelos_con_atraso</th>\n",
              "      <th>vuelos_sin_atraso</th>\n",
              "      <th>vuelos_total</th>\n",
              "    </tr>\n",
              "  </thead>\n",
              "  <tbody>\n",
              "    <tr>\n",
              "      <th>0</th>\n",
              "      <td>1</td>\n",
              "      <td>16.01</td>\n",
              "      <td>83.99</td>\n",
              "      <td>978</td>\n",
              "      <td>5130</td>\n",
              "      <td>6108</td>\n",
              "    </tr>\n",
              "    <tr>\n",
              "      <th>1</th>\n",
              "      <td>10</td>\n",
              "      <td>22.60</td>\n",
              "      <td>77.40</td>\n",
              "      <td>1363</td>\n",
              "      <td>4669</td>\n",
              "      <td>6032</td>\n",
              "    </tr>\n",
              "    <tr>\n",
              "      <th>2</th>\n",
              "      <td>11</td>\n",
              "      <td>19.72</td>\n",
              "      <td>80.28</td>\n",
              "      <td>1199</td>\n",
              "      <td>4881</td>\n",
              "      <td>6080</td>\n",
              "    </tr>\n",
              "    <tr>\n",
              "      <th>3</th>\n",
              "      <td>12</td>\n",
              "      <td>25.41</td>\n",
              "      <td>74.59</td>\n",
              "      <td>1615</td>\n",
              "      <td>4741</td>\n",
              "      <td>6356</td>\n",
              "    </tr>\n",
              "    <tr>\n",
              "      <th>4</th>\n",
              "      <td>2</td>\n",
              "      <td>15.16</td>\n",
              "      <td>84.84</td>\n",
              "      <td>843</td>\n",
              "      <td>4718</td>\n",
              "      <td>5561</td>\n",
              "    </tr>\n",
              "    <tr>\n",
              "      <th>5</th>\n",
              "      <td>3</td>\n",
              "      <td>11.51</td>\n",
              "      <td>88.49</td>\n",
              "      <td>631</td>\n",
              "      <td>4851</td>\n",
              "      <td>5482</td>\n",
              "    </tr>\n",
              "    <tr>\n",
              "      <th>6</th>\n",
              "      <td>4</td>\n",
              "      <td>11.65</td>\n",
              "      <td>88.35</td>\n",
              "      <td>585</td>\n",
              "      <td>4435</td>\n",
              "      <td>5020</td>\n",
              "    </tr>\n",
              "    <tr>\n",
              "      <th>7</th>\n",
              "      <td>5</td>\n",
              "      <td>15.78</td>\n",
              "      <td>84.22</td>\n",
              "      <td>827</td>\n",
              "      <td>4413</td>\n",
              "      <td>5240</td>\n",
              "    </tr>\n",
              "    <tr>\n",
              "      <th>8</th>\n",
              "      <td>6</td>\n",
              "      <td>17.10</td>\n",
              "      <td>82.90</td>\n",
              "      <td>852</td>\n",
              "      <td>4129</td>\n",
              "      <td>4981</td>\n",
              "    </tr>\n",
              "    <tr>\n",
              "      <th>9</th>\n",
              "      <td>7</td>\n",
              "      <td>29.34</td>\n",
              "      <td>70.66</td>\n",
              "      <td>1758</td>\n",
              "      <td>4234</td>\n",
              "      <td>5992</td>\n",
              "    </tr>\n",
              "    <tr>\n",
              "      <th>10</th>\n",
              "      <td>8</td>\n",
              "      <td>17.34</td>\n",
              "      <td>82.66</td>\n",
              "      <td>996</td>\n",
              "      <td>4748</td>\n",
              "      <td>5744</td>\n",
              "    </tr>\n",
              "    <tr>\n",
              "      <th>11</th>\n",
              "      <td>9</td>\n",
              "      <td>17.24</td>\n",
              "      <td>82.76</td>\n",
              "      <td>967</td>\n",
              "      <td>4643</td>\n",
              "      <td>5610</td>\n",
              "    </tr>\n",
              "  </tbody>\n",
              "</table>\n",
              "</div>\n",
              "      <button class=\"colab-df-convert\" onclick=\"convertToInteractive('df-831c8e35-d331-4396-a4bb-aa8a010cd28c')\"\n",
              "              title=\"Convert this dataframe to an interactive table.\"\n",
              "              style=\"display:none;\">\n",
              "        \n",
              "  <svg xmlns=\"http://www.w3.org/2000/svg\" height=\"24px\"viewBox=\"0 0 24 24\"\n",
              "       width=\"24px\">\n",
              "    <path d=\"M0 0h24v24H0V0z\" fill=\"none\"/>\n",
              "    <path d=\"M18.56 5.44l.94 2.06.94-2.06 2.06-.94-2.06-.94-.94-2.06-.94 2.06-2.06.94zm-11 1L8.5 8.5l.94-2.06 2.06-.94-2.06-.94L8.5 2.5l-.94 2.06-2.06.94zm10 10l.94 2.06.94-2.06 2.06-.94-2.06-.94-.94-2.06-.94 2.06-2.06.94z\"/><path d=\"M17.41 7.96l-1.37-1.37c-.4-.4-.92-.59-1.43-.59-.52 0-1.04.2-1.43.59L10.3 9.45l-7.72 7.72c-.78.78-.78 2.05 0 2.83L4 21.41c.39.39.9.59 1.41.59.51 0 1.02-.2 1.41-.59l7.78-7.78 2.81-2.81c.8-.78.8-2.07 0-2.86zM5.41 20L4 18.59l7.72-7.72 1.47 1.35L5.41 20z\"/>\n",
              "  </svg>\n",
              "      </button>\n",
              "      \n",
              "  <style>\n",
              "    .colab-df-container {\n",
              "      display:flex;\n",
              "      flex-wrap:wrap;\n",
              "      gap: 12px;\n",
              "    }\n",
              "\n",
              "    .colab-df-convert {\n",
              "      background-color: #E8F0FE;\n",
              "      border: none;\n",
              "      border-radius: 50%;\n",
              "      cursor: pointer;\n",
              "      display: none;\n",
              "      fill: #1967D2;\n",
              "      height: 32px;\n",
              "      padding: 0 0 0 0;\n",
              "      width: 32px;\n",
              "    }\n",
              "\n",
              "    .colab-df-convert:hover {\n",
              "      background-color: #E2EBFA;\n",
              "      box-shadow: 0px 1px 2px rgba(60, 64, 67, 0.3), 0px 1px 3px 1px rgba(60, 64, 67, 0.15);\n",
              "      fill: #174EA6;\n",
              "    }\n",
              "\n",
              "    [theme=dark] .colab-df-convert {\n",
              "      background-color: #3B4455;\n",
              "      fill: #D2E3FC;\n",
              "    }\n",
              "\n",
              "    [theme=dark] .colab-df-convert:hover {\n",
              "      background-color: #434B5C;\n",
              "      box-shadow: 0px 1px 3px 1px rgba(0, 0, 0, 0.15);\n",
              "      filter: drop-shadow(0px 1px 2px rgba(0, 0, 0, 0.3));\n",
              "      fill: #FFFFFF;\n",
              "    }\n",
              "  </style>\n",
              "\n",
              "      <script>\n",
              "        const buttonEl =\n",
              "          document.querySelector('#df-831c8e35-d331-4396-a4bb-aa8a010cd28c button.colab-df-convert');\n",
              "        buttonEl.style.display =\n",
              "          google.colab.kernel.accessAllowed ? 'block' : 'none';\n",
              "\n",
              "        async function convertToInteractive(key) {\n",
              "          const element = document.querySelector('#df-831c8e35-d331-4396-a4bb-aa8a010cd28c');\n",
              "          const dataTable =\n",
              "            await google.colab.kernel.invokeFunction('convertToInteractive',\n",
              "                                                     [key], {});\n",
              "          if (!dataTable) return;\n",
              "\n",
              "          const docLinkHtml = 'Like what you see? Visit the ' +\n",
              "            '<a target=\"_blank\" href=https://colab.research.google.com/notebooks/data_table.ipynb>data table notebook</a>'\n",
              "            + ' to learn more about interactive tables.';\n",
              "          element.innerHTML = '';\n",
              "          dataTable['output_type'] = 'display_data';\n",
              "          await google.colab.output.renderOutput(dataTable, element);\n",
              "          const docLink = document.createElement('div');\n",
              "          docLink.innerHTML = docLinkHtml;\n",
              "          element.appendChild(docLink);\n",
              "        }\n",
              "      </script>\n",
              "    </div>\n",
              "  </div>\n",
              "  "
            ]
          },
          "metadata": {},
          "execution_count": 43
        }
      ]
    },
    {
      "cell_type": "code",
      "source": [
        "plot_absoluto_porcentual(df_atraso_por_mes, 'MES', 15, 8)"
      ],
      "metadata": {
        "id": "pm3kqyW-0jik",
        "colab": {
          "base_uri": "https://localhost:8080/",
          "height": 514
        },
        "outputId": "1e2dedf1-f6e0-4ac7-9f65-270c1b650443"
      },
      "execution_count": 44,
      "outputs": [
        {
          "output_type": "display_data",
          "data": {
            "text/plain": [
              "<Figure size 1080x576 with 2 Axes>"
            ],
            "image/png": "[encoded data removed]"
          },
          "metadata": {
            "needs_background": "light"
          }
        }
      ]
    },
    {
      "cell_type": "markdown",
      "source": [
        "## 03.04. Tasa de atraso por día de la semana"
      ],
      "metadata": {
        "id": "f6A56spj3U9K"
      }
    },
    {
      "cell_type": "markdown",
      "source": [
        "Los hallazgos son similares para el mes de año, con los viernes y los lunes como grupos mayoritarios, y los domingos y sábados como grupos minoritarios."
      ],
      "metadata": {
        "id": "sO8SSg-esZjs"
      }
    },
    {
      "cell_type": "code",
      "source": [
        "df_atraso_por_dia_semana = dataframe_atraso_por(df_atraso, 'DIANOM')\n",
        "df_atraso_por_dia_semana"
      ],
      "metadata": {
        "id": "obDVzta90jfx",
        "colab": {
          "base_uri": "https://localhost:8080/",
          "height": 269
        },
        "outputId": "31890ab8-70de-422b-d5a2-48ef05626fc9"
      },
      "execution_count": 45,
      "outputs": [
        {
          "output_type": "execute_result",
          "data": {
            "text/plain": [
              "      DIANOM  porcentaje_vuelos_con_atraso  porcentaje_vuelos_sin_atraso  \\\n",
              "0    Domingo                         16.11                         83.89   \n",
              "1     Jueves                         19.95                         80.05   \n",
              "2      Lunes                         20.22                         79.78   \n",
              "3     Martes                         16.91                         83.09   \n",
              "4  Miercoles                         17.08                         82.92   \n",
              "5     Sabado                         16.32                         83.68   \n",
              "6    Viernes                         22.20                         77.80   \n",
              "\n",
              "   vuelos_con_atraso  vuelos_sin_atraso  vuelos_total  \n",
              "0               1578               8218          9796  \n",
              "1               2045               8206         10251  \n",
              "2               2048               8083         10131  \n",
              "3               1634               8028          9662  \n",
              "4               1661               8061          9722  \n",
              "5               1363               6989          8352  \n",
              "6               2285               8007         10292  "
            ],
            "text/html": [
              "\n",
              "  <div id=\"df-c31c7aa3-69c3-463e-ae0b-8a06f9acfbc8\">\n",
              "    <div class=\"colab-df-container\">\n",
              "      <div>\n",
              "<style scoped>\n",
              "    .dataframe tbody tr th:only-of-type {\n",
              "        vertical-align: middle;\n",
              "    }\n",
              "\n",
              "    .dataframe tbody tr th {\n",
              "        vertical-align: top;\n",
              "    }\n",
              "\n",
              "    .dataframe thead th {\n",
              "        text-align: right;\n",
              "    }\n",
              "</style>\n",
              "<table border=\"1\" class=\"dataframe\">\n",
              "  <thead>\n",
              "    <tr style=\"text-align: right;\">\n",
              "      <th></th>\n",
              "      <th>DIANOM</th>\n",
              "      <th>porcentaje_vuelos_con_atraso</th>\n",
              "      <th>porcentaje_vuelos_sin_atraso</th>\n",
              "      <th>vuelos_con_atraso</th>\n",
              "      <th>vuelos_sin_atraso</th>\n",
              "      <th>vuelos_total</th>\n",
              "    </tr>\n",
              "  </thead>\n",
              "  <tbody>\n",
              "    <tr>\n",
              "      <th>0</th>\n",
              "      <td>Domingo</td>\n",
              "      <td>16.11</td>\n",
              "      <td>83.89</td>\n",
              "      <td>1578</td>\n",
              "      <td>8218</td>\n",
              "      <td>9796</td>\n",
              "    </tr>\n",
              "    <tr>\n",
              "      <th>1</th>\n",
              "      <td>Jueves</td>\n",
              "      <td>19.95</td>\n",
              "      <td>80.05</td>\n",
              "      <td>2045</td>\n",
              "      <td>8206</td>\n",
              "      <td>10251</td>\n",
              "    </tr>\n",
              "    <tr>\n",
              "      <th>2</th>\n",
              "      <td>Lunes</td>\n",
              "      <td>20.22</td>\n",
              "      <td>79.78</td>\n",
              "      <td>2048</td>\n",
              "      <td>8083</td>\n",
              "      <td>10131</td>\n",
              "    </tr>\n",
              "    <tr>\n",
              "      <th>3</th>\n",
              "      <td>Martes</td>\n",
              "      <td>16.91</td>\n",
              "      <td>83.09</td>\n",
              "      <td>1634</td>\n",
              "      <td>8028</td>\n",
              "      <td>9662</td>\n",
              "    </tr>\n",
              "    <tr>\n",
              "      <th>4</th>\n",
              "      <td>Miercoles</td>\n",
              "      <td>17.08</td>\n",
              "      <td>82.92</td>\n",
              "      <td>1661</td>\n",
              "      <td>8061</td>\n",
              "      <td>9722</td>\n",
              "    </tr>\n",
              "    <tr>\n",
              "      <th>5</th>\n",
              "      <td>Sabado</td>\n",
              "      <td>16.32</td>\n",
              "      <td>83.68</td>\n",
              "      <td>1363</td>\n",
              "      <td>6989</td>\n",
              "      <td>8352</td>\n",
              "    </tr>\n",
              "    <tr>\n",
              "      <th>6</th>\n",
              "      <td>Viernes</td>\n",
              "      <td>22.20</td>\n",
              "      <td>77.80</td>\n",
              "      <td>2285</td>\n",
              "      <td>8007</td>\n",
              "      <td>10292</td>\n",
              "    </tr>\n",
              "  </tbody>\n",
              "</table>\n",
              "</div>\n",
              "      <button class=\"colab-df-convert\" onclick=\"convertToInteractive('df-c31c7aa3-69c3-463e-ae0b-8a06f9acfbc8')\"\n",
              "              title=\"Convert this dataframe to an interactive table.\"\n",
              "              style=\"display:none;\">\n",
              "        \n",
              "  <svg xmlns=\"http://www.w3.org/2000/svg\" height=\"24px\"viewBox=\"0 0 24 24\"\n",
              "       width=\"24px\">\n",
              "    <path d=\"M0 0h24v24H0V0z\" fill=\"none\"/>\n",
              "    <path d=\"M18.56 5.44l.94 2.06.94-2.06 2.06-.94-2.06-.94-.94-2.06-.94 2.06-2.06.94zm-11 1L8.5 8.5l.94-2.06 2.06-.94-2.06-.94L8.5 2.5l-.94 2.06-2.06.94zm10 10l.94 2.06.94-2.06 2.06-.94-2.06-.94-.94-2.06-.94 2.06-2.06.94z\"/><path d=\"M17.41 7.96l-1.37-1.37c-.4-.4-.92-.59-1.43-.59-.52 0-1.04.2-1.43.59L10.3 9.45l-7.72 7.72c-.78.78-.78 2.05 0 2.83L4 21.41c.39.39.9.59 1.41.59.51 0 1.02-.2 1.41-.59l7.78-7.78 2.81-2.81c.8-.78.8-2.07 0-2.86zM5.41 20L4 18.59l7.72-7.72 1.47 1.35L5.41 20z\"/>\n",
              "  </svg>\n",
              "      </button>\n",
              "      \n",
              "  <style>\n",
              "    .colab-df-container {\n",
              "      display:flex;\n",
              "      flex-wrap:wrap;\n",
              "      gap: 12px;\n",
              "    }\n",
              "\n",
              "    .colab-df-convert {\n",
              "      background-color: #E8F0FE;\n",
              "      border: none;\n",
              "      border-radius: 50%;\n",
              "      cursor: pointer;\n",
              "      display: none;\n",
              "      fill: #1967D2;\n",
              "      height: 32px;\n",
              "      padding: 0 0 0 0;\n",
              "      width: 32px;\n",
              "    }\n",
              "\n",
              "    .colab-df-convert:hover {\n",
              "      background-color: #E2EBFA;\n",
              "      box-shadow: 0px 1px 2px rgba(60, 64, 67, 0.3), 0px 1px 3px 1px rgba(60, 64, 67, 0.15);\n",
              "      fill: #174EA6;\n",
              "    }\n",
              "\n",
              "    [theme=dark] .colab-df-convert {\n",
              "      background-color: #3B4455;\n",
              "      fill: #D2E3FC;\n",
              "    }\n",
              "\n",
              "    [theme=dark] .colab-df-convert:hover {\n",
              "      background-color: #434B5C;\n",
              "      box-shadow: 0px 1px 3px 1px rgba(0, 0, 0, 0.15);\n",
              "      filter: drop-shadow(0px 1px 2px rgba(0, 0, 0, 0.3));\n",
              "      fill: #FFFFFF;\n",
              "    }\n",
              "  </style>\n",
              "\n",
              "      <script>\n",
              "        const buttonEl =\n",
              "          document.querySelector('#df-c31c7aa3-69c3-463e-ae0b-8a06f9acfbc8 button.colab-df-convert');\n",
              "        buttonEl.style.display =\n",
              "          google.colab.kernel.accessAllowed ? 'block' : 'none';\n",
              "\n",
              "        async function convertToInteractive(key) {\n",
              "          const element = document.querySelector('#df-c31c7aa3-69c3-463e-ae0b-8a06f9acfbc8');\n",
              "          const dataTable =\n",
              "            await google.colab.kernel.invokeFunction('convertToInteractive',\n",
              "                                                     [key], {});\n",
              "          if (!dataTable) return;\n",
              "\n",
              "          const docLinkHtml = 'Like what you see? Visit the ' +\n",
              "            '<a target=\"_blank\" href=https://colab.research.google.com/notebooks/data_table.ipynb>data table notebook</a>'\n",
              "            + ' to learn more about interactive tables.';\n",
              "          element.innerHTML = '';\n",
              "          dataTable['output_type'] = 'display_data';\n",
              "          await google.colab.output.renderOutput(dataTable, element);\n",
              "          const docLink = document.createElement('div');\n",
              "          docLink.innerHTML = docLinkHtml;\n",
              "          element.appendChild(docLink);\n",
              "        }\n",
              "      </script>\n",
              "    </div>\n",
              "  </div>\n",
              "  "
            ]
          },
          "metadata": {},
          "execution_count": 45
        }
      ]
    },
    {
      "cell_type": "code",
      "source": [
        "plot_absoluto_porcentual(df_atraso_por_dia_semana, 'DIANOM', 15, 8)"
      ],
      "metadata": {
        "id": "FaMZW54F6M86",
        "colab": {
          "base_uri": "https://localhost:8080/",
          "height": 514
        },
        "outputId": "9a0a5890-296a-4af0-9d1a-46fa846e7788"
      },
      "execution_count": 46,
      "outputs": [
        {
          "output_type": "display_data",
          "data": {
            "text/plain": [
              "<Figure size 1080x576 with 2 Axes>"
            ],
            "image/png": "[encoded data removed]"
          },
          "metadata": {
            "needs_background": "light"
          }
        }
      ]
    },
    {
      "cell_type": "markdown",
      "source": [
        "## 03.05. Tasa de atraso por temporada"
      ],
      "metadata": {
        "id": "hPevfsn35AsE"
      }
    },
    {
      "cell_type": "markdown",
      "source": [
        "Aunque de manera absoluta hay una diferencia casi del doble tanto en la cantidad de vuelos como de retrasos, de manera relativa el comportamiento de las temporadas es casi similar."
      ],
      "metadata": {
        "id": "WtNWnarttq4m"
      }
    },
    {
      "cell_type": "code",
      "source": [
        "df_atraso_por_temporada = dataframe_atraso_por(df_atraso, 'temporada_alta')\n",
        "df_atraso_por_temporada"
      ],
      "metadata": {
        "id": "7gf1u50c0jX9",
        "colab": {
          "base_uri": "https://localhost:8080/",
          "height": 112
        },
        "outputId": "3025c89c-307e-4cb5-b83f-c111f2820995"
      },
      "execution_count": 47,
      "outputs": [
        {
          "output_type": "execute_result",
          "data": {
            "text/plain": [
              "  temporada_alta  porcentaje_vuelos_con_atraso  porcentaje_vuelos_sin_atraso  \\\n",
              "0              0                         17.92                         82.08   \n",
              "1              1                         19.64                         80.36   \n",
              "\n",
              "   vuelos_con_atraso  vuelos_sin_atraso  vuelos_total  \n",
              "0               8144              37300         45444  \n",
              "1               4470              18292         22762  "
            ],
            "text/html": [
              "\n",
              "  <div id=\"df-44b8f023-a038-427b-8c87-f4042e9ffe0c\">\n",
              "    <div class=\"colab-df-container\">\n",
              "      <div>\n",
              "<style scoped>\n",
              "    .dataframe tbody tr th:only-of-type {\n",
              "        vertical-align: middle;\n",
              "    }\n",
              "\n",
              "    .dataframe tbody tr th {\n",
              "        vertical-align: top;\n",
              "    }\n",
              "\n",
              "    .dataframe thead th {\n",
              "        text-align: right;\n",
              "    }\n",
              "</style>\n",
              "<table border=\"1\" class=\"dataframe\">\n",
              "  <thead>\n",
              "    <tr style=\"text-align: right;\">\n",
              "      <th></th>\n",
              "      <th>temporada_alta</th>\n",
              "      <th>porcentaje_vuelos_con_atraso</th>\n",
              "      <th>porcentaje_vuelos_sin_atraso</th>\n",
              "      <th>vuelos_con_atraso</th>\n",
              "      <th>vuelos_sin_atraso</th>\n",
              "      <th>vuelos_total</th>\n",
              "    </tr>\n",
              "  </thead>\n",
              "  <tbody>\n",
              "    <tr>\n",
              "      <th>0</th>\n",
              "      <td>0</td>\n",
              "      <td>17.92</td>\n",
              "      <td>82.08</td>\n",
              "      <td>8144</td>\n",
              "      <td>37300</td>\n",
              "      <td>45444</td>\n",
              "    </tr>\n",
              "    <tr>\n",
              "      <th>1</th>\n",
              "      <td>1</td>\n",
              "      <td>19.64</td>\n",
              "      <td>80.36</td>\n",
              "      <td>4470</td>\n",
              "      <td>18292</td>\n",
              "      <td>22762</td>\n",
              "    </tr>\n",
              "  </tbody>\n",
              "</table>\n",
              "</div>\n",
              "      <button class=\"colab-df-convert\" onclick=\"convertToInteractive('df-44b8f023-a038-427b-8c87-f4042e9ffe0c')\"\n",
              "              title=\"Convert this dataframe to an interactive table.\"\n",
              "              style=\"display:none;\">\n",
              "        \n",
              "  <svg xmlns=\"http://www.w3.org/2000/svg\" height=\"24px\"viewBox=\"0 0 24 24\"\n",
              "       width=\"24px\">\n",
              "    <path d=\"M0 0h24v24H0V0z\" fill=\"none\"/>\n",
              "    <path d=\"M18.56 5.44l.94 2.06.94-2.06 2.06-.94-2.06-.94-.94-2.06-.94 2.06-2.06.94zm-11 1L8.5 8.5l.94-2.06 2.06-.94-2.06-.94L8.5 2.5l-.94 2.06-2.06.94zm10 10l.94 2.06.94-2.06 2.06-.94-2.06-.94-.94-2.06-.94 2.06-2.06.94z\"/><path d=\"M17.41 7.96l-1.37-1.37c-.4-.4-.92-.59-1.43-.59-.52 0-1.04.2-1.43.59L10.3 9.45l-7.72 7.72c-.78.78-.78 2.05 0 2.83L4 21.41c.39.39.9.59 1.41.59.51 0 1.02-.2 1.41-.59l7.78-7.78 2.81-2.81c.8-.78.8-2.07 0-2.86zM5.41 20L4 18.59l7.72-7.72 1.47 1.35L5.41 20z\"/>\n",
              "  </svg>\n",
              "      </button>\n",
              "      \n",
              "  <style>\n",
              "    .colab-df-container {\n",
              "      display:flex;\n",
              "      flex-wrap:wrap;\n",
              "      gap: 12px;\n",
              "    }\n",
              "\n",
              "    .colab-df-convert {\n",
              "      background-color: #E8F0FE;\n",
              "      border: none;\n",
              "      border-radius: 50%;\n",
              "      cursor: pointer;\n",
              "      display: none;\n",
              "      fill: #1967D2;\n",
              "      height: 32px;\n",
              "      padding: 0 0 0 0;\n",
              "      width: 32px;\n",
              "    }\n",
              "\n",
              "    .colab-df-convert:hover {\n",
              "      background-color: #E2EBFA;\n",
              "      box-shadow: 0px 1px 2px rgba(60, 64, 67, 0.3), 0px 1px 3px 1px rgba(60, 64, 67, 0.15);\n",
              "      fill: #174EA6;\n",
              "    }\n",
              "\n",
              "    [theme=dark] .colab-df-convert {\n",
              "      background-color: #3B4455;\n",
              "      fill: #D2E3FC;\n",
              "    }\n",
              "\n",
              "    [theme=dark] .colab-df-convert:hover {\n",
              "      background-color: #434B5C;\n",
              "      box-shadow: 0px 1px 3px 1px rgba(0, 0, 0, 0.15);\n",
              "      filter: drop-shadow(0px 1px 2px rgba(0, 0, 0, 0.3));\n",
              "      fill: #FFFFFF;\n",
              "    }\n",
              "  </style>\n",
              "\n",
              "      <script>\n",
              "        const buttonEl =\n",
              "          document.querySelector('#df-44b8f023-a038-427b-8c87-f4042e9ffe0c button.colab-df-convert');\n",
              "        buttonEl.style.display =\n",
              "          google.colab.kernel.accessAllowed ? 'block' : 'none';\n",
              "\n",
              "        async function convertToInteractive(key) {\n",
              "          const element = document.querySelector('#df-44b8f023-a038-427b-8c87-f4042e9ffe0c');\n",
              "          const dataTable =\n",
              "            await google.colab.kernel.invokeFunction('convertToInteractive',\n",
              "                                                     [key], {});\n",
              "          if (!dataTable) return;\n",
              "\n",
              "          const docLinkHtml = 'Like what you see? Visit the ' +\n",
              "            '<a target=\"_blank\" href=https://colab.research.google.com/notebooks/data_table.ipynb>data table notebook</a>'\n",
              "            + ' to learn more about interactive tables.';\n",
              "          element.innerHTML = '';\n",
              "          dataTable['output_type'] = 'display_data';\n",
              "          await google.colab.output.renderOutput(dataTable, element);\n",
              "          const docLink = document.createElement('div');\n",
              "          docLink.innerHTML = docLinkHtml;\n",
              "          element.appendChild(docLink);\n",
              "        }\n",
              "      </script>\n",
              "    </div>\n",
              "  </div>\n",
              "  "
            ]
          },
          "metadata": {},
          "execution_count": 47
        }
      ]
    },
    {
      "cell_type": "code",
      "source": [
        "plot_absoluto_porcentual(df_atraso_por_temporada, 'temporada_alta', 15, 4)"
      ],
      "metadata": {
        "id": "mckdmeDt0jDn",
        "colab": {
          "base_uri": "https://localhost:8080/",
          "height": 285
        },
        "outputId": "c75ab58f-5f87-4c09-c817-20df3e25d755"
      },
      "execution_count": 48,
      "outputs": [
        {
          "output_type": "display_data",
          "data": {
            "text/plain": [
              "<Figure size 1080x288 with 2 Axes>"
            ],
            "image/png": "[encoded data removed]"
          },
          "metadata": {
            "needs_background": "light"
          }
        }
      ]
    },
    {
      "cell_type": "markdown",
      "source": [
        "## 03.06. Tasa de atraso por tipo de vuelo"
      ],
      "metadata": {
        "id": "UTIzuFRn5HY4"
      }
    },
    {
      "cell_type": "markdown",
      "source": [
        "Puede notarse que aun cuando hay una menor cantidad de vuelos internacionales que nacionales, los primero presentan una mayor cantidad de atrasos, por lo cual parece ser una característica relevante, que evidentemente podría relacionarse con la variable de destino, si se incluyera información extra en el dataset."
      ],
      "metadata": {
        "id": "CxaZawcyuTF-"
      }
    },
    {
      "cell_type": "code",
      "source": [
        "df_atraso_por_tipo_vuelo = dataframe_atraso_por(df_atraso, 'TIPOVUELO')\n",
        "df_atraso_por_tipo_vuelo"
      ],
      "metadata": {
        "id": "MwEFUYCV0jBb",
        "colab": {
          "base_uri": "https://localhost:8080/",
          "height": 112
        },
        "outputId": "f635fea5-a77a-4e55-bf9c-31a787642c0d"
      },
      "execution_count": 49,
      "outputs": [
        {
          "output_type": "execute_result",
          "data": {
            "text/plain": [
              "  TIPOVUELO  porcentaje_vuelos_con_atraso  porcentaje_vuelos_sin_atraso  \\\n",
              "0         I                         22.56                         77.44   \n",
              "1         N                         15.06                         84.94   \n",
              "\n",
              "   vuelos_con_atraso  vuelos_sin_atraso  vuelos_total  \n",
              "0               7048              24192         31240  \n",
              "1               5566              31400         36966  "
            ],
            "text/html": [
              "\n",
              "  <div id=\"df-94aee39d-7088-498d-b1f8-3c114bbd0f0c\">\n",
              "    <div class=\"colab-df-container\">\n",
              "      <div>\n",
              "<style scoped>\n",
              "    .dataframe tbody tr th:only-of-type {\n",
              "        vertical-align: middle;\n",
              "    }\n",
              "\n",
              "    .dataframe tbody tr th {\n",
              "        vertical-align: top;\n",
              "    }\n",
              "\n",
              "    .dataframe thead th {\n",
              "        text-align: right;\n",
              "    }\n",
              "</style>\n",
              "<table border=\"1\" class=\"dataframe\">\n",
              "  <thead>\n",
              "    <tr style=\"text-align: right;\">\n",
              "      <th></th>\n",
              "      <th>TIPOVUELO</th>\n",
              "      <th>porcentaje_vuelos_con_atraso</th>\n",
              "      <th>porcentaje_vuelos_sin_atraso</th>\n",
              "      <th>vuelos_con_atraso</th>\n",
              "      <th>vuelos_sin_atraso</th>\n",
              "      <th>vuelos_total</th>\n",
              "    </tr>\n",
              "  </thead>\n",
              "  <tbody>\n",
              "    <tr>\n",
              "      <th>0</th>\n",
              "      <td>I</td>\n",
              "      <td>22.56</td>\n",
              "      <td>77.44</td>\n",
              "      <td>7048</td>\n",
              "      <td>24192</td>\n",
              "      <td>31240</td>\n",
              "    </tr>\n",
              "    <tr>\n",
              "      <th>1</th>\n",
              "      <td>N</td>\n",
              "      <td>15.06</td>\n",
              "      <td>84.94</td>\n",
              "      <td>5566</td>\n",
              "      <td>31400</td>\n",
              "      <td>36966</td>\n",
              "    </tr>\n",
              "  </tbody>\n",
              "</table>\n",
              "</div>\n",
              "      <button class=\"colab-df-convert\" onclick=\"convertToInteractive('df-94aee39d-7088-498d-b1f8-3c114bbd0f0c')\"\n",
              "              title=\"Convert this dataframe to an interactive table.\"\n",
              "              style=\"display:none;\">\n",
              "        \n",
              "  <svg xmlns=\"http://www.w3.org/2000/svg\" height=\"24px\"viewBox=\"0 0 24 24\"\n",
              "       width=\"24px\">\n",
              "    <path d=\"M0 0h24v24H0V0z\" fill=\"none\"/>\n",
              "    <path d=\"M18.56 5.44l.94 2.06.94-2.06 2.06-.94-2.06-.94-.94-2.06-.94 2.06-2.06.94zm-11 1L8.5 8.5l.94-2.06 2.06-.94-2.06-.94L8.5 2.5l-.94 2.06-2.06.94zm10 10l.94 2.06.94-2.06 2.06-.94-2.06-.94-.94-2.06-.94 2.06-2.06.94z\"/><path d=\"M17.41 7.96l-1.37-1.37c-.4-.4-.92-.59-1.43-.59-.52 0-1.04.2-1.43.59L10.3 9.45l-7.72 7.72c-.78.78-.78 2.05 0 2.83L4 21.41c.39.39.9.59 1.41.59.51 0 1.02-.2 1.41-.59l7.78-7.78 2.81-2.81c.8-.78.8-2.07 0-2.86zM5.41 20L4 18.59l7.72-7.72 1.47 1.35L5.41 20z\"/>\n",
              "  </svg>\n",
              "      </button>\n",
              "      \n",
              "  <style>\n",
              "    .colab-df-container {\n",
              "      display:flex;\n",
              "      flex-wrap:wrap;\n",
              "      gap: 12px;\n",
              "    }\n",
              "\n",
              "    .colab-df-convert {\n",
              "      background-color: #E8F0FE;\n",
              "      border: none;\n",
              "      border-radius: 50%;\n",
              "      cursor: pointer;\n",
              "      display: none;\n",
              "      fill: #1967D2;\n",
              "      height: 32px;\n",
              "      padding: 0 0 0 0;\n",
              "      width: 32px;\n",
              "    }\n",
              "\n",
              "    .colab-df-convert:hover {\n",
              "      background-color: #E2EBFA;\n",
              "      box-shadow: 0px 1px 2px rgba(60, 64, 67, 0.3), 0px 1px 3px 1px rgba(60, 64, 67, 0.15);\n",
              "      fill: #174EA6;\n",
              "    }\n",
              "\n",
              "    [theme=dark] .colab-df-convert {\n",
              "      background-color: #3B4455;\n",
              "      fill: #D2E3FC;\n",
              "    }\n",
              "\n",
              "    [theme=dark] .colab-df-convert:hover {\n",
              "      background-color: #434B5C;\n",
              "      box-shadow: 0px 1px 3px 1px rgba(0, 0, 0, 0.15);\n",
              "      filter: drop-shadow(0px 1px 2px rgba(0, 0, 0, 0.3));\n",
              "      fill: #FFFFFF;\n",
              "    }\n",
              "  </style>\n",
              "\n",
              "      <script>\n",
              "        const buttonEl =\n",
              "          document.querySelector('#df-94aee39d-7088-498d-b1f8-3c114bbd0f0c button.colab-df-convert');\n",
              "        buttonEl.style.display =\n",
              "          google.colab.kernel.accessAllowed ? 'block' : 'none';\n",
              "\n",
              "        async function convertToInteractive(key) {\n",
              "          const element = document.querySelector('#df-94aee39d-7088-498d-b1f8-3c114bbd0f0c');\n",
              "          const dataTable =\n",
              "            await google.colab.kernel.invokeFunction('convertToInteractive',\n",
              "                                                     [key], {});\n",
              "          if (!dataTable) return;\n",
              "\n",
              "          const docLinkHtml = 'Like what you see? Visit the ' +\n",
              "            '<a target=\"_blank\" href=https://colab.research.google.com/notebooks/data_table.ipynb>data table notebook</a>'\n",
              "            + ' to learn more about interactive tables.';\n",
              "          element.innerHTML = '';\n",
              "          dataTable['output_type'] = 'display_data';\n",
              "          await google.colab.output.renderOutput(dataTable, element);\n",
              "          const docLink = document.createElement('div');\n",
              "          docLink.innerHTML = docLinkHtml;\n",
              "          element.appendChild(docLink);\n",
              "        }\n",
              "      </script>\n",
              "    </div>\n",
              "  </div>\n",
              "  "
            ]
          },
          "metadata": {},
          "execution_count": 49
        }
      ]
    },
    {
      "cell_type": "code",
      "source": [
        "plot_absoluto_porcentual(df_atraso_por_tipo_vuelo, 'TIPOVUELO', 15, 4)"
      ],
      "metadata": {
        "id": "2TXbvW8I5YrD",
        "colab": {
          "base_uri": "https://localhost:8080/",
          "height": 285
        },
        "outputId": "e3fc862b-2d1c-498c-86a9-9c9ca5dab9c8"
      },
      "execution_count": 50,
      "outputs": [
        {
          "output_type": "display_data",
          "data": {
            "text/plain": [
              "<Figure size 1080x288 with 2 Axes>"
            ],
            "image/png": "[encoded data removed]"
          },
          "metadata": {
            "needs_background": "light"
          }
        }
      ]
    },
    {
      "cell_type": "markdown",
      "source": [
        "## 03.07. Expectativa en relación a las variables más influyentes en el modelo"
      ],
      "metadata": {
        "id": "2TcAA0ca5ZSP"
      }
    },
    {
      "cell_type": "markdown",
      "source": [
        "Acorde a los hallazgos presentados el conjunto de numerales anteriores se espera que las variables que puedan llegar a tener mayor relevancia en el modelo son inicialmente el destino y la aerolínea pues son las que de manera relativa presentan una distribución muy diferenciada para sus grupos. Si bien son variables categóricas de alta cardinalidad, pueden intentar trabajarse como están (si el volumen de datos no es muy grande), o puede analizarse el criterio de agregación para tener grupos más reducidos (como el de la tasa de retrasos por ejemplo). \n",
        "\n",
        "Indirectamente también en el destino también ya estaría incluido si el vuelo es internacional o no, que es otro criterio que muestra alguna relevancia. \n",
        "\n",
        "Las variables restantes como el periodo de al año y el dia de la seman también se estima que tendrán contribución pero se espera que sea menos que las inicialmente descritas.\n",
        "\n"
      ],
      "metadata": {
        "id": "YvZ_fxvYAiE7"
      }
    },
    {
      "cell_type": "markdown",
      "source": [
        "# Sección 04. Entrenamiento de modelos propuestos"
      ],
      "metadata": {
        "id": "QIFBj4WTx-6v"
      }
    },
    {
      "cell_type": "markdown",
      "source": [
        "En la actual sección se presenta el pipeline que compone el procesamiento de datos y entrenamiento de 3 modelos base: Logistic Regression, Decision Tree Classifier y Xgboost. De manera adicional se presenta la alternativa para la evaluación de un conjunto más amplio de modelos a partir del uso de la librería de AutoML Pycaret."
      ],
      "metadata": {
        "id": "1zjV0w7ecE34"
      }
    },
    {
      "cell_type": "markdown",
      "source": [
        "## 04.01. Generación del dataset base para el entrenamiento y evaluación de los modelos"
      ],
      "metadata": {
        "id": "NR-TqiFN1wLZ"
      }
    },
    {
      "cell_type": "markdown",
      "source": [
        "### ---> Parámetros de los transformadores\n",
        "Definimos cada uno de los parámetros de entrada que deben tener los transformadores para nuestro pipeline. Incluimos columnas adicionales para que en la salida esten todas las columnas que deseamos evaluar. \n",
        "\n",
        "Las únicas columnas que incluiremos como entrada serán aquellas que se pueden tener al momento de hacer una predicción Es decir las que tienen asociado el índice `I` que se asume debe corresponder a Itinerado. No tiene sentido alguno incluir las columnas con la característica de operador pues estas no se conocen al momento de hacer la predicción."
      ],
      "metadata": {
        "id": "tCFPObq8cYFs"
      }
    },
    {
      "cell_type": "code",
      "source": [
        "params_FeatureSelector = {}\n",
        "params_FeatureSelector['feature_names']= ['Fecha-I', \n",
        "                                          'Des-I',\n",
        "                                          'Emp-I', \n",
        "                                          'TIPOVUELO', \n",
        "                                          'Fecha-O',\n",
        "                                         ]\n",
        "\n",
        "params_DateType = {}\n",
        "params_DateType['cols_dates']= ['Fecha-I', 'Fecha-O']\n",
        "\n",
        "params_TemporadaAlta = {}\n",
        "params_TemporadaAlta['columna_fecha']= 'Fecha-I'\n",
        "\n",
        "params_DifMin = {}\n",
        "\n",
        "params_Atraso15 = params_DifMin\n",
        "\n",
        "params_PeriodoDia = params_TemporadaAlta\n",
        "\n",
        "params_OrderOutput = {}\n",
        "params_OrderOutput['feature_names']= ['Des-I',\n",
        "                                      'Emp-I', \n",
        "                                      'TIPOVUELO',\n",
        "                                      'temporada_alta',\n",
        "                                      'periodo_dia',\n",
        "                                      'atraso_15'\t\n",
        "                                      ]"
      ],
      "metadata": {
        "id": "R6wnH8pZhRMd"
      },
      "execution_count": 51,
      "outputs": []
    },
    {
      "cell_type": "markdown",
      "source": [
        "### ---> Instanciamiento de los Transformadores"
      ],
      "metadata": {
        "id": "09jEaGDwc52F"
      }
    },
    {
      "cell_type": "code",
      "source": [
        "Transformer_FeatureSelector = FeatureSelector(params_FeatureSelector)\n",
        "Transformer_DateType = DateType(params_DateType)\n",
        "Transformer_TemporadaAlta = TemporadaAlta(params_TemporadaAlta)\n",
        "Transformer_DifMin = DifMin(params_DifMin)\n",
        "Transformer_Atraso15 = Atraso15(params_Atraso15)\n",
        "Transformer_PeriodoDia = PeriodoDia(params_PeriodoDia)\n",
        "Transformer_OrderOutput = OrderOutput(params_OrderOutput)"
      ],
      "metadata": {
        "id": "224I3r0XhRJ7"
      },
      "execution_count": 52,
      "outputs": []
    },
    {
      "cell_type": "markdown",
      "source": [
        "### ---> Instanciamiento del Pipeline"
      ],
      "metadata": {
        "id": "N_bXu-XQdTAL"
      }
    },
    {
      "cell_type": "code",
      "source": [
        "pipeline_data_model = Pipeline(steps=[('NameFeatureSelector', Transformer_FeatureSelector),\n",
        "                              ('NameDateType', Transformer_DateType),\n",
        "                              ('NameTemporadaAlta', Transformer_TemporadaAlta),\n",
        "                              ('NameDifMin', Transformer_DifMin),\n",
        "                              ('NameDateAtraso15', Transformer_Atraso15),\n",
        "                              ('NamePeriodoDia', Transformer_PeriodoDia),\n",
        "                              ('NameOrderOutput', Transformer_OrderOutput)\n",
        "                              ])"
      ],
      "metadata": {
        "id": "T1mMdbF-hRHh"
      },
      "execution_count": 53,
      "outputs": []
    },
    {
      "cell_type": "markdown",
      "source": [
        "### ---> Obtención del dataframe base para el modelo"
      ],
      "metadata": {
        "id": "EAqOyNwTdYJc"
      }
    },
    {
      "cell_type": "code",
      "source": [
        "df_data_model = pipeline_data_model.transform(df_raw)\n",
        "df_data_model"
      ],
      "metadata": {
        "colab": {
          "base_uri": "https://localhost:8080/",
          "height": 423
        },
        "id": "ITdwoA96yKpz",
        "outputId": "0f0e96e3-0c62-4bc2-f241-c18ee0a91889"
      },
      "execution_count": 54,
      "outputs": [
        {
          "output_type": "execute_result",
          "data": {
            "text/plain": [
              "      Des-I Emp-I TIPOVUELO  temporada_alta periodo_dia  atraso_15\n",
              "0      KMIA   AAL         I               1       noche          0\n",
              "1      KMIA   AAL         I               1       noche          0\n",
              "2      KMIA   AAL         I               1       noche          0\n",
              "3      KMIA   AAL         I               1       noche          0\n",
              "4      KMIA   AAL         I               1       noche          0\n",
              "...     ...   ...       ...             ...         ...        ...\n",
              "68201  SPJC   JAT         I               1       tarde          1\n",
              "68202  SPJC   JAT         I               1       tarde          1\n",
              "68203  SPJC   JAT         I               1       tarde          1\n",
              "68204  SPJC   JAT         I               1       tarde          0\n",
              "68205  SPJC   JAT         I               1       tarde          0\n",
              "\n",
              "[68206 rows x 6 columns]"
            ],
            "text/html": [
              "\n",
              "  <div id=\"df-91973ee6-7bac-4527-96e9-1689b02761f2\">\n",
              "    <div class=\"colab-df-container\">\n",
              "      <div>\n",
              "<style scoped>\n",
              "    .dataframe tbody tr th:only-of-type {\n",
              "        vertical-align: middle;\n",
              "    }\n",
              "\n",
              "    .dataframe tbody tr th {\n",
              "        vertical-align: top;\n",
              "    }\n",
              "\n",
              "    .dataframe thead th {\n",
              "        text-align: right;\n",
              "    }\n",
              "</style>\n",
              "<table border=\"1\" class=\"dataframe\">\n",
              "  <thead>\n",
              "    <tr style=\"text-align: right;\">\n",
              "      <th></th>\n",
              "      <th>Des-I</th>\n",
              "      <th>Emp-I</th>\n",
              "      <th>TIPOVUELO</th>\n",
              "      <th>temporada_alta</th>\n",
              "      <th>periodo_dia</th>\n",
              "      <th>atraso_15</th>\n",
              "    </tr>\n",
              "  </thead>\n",
              "  <tbody>\n",
              "    <tr>\n",
              "      <th>0</th>\n",
              "      <td>KMIA</td>\n",
              "      <td>AAL</td>\n",
              "      <td>I</td>\n",
              "      <td>1</td>\n",
              "      <td>noche</td>\n",
              "      <td>0</td>\n",
              "    </tr>\n",
              "    <tr>\n",
              "      <th>1</th>\n",
              "      <td>KMIA</td>\n",
              "      <td>AAL</td>\n",
              "      <td>I</td>\n",
              "      <td>1</td>\n",
              "      <td>noche</td>\n",
              "      <td>0</td>\n",
              "    </tr>\n",
              "    <tr>\n",
              "      <th>2</th>\n",
              "      <td>KMIA</td>\n",
              "      <td>AAL</td>\n",
              "      <td>I</td>\n",
              "      <td>1</td>\n",
              "      <td>noche</td>\n",
              "      <td>0</td>\n",
              "    </tr>\n",
              "    <tr>\n",
              "      <th>3</th>\n",
              "      <td>KMIA</td>\n",
              "      <td>AAL</td>\n",
              "      <td>I</td>\n",
              "      <td>1</td>\n",
              "      <td>noche</td>\n",
              "      <td>0</td>\n",
              "    </tr>\n",
              "    <tr>\n",
              "      <th>4</th>\n",
              "      <td>KMIA</td>\n",
              "      <td>AAL</td>\n",
              "      <td>I</td>\n",
              "      <td>1</td>\n",
              "      <td>noche</td>\n",
              "      <td>0</td>\n",
              "    </tr>\n",
              "    <tr>\n",
              "      <th>...</th>\n",
              "      <td>...</td>\n",
              "      <td>...</td>\n",
              "      <td>...</td>\n",
              "      <td>...</td>\n",
              "      <td>...</td>\n",
              "      <td>...</td>\n",
              "    </tr>\n",
              "    <tr>\n",
              "      <th>68201</th>\n",
              "      <td>SPJC</td>\n",
              "      <td>JAT</td>\n",
              "      <td>I</td>\n",
              "      <td>1</td>\n",
              "      <td>tarde</td>\n",
              "      <td>1</td>\n",
              "    </tr>\n",
              "    <tr>\n",
              "      <th>68202</th>\n",
              "      <td>SPJC</td>\n",
              "      <td>JAT</td>\n",
              "      <td>I</td>\n",
              "      <td>1</td>\n",
              "      <td>tarde</td>\n",
              "      <td>1</td>\n",
              "    </tr>\n",
              "    <tr>\n",
              "      <th>68203</th>\n",
              "      <td>SPJC</td>\n",
              "      <td>JAT</td>\n",
              "      <td>I</td>\n",
              "      <td>1</td>\n",
              "      <td>tarde</td>\n",
              "      <td>1</td>\n",
              "    </tr>\n",
              "    <tr>\n",
              "      <th>68204</th>\n",
              "      <td>SPJC</td>\n",
              "      <td>JAT</td>\n",
              "      <td>I</td>\n",
              "      <td>1</td>\n",
              "      <td>tarde</td>\n",
              "      <td>0</td>\n",
              "    </tr>\n",
              "    <tr>\n",
              "      <th>68205</th>\n",
              "      <td>SPJC</td>\n",
              "      <td>JAT</td>\n",
              "      <td>I</td>\n",
              "      <td>1</td>\n",
              "      <td>tarde</td>\n",
              "      <td>0</td>\n",
              "    </tr>\n",
              "  </tbody>\n",
              "</table>\n",
              "<p>68206 rows × 6 columns</p>\n",
              "</div>\n",
              "      <button class=\"colab-df-convert\" onclick=\"convertToInteractive('df-91973ee6-7bac-4527-96e9-1689b02761f2')\"\n",
              "              title=\"Convert this dataframe to an interactive table.\"\n",
              "              style=\"display:none;\">\n",
              "        \n",
              "  <svg xmlns=\"http://www.w3.org/2000/svg\" height=\"24px\"viewBox=\"0 0 24 24\"\n",
              "       width=\"24px\">\n",
              "    <path d=\"M0 0h24v24H0V0z\" fill=\"none\"/>\n",
              "    <path d=\"M18.56 5.44l.94 2.06.94-2.06 2.06-.94-2.06-.94-.94-2.06-.94 2.06-2.06.94zm-11 1L8.5 8.5l.94-2.06 2.06-.94-2.06-.94L8.5 2.5l-.94 2.06-2.06.94zm10 10l.94 2.06.94-2.06 2.06-.94-2.06-.94-.94-2.06-.94 2.06-2.06.94z\"/><path d=\"M17.41 7.96l-1.37-1.37c-.4-.4-.92-.59-1.43-.59-.52 0-1.04.2-1.43.59L10.3 9.45l-7.72 7.72c-.78.78-.78 2.05 0 2.83L4 21.41c.39.39.9.59 1.41.59.51 0 1.02-.2 1.41-.59l7.78-7.78 2.81-2.81c.8-.78.8-2.07 0-2.86zM5.41 20L4 18.59l7.72-7.72 1.47 1.35L5.41 20z\"/>\n",
              "  </svg>\n",
              "      </button>\n",
              "      \n",
              "  <style>\n",
              "    .colab-df-container {\n",
              "      display:flex;\n",
              "      flex-wrap:wrap;\n",
              "      gap: 12px;\n",
              "    }\n",
              "\n",
              "    .colab-df-convert {\n",
              "      background-color: #E8F0FE;\n",
              "      border: none;\n",
              "      border-radius: 50%;\n",
              "      cursor: pointer;\n",
              "      display: none;\n",
              "      fill: #1967D2;\n",
              "      height: 32px;\n",
              "      padding: 0 0 0 0;\n",
              "      width: 32px;\n",
              "    }\n",
              "\n",
              "    .colab-df-convert:hover {\n",
              "      background-color: #E2EBFA;\n",
              "      box-shadow: 0px 1px 2px rgba(60, 64, 67, 0.3), 0px 1px 3px 1px rgba(60, 64, 67, 0.15);\n",
              "      fill: #174EA6;\n",
              "    }\n",
              "\n",
              "    [theme=dark] .colab-df-convert {\n",
              "      background-color: #3B4455;\n",
              "      fill: #D2E3FC;\n",
              "    }\n",
              "\n",
              "    [theme=dark] .colab-df-convert:hover {\n",
              "      background-color: #434B5C;\n",
              "      box-shadow: 0px 1px 3px 1px rgba(0, 0, 0, 0.15);\n",
              "      filter: drop-shadow(0px 1px 2px rgba(0, 0, 0, 0.3));\n",
              "      fill: #FFFFFF;\n",
              "    }\n",
              "  </style>\n",
              "\n",
              "      <script>\n",
              "        const buttonEl =\n",
              "          document.querySelector('#df-91973ee6-7bac-4527-96e9-1689b02761f2 button.colab-df-convert');\n",
              "        buttonEl.style.display =\n",
              "          google.colab.kernel.accessAllowed ? 'block' : 'none';\n",
              "\n",
              "        async function convertToInteractive(key) {\n",
              "          const element = document.querySelector('#df-91973ee6-7bac-4527-96e9-1689b02761f2');\n",
              "          const dataTable =\n",
              "            await google.colab.kernel.invokeFunction('convertToInteractive',\n",
              "                                                     [key], {});\n",
              "          if (!dataTable) return;\n",
              "\n",
              "          const docLinkHtml = 'Like what you see? Visit the ' +\n",
              "            '<a target=\"_blank\" href=https://colab.research.google.com/notebooks/data_table.ipynb>data table notebook</a>'\n",
              "            + ' to learn more about interactive tables.';\n",
              "          element.innerHTML = '';\n",
              "          dataTable['output_type'] = 'display_data';\n",
              "          await google.colab.output.renderOutput(dataTable, element);\n",
              "          const docLink = document.createElement('div');\n",
              "          docLink.innerHTML = docLinkHtml;\n",
              "          element.appendChild(docLink);\n",
              "        }\n",
              "      </script>\n",
              "    </div>\n",
              "  </div>\n",
              "  "
            ]
          },
          "metadata": {},
          "execution_count": 54
        }
      ]
    },
    {
      "cell_type": "markdown",
      "source": [
        "## 04.02. Pipeline de transformación de datos para consumo del modelo\n",
        "Dado que el dataframe base que hemos elegido para el modelo contiene únicamente columnas categóricas generaremos un pipeline de transformación que presenta solo una etapa de `one hot encoding`. Esta etapa puede hacerse más compleja en la medida que deseemos hacer diferentes tipo de transformaciones sobre nuestro dataset base."
      ],
      "metadata": {
        "id": "8eCl8ehm2Byj"
      }
    },
    {
      "cell_type": "markdown",
      "source": [
        "### ---> Separación entre target y variables de entrenamiento"
      ],
      "metadata": {
        "id": "p26MKn3ZetpZ"
      }
    },
    {
      "cell_type": "code",
      "source": [
        "X = df_data_model.drop('atraso_15', axis=1)\n",
        "y = df_data_model.atraso_15"
      ],
      "metadata": {
        "id": "KjARMttzzXsc"
      },
      "execution_count": 55,
      "outputs": []
    },
    {
      "cell_type": "markdown",
      "source": [
        "### ---> Definición de columnas sobre las que se aplicará la transformación"
      ],
      "metadata": {
        "id": "1s9PtIZne7z6"
      }
    },
    {
      "cell_type": "code",
      "source": [
        "ohe_cols = ['Des-I', 'Emp-I', 'TIPOVUELO', 'temporada_alta', 'periodo_dia']"
      ],
      "metadata": {
        "id": "ZXU3rPdIzXpi"
      },
      "execution_count": 56,
      "outputs": []
    },
    {
      "cell_type": "markdown",
      "source": [
        "### ---> Pipeline implementado y aplicado"
      ],
      "metadata": {
        "id": "MYpzd4fAfJRd"
      }
    },
    {
      "cell_type": "code",
      "source": [
        "ohe_transformer = ColumnTransformer(\n",
        "                    transformers=\n",
        "                    [('ohe', OneHotEncoder(), ohe_cols)], remainder='passthrough'\n",
        "                    )"
      ],
      "metadata": {
        "id": "WIBdli1_zXlm"
      },
      "execution_count": 57,
      "outputs": []
    },
    {
      "cell_type": "code",
      "source": [
        "pipeline_model = Pipeline(steps=[('ohe_transformer', ohe_transformer)])"
      ],
      "metadata": {
        "id": "H5Qk11-gzXjV"
      },
      "execution_count": 58,
      "outputs": []
    },
    {
      "cell_type": "code",
      "source": [
        "X_prep = pipeline_model.fit_transform(X)"
      ],
      "metadata": {
        "id": "TpV40t8yzXhU"
      },
      "execution_count": 59,
      "outputs": []
    },
    {
      "cell_type": "markdown",
      "source": [
        "## 04.03. Train - Test split"
      ],
      "metadata": {
        "id": "NtCbd0X81b1n"
      }
    },
    {
      "cell_type": "markdown",
      "source": [
        "Una vez se ha hecho la transformación sobre el dataset de entrada es necesario generar la separación entre los datos de entrenamiento y los datos de prueba. En este caso es importante destacar que se trata de un dataset desbalanceado en una proporción aproximada de 80/20 donde la clase minoritaria corresponde precisamente con la etiqueta de interés: los vuelos que presentaron retraso.\n",
        "\n",
        "Es por ello que al momento de hacer el `train - test split` se debe incluir el parámetro `stratify` que tiene en cuenta esta distribución de las clases, y la mantiene cuando separa los datos de entrenamiento y evaluación. \n",
        "\n",
        "Se incluye una evidencia que da cuenta de que la proporción se mantiene en los datos posteriores al split.\n"
      ],
      "metadata": {
        "id": "LtPIHhL7fP6p"
      }
    },
    {
      "cell_type": "code",
      "source": [
        "X_train, X_test, y_train, y_test = train_test_split(X_prep, y, stratify=y, test_size=0.3, random_state=42)"
      ],
      "metadata": {
        "id": "dj3aNddizXfB"
      },
      "execution_count": 60,
      "outputs": []
    },
    {
      "cell_type": "code",
      "source": [
        "y.value_counts(normalize=True)"
      ],
      "metadata": {
        "colab": {
          "base_uri": "https://localhost:8080/"
        },
        "id": "oQKymLzlyKj0",
        "outputId": "0c2c17c2-dd39-4918-e4c6-d4b4198f3977"
      },
      "execution_count": 61,
      "outputs": [
        {
          "output_type": "execute_result",
          "data": {
            "text/plain": [
              "0    0.81506\n",
              "1    0.18494\n",
              "Name: atraso_15, dtype: float64"
            ]
          },
          "metadata": {},
          "execution_count": 61
        }
      ]
    },
    {
      "cell_type": "code",
      "source": [
        "y_train.value_counts(normalize=True)"
      ],
      "metadata": {
        "colab": {
          "base_uri": "https://localhost:8080/"
        },
        "id": "ww6uwx-2yKhk",
        "outputId": "5bec3bd1-bf59-4e55-9bda-4e8bb68d0d08"
      },
      "execution_count": 62,
      "outputs": [
        {
          "output_type": "execute_result",
          "data": {
            "text/plain": [
              "0    0.815055\n",
              "1    0.184945\n",
              "Name: atraso_15, dtype: float64"
            ]
          },
          "metadata": {},
          "execution_count": 62
        }
      ]
    },
    {
      "cell_type": "code",
      "source": [
        "y_test.value_counts(normalize=True)"
      ],
      "metadata": {
        "colab": {
          "base_uri": "https://localhost:8080/"
        },
        "id": "8a7Ro1B5yKfN",
        "outputId": "13d5c0d0-035c-43ba-ebc6-0a2b8fb4f777"
      },
      "execution_count": 63,
      "outputs": [
        {
          "output_type": "execute_result",
          "data": {
            "text/plain": [
              "0    0.815072\n",
              "1    0.184928\n",
              "Name: atraso_15, dtype: float64"
            ]
          },
          "metadata": {},
          "execution_count": 63
        }
      ]
    },
    {
      "cell_type": "markdown",
      "source": [
        "## 04.04. Almacenamiento de la data de entrenamiento y evaluación del modelo\n",
        "\n",
        "Con el fin de soportar soportar el desarrollo y permitir cualquier evaluación posterior, se almacenan tanto el dataframe base, como los conjuntos de entrenamiento y test.\n",
        "\n",
        "Estos datasets fueron almacenados también en el folder `data` del repositorio principal."
      ],
      "metadata": {
        "id": "iiBslZsS2siq"
      }
    },
    {
      "cell_type": "code",
      "source": [
        "df_data_model.to_csv('data_model.csv', index=False)\n",
        "pd.DataFrame(X_train.toarray()).to_csv('X_train.csv', index=False)\n",
        "pd.DataFrame(X_test.toarray()).to_csv('X_test.csv', index=False)\n",
        "pd.DataFrame(y_train).to_csv('y_train.csv', index=False)\n",
        "pd.DataFrame(y_test).to_csv('y_test.csv', index=False)"
      ],
      "metadata": {
        "id": "jFzSQRKyyKa4"
      },
      "execution_count": 64,
      "outputs": []
    },
    {
      "cell_type": "markdown",
      "source": [
        "## 04.05. Entrenamiento de los modelos\n",
        "Por último se instancian y se entrenan los 3 modelos propuestos (Logistic Regression, Decision Tree Classifier y Xgboost). Para cada uno de ellos se tiene en cuenta que hay un desbalance entre los datos por lo cual se tienen en cuenta activar el parámetro `class_weight` para los modelos Logistic Regression y Decision Tree Classifier, y el parámetro `scale_pos_weight` de Xgboost.\n",
        "\n",
        "Por último como plus se presenta la alternativa de Pycaret, una librería de AutoML de alto nivel que permite instanciar y evaluar un conjunto mucho más amplio de modelos y transformaciones. Si bien tiene la aproximación de la simplicidad de una librería de AutoML, no es una caja negra y se pueden obtener de manera detallada los hiperparametros y los detalles de cada uno de los procesos que componen lo pipelines de transformación y estimación.\n"
      ],
      "metadata": {
        "id": "scr0fKjV6JV6"
      }
    },
    {
      "cell_type": "markdown",
      "source": [
        "### ---> Logistic Regression"
      ],
      "metadata": {
        "id": "ewx42zTiZmXL"
      }
    },
    {
      "cell_type": "code",
      "source": [
        "lr = LogisticRegression(class_weight = 'balanced', random_state=42)\n",
        "lr_model = lr.fit(X_train, y_train)"
      ],
      "metadata": {
        "id": "TVMTt4Xs5mX6"
      },
      "execution_count": 65,
      "outputs": []
    },
    {
      "cell_type": "markdown",
      "source": [
        "### ---> Decision Tree Classifier"
      ],
      "metadata": {
        "id": "Q7raSeQUZnqD"
      }
    },
    {
      "cell_type": "code",
      "source": [
        "dt = DecisionTreeClassifier(class_weight='balanced', random_state=42)\n",
        "dt_model = dt.fit(X_train, y_train)"
      ],
      "metadata": {
        "id": "JYGi8Z-06ktl"
      },
      "execution_count": 66,
      "outputs": []
    },
    {
      "cell_type": "markdown",
      "source": [
        "### ---> Xgboost"
      ],
      "metadata": {
        "id": "Gn1mOo55ZoOx"
      }
    },
    {
      "cell_type": "code",
      "source": [
        "ratio = len(y_train[y_train == 0])/len(y_train[y_train == 1])\n",
        "xgboost = xgb.XGBClassifier(objective='binary:logistic', scale_pos_weight = ratio, random_state=42)\n",
        "xgboost_model = xgboost.fit(X_train, y_train)"
      ],
      "metadata": {
        "id": "FkOdS5SuN_j9"
      },
      "execution_count": 67,
      "outputs": []
    },
    {
      "cell_type": "markdown",
      "source": [
        "### ---> Pycaret AutoML"
      ],
      "metadata": {
        "id": "-PaZvybf7jl9"
      }
    },
    {
      "cell_type": "code",
      "source": [
        "columnas_interes = ['Des-I', 'Emp-I', 'DIANOM', 'TIPOVUELO', 'temporada_alta','periodo_dia','atraso_15']\n",
        "df_automl = pd.concat([df_raw, df_synthetic_features], axis=1)[columnas_interes]"
      ],
      "metadata": {
        "id": "Hl5KpTEwAis8"
      },
      "execution_count": 68,
      "outputs": []
    },
    {
      "cell_type": "code",
      "source": [
        "clasificacion = setup(data=df_automl,\n",
        "                      target='atraso_15',\n",
        "                      train_size = 0.7,\n",
        "                      session_id=123,\n",
        "                      imputation_type = None,\n",
        "                      feature_selection = False,\n",
        "                      fix_imbalance=True)"
      ],
      "metadata": {
        "colab": {
          "base_uri": "https://localhost:8080/",
          "height": 770
        },
        "id": "KqX6xjZ46kv5",
        "outputId": "875e2ebe-e7a8-46ab-c829-4ac28ff67d79"
      },
      "execution_count": 69,
      "outputs": [
        {
          "output_type": "display_data",
          "data": {
            "text/plain": [
              "<pandas.io.formats.style.Styler at 0x7f2cbd9e30d0>"
            ],
            "text/html": [
              "<style type=\"text/css\">\n",
              "#T_e7f76_row10_col1, #T_e7f76_row14_col1 {\n",
              "  background-color: lightgreen;\n",
              "}\n",
              "</style>\n",
              "<table id=\"T_e7f76\" class=\"dataframe\">\n",
              "  <thead>\n",
              "    <tr>\n",
              "      <th class=\"blank level0\" >&nbsp;</th>\n",
              "      <th id=\"T_e7f76_level0_col0\" class=\"col_heading level0 col0\" >Description</th>\n",
              "      <th id=\"T_e7f76_level0_col1\" class=\"col_heading level0 col1\" >Value</th>\n",
              "    </tr>\n",
              "  </thead>\n",
              "  <tbody>\n",
              "    <tr>\n",
              "      <th id=\"T_e7f76_level0_row0\" class=\"row_heading level0 row0\" >0</th>\n",
              "      <td id=\"T_e7f76_row0_col0\" class=\"data row0 col0\" >Session id</td>\n",
              "      <td id=\"T_e7f76_row0_col1\" class=\"data row0 col1\" >123</td>\n",
              "    </tr>\n",
              "    <tr>\n",
              "      <th id=\"T_e7f76_level0_row1\" class=\"row_heading level0 row1\" >1</th>\n",
              "      <td id=\"T_e7f76_row1_col0\" class=\"data row1 col0\" >Target</td>\n",
              "      <td id=\"T_e7f76_row1_col1\" class=\"data row1 col1\" >atraso_15</td>\n",
              "    </tr>\n",
              "    <tr>\n",
              "      <th id=\"T_e7f76_level0_row2\" class=\"row_heading level0 row2\" >2</th>\n",
              "      <td id=\"T_e7f76_row2_col0\" class=\"data row2 col0\" >Target type</td>\n",
              "      <td id=\"T_e7f76_row2_col1\" class=\"data row2 col1\" >Binary</td>\n",
              "    </tr>\n",
              "    <tr>\n",
              "      <th id=\"T_e7f76_level0_row3\" class=\"row_heading level0 row3\" >3</th>\n",
              "      <td id=\"T_e7f76_row3_col0\" class=\"data row3 col0\" >Original data shape</td>\n",
              "      <td id=\"T_e7f76_row3_col1\" class=\"data row3 col1\" >(68206, 7)</td>\n",
              "    </tr>\n",
              "    <tr>\n",
              "      <th id=\"T_e7f76_level0_row4\" class=\"row_heading level0 row4\" >4</th>\n",
              "      <td id=\"T_e7f76_row4_col0\" class=\"data row4 col0\" >Transformed data shape</td>\n",
              "      <td id=\"T_e7f76_row4_col1\" class=\"data row4 col1\" >(98290, 15)</td>\n",
              "    </tr>\n",
              "    <tr>\n",
              "      <th id=\"T_e7f76_level0_row5\" class=\"row_heading level0 row5\" >5</th>\n",
              "      <td id=\"T_e7f76_row5_col0\" class=\"data row5 col0\" >Transformed train set shape</td>\n",
              "      <td id=\"T_e7f76_row5_col1\" class=\"data row5 col1\" >(77828, 15)</td>\n",
              "    </tr>\n",
              "    <tr>\n",
              "      <th id=\"T_e7f76_level0_row6\" class=\"row_heading level0 row6\" >6</th>\n",
              "      <td id=\"T_e7f76_row6_col0\" class=\"data row6 col0\" >Transformed test set shape</td>\n",
              "      <td id=\"T_e7f76_row6_col1\" class=\"data row6 col1\" >(20462, 15)</td>\n",
              "    </tr>\n",
              "    <tr>\n",
              "      <th id=\"T_e7f76_level0_row7\" class=\"row_heading level0 row7\" >7</th>\n",
              "      <td id=\"T_e7f76_row7_col0\" class=\"data row7 col0\" >Ordinal features</td>\n",
              "      <td id=\"T_e7f76_row7_col1\" class=\"data row7 col1\" >1</td>\n",
              "    </tr>\n",
              "    <tr>\n",
              "      <th id=\"T_e7f76_level0_row8\" class=\"row_heading level0 row8\" >8</th>\n",
              "      <td id=\"T_e7f76_row8_col0\" class=\"data row8 col0\" >Numeric features</td>\n",
              "      <td id=\"T_e7f76_row8_col1\" class=\"data row8 col1\" >1</td>\n",
              "    </tr>\n",
              "    <tr>\n",
              "      <th id=\"T_e7f76_level0_row9\" class=\"row_heading level0 row9\" >9</th>\n",
              "      <td id=\"T_e7f76_row9_col0\" class=\"data row9 col0\" >Categorical features</td>\n",
              "      <td id=\"T_e7f76_row9_col1\" class=\"data row9 col1\" >5</td>\n",
              "    </tr>\n",
              "    <tr>\n",
              "      <th id=\"T_e7f76_level0_row10\" class=\"row_heading level0 row10\" >10</th>\n",
              "      <td id=\"T_e7f76_row10_col0\" class=\"data row10 col0\" >Preprocess</td>\n",
              "      <td id=\"T_e7f76_row10_col1\" class=\"data row10 col1\" >True</td>\n",
              "    </tr>\n",
              "    <tr>\n",
              "      <th id=\"T_e7f76_level0_row11\" class=\"row_heading level0 row11\" >11</th>\n",
              "      <td id=\"T_e7f76_row11_col0\" class=\"data row11 col0\" >Imputation type</td>\n",
              "      <td id=\"T_e7f76_row11_col1\" class=\"data row11 col1\" >None</td>\n",
              "    </tr>\n",
              "    <tr>\n",
              "      <th id=\"T_e7f76_level0_row12\" class=\"row_heading level0 row12\" >12</th>\n",
              "      <td id=\"T_e7f76_row12_col0\" class=\"data row12 col0\" >Maximum one-hot encoding</td>\n",
              "      <td id=\"T_e7f76_row12_col1\" class=\"data row12 col1\" >25</td>\n",
              "    </tr>\n",
              "    <tr>\n",
              "      <th id=\"T_e7f76_level0_row13\" class=\"row_heading level0 row13\" >13</th>\n",
              "      <td id=\"T_e7f76_row13_col0\" class=\"data row13 col0\" >Encoding method</td>\n",
              "      <td id=\"T_e7f76_row13_col1\" class=\"data row13 col1\" >None</td>\n",
              "    </tr>\n",
              "    <tr>\n",
              "      <th id=\"T_e7f76_level0_row14\" class=\"row_heading level0 row14\" >14</th>\n",
              "      <td id=\"T_e7f76_row14_col0\" class=\"data row14 col0\" >Fix imbalance</td>\n",
              "      <td id=\"T_e7f76_row14_col1\" class=\"data row14 col1\" >True</td>\n",
              "    </tr>\n",
              "    <tr>\n",
              "      <th id=\"T_e7f76_level0_row15\" class=\"row_heading level0 row15\" >15</th>\n",
              "      <td id=\"T_e7f76_row15_col0\" class=\"data row15 col0\" >Fix imbalance method</td>\n",
              "      <td id=\"T_e7f76_row15_col1\" class=\"data row15 col1\" >SMOTE</td>\n",
              "    </tr>\n",
              "    <tr>\n",
              "      <th id=\"T_e7f76_level0_row16\" class=\"row_heading level0 row16\" >16</th>\n",
              "      <td id=\"T_e7f76_row16_col0\" class=\"data row16 col0\" >Fold Generator</td>\n",
              "      <td id=\"T_e7f76_row16_col1\" class=\"data row16 col1\" >StratifiedKFold</td>\n",
              "    </tr>\n",
              "    <tr>\n",
              "      <th id=\"T_e7f76_level0_row17\" class=\"row_heading level0 row17\" >17</th>\n",
              "      <td id=\"T_e7f76_row17_col0\" class=\"data row17 col0\" >Fold Number</td>\n",
              "      <td id=\"T_e7f76_row17_col1\" class=\"data row17 col1\" >10</td>\n",
              "    </tr>\n",
              "    <tr>\n",
              "      <th id=\"T_e7f76_level0_row18\" class=\"row_heading level0 row18\" >18</th>\n",
              "      <td id=\"T_e7f76_row18_col0\" class=\"data row18 col0\" >CPU Jobs</td>\n",
              "      <td id=\"T_e7f76_row18_col1\" class=\"data row18 col1\" >-1</td>\n",
              "    </tr>\n",
              "    <tr>\n",
              "      <th id=\"T_e7f76_level0_row19\" class=\"row_heading level0 row19\" >19</th>\n",
              "      <td id=\"T_e7f76_row19_col0\" class=\"data row19 col0\" >Use GPU</td>\n",
              "      <td id=\"T_e7f76_row19_col1\" class=\"data row19 col1\" >False</td>\n",
              "    </tr>\n",
              "    <tr>\n",
              "      <th id=\"T_e7f76_level0_row20\" class=\"row_heading level0 row20\" >20</th>\n",
              "      <td id=\"T_e7f76_row20_col0\" class=\"data row20 col0\" >Log Experiment</td>\n",
              "      <td id=\"T_e7f76_row20_col1\" class=\"data row20 col1\" >False</td>\n",
              "    </tr>\n",
              "    <tr>\n",
              "      <th id=\"T_e7f76_level0_row21\" class=\"row_heading level0 row21\" >21</th>\n",
              "      <td id=\"T_e7f76_row21_col0\" class=\"data row21 col0\" >Experiment Name</td>\n",
              "      <td id=\"T_e7f76_row21_col1\" class=\"data row21 col1\" >clf-default-name</td>\n",
              "    </tr>\n",
              "    <tr>\n",
              "      <th id=\"T_e7f76_level0_row22\" class=\"row_heading level0 row22\" >22</th>\n",
              "      <td id=\"T_e7f76_row22_col0\" class=\"data row22 col0\" >USI</td>\n",
              "      <td id=\"T_e7f76_row22_col1\" class=\"data row22 col1\" >8fcb</td>\n",
              "    </tr>\n",
              "  </tbody>\n",
              "</table>\n"
            ]
          },
          "metadata": {}
        }
      ]
    },
    {
      "cell_type": "code",
      "source": [
        "models()"
      ],
      "metadata": {
        "colab": {
          "base_uri": "https://localhost:8080/",
          "height": 645
        },
        "id": "2hW0mlqQ8nBZ",
        "outputId": "42e1f330-09c0-4378-8cdf-197d0350461c"
      },
      "execution_count": 70,
      "outputs": [
        {
          "output_type": "execute_result",
          "data": {
            "text/plain": [
              "                                     Name  \\\n",
              "ID                                          \n",
              "lr                    Logistic Regression   \n",
              "knn                K Neighbors Classifier   \n",
              "nb                            Naive Bayes   \n",
              "dt               Decision Tree Classifier   \n",
              "svm                   SVM - Linear Kernel   \n",
              "rbfsvm                SVM - Radial Kernel   \n",
              "gpc           Gaussian Process Classifier   \n",
              "mlp                        MLP Classifier   \n",
              "ridge                    Ridge Classifier   \n",
              "rf               Random Forest Classifier   \n",
              "qda       Quadratic Discriminant Analysis   \n",
              "ada                  Ada Boost Classifier   \n",
              "gbc          Gradient Boosting Classifier   \n",
              "lda          Linear Discriminant Analysis   \n",
              "et                 Extra Trees Classifier   \n",
              "xgboost         Extreme Gradient Boosting   \n",
              "lightgbm  Light Gradient Boosting Machine   \n",
              "dummy                    Dummy Classifier   \n",
              "\n",
              "                                                  Reference  Turbo  \n",
              "ID                                                                  \n",
              "lr        sklearn.linear_model._logistic.LogisticRegression   True  \n",
              "knn       sklearn.neighbors._classification.KNeighborsCl...   True  \n",
              "nb                           sklearn.naive_bayes.GaussianNB   True  \n",
              "dt             sklearn.tree._classes.DecisionTreeClassifier   True  \n",
              "svm       sklearn.linear_model._stochastic_gradient.SGDC...   True  \n",
              "rbfsvm                             sklearn.svm._classes.SVC  False  \n",
              "gpc       sklearn.gaussian_process._gpc.GaussianProcessC...  False  \n",
              "mlp       sklearn.neural_network._multilayer_perceptron....  False  \n",
              "ridge           sklearn.linear_model._ridge.RidgeClassifier   True  \n",
              "rf          sklearn.ensemble._forest.RandomForestClassifier   True  \n",
              "qda       sklearn.discriminant_analysis.QuadraticDiscrim...   True  \n",
              "ada       sklearn.ensemble._weight_boosting.AdaBoostClas...   True  \n",
              "gbc         sklearn.ensemble._gb.GradientBoostingClassifier   True  \n",
              "lda       sklearn.discriminant_analysis.LinearDiscrimina...   True  \n",
              "et            sklearn.ensemble._forest.ExtraTreesClassifier   True  \n",
              "xgboost                       xgboost.sklearn.XGBClassifier   True  \n",
              "lightgbm                    lightgbm.sklearn.LGBMClassifier   True  \n",
              "dummy                         sklearn.dummy.DummyClassifier   True  "
            ],
            "text/html": [
              "\n",
              "  <div id=\"df-2fa91c28-53c4-471e-a5ba-92d68ff1120c\">\n",
              "    <div class=\"colab-df-container\">\n",
              "      <div>\n",
              "<style scoped>\n",
              "    .dataframe tbody tr th:only-of-type {\n",
              "        vertical-align: middle;\n",
              "    }\n",
              "\n",
              "    .dataframe tbody tr th {\n",
              "        vertical-align: top;\n",
              "    }\n",
              "\n",
              "    .dataframe thead th {\n",
              "        text-align: right;\n",
              "    }\n",
              "</style>\n",
              "<table border=\"1\" class=\"dataframe\">\n",
              "  <thead>\n",
              "    <tr style=\"text-align: right;\">\n",
              "      <th></th>\n",
              "      <th>Name</th>\n",
              "      <th>Reference</th>\n",
              "      <th>Turbo</th>\n",
              "    </tr>\n",
              "    <tr>\n",
              "      <th>ID</th>\n",
              "      <th></th>\n",
              "      <th></th>\n",
              "      <th></th>\n",
              "    </tr>\n",
              "  </thead>\n",
              "  <tbody>\n",
              "    <tr>\n",
              "      <th>lr</th>\n",
              "      <td>Logistic Regression</td>\n",
              "      <td>sklearn.linear_model._logistic.LogisticRegression</td>\n",
              "      <td>True</td>\n",
              "    </tr>\n",
              "    <tr>\n",
              "      <th>knn</th>\n",
              "      <td>K Neighbors Classifier</td>\n",
              "      <td>sklearn.neighbors._classification.KNeighborsCl...</td>\n",
              "      <td>True</td>\n",
              "    </tr>\n",
              "    <tr>\n",
              "      <th>nb</th>\n",
              "      <td>Naive Bayes</td>\n",
              "      <td>sklearn.naive_bayes.GaussianNB</td>\n",
              "      <td>True</td>\n",
              "    </tr>\n",
              "    <tr>\n",
              "      <th>dt</th>\n",
              "      <td>Decision Tree Classifier</td>\n",
              "      <td>sklearn.tree._classes.DecisionTreeClassifier</td>\n",
              "      <td>True</td>\n",
              "    </tr>\n",
              "    <tr>\n",
              "      <th>svm</th>\n",
              "      <td>SVM - Linear Kernel</td>\n",
              "      <td>sklearn.linear_model._stochastic_gradient.SGDC...</td>\n",
              "      <td>True</td>\n",
              "    </tr>\n",
              "    <tr>\n",
              "      <th>rbfsvm</th>\n",
              "      <td>SVM - Radial Kernel</td>\n",
              "      <td>sklearn.svm._classes.SVC</td>\n",
              "      <td>False</td>\n",
              "    </tr>\n",
              "    <tr>\n",
              "      <th>gpc</th>\n",
              "      <td>Gaussian Process Classifier</td>\n",
              "      <td>sklearn.gaussian_process._gpc.GaussianProcessC...</td>\n",
              "      <td>False</td>\n",
              "    </tr>\n",
              "    <tr>\n",
              "      <th>mlp</th>\n",
              "      <td>MLP Classifier</td>\n",
              "      <td>sklearn.neural_network._multilayer_perceptron....</td>\n",
              "      <td>False</td>\n",
              "    </tr>\n",
              "    <tr>\n",
              "      <th>ridge</th>\n",
              "      <td>Ridge Classifier</td>\n",
              "      <td>sklearn.linear_model._ridge.RidgeClassifier</td>\n",
              "      <td>True</td>\n",
              "    </tr>\n",
              "    <tr>\n",
              "      <th>rf</th>\n",
              "      <td>Random Forest Classifier</td>\n",
              "      <td>sklearn.ensemble._forest.RandomForestClassifier</td>\n",
              "      <td>True</td>\n",
              "    </tr>\n",
              "    <tr>\n",
              "      <th>qda</th>\n",
              "      <td>Quadratic Discriminant Analysis</td>\n",
              "      <td>sklearn.discriminant_analysis.QuadraticDiscrim...</td>\n",
              "      <td>True</td>\n",
              "    </tr>\n",
              "    <tr>\n",
              "      <th>ada</th>\n",
              "      <td>Ada Boost Classifier</td>\n",
              "      <td>sklearn.ensemble._weight_boosting.AdaBoostClas...</td>\n",
              "      <td>True</td>\n",
              "    </tr>\n",
              "    <tr>\n",
              "      <th>gbc</th>\n",
              "      <td>Gradient Boosting Classifier</td>\n",
              "      <td>sklearn.ensemble._gb.GradientBoostingClassifier</td>\n",
              "      <td>True</td>\n",
              "    </tr>\n",
              "    <tr>\n",
              "      <th>lda</th>\n",
              "      <td>Linear Discriminant Analysis</td>\n",
              "      <td>sklearn.discriminant_analysis.LinearDiscrimina...</td>\n",
              "      <td>True</td>\n",
              "    </tr>\n",
              "    <tr>\n",
              "      <th>et</th>\n",
              "      <td>Extra Trees Classifier</td>\n",
              "      <td>sklearn.ensemble._forest.ExtraTreesClassifier</td>\n",
              "      <td>True</td>\n",
              "    </tr>\n",
              "    <tr>\n",
              "      <th>xgboost</th>\n",
              "      <td>Extreme Gradient Boosting</td>\n",
              "      <td>xgboost.sklearn.XGBClassifier</td>\n",
              "      <td>True</td>\n",
              "    </tr>\n",
              "    <tr>\n",
              "      <th>lightgbm</th>\n",
              "      <td>Light Gradient Boosting Machine</td>\n",
              "      <td>lightgbm.sklearn.LGBMClassifier</td>\n",
              "      <td>True</td>\n",
              "    </tr>\n",
              "    <tr>\n",
              "      <th>dummy</th>\n",
              "      <td>Dummy Classifier</td>\n",
              "      <td>sklearn.dummy.DummyClassifier</td>\n",
              "      <td>True</td>\n",
              "    </tr>\n",
              "  </tbody>\n",
              "</table>\n",
              "</div>\n",
              "      <button class=\"colab-df-convert\" onclick=\"convertToInteractive('df-2fa91c28-53c4-471e-a5ba-92d68ff1120c')\"\n",
              "              title=\"Convert this dataframe to an interactive table.\"\n",
              "              style=\"display:none;\">\n",
              "        \n",
              "  <svg xmlns=\"http://www.w3.org/2000/svg\" height=\"24px\"viewBox=\"0 0 24 24\"\n",
              "       width=\"24px\">\n",
              "    <path d=\"M0 0h24v24H0V0z\" fill=\"none\"/>\n",
              "    <path d=\"M18.56 5.44l.94 2.06.94-2.06 2.06-.94-2.06-.94-.94-2.06-.94 2.06-2.06.94zm-11 1L8.5 8.5l.94-2.06 2.06-.94-2.06-.94L8.5 2.5l-.94 2.06-2.06.94zm10 10l.94 2.06.94-2.06 2.06-.94-2.06-.94-.94-2.06-.94 2.06-2.06.94z\"/><path d=\"M17.41 7.96l-1.37-1.37c-.4-.4-.92-.59-1.43-.59-.52 0-1.04.2-1.43.59L10.3 9.45l-7.72 7.72c-.78.78-.78 2.05 0 2.83L4 21.41c.39.39.9.59 1.41.59.51 0 1.02-.2 1.41-.59l7.78-7.78 2.81-2.81c.8-.78.8-2.07 0-2.86zM5.41 20L4 18.59l7.72-7.72 1.47 1.35L5.41 20z\"/>\n",
              "  </svg>\n",
              "      </button>\n",
              "      \n",
              "  <style>\n",
              "    .colab-df-container {\n",
              "      display:flex;\n",
              "      flex-wrap:wrap;\n",
              "      gap: 12px;\n",
              "    }\n",
              "\n",
              "    .colab-df-convert {\n",
              "      background-color: #E8F0FE;\n",
              "      border: none;\n",
              "      border-radius: 50%;\n",
              "      cursor: pointer;\n",
              "      display: none;\n",
              "      fill: #1967D2;\n",
              "      height: 32px;\n",
              "      padding: 0 0 0 0;\n",
              "      width: 32px;\n",
              "    }\n",
              "\n",
              "    .colab-df-convert:hover {\n",
              "      background-color: #E2EBFA;\n",
              "      box-shadow: 0px 1px 2px rgba(60, 64, 67, 0.3), 0px 1px 3px 1px rgba(60, 64, 67, 0.15);\n",
              "      fill: #174EA6;\n",
              "    }\n",
              "\n",
              "    [theme=dark] .colab-df-convert {\n",
              "      background-color: #3B4455;\n",
              "      fill: #D2E3FC;\n",
              "    }\n",
              "\n",
              "    [theme=dark] .colab-df-convert:hover {\n",
              "      background-color: #434B5C;\n",
              "      box-shadow: 0px 1px 3px 1px rgba(0, 0, 0, 0.15);\n",
              "      filter: drop-shadow(0px 1px 2px rgba(0, 0, 0, 0.3));\n",
              "      fill: #FFFFFF;\n",
              "    }\n",
              "  </style>\n",
              "\n",
              "      <script>\n",
              "        const buttonEl =\n",
              "          document.querySelector('#df-2fa91c28-53c4-471e-a5ba-92d68ff1120c button.colab-df-convert');\n",
              "        buttonEl.style.display =\n",
              "          google.colab.kernel.accessAllowed ? 'block' : 'none';\n",
              "\n",
              "        async function convertToInteractive(key) {\n",
              "          const element = document.querySelector('#df-2fa91c28-53c4-471e-a5ba-92d68ff1120c');\n",
              "          const dataTable =\n",
              "            await google.colab.kernel.invokeFunction('convertToInteractive',\n",
              "                                                     [key], {});\n",
              "          if (!dataTable) return;\n",
              "\n",
              "          const docLinkHtml = 'Like what you see? Visit the ' +\n",
              "            '<a target=\"_blank\" href=https://colab.research.google.com/notebooks/data_table.ipynb>data table notebook</a>'\n",
              "            + ' to learn more about interactive tables.';\n",
              "          element.innerHTML = '';\n",
              "          dataTable['output_type'] = 'display_data';\n",
              "          await google.colab.output.renderOutput(dataTable, element);\n",
              "          const docLink = document.createElement('div');\n",
              "          docLink.innerHTML = docLinkHtml;\n",
              "          element.appendChild(docLink);\n",
              "        }\n",
              "      </script>\n",
              "    </div>\n",
              "  </div>\n",
              "  "
            ]
          },
          "metadata": {},
          "execution_count": 70
        }
      ]
    },
    {
      "cell_type": "markdown",
      "source": [
        "# Sección 05. Evaluación de modelos propuestos"
      ],
      "metadata": {
        "id": "PvnzCUAn88El"
      }
    },
    {
      "cell_type": "markdown",
      "source": [
        "## 05.01. Métricas elegidas para evaluar los modelos propuestos"
      ],
      "metadata": {
        "id": "HAzUrF8b9RLg"
      }
    },
    {
      "cell_type": "markdown",
      "source": [
        "Esta es bajo mi criterio la sección más importante del desarrollo y del rol de data scientist pues debe tener en cuenta en detalle tanto el problema de negocio como el tipo de datos con el que cuenta para saber qué métrica es la adecuada. Nuestro problema de negocio presenta las siguientes características relevantes:\n",
        "\n",
        "**Características relevantes en relación al negocio:**\n",
        "- Seguramente el interés de la compañía con el modelo es poder actuar de manera preventiva de la mejor manera para reducir los posibles retrasos que se presenten en los vuelos. Es por ello que es importante poder predecir con el mayor detalle los casos en los cuales los retrasos se presentan. Es preferible predecir que un vuelo se va a retrasar y que finalmente no ocurra, a predecir que un vuelo no se va a retrasar y que si se retrase. En el primer caso la compañía había estado atenta tratando de mejorar su estrategía de atención, aun cuando el caso no se presentó, y en el segundo habría estado pasando por alto situaciones sobre las que debía tomar control.\n",
        "- Si se tiene en cuenta a los clientes de la aerolínea seguramente también pensarían lo mismo: es preferible que te digan que un vuelo se va a retrasar y que salga puntual, a que te digan que va a estar a tiempo y se retrase. \n",
        "- Ambas afirmaciones traducidas a un contexto analítico determina que para nuestro caso específico los falsos negativos son mucho más problemáticos que los falsos positivos.\n",
        "\n",
        "**Características importantes en relación a los datos:**\n",
        "- Se trata de un problema de clasificación binario.\n",
        "- Las clases se encuentran desbalanceadas en una proporción aproximada 80/20 con la clase minoritaria como la clase de interés (los vuelos que presentan retraso).\n",
        "- Traducido al contexto analitítico el problema de negocio no le preocupan tanto los falsos positivos.\n",
        "\n",
        "**Selección de métrica adecuada:**\n",
        "- En resumen, para un problema de clasificación binario con datos desbalanceados la métrica que resulta más útil si se desea predecir con mayor detalle la clase positiva penalizando los falsos negativos es el `recall=tp/(tp+fn)`. Esta métrica evalúa en nuestro contexto cuál es la tasa de vuelos que se están prediciendo con retraso, respecto a la cantidad total de vuelos que se retrasaron efectivamente.\n",
        "- Si bien el `recall` es una métrica prioritaria en este contexto no deben descartarse métricas complementarias tales como el `F1 Score`, `AUC` y el `accuracy`. Se podría tener un modelo que predijera todos los casos como con retraso y aunque el recall sería perfecto, este no es por supuesto un buen modelo.\n",
        "- La elección del modelo se hará priorizando el `recall` pero guardando el mejor balance que este pueda tener con las métricas complementarias."
      ],
      "metadata": {
        "id": "2g_idMJYmyXk"
      }
    },
    {
      "cell_type": "markdown",
      "source": [
        "## 05.02. Evaluación de los modelos"
      ],
      "metadata": {
        "id": "Jr4l8seE9jpr"
      }
    },
    {
      "cell_type": "markdown",
      "source": [
        "Para evaluar el desempeño de cada uno de los modelos propuestos tendremos los siguientes elementos para cada uno de los modelos evaluados:\n",
        "- Matriz de confusión: nos permite conocer las tasas de `tp, tn, fp, y fn`.\n",
        "- Reporte de clasificación:nos entrega un resumen de las principales métricas de clasificación.\n",
        "- Evaluación del tiempo de ejecución de la predicción:la magic function `%%time` nos permite obtener un estimado del tiempo que se está tomando el modelo para hacer la predicción.\n",
        "\n",
        "Con el fin de evaluar las métricas descritas hemos empleado el método `predict` que nos entrega inmediatamente la categoría predicha. Sin embargo si deseamos conocer la probabilidad y no la categoría de antemano podríamos utilizar el método `predict_proba`.\n",
        "\n",
        "Como complemento pueden verse otros tiempo y métricas complementarias que también pueden obtenerse empleando Pycaret.\n"
      ],
      "metadata": {
        "id": "T9R56tCEvCka"
      }
    },
    {
      "cell_type": "markdown",
      "source": [
        "---> Función complementaria que permite obtener la matriz de confusión"
      ],
      "metadata": {
        "id": "gYsQNLal01Ia"
      }
    },
    {
      "cell_type": "code",
      "source": [
        "def plot_confusion_matrix(y_test, y_pred):\n",
        "    cm = confusion_matrix(y_test, y_pred)\n",
        "    fig, ax = plt.subplots(figsize=(6, 4))\n",
        "    sns.heatmap(ax=ax, data=cm, annot=True, cmap='Blues', fmt='g')\n",
        "    ax.set_xlabel('Valores predichos')\n",
        "    ax.set_ylabel('Valores verdaderos')\n",
        "    ax.set_title('Matríz de confusión')\n",
        "    plt.show()"
      ],
      "metadata": {
        "id": "bpyGGo4lUCsy"
      },
      "execution_count": 71,
      "outputs": []
    },
    {
      "cell_type": "markdown",
      "source": [
        "### ---> Logistic Regression"
      ],
      "metadata": {
        "id": "fMDw7reIUuXl"
      }
    },
    {
      "cell_type": "code",
      "source": [
        "%%timeit\n",
        "y_pred_lr = lr_model.predict(X_test)"
      ],
      "metadata": {
        "colab": {
          "base_uri": "https://localhost:8080/"
        },
        "id": "SS3kCHllQ2V5",
        "outputId": "6e5193e0-520a-4303-fdc4-d64d639d8166"
      },
      "execution_count": 72,
      "outputs": [
        {
          "output_type": "stream",
          "name": "stdout",
          "text": [
            "465 µs ± 24.5 µs per loop (mean ± std. dev. of 7 runs, 1000 loops each)\n"
          ]
        }
      ]
    },
    {
      "cell_type": "code",
      "source": [
        "y_pred_lr = lr_model.predict(X_test)\n",
        "y_pred_lr_proba = lr_model.predict_proba(X_test)\n",
        "plot_confusion_matrix(y_test, y_pred_lr)"
      ],
      "metadata": {
        "colab": {
          "base_uri": "https://localhost:8080/",
          "height": 294
        },
        "id": "FaHYEr7gU_iF",
        "outputId": "162b3da9-618a-4e68-ac62-546ad9751d95"
      },
      "execution_count": 73,
      "outputs": [
        {
          "output_type": "display_data",
          "data": {
            "text/plain": [
              "<Figure size 432x288 with 2 Axes>"
            ],
            "image/png": "[encoded data removed]"
          },
          "metadata": {
            "needs_background": "light"
          }
        }
      ]
    },
    {
      "cell_type": "code",
      "source": [
        "print(classification_report(y_test, y_pred_lr))"
      ],
      "metadata": {
        "colab": {
          "base_uri": "https://localhost:8080/"
        },
        "id": "cWM28SaQRg9_",
        "outputId": "23c295f4-d3fe-4c50-ad79-5395ce89cd55"
      },
      "execution_count": 74,
      "outputs": [
        {
          "output_type": "stream",
          "name": "stdout",
          "text": [
            "              precision    recall  f1-score   support\n",
            "\n",
            "           0       0.86      0.64      0.74     16678\n",
            "           1       0.26      0.54      0.35      3784\n",
            "\n",
            "    accuracy                           0.62     20462\n",
            "   macro avg       0.56      0.59      0.54     20462\n",
            "weighted avg       0.75      0.62      0.66     20462\n",
            "\n"
          ]
        }
      ]
    },
    {
      "cell_type": "markdown",
      "source": [
        "### ---> Decision Tree Classifier"
      ],
      "metadata": {
        "id": "frgYRWR_VLRI"
      }
    },
    {
      "cell_type": "code",
      "source": [
        "%%timeit\n",
        "y_pred_dt = dt_model.predict(X_test)"
      ],
      "metadata": {
        "colab": {
          "base_uri": "https://localhost:8080/"
        },
        "id": "L2f88dMh8tbx",
        "outputId": "3530369e-947a-4991-f11c-369319ccbd45"
      },
      "execution_count": 75,
      "outputs": [
        {
          "output_type": "stream",
          "name": "stdout",
          "text": [
            "3.11 ms ± 64.8 µs per loop (mean ± std. dev. of 7 runs, 100 loops each)\n"
          ]
        }
      ]
    },
    {
      "cell_type": "code",
      "source": [
        "y_pred_dt = dt_model.predict(X_test)\n",
        "y_pred_dt_proba = dt_model.predict_proba(X_test)\n",
        "plot_confusion_matrix(y_test, y_pred_dt)"
      ],
      "metadata": {
        "colab": {
          "base_uri": "https://localhost:8080/",
          "height": 294
        },
        "id": "VpxY5VvNVuis",
        "outputId": "0a535f0a-1478-4ff2-95d7-e339e8db5a2b"
      },
      "execution_count": 76,
      "outputs": [
        {
          "output_type": "display_data",
          "data": {
            "text/plain": [
              "<Figure size 432x288 with 2 Axes>"
            ],
            "image/png": "[encoded data removed]"
          },
          "metadata": {
            "needs_background": "light"
          }
        }
      ]
    },
    {
      "cell_type": "code",
      "source": [
        "print(classification_report(y_test, y_pred_dt))"
      ],
      "metadata": {
        "colab": {
          "base_uri": "https://localhost:8080/"
        },
        "id": "uJbwis8PRYvX",
        "outputId": "8076cb5c-1d18-4227-b2e9-f458864d02b5"
      },
      "execution_count": 77,
      "outputs": [
        {
          "output_type": "stream",
          "name": "stdout",
          "text": [
            "              precision    recall  f1-score   support\n",
            "\n",
            "           0       0.87      0.64      0.74     16678\n",
            "           1       0.26      0.57      0.36      3784\n",
            "\n",
            "    accuracy                           0.63     20462\n",
            "   macro avg       0.57      0.60      0.55     20462\n",
            "weighted avg       0.76      0.63      0.67     20462\n",
            "\n"
          ]
        }
      ]
    },
    {
      "cell_type": "markdown",
      "source": [
        "### ---> Xgboost"
      ],
      "metadata": {
        "id": "VXVTm3tIVf9B"
      }
    },
    {
      "cell_type": "code",
      "source": [
        "%%timeit\n",
        "y_pred_xgboost = xgboost_model.predict(X_test)"
      ],
      "metadata": {
        "colab": {
          "base_uri": "https://localhost:8080/"
        },
        "id": "t1LGWc6aQ2Nq",
        "outputId": "a84675ca-6adf-4b7d-f5e0-cb0fc1807d68"
      },
      "execution_count": 78,
      "outputs": [
        {
          "output_type": "stream",
          "name": "stdout",
          "text": [
            "87.6 ms ± 29 ms per loop (mean ± std. dev. of 7 runs, 10 loops each)\n"
          ]
        }
      ]
    },
    {
      "cell_type": "code",
      "source": [
        "y_pred_xgboost = xgboost_model.predict(X_test)\n",
        "y_pred_xgboost_proba = xgboost_model.predict_proba(X_test)\n",
        "plot_confusion_matrix(y_test, y_pred_xgboost)"
      ],
      "metadata": {
        "colab": {
          "base_uri": "https://localhost:8080/",
          "height": 294
        },
        "id": "bIfvuYHpV4mr",
        "outputId": "a6c61d56-440e-46fd-d209-290d7e5febbf"
      },
      "execution_count": 79,
      "outputs": [
        {
          "output_type": "display_data",
          "data": {
            "text/plain": [
              "<Figure size 432x288 with 2 Axes>"
            ],
            "image/png": "[encoded data removed]"
          },
          "metadata": {
            "needs_background": "light"
          }
        }
      ]
    },
    {
      "cell_type": "code",
      "source": [
        "print(classification_report(y_test, y_pred_xgboost))"
      ],
      "metadata": {
        "colab": {
          "base_uri": "https://localhost:8080/"
        },
        "id": "XVpf2M3qQ2LY",
        "outputId": "d5ad0996-91f3-464f-e660-b627dcaeb465"
      },
      "execution_count": 80,
      "outputs": [
        {
          "output_type": "stream",
          "name": "stdout",
          "text": [
            "              precision    recall  f1-score   support\n",
            "\n",
            "           0       0.87      0.64      0.74     16678\n",
            "           1       0.27      0.58      0.36      3784\n",
            "\n",
            "    accuracy                           0.63     20462\n",
            "   macro avg       0.57      0.61      0.55     20462\n",
            "weighted avg       0.76      0.63      0.67     20462\n",
            "\n"
          ]
        }
      ]
    },
    {
      "cell_type": "markdown",
      "source": [
        "### ---> Pycaret AutoML"
      ],
      "metadata": {
        "id": "_wj8s9I7WIJm"
      }
    },
    {
      "cell_type": "code",
      "source": [
        "top_models = compare_models(sort='Recall', \n",
        "                            fold=5)"
      ],
      "metadata": {
        "colab": {
          "base_uri": "https://localhost:8080/",
          "height": 519,
          "referenced_widgets": [
            "bd75940631784c26adb18d79349cb2fa",
            "07d06a6e54cf4e768df9c3cd6cf50f54",
            "ac3cf7bf0c074a9eac48ffca1f0c8183",
            "8e9d253878144a7980155eec5ea2453e",
            "292497b83e204d9ea51aa059b8916e3f",
            "c0ed12346a4345d180e3184a4efa91f8",
            "12fe8690b1db4112ad1402c4aa591de9",
            "4f06df2f430d4df2aa09bdefc69d4f74",
            "cdc5aedcfed840febc5da1d308621d3b",
            "d1947939e8f640918cc7fea545e8bdbb",
            "4b9c298b49094f2288fde81e4b080cce"
          ]
        },
        "id": "6-yy5_4k-91c",
        "outputId": "d312fc0f-7f0b-49c6-d04f-1072f3a79953"
      },
      "execution_count": 81,
      "outputs": [
        {
          "output_type": "display_data",
          "data": {
            "text/plain": [
              "<IPython.core.display.HTML object>"
            ],
            "text/html": []
          },
          "metadata": {}
        },
        {
          "output_type": "display_data",
          "data": {
            "text/plain": [
              "<pandas.io.formats.style.Styler at 0x7f2cbfae2070>"
            ],
            "text/html": [
              "<style type=\"text/css\">\n",
              "#T_3e5fe th {\n",
              "  text-align: left;\n",
              "}\n",
              "#T_3e5fe_row0_col0, #T_3e5fe_row0_col1, #T_3e5fe_row0_col2, #T_3e5fe_row0_col4, #T_3e5fe_row0_col5, #T_3e5fe_row0_col6, #T_3e5fe_row0_col7, #T_3e5fe_row1_col0, #T_3e5fe_row1_col1, #T_3e5fe_row1_col2, #T_3e5fe_row1_col3, #T_3e5fe_row1_col4, #T_3e5fe_row1_col5, #T_3e5fe_row1_col6, #T_3e5fe_row1_col7, #T_3e5fe_row2_col0, #T_3e5fe_row2_col1, #T_3e5fe_row2_col2, #T_3e5fe_row2_col3, #T_3e5fe_row2_col4, #T_3e5fe_row2_col5, #T_3e5fe_row2_col6, #T_3e5fe_row2_col7, #T_3e5fe_row3_col0, #T_3e5fe_row3_col1, #T_3e5fe_row3_col2, #T_3e5fe_row3_col3, #T_3e5fe_row3_col4, #T_3e5fe_row3_col5, #T_3e5fe_row3_col6, #T_3e5fe_row3_col7, #T_3e5fe_row4_col0, #T_3e5fe_row4_col1, #T_3e5fe_row4_col2, #T_3e5fe_row4_col3, #T_3e5fe_row4_col4, #T_3e5fe_row4_col5, #T_3e5fe_row4_col6, #T_3e5fe_row4_col7, #T_3e5fe_row5_col0, #T_3e5fe_row5_col1, #T_3e5fe_row5_col3, #T_3e5fe_row5_col4, #T_3e5fe_row6_col0, #T_3e5fe_row6_col1, #T_3e5fe_row6_col2, #T_3e5fe_row6_col3, #T_3e5fe_row6_col4, #T_3e5fe_row6_col5, #T_3e5fe_row6_col6, #T_3e5fe_row6_col7, #T_3e5fe_row7_col0, #T_3e5fe_row7_col1, #T_3e5fe_row7_col2, #T_3e5fe_row7_col3, #T_3e5fe_row7_col4, #T_3e5fe_row7_col5, #T_3e5fe_row7_col6, #T_3e5fe_row7_col7, #T_3e5fe_row8_col0, #T_3e5fe_row8_col1, #T_3e5fe_row8_col2, #T_3e5fe_row8_col3, #T_3e5fe_row8_col4, #T_3e5fe_row8_col5, #T_3e5fe_row8_col6, #T_3e5fe_row8_col7, #T_3e5fe_row9_col0, #T_3e5fe_row9_col1, #T_3e5fe_row9_col2, #T_3e5fe_row9_col3, #T_3e5fe_row9_col4, #T_3e5fe_row9_col5, #T_3e5fe_row9_col6, #T_3e5fe_row9_col7, #T_3e5fe_row10_col0, #T_3e5fe_row10_col1, #T_3e5fe_row10_col2, #T_3e5fe_row10_col3, #T_3e5fe_row10_col4, #T_3e5fe_row10_col5, #T_3e5fe_row10_col6, #T_3e5fe_row10_col7, #T_3e5fe_row11_col0, #T_3e5fe_row11_col1, #T_3e5fe_row11_col2, #T_3e5fe_row11_col3, #T_3e5fe_row11_col4, #T_3e5fe_row11_col5, #T_3e5fe_row11_col6, #T_3e5fe_row11_col7, #T_3e5fe_row12_col0, #T_3e5fe_row12_col1, #T_3e5fe_row12_col2, #T_3e5fe_row12_col3, #T_3e5fe_row12_col4, #T_3e5fe_row12_col5, #T_3e5fe_row12_col6, #T_3e5fe_row12_col7, #T_3e5fe_row13_col0, #T_3e5fe_row13_col1, #T_3e5fe_row13_col2, #T_3e5fe_row13_col3, #T_3e5fe_row13_col5, #T_3e5fe_row13_col6, #T_3e5fe_row13_col7, #T_3e5fe_row14_col0, #T_3e5fe_row14_col2, #T_3e5fe_row14_col3, #T_3e5fe_row14_col4, #T_3e5fe_row14_col5, #T_3e5fe_row14_col6, #T_3e5fe_row14_col7 {\n",
              "  text-align: left;\n",
              "}\n",
              "#T_3e5fe_row0_col3, #T_3e5fe_row5_col2, #T_3e5fe_row5_col5, #T_3e5fe_row5_col6, #T_3e5fe_row5_col7, #T_3e5fe_row13_col4, #T_3e5fe_row14_col1 {\n",
              "  text-align: left;\n",
              "  background-color: yellow;\n",
              "}\n",
              "#T_3e5fe_row0_col8, #T_3e5fe_row1_col8, #T_3e5fe_row2_col8, #T_3e5fe_row3_col8, #T_3e5fe_row4_col8, #T_3e5fe_row5_col8, #T_3e5fe_row6_col8, #T_3e5fe_row7_col8, #T_3e5fe_row9_col8, #T_3e5fe_row10_col8, #T_3e5fe_row11_col8, #T_3e5fe_row12_col8, #T_3e5fe_row13_col8, #T_3e5fe_row14_col8 {\n",
              "  text-align: left;\n",
              "  background-color: lightgrey;\n",
              "}\n",
              "#T_3e5fe_row8_col8 {\n",
              "  text-align: left;\n",
              "  background-color: yellow;\n",
              "  background-color: lightgrey;\n",
              "}\n",
              "</style>\n",
              "<table id=\"T_3e5fe\" class=\"dataframe\">\n",
              "  <thead>\n",
              "    <tr>\n",
              "      <th class=\"blank level0\" >&nbsp;</th>\n",
              "      <th id=\"T_3e5fe_level0_col0\" class=\"col_heading level0 col0\" >Model</th>\n",
              "      <th id=\"T_3e5fe_level0_col1\" class=\"col_heading level0 col1\" >Accuracy</th>\n",
              "      <th id=\"T_3e5fe_level0_col2\" class=\"col_heading level0 col2\" >AUC</th>\n",
              "      <th id=\"T_3e5fe_level0_col3\" class=\"col_heading level0 col3\" >Recall</th>\n",
              "      <th id=\"T_3e5fe_level0_col4\" class=\"col_heading level0 col4\" >Prec.</th>\n",
              "      <th id=\"T_3e5fe_level0_col5\" class=\"col_heading level0 col5\" >F1</th>\n",
              "      <th id=\"T_3e5fe_level0_col6\" class=\"col_heading level0 col6\" >Kappa</th>\n",
              "      <th id=\"T_3e5fe_level0_col7\" class=\"col_heading level0 col7\" >MCC</th>\n",
              "      <th id=\"T_3e5fe_level0_col8\" class=\"col_heading level0 col8\" >TT (Sec)</th>\n",
              "    </tr>\n",
              "  </thead>\n",
              "  <tbody>\n",
              "    <tr>\n",
              "      <th id=\"T_3e5fe_level0_row0\" class=\"row_heading level0 row0\" >xgboost</th>\n",
              "      <td id=\"T_3e5fe_row0_col0\" class=\"data row0 col0\" >Extreme Gradient Boosting</td>\n",
              "      <td id=\"T_3e5fe_row0_col1\" class=\"data row0 col1\" >0.3229</td>\n",
              "      <td id=\"T_3e5fe_row0_col2\" class=\"data row0 col2\" >0.5058</td>\n",
              "      <td id=\"T_3e5fe_row0_col3\" class=\"data row0 col3\" >0.8195</td>\n",
              "      <td id=\"T_3e5fe_row0_col4\" class=\"data row0 col4\" >0.1908</td>\n",
              "      <td id=\"T_3e5fe_row0_col5\" class=\"data row0 col5\" >0.3090</td>\n",
              "      <td id=\"T_3e5fe_row0_col6\" class=\"data row0 col6\" >0.0134</td>\n",
              "      <td id=\"T_3e5fe_row0_col7\" class=\"data row0 col7\" >0.0310</td>\n",
              "      <td id=\"T_3e5fe_row0_col8\" class=\"data row0 col8\" >0.2940</td>\n",
              "    </tr>\n",
              "    <tr>\n",
              "      <th id=\"T_3e5fe_level0_row1\" class=\"row_heading level0 row1\" >dt</th>\n",
              "      <td id=\"T_3e5fe_row1_col0\" class=\"data row1 col0\" >Decision Tree Classifier</td>\n",
              "      <td id=\"T_3e5fe_row1_col1\" class=\"data row1 col1\" >0.3265</td>\n",
              "      <td id=\"T_3e5fe_row1_col2\" class=\"data row1 col2\" >0.5120</td>\n",
              "      <td id=\"T_3e5fe_row1_col3\" class=\"data row1 col3\" >0.8063</td>\n",
              "      <td id=\"T_3e5fe_row1_col4\" class=\"data row1 col4\" >0.1896</td>\n",
              "      <td id=\"T_3e5fe_row1_col5\" class=\"data row1 col5\" >0.3065</td>\n",
              "      <td id=\"T_3e5fe_row1_col6\" class=\"data row1 col6\" >0.0107</td>\n",
              "      <td id=\"T_3e5fe_row1_col7\" class=\"data row1 col7\" >0.0259</td>\n",
              "      <td id=\"T_3e5fe_row1_col8\" class=\"data row1 col8\" >0.1960</td>\n",
              "    </tr>\n",
              "    <tr>\n",
              "      <th id=\"T_3e5fe_level0_row2\" class=\"row_heading level0 row2\" >gbc</th>\n",
              "      <td id=\"T_3e5fe_row2_col0\" class=\"data row2 col0\" >Gradient Boosting Classifier</td>\n",
              "      <td id=\"T_3e5fe_row2_col1\" class=\"data row2 col1\" >0.3415</td>\n",
              "      <td id=\"T_3e5fe_row2_col2\" class=\"data row2 col2\" >0.4970</td>\n",
              "      <td id=\"T_3e5fe_row2_col3\" class=\"data row2 col3\" >0.7992</td>\n",
              "      <td id=\"T_3e5fe_row2_col4\" class=\"data row2 col4\" >0.1923</td>\n",
              "      <td id=\"T_3e5fe_row2_col5\" class=\"data row2 col5\" >0.3094</td>\n",
              "      <td id=\"T_3e5fe_row2_col6\" class=\"data row2 col6\" >0.0168</td>\n",
              "      <td id=\"T_3e5fe_row2_col7\" class=\"data row2 col7\" >0.0379</td>\n",
              "      <td id=\"T_3e5fe_row2_col8\" class=\"data row2 col8\" >0.9020</td>\n",
              "    </tr>\n",
              "    <tr>\n",
              "      <th id=\"T_3e5fe_level0_row3\" class=\"row_heading level0 row3\" >ada</th>\n",
              "      <td id=\"T_3e5fe_row3_col0\" class=\"data row3 col0\" >Ada Boost Classifier</td>\n",
              "      <td id=\"T_3e5fe_row3_col1\" class=\"data row3 col1\" >0.3614</td>\n",
              "      <td id=\"T_3e5fe_row3_col2\" class=\"data row3 col2\" >0.4986</td>\n",
              "      <td id=\"T_3e5fe_row3_col3\" class=\"data row3 col3\" >0.7867</td>\n",
              "      <td id=\"T_3e5fe_row3_col4\" class=\"data row3 col4\" >0.1955</td>\n",
              "      <td id=\"T_3e5fe_row3_col5\" class=\"data row3 col5\" >0.3125</td>\n",
              "      <td id=\"T_3e5fe_row3_col6\" class=\"data row3 col6\" >0.0239</td>\n",
              "      <td id=\"T_3e5fe_row3_col7\" class=\"data row3 col7\" >0.0501</td>\n",
              "      <td id=\"T_3e5fe_row3_col8\" class=\"data row3 col8\" >0.6260</td>\n",
              "    </tr>\n",
              "    <tr>\n",
              "      <th id=\"T_3e5fe_level0_row4\" class=\"row_heading level0 row4\" >qda</th>\n",
              "      <td id=\"T_3e5fe_row4_col0\" class=\"data row4 col0\" >Quadratic Discriminant Analysis</td>\n",
              "      <td id=\"T_3e5fe_row4_col1\" class=\"data row4 col1\" >0.5453</td>\n",
              "      <td id=\"T_3e5fe_row4_col2\" class=\"data row4 col2\" >0.5805</td>\n",
              "      <td id=\"T_3e5fe_row4_col3\" class=\"data row4 col3\" >0.5807</td>\n",
              "      <td id=\"T_3e5fe_row4_col4\" class=\"data row4 col4\" >0.2222</td>\n",
              "      <td id=\"T_3e5fe_row4_col5\" class=\"data row4 col5\" >0.3205</td>\n",
              "      <td id=\"T_3e5fe_row4_col6\" class=\"data row4 col6\" >0.0729</td>\n",
              "      <td id=\"T_3e5fe_row4_col7\" class=\"data row4 col7\" >0.0924</td>\n",
              "      <td id=\"T_3e5fe_row4_col8\" class=\"data row4 col8\" >0.2360</td>\n",
              "    </tr>\n",
              "    <tr>\n",
              "      <th id=\"T_3e5fe_level0_row5\" class=\"row_heading level0 row5\" >lr</th>\n",
              "      <td id=\"T_3e5fe_row5_col0\" class=\"data row5 col0\" >Logistic Regression</td>\n",
              "      <td id=\"T_3e5fe_row5_col1\" class=\"data row5 col1\" >0.6359</td>\n",
              "      <td id=\"T_3e5fe_row5_col2\" class=\"data row5 col2\" >0.6409</td>\n",
              "      <td id=\"T_3e5fe_row5_col3\" class=\"data row5 col3\" >0.5308</td>\n",
              "      <td id=\"T_3e5fe_row5_col4\" class=\"data row5 col4\" >0.2614</td>\n",
              "      <td id=\"T_3e5fe_row5_col5\" class=\"data row5 col5\" >0.3503</td>\n",
              "      <td id=\"T_3e5fe_row5_col6\" class=\"data row5 col6\" >0.1362</td>\n",
              "      <td id=\"T_3e5fe_row5_col7\" class=\"data row5 col7\" >0.1528</td>\n",
              "      <td id=\"T_3e5fe_row5_col8\" class=\"data row5 col8\" >0.8660</td>\n",
              "    </tr>\n",
              "    <tr>\n",
              "      <th id=\"T_3e5fe_level0_row6\" class=\"row_heading level0 row6\" >ridge</th>\n",
              "      <td id=\"T_3e5fe_row6_col0\" class=\"data row6 col0\" >Ridge Classifier</td>\n",
              "      <td id=\"T_3e5fe_row6_col1\" class=\"data row6 col1\" >0.6374</td>\n",
              "      <td id=\"T_3e5fe_row6_col2\" class=\"data row6 col2\" >0.0000</td>\n",
              "      <td id=\"T_3e5fe_row6_col3\" class=\"data row6 col3\" >0.5255</td>\n",
              "      <td id=\"T_3e5fe_row6_col4\" class=\"data row6 col4\" >0.2612</td>\n",
              "      <td id=\"T_3e5fe_row6_col5\" class=\"data row6 col5\" >0.3489</td>\n",
              "      <td id=\"T_3e5fe_row6_col6\" class=\"data row6 col6\" >0.1353</td>\n",
              "      <td id=\"T_3e5fe_row6_col7\" class=\"data row6 col7\" >0.1512</td>\n",
              "      <td id=\"T_3e5fe_row6_col8\" class=\"data row6 col8\" >0.2060</td>\n",
              "    </tr>\n",
              "    <tr>\n",
              "      <th id=\"T_3e5fe_level0_row7\" class=\"row_heading level0 row7\" >lda</th>\n",
              "      <td id=\"T_3e5fe_row7_col0\" class=\"data row7 col0\" >Linear Discriminant Analysis</td>\n",
              "      <td id=\"T_3e5fe_row7_col1\" class=\"data row7 col1\" >0.6374</td>\n",
              "      <td id=\"T_3e5fe_row7_col2\" class=\"data row7 col2\" >0.6405</td>\n",
              "      <td id=\"T_3e5fe_row7_col3\" class=\"data row7 col3\" >0.5254</td>\n",
              "      <td id=\"T_3e5fe_row7_col4\" class=\"data row7 col4\" >0.2611</td>\n",
              "      <td id=\"T_3e5fe_row7_col5\" class=\"data row7 col5\" >0.3488</td>\n",
              "      <td id=\"T_3e5fe_row7_col6\" class=\"data row7 col6\" >0.1352</td>\n",
              "      <td id=\"T_3e5fe_row7_col7\" class=\"data row7 col7\" >0.1512</td>\n",
              "      <td id=\"T_3e5fe_row7_col8\" class=\"data row7 col8\" >0.2620</td>\n",
              "    </tr>\n",
              "    <tr>\n",
              "      <th id=\"T_3e5fe_level0_row8\" class=\"row_heading level0 row8\" >svm</th>\n",
              "      <td id=\"T_3e5fe_row8_col0\" class=\"data row8 col0\" >SVM - Linear Kernel</td>\n",
              "      <td id=\"T_3e5fe_row8_col1\" class=\"data row8 col1\" >0.6411</td>\n",
              "      <td id=\"T_3e5fe_row8_col2\" class=\"data row8 col2\" >0.0000</td>\n",
              "      <td id=\"T_3e5fe_row8_col3\" class=\"data row8 col3\" >0.5101</td>\n",
              "      <td id=\"T_3e5fe_row8_col4\" class=\"data row8 col4\" >0.2603</td>\n",
              "      <td id=\"T_3e5fe_row8_col5\" class=\"data row8 col5\" >0.3445</td>\n",
              "      <td id=\"T_3e5fe_row8_col6\" class=\"data row8 col6\" >0.1320</td>\n",
              "      <td id=\"T_3e5fe_row8_col7\" class=\"data row8 col7\" >0.1462</td>\n",
              "      <td id=\"T_3e5fe_row8_col8\" class=\"data row8 col8\" >0.1840</td>\n",
              "    </tr>\n",
              "    <tr>\n",
              "      <th id=\"T_3e5fe_level0_row9\" class=\"row_heading level0 row9\" >rf</th>\n",
              "      <td id=\"T_3e5fe_row9_col0\" class=\"data row9 col0\" >Random Forest Classifier</td>\n",
              "      <td id=\"T_3e5fe_row9_col1\" class=\"data row9 col1\" >0.5039</td>\n",
              "      <td id=\"T_3e5fe_row9_col2\" class=\"data row9 col2\" >0.4819</td>\n",
              "      <td id=\"T_3e5fe_row9_col3\" class=\"data row9 col3\" >0.4463</td>\n",
              "      <td id=\"T_3e5fe_row9_col4\" class=\"data row9 col4\" >0.1737</td>\n",
              "      <td id=\"T_3e5fe_row9_col5\" class=\"data row9 col5\" >0.2449</td>\n",
              "      <td id=\"T_3e5fe_row9_col6\" class=\"data row9 col6\" >-0.0222</td>\n",
              "      <td id=\"T_3e5fe_row9_col7\" class=\"data row9 col7\" >-0.0289</td>\n",
              "      <td id=\"T_3e5fe_row9_col8\" class=\"data row9 col8\" >0.6420</td>\n",
              "    </tr>\n",
              "    <tr>\n",
              "      <th id=\"T_3e5fe_level0_row10\" class=\"row_heading level0 row10\" >nb</th>\n",
              "      <td id=\"T_3e5fe_row10_col0\" class=\"data row10 col0\" >Naive Bayes</td>\n",
              "      <td id=\"T_3e5fe_row10_col1\" class=\"data row10 col1\" >0.6674</td>\n",
              "      <td id=\"T_3e5fe_row10_col2\" class=\"data row10 col2\" >0.6153</td>\n",
              "      <td id=\"T_3e5fe_row10_col3\" class=\"data row10 col3\" >0.4276</td>\n",
              "      <td id=\"T_3e5fe_row10_col4\" class=\"data row10 col4\" >0.2586</td>\n",
              "      <td id=\"T_3e5fe_row10_col5\" class=\"data row10 col5\" >0.3222</td>\n",
              "      <td id=\"T_3e5fe_row10_col6\" class=\"data row10 col6\" >0.1192</td>\n",
              "      <td id=\"T_3e5fe_row10_col7\" class=\"data row10 col7\" >0.1259</td>\n",
              "      <td id=\"T_3e5fe_row10_col8\" class=\"data row10 col8\" >0.4140</td>\n",
              "    </tr>\n",
              "    <tr>\n",
              "      <th id=\"T_3e5fe_level0_row11\" class=\"row_heading level0 row11\" >lightgbm</th>\n",
              "      <td id=\"T_3e5fe_row11_col0\" class=\"data row11 col0\" >Light Gradient Boosting Machine</td>\n",
              "      <td id=\"T_3e5fe_row11_col1\" class=\"data row11 col1\" >0.6042</td>\n",
              "      <td id=\"T_3e5fe_row11_col2\" class=\"data row11 col2\" >0.5308</td>\n",
              "      <td id=\"T_3e5fe_row11_col3\" class=\"data row11 col3\" >0.3783</td>\n",
              "      <td id=\"T_3e5fe_row11_col4\" class=\"data row11 col4\" >0.2238</td>\n",
              "      <td id=\"T_3e5fe_row11_col5\" class=\"data row11 col5\" >0.2478</td>\n",
              "      <td id=\"T_3e5fe_row11_col6\" class=\"data row11 col6\" >0.0396</td>\n",
              "      <td id=\"T_3e5fe_row11_col7\" class=\"data row11 col7\" >0.0384</td>\n",
              "      <td id=\"T_3e5fe_row11_col8\" class=\"data row11 col8\" >0.7900</td>\n",
              "    </tr>\n",
              "    <tr>\n",
              "      <th id=\"T_3e5fe_level0_row12\" class=\"row_heading level0 row12\" >knn</th>\n",
              "      <td id=\"T_3e5fe_row12_col0\" class=\"data row12 col0\" >K Neighbors Classifier</td>\n",
              "      <td id=\"T_3e5fe_row12_col1\" class=\"data row12 col1\" >0.7881</td>\n",
              "      <td id=\"T_3e5fe_row12_col2\" class=\"data row12 col2\" >0.5285</td>\n",
              "      <td id=\"T_3e5fe_row12_col3\" class=\"data row12 col3\" >0.0920</td>\n",
              "      <td id=\"T_3e5fe_row12_col4\" class=\"data row12 col4\" >0.2954</td>\n",
              "      <td id=\"T_3e5fe_row12_col5\" class=\"data row12 col5\" >0.1377</td>\n",
              "      <td id=\"T_3e5fe_row12_col6\" class=\"data row12 col6\" >0.0521</td>\n",
              "      <td id=\"T_3e5fe_row12_col7\" class=\"data row12 col7\" >0.0659</td>\n",
              "      <td id=\"T_3e5fe_row12_col8\" class=\"data row12 col8\" >7.7060</td>\n",
              "    </tr>\n",
              "    <tr>\n",
              "      <th id=\"T_3e5fe_level0_row13\" class=\"row_heading level0 row13\" >et</th>\n",
              "      <td id=\"T_3e5fe_row13_col0\" class=\"data row13 col0\" >Extra Trees Classifier</td>\n",
              "      <td id=\"T_3e5fe_row13_col1\" class=\"data row13 col1\" >0.8071</td>\n",
              "      <td id=\"T_3e5fe_row13_col2\" class=\"data row13 col2\" >0.5737</td>\n",
              "      <td id=\"T_3e5fe_row13_col3\" class=\"data row13 col3\" >0.0387</td>\n",
              "      <td id=\"T_3e5fe_row13_col4\" class=\"data row13 col4\" >0.3273</td>\n",
              "      <td id=\"T_3e5fe_row13_col5\" class=\"data row13 col5\" >0.0691</td>\n",
              "      <td id=\"T_3e5fe_row13_col6\" class=\"data row13 col6\" >0.0305</td>\n",
              "      <td id=\"T_3e5fe_row13_col7\" class=\"data row13 col7\" >0.0539</td>\n",
              "      <td id=\"T_3e5fe_row13_col8\" class=\"data row13 col8\" >0.9980</td>\n",
              "    </tr>\n",
              "    <tr>\n",
              "      <th id=\"T_3e5fe_level0_row14\" class=\"row_heading level0 row14\" >dummy</th>\n",
              "      <td id=\"T_3e5fe_row14_col0\" class=\"data row14 col0\" >Dummy Classifier</td>\n",
              "      <td id=\"T_3e5fe_row14_col1\" class=\"data row14 col1\" >0.8151</td>\n",
              "      <td id=\"T_3e5fe_row14_col2\" class=\"data row14 col2\" >0.5000</td>\n",
              "      <td id=\"T_3e5fe_row14_col3\" class=\"data row14 col3\" >0.0000</td>\n",
              "      <td id=\"T_3e5fe_row14_col4\" class=\"data row14 col4\" >0.0000</td>\n",
              "      <td id=\"T_3e5fe_row14_col5\" class=\"data row14 col5\" >0.0000</td>\n",
              "      <td id=\"T_3e5fe_row14_col6\" class=\"data row14 col6\" >0.0000</td>\n",
              "      <td id=\"T_3e5fe_row14_col7\" class=\"data row14 col7\" >0.0000</td>\n",
              "      <td id=\"T_3e5fe_row14_col8\" class=\"data row14 col8\" >0.5240</td>\n",
              "    </tr>\n",
              "  </tbody>\n",
              "</table>\n"
            ]
          },
          "metadata": {}
        },
        {
          "output_type": "display_data",
          "data": {
            "text/plain": [
              "Processing:   0%|          | 0/65 [00:00<?, ?it/s]"
            ],
            "application/vnd.jupyter.widget-view+json": {
              "version_major": 2,
              "version_minor": 0,
              "model_id": "bd75940631784c26adb18d79349cb2fa"
            }
          },
          "metadata": {
            "application/vnd.jupyter.widget-view+json": {
              "colab": {
                "custom_widget_manager": {
                  "url": "https://ssl.gstatic.com/colaboratory-static/widgets/colab-cdn-widget-manager/b3e629b1971e1542/manager.min.js"
                }
              }
            }
          }
        },
        {
          "output_type": "display_data",
          "data": {
            "text/plain": [
              "<IPython.core.display.HTML object>"
            ],
            "text/html": []
          },
          "metadata": {}
        }
      ]
    },
    {
      "cell_type": "markdown",
      "source": [
        "En el caso en el que quisiéramos replicar de cuenta propia los modelos en Scikit-Learn podríamos hacerlo pues Pycaret nos brinda la posibilidad de tener la descripción de todo el pipeline implementado para llegar a dicho resultado con la función `get_config('pipeline)`:"
      ],
      "metadata": {
        "id": "YVJxDb7JoKvE"
      }
    },
    {
      "cell_type": "code",
      "source": [
        "get_config('pipeline')"
      ],
      "metadata": {
        "id": "1QL85VJ6oJ_v",
        "outputId": "4585bd90-13bd-4d59-bfdb-b47d8711c2cc",
        "colab": {
          "base_uri": "https://localhost:8080/",
          "height": 598
        }
      },
      "execution_count": 82,
      "outputs": [
        {
          "output_type": "execute_result",
          "data": {
            "text/plain": [
              "Pipeline(memory=FastMemory(location=/tmp/joblib),\n",
              "         steps=[('ordinal_encoding',\n",
              "                 TransformerWrapper(exclude=None, include=['TIPOVUELO'],\n",
              "                                    transformer=OrdinalEncoder(cols=['TIPOVUELO'],\n",
              "                                                               drop_invariant=False,\n",
              "                                                               handle_missing='return_nan',\n",
              "                                                               handle_unknown='value',\n",
              "                                                               mapping=[{'col': 'TIPOVUELO',\n",
              "                                                                         'data_type': dtype('O'),\n",
              "                                                                         'mapping': I      0\n",
              "N      1\n",
              "NaN   -1\n",
              "dtype: int64}],\n",
              "                                                               return_df=True,\n",
              "                                                               ver...\n",
              "                                                                   return_df=True,\n",
              "                                                                   sigma=None,\n",
              "                                                                   verbose=0))),\n",
              "                ('balance',\n",
              "                 TransformerWrapper(exclude=None, include=None,\n",
              "                                    transformer=FixImbalancer(estimator=SMOTE(k_neighbors=5,\n",
              "                                                                              n_jobs=None,\n",
              "                                                                              random_state=None,\n",
              "                                                                              sampling_strategy='auto')))),\n",
              "                ('clean_column_names',\n",
              "                 TransformerWrapper(exclude=None, include=None,\n",
              "                                    transformer=CleanColumnNames(match='[\\\\]\\\\[\\\\,\\\\{\\\\}\\\\\"\\\\:]+')))],\n",
              "         verbose=False)"
            ],
            "text/html": [
              "<style>#sk-container-id-1 {color: black;background-color: white;}#sk-container-id-1 pre{padding: 0;}#sk-container-id-1 div.sk-toggleable {background-color: white;}#sk-container-id-1 label.sk-toggleable__label {cursor: pointer;display: block;width: 100%;margin-bottom: 0;padding: 0.3em;box-sizing: border-box;text-align: center;}#sk-container-id-1 label.sk-toggleable__label-arrow:before {content: \"▸\";float: left;margin-right: 0.25em;color: #696969;}#sk-container-id-1 label.sk-toggleable__label-arrow:hover:before {color: black;}#sk-container-id-1 div.sk-estimator:hover label.sk-toggleable__label-arrow:before {color: black;}#sk-container-id-1 div.sk-toggleable__content {max-height: 0;max-width: 0;overflow: hidden;text-align: left;background-color: #f0f8ff;}#sk-container-id-1 div.sk-toggleable__content pre {margin: 0.2em;color: black;border-radius: 0.25em;background-color: #f0f8ff;}#sk-container-id-1 input.sk-toggleable__control:checked~div.sk-toggleable__content {max-height: 200px;max-width: 100%;overflow: auto;}#sk-container-id-1 input.sk-toggleable__control:checked~label.sk-toggleable__label-arrow:before {content: \"▾\";}#sk-container-id-1 div.sk-estimator input.sk-toggleable__control:checked~label.sk-toggleable__label {background-color: #d4ebff;}#sk-container-id-1 div.sk-label input.sk-toggleable__control:checked~label.sk-toggleable__label {background-color: #d4ebff;}#sk-container-id-1 input.sk-hidden--visually {border: 0;clip: rect(1px 1px 1px 1px);clip: rect(1px, 1px, 1px, 1px);height: 1px;margin: -1px;overflow: hidden;padding: 0;position: absolute;width: 1px;}#sk-container-id-1 div.sk-estimator {font-family: monospace;background-color: #f0f8ff;border: 1px dotted black;border-radius: 0.25em;box-sizing: border-box;margin-bottom: 0.5em;}#sk-container-id-1 div.sk-estimator:hover {background-color: #d4ebff;}#sk-container-id-1 div.sk-parallel-item::after {content: \"\";width: 100%;border-bottom: 1px solid gray;flex-grow: 1;}#sk-container-id-1 div.sk-label:hover label.sk-toggleable__label {background-color: #d4ebff;}#sk-container-id-1 div.sk-serial::before {content: \"\";position: absolute;border-left: 1px solid gray;box-sizing: border-box;top: 0;bottom: 0;left: 50%;z-index: 0;}#sk-container-id-1 div.sk-serial {display: flex;flex-direction: column;align-items: center;background-color: white;padding-right: 0.2em;padding-left: 0.2em;position: relative;}#sk-container-id-1 div.sk-item {position: relative;z-index: 1;}#sk-container-id-1 div.sk-parallel {display: flex;align-items: stretch;justify-content: center;background-color: white;position: relative;}#sk-container-id-1 div.sk-item::before, #sk-container-id-1 div.sk-parallel-item::before {content: \"\";position: absolute;border-left: 1px solid gray;box-sizing: border-box;top: 0;bottom: 0;left: 50%;z-index: -1;}#sk-container-id-1 div.sk-parallel-item {display: flex;flex-direction: column;z-index: 1;position: relative;background-color: white;}#sk-container-id-1 div.sk-parallel-item:first-child::after {align-self: flex-end;width: 50%;}#sk-container-id-1 div.sk-parallel-item:last-child::after {align-self: flex-start;width: 50%;}#sk-container-id-1 div.sk-parallel-item:only-child::after {width: 0;}#sk-container-id-1 div.sk-dashed-wrapped {border: 1px dashed gray;margin: 0 0.4em 0.5em 0.4em;box-sizing: border-box;padding-bottom: 0.4em;background-color: white;}#sk-container-id-1 div.sk-label label {font-family: monospace;font-weight: bold;display: inline-block;line-height: 1.2em;}#sk-container-id-1 div.sk-label-container {text-align: center;}#sk-container-id-1 div.sk-container {/* jupyter's `normalize.less` sets `[hidden] { display: none; }` but bootstrap.min.css set `[hidden] { display: none !important; }` so we also need the `!important` here to be able to override the default hidden behavior on the sphinx rendered scikit-learn.org. See: https://github.com/scikit-learn/scikit-learn/issues/21755 */display: inline-block !important;position: relative;}#sk-container-id-1 div.sk-text-repr-fallback {display: none;}</style><div id=\"sk-container-id-1\" class=\"sk-top-container\"><div class=\"sk-text-repr-fallback\"><pre>Pipeline(memory=FastMemory(location=/tmp/joblib),\n",
              "         steps=[(&#x27;ordinal_encoding&#x27;,\n",
              "                 TransformerWrapper(exclude=None, include=[&#x27;TIPOVUELO&#x27;],\n",
              "                                    transformer=OrdinalEncoder(cols=[&#x27;TIPOVUELO&#x27;],\n",
              "                                                               drop_invariant=False,\n",
              "                                                               handle_missing=&#x27;return_nan&#x27;,\n",
              "                                                               handle_unknown=&#x27;value&#x27;,\n",
              "                                                               mapping=[{&#x27;col&#x27;: &#x27;TIPOVUELO&#x27;,\n",
              "                                                                         &#x27;data_type&#x27;: dtype(&#x27;O&#x27;),\n",
              "                                                                         &#x27;mapping&#x27;: I      0\n",
              "N      1\n",
              "NaN   -1\n",
              "dtype: int64}],\n",
              "                                                               return_df=True,\n",
              "                                                               ver...\n",
              "                                                                   return_df=True,\n",
              "                                                                   sigma=None,\n",
              "                                                                   verbose=0))),\n",
              "                (&#x27;balance&#x27;,\n",
              "                 TransformerWrapper(exclude=None, include=None,\n",
              "                                    transformer=FixImbalancer(estimator=SMOTE(k_neighbors=5,\n",
              "                                                                              n_jobs=None,\n",
              "                                                                              random_state=None,\n",
              "                                                                              sampling_strategy=&#x27;auto&#x27;)))),\n",
              "                (&#x27;clean_column_names&#x27;,\n",
              "                 TransformerWrapper(exclude=None, include=None,\n",
              "                                    transformer=CleanColumnNames(match=&#x27;[\\\\]\\\\[\\\\,\\\\{\\\\}\\\\&quot;\\\\:]+&#x27;)))],\n",
              "         verbose=False)</pre><b>In a Jupyter environment, please rerun this cell to show the HTML representation or trust the notebook. <br />On GitHub, the HTML representation is unable to render, please try loading this page with nbviewer.org.</b></div><div class=\"sk-container\" hidden><div class=\"sk-item sk-dashed-wrapped\"><div class=\"sk-label-container\"><div class=\"sk-label sk-toggleable\"><input class=\"sk-toggleable__control sk-hidden--visually\" id=\"sk-estimator-id-1\" type=\"checkbox\" ><label for=\"sk-estimator-id-1\" class=\"sk-toggleable__label sk-toggleable__label-arrow\">Pipeline</label><div class=\"sk-toggleable__content\"><pre>Pipeline(memory=FastMemory(location=/tmp/joblib),\n",
              "         steps=[(&#x27;ordinal_encoding&#x27;,\n",
              "                 TransformerWrapper(exclude=None, include=[&#x27;TIPOVUELO&#x27;],\n",
              "                                    transformer=OrdinalEncoder(cols=[&#x27;TIPOVUELO&#x27;],\n",
              "                                                               drop_invariant=False,\n",
              "                                                               handle_missing=&#x27;return_nan&#x27;,\n",
              "                                                               handle_unknown=&#x27;value&#x27;,\n",
              "                                                               mapping=[{&#x27;col&#x27;: &#x27;TIPOVUELO&#x27;,\n",
              "                                                                         &#x27;data_type&#x27;: dtype(&#x27;O&#x27;),\n",
              "                                                                         &#x27;mapping&#x27;: I      0\n",
              "N      1\n",
              "NaN   -1\n",
              "dtype: int64}],\n",
              "                                                               return_df=True,\n",
              "                                                               ver...\n",
              "                                                                   return_df=True,\n",
              "                                                                   sigma=None,\n",
              "                                                                   verbose=0))),\n",
              "                (&#x27;balance&#x27;,\n",
              "                 TransformerWrapper(exclude=None, include=None,\n",
              "                                    transformer=FixImbalancer(estimator=SMOTE(k_neighbors=5,\n",
              "                                                                              n_jobs=None,\n",
              "                                                                              random_state=None,\n",
              "                                                                              sampling_strategy=&#x27;auto&#x27;)))),\n",
              "                (&#x27;clean_column_names&#x27;,\n",
              "                 TransformerWrapper(exclude=None, include=None,\n",
              "                                    transformer=CleanColumnNames(match=&#x27;[\\\\]\\\\[\\\\,\\\\{\\\\}\\\\&quot;\\\\:]+&#x27;)))],\n",
              "         verbose=False)</pre></div></div></div><div class=\"sk-serial\"><div class=\"sk-item sk-dashed-wrapped\"><div class=\"sk-label-container\"><div class=\"sk-label sk-toggleable\"><input class=\"sk-toggleable__control sk-hidden--visually\" id=\"sk-estimator-id-2\" type=\"checkbox\" ><label for=\"sk-estimator-id-2\" class=\"sk-toggleable__label sk-toggleable__label-arrow\">ordinal_encoding: TransformerWrapper</label><div class=\"sk-toggleable__content\"><pre>TransformerWrapper(exclude=None, include=[&#x27;TIPOVUELO&#x27;],\n",
              "                   transformer=OrdinalEncoder(cols=[&#x27;TIPOVUELO&#x27;],\n",
              "                                              drop_invariant=False,\n",
              "                                              handle_missing=&#x27;return_nan&#x27;,\n",
              "                                              handle_unknown=&#x27;value&#x27;,\n",
              "                                              mapping=[{&#x27;col&#x27;: &#x27;TIPOVUELO&#x27;,\n",
              "                                                        &#x27;data_type&#x27;: dtype(&#x27;O&#x27;),\n",
              "                                                        &#x27;mapping&#x27;: I      0\n",
              "N      1\n",
              "NaN   -1\n",
              "dtype: int64}],\n",
              "                                              return_df=True, verbose=0))</pre></div></div></div><div class=\"sk-parallel\"><div class=\"sk-parallel-item\"><div class=\"sk-item\"><div class=\"sk-label-container\"><div class=\"sk-label sk-toggleable\"><input class=\"sk-toggleable__control sk-hidden--visually\" id=\"sk-estimator-id-3\" type=\"checkbox\" ><label for=\"sk-estimator-id-3\" class=\"sk-toggleable__label sk-toggleable__label-arrow\">transformer: OrdinalEncoder</label><div class=\"sk-toggleable__content\"><pre>OrdinalEncoder(cols=[&#x27;TIPOVUELO&#x27;], handle_missing=&#x27;return_nan&#x27;,\n",
              "               mapping=[{&#x27;col&#x27;: &#x27;TIPOVUELO&#x27;, &#x27;data_type&#x27;: dtype(&#x27;O&#x27;),\n",
              "                         &#x27;mapping&#x27;: I      0\n",
              "N      1\n",
              "NaN   -1\n",
              "dtype: int64}])</pre></div></div></div><div class=\"sk-serial\"><div class=\"sk-item\"><div class=\"sk-estimator sk-toggleable\"><input class=\"sk-toggleable__control sk-hidden--visually\" id=\"sk-estimator-id-4\" type=\"checkbox\" ><label for=\"sk-estimator-id-4\" class=\"sk-toggleable__label sk-toggleable__label-arrow\">OrdinalEncoder</label><div class=\"sk-toggleable__content\"><pre>OrdinalEncoder(cols=[&#x27;TIPOVUELO&#x27;], handle_missing=&#x27;return_nan&#x27;,\n",
              "               mapping=[{&#x27;col&#x27;: &#x27;TIPOVUELO&#x27;, &#x27;data_type&#x27;: dtype(&#x27;O&#x27;),\n",
              "                         &#x27;mapping&#x27;: I      0\n",
              "N      1\n",
              "NaN   -1\n",
              "dtype: int64}])</pre></div></div></div></div></div></div></div></div><div class=\"sk-item sk-dashed-wrapped\"><div class=\"sk-label-container\"><div class=\"sk-label sk-toggleable\"><input class=\"sk-toggleable__control sk-hidden--visually\" id=\"sk-estimator-id-5\" type=\"checkbox\" ><label for=\"sk-estimator-id-5\" class=\"sk-toggleable__label sk-toggleable__label-arrow\">onehot_encoding: TransformerWrapper</label><div class=\"sk-toggleable__content\"><pre>TransformerWrapper(exclude=None, include=[&#x27;DIANOM&#x27;, &#x27;periodo_dia&#x27;],\n",
              "                   transformer=OneHotEncoder(cols=[&#x27;DIANOM&#x27;, &#x27;periodo_dia&#x27;],\n",
              "                                             drop_invariant=False,\n",
              "                                             handle_missing=&#x27;return_nan&#x27;,\n",
              "                                             handle_unknown=&#x27;value&#x27;,\n",
              "                                             return_df=True, use_cat_names=True,\n",
              "                                             verbose=0))</pre></div></div></div><div class=\"sk-parallel\"><div class=\"sk-parallel-item\"><div class=\"sk-item\"><div class=\"sk-label-container\"><div class=\"sk-label sk-toggleable\"><input class=\"sk-toggleable__control sk-hidden--visually\" id=\"sk-estimator-id-6\" type=\"checkbox\" ><label for=\"sk-estimator-id-6\" class=\"sk-toggleable__label sk-toggleable__label-arrow\">transformer: OneHotEncoder</label><div class=\"sk-toggleable__content\"><pre>OneHotEncoder(cols=[&#x27;DIANOM&#x27;, &#x27;periodo_dia&#x27;], handle_missing=&#x27;return_nan&#x27;,\n",
              "              use_cat_names=True)</pre></div></div></div><div class=\"sk-serial\"><div class=\"sk-item\"><div class=\"sk-estimator sk-toggleable\"><input class=\"sk-toggleable__control sk-hidden--visually\" id=\"sk-estimator-id-7\" type=\"checkbox\" ><label for=\"sk-estimator-id-7\" class=\"sk-toggleable__label sk-toggleable__label-arrow\">OneHotEncoder</label><div class=\"sk-toggleable__content\"><pre>OneHotEncoder(cols=[&#x27;DIANOM&#x27;, &#x27;periodo_dia&#x27;], handle_missing=&#x27;return_nan&#x27;,\n",
              "              use_cat_names=True)</pre></div></div></div></div></div></div></div></div><div class=\"sk-item sk-dashed-wrapped\"><div class=\"sk-label-container\"><div class=\"sk-label sk-toggleable\"><input class=\"sk-toggleable__control sk-hidden--visually\" id=\"sk-estimator-id-8\" type=\"checkbox\" ><label for=\"sk-estimator-id-8\" class=\"sk-toggleable__label sk-toggleable__label-arrow\">rest_encoding: TransformerWrapper</label><div class=\"sk-toggleable__content\"><pre>TransformerWrapper(exclude=None, include=[&#x27;Des-I&#x27;, &#x27;Emp-I&#x27;],\n",
              "                   transformer=LeaveOneOutEncoder(cols=[&#x27;Des-I&#x27;, &#x27;Emp-I&#x27;],\n",
              "                                                  drop_invariant=False,\n",
              "                                                  handle_missing=&#x27;return_nan&#x27;,\n",
              "                                                  handle_unknown=&#x27;value&#x27;,\n",
              "                                                  random_state=123,\n",
              "                                                  return_df=True, sigma=None,\n",
              "                                                  verbose=0))</pre></div></div></div><div class=\"sk-parallel\"><div class=\"sk-parallel-item\"><div class=\"sk-item\"><div class=\"sk-label-container\"><div class=\"sk-label sk-toggleable\"><input class=\"sk-toggleable__control sk-hidden--visually\" id=\"sk-estimator-id-9\" type=\"checkbox\" ><label for=\"sk-estimator-id-9\" class=\"sk-toggleable__label sk-toggleable__label-arrow\">transformer: LeaveOneOutEncoder</label><div class=\"sk-toggleable__content\"><pre>LeaveOneOutEncoder(cols=[&#x27;Des-I&#x27;, &#x27;Emp-I&#x27;], handle_missing=&#x27;return_nan&#x27;,\n",
              "                   random_state=123)</pre></div></div></div><div class=\"sk-serial\"><div class=\"sk-item\"><div class=\"sk-estimator sk-toggleable\"><input class=\"sk-toggleable__control sk-hidden--visually\" id=\"sk-estimator-id-10\" type=\"checkbox\" ><label for=\"sk-estimator-id-10\" class=\"sk-toggleable__label sk-toggleable__label-arrow\">LeaveOneOutEncoder</label><div class=\"sk-toggleable__content\"><pre>LeaveOneOutEncoder(cols=[&#x27;Des-I&#x27;, &#x27;Emp-I&#x27;], handle_missing=&#x27;return_nan&#x27;,\n",
              "                   random_state=123)</pre></div></div></div></div></div></div></div></div><div class=\"sk-item sk-dashed-wrapped\"><div class=\"sk-label-container\"><div class=\"sk-label sk-toggleable\"><input class=\"sk-toggleable__control sk-hidden--visually\" id=\"sk-estimator-id-11\" type=\"checkbox\" ><label for=\"sk-estimator-id-11\" class=\"sk-toggleable__label sk-toggleable__label-arrow\">balance: TransformerWrapper</label><div class=\"sk-toggleable__content\"><pre>TransformerWrapper(exclude=None, include=None,\n",
              "                   transformer=FixImbalancer(estimator=SMOTE(k_neighbors=5,\n",
              "                                                             n_jobs=None,\n",
              "                                                             random_state=None,\n",
              "                                                             sampling_strategy=&#x27;auto&#x27;)))</pre></div></div></div><div class=\"sk-parallel\"><div class=\"sk-parallel-item\"><div class=\"sk-item\"><div class=\"sk-label-container\"><div class=\"sk-label sk-toggleable\"><input class=\"sk-toggleable__control sk-hidden--visually\" id=\"sk-estimator-id-12\" type=\"checkbox\" ><label for=\"sk-estimator-id-12\" class=\"sk-toggleable__label sk-toggleable__label-arrow\">transformer: FixImbalancer</label><div class=\"sk-toggleable__content\"><pre>FixImbalancer(estimator=SMOTE())</pre></div></div></div><div class=\"sk-serial\"><div class=\"sk-item sk-dashed-wrapped\"><div class=\"sk-parallel\"><div class=\"sk-parallel-item\"><div class=\"sk-item\"><div class=\"sk-label-container\"><div class=\"sk-label sk-toggleable\"><input class=\"sk-toggleable__control sk-hidden--visually\" id=\"sk-estimator-id-13\" type=\"checkbox\" ><label for=\"sk-estimator-id-13\" class=\"sk-toggleable__label sk-toggleable__label-arrow\">estimator: SMOTE</label><div class=\"sk-toggleable__content\"><pre>SMOTE()</pre></div></div></div><div class=\"sk-serial\"><div class=\"sk-item\"><div class=\"sk-estimator sk-toggleable\"><input class=\"sk-toggleable__control sk-hidden--visually\" id=\"sk-estimator-id-14\" type=\"checkbox\" ><label for=\"sk-estimator-id-14\" class=\"sk-toggleable__label sk-toggleable__label-arrow\">SMOTE</label><div class=\"sk-toggleable__content\"><pre>SMOTE()</pre></div></div></div></div></div></div></div></div></div></div></div></div></div><div class=\"sk-item sk-dashed-wrapped\"><div class=\"sk-label-container\"><div class=\"sk-label sk-toggleable\"><input class=\"sk-toggleable__control sk-hidden--visually\" id=\"sk-estimator-id-15\" type=\"checkbox\" ><label for=\"sk-estimator-id-15\" class=\"sk-toggleable__label sk-toggleable__label-arrow\">clean_column_names: TransformerWrapper</label><div class=\"sk-toggleable__content\"><pre>TransformerWrapper(exclude=None, include=None,\n",
              "                   transformer=CleanColumnNames(match=&#x27;[\\\\]\\\\[\\\\,\\\\{\\\\}\\\\&quot;\\\\:]+&#x27;))</pre></div></div></div><div class=\"sk-parallel\"><div class=\"sk-parallel-item\"><div class=\"sk-item\"><div class=\"sk-label-container\"><div class=\"sk-label sk-toggleable\"><input class=\"sk-toggleable__control sk-hidden--visually\" id=\"sk-estimator-id-16\" type=\"checkbox\" ><label for=\"sk-estimator-id-16\" class=\"sk-toggleable__label sk-toggleable__label-arrow\">transformer: CleanColumnNames</label><div class=\"sk-toggleable__content\"><pre>CleanColumnNames()</pre></div></div></div><div class=\"sk-serial\"><div class=\"sk-item\"><div class=\"sk-estimator sk-toggleable\"><input class=\"sk-toggleable__control sk-hidden--visually\" id=\"sk-estimator-id-17\" type=\"checkbox\" ><label for=\"sk-estimator-id-17\" class=\"sk-toggleable__label sk-toggleable__label-arrow\">CleanColumnNames</label><div class=\"sk-toggleable__content\"><pre>CleanColumnNames()</pre></div></div></div></div></div></div></div></div></div></div></div></div>"
            ]
          },
          "metadata": {},
          "execution_count": 82
        }
      ]
    },
    {
      "cell_type": "markdown",
      "source": [
        "## 05.03. Elección del modelo en particular"
      ],
      "metadata": {
        "id": "dE2-41Y49ygE"
      }
    },
    {
      "cell_type": "markdown",
      "source": [
        "El modelo que presento el mejor balance entre las métricas descritas y el tiempo de predicción fue en nuestro caso fue el `Logistic Regression` con un `recall` de 0.54 para la clase positiva, un `F1-Score` de 0.35 para la clase positiva y un `accuracy` de 0.62. Si bien los modelos restantes tienen respecto a las métricas un desempeño sutilmente superior (en 1 punto porcentual aprox), el tiempo de predicción es drásticamente menor (731 µs vs 3 y 55 ms) por lo cual lo hace de manera integral un mejor modelo evaluando su desempeño en conjunto."
      ],
      "metadata": {
        "id": "wRVGyALW0gai"
      }
    },
    {
      "cell_type": "markdown",
      "source": [
        "## 05.04. Variables que más influyen en la predicción"
      ],
      "metadata": {
        "id": "2irTDs0Q97lj"
      }
    },
    {
      "cell_type": "markdown",
      "source": [
        "Aprovechando la funcionalidad de Pycaret que nos permite obtener de manera simple el gráfico para el feature importance del modelo `Logistic Regression` podemos observar que las características se habían estimado en el `numeral 03.07.` (destino y aerolínea, seguidas por dia de semana) son efectivamente las que mayor influencia presentan en la predicción."
      ],
      "metadata": {
        "id": "YsmKVYAy2ABZ"
      }
    },
    {
      "cell_type": "code",
      "source": [
        "lr_classifier = create_model('lr', fold = 5)"
      ],
      "metadata": {
        "colab": {
          "base_uri": "https://localhost:8080/",
          "height": 300,
          "referenced_widgets": [
            "bcfc9a4eebfa4908b08003976d7c7e7c",
            "39f9a19c89fe43028c8d6ae48cb35e52",
            "aa37a8c818534a788a78b8a157c44709",
            "a1e49526c2664bdbb4bc8b6bb4b23868",
            "15f2e4a5d48b4383b6ea97496d36c10a",
            "7c757711465247d6972e7a7de5c7d1c5",
            "5d8ed4e1f6d14f3a923fd4b5325b18ec",
            "7dded27bf10f4ff3948fbc9bfa3d76f0",
            "52317a472cec4ebeaca52e7eed348557",
            "b3051d1e76c1471dbe13630cdca27b72",
            "35962d6f5271475f8cc6366d7adf58eb"
          ]
        },
        "id": "DDoWZWj0CkHs",
        "outputId": "2e08a612-4862-4640-f098-c07e29965deb"
      },
      "execution_count": 83,
      "outputs": [
        {
          "output_type": "display_data",
          "data": {
            "text/plain": [
              "<IPython.core.display.HTML object>"
            ],
            "text/html": []
          },
          "metadata": {}
        },
        {
          "output_type": "display_data",
          "data": {
            "text/plain": [
              "<pandas.io.formats.style.Styler at 0x7f2cc39d3ee0>"
            ],
            "text/html": [
              "<style type=\"text/css\">\n",
              "#T_ce61c_row5_col0, #T_ce61c_row5_col1, #T_ce61c_row5_col2, #T_ce61c_row5_col3, #T_ce61c_row5_col4, #T_ce61c_row5_col5, #T_ce61c_row5_col6 {\n",
              "  background: yellow;\n",
              "}\n",
              "</style>\n",
              "<table id=\"T_ce61c\" class=\"dataframe\">\n",
              "  <thead>\n",
              "    <tr>\n",
              "      <th class=\"blank level0\" >&nbsp;</th>\n",
              "      <th id=\"T_ce61c_level0_col0\" class=\"col_heading level0 col0\" >Accuracy</th>\n",
              "      <th id=\"T_ce61c_level0_col1\" class=\"col_heading level0 col1\" >AUC</th>\n",
              "      <th id=\"T_ce61c_level0_col2\" class=\"col_heading level0 col2\" >Recall</th>\n",
              "      <th id=\"T_ce61c_level0_col3\" class=\"col_heading level0 col3\" >Prec.</th>\n",
              "      <th id=\"T_ce61c_level0_col4\" class=\"col_heading level0 col4\" >F1</th>\n",
              "      <th id=\"T_ce61c_level0_col5\" class=\"col_heading level0 col5\" >Kappa</th>\n",
              "      <th id=\"T_ce61c_level0_col6\" class=\"col_heading level0 col6\" >MCC</th>\n",
              "    </tr>\n",
              "    <tr>\n",
              "      <th class=\"index_name level0\" >Fold</th>\n",
              "      <th class=\"blank col0\" >&nbsp;</th>\n",
              "      <th class=\"blank col1\" >&nbsp;</th>\n",
              "      <th class=\"blank col2\" >&nbsp;</th>\n",
              "      <th class=\"blank col3\" >&nbsp;</th>\n",
              "      <th class=\"blank col4\" >&nbsp;</th>\n",
              "      <th class=\"blank col5\" >&nbsp;</th>\n",
              "      <th class=\"blank col6\" >&nbsp;</th>\n",
              "    </tr>\n",
              "  </thead>\n",
              "  <tbody>\n",
              "    <tr>\n",
              "      <th id=\"T_ce61c_level0_row0\" class=\"row_heading level0 row0\" >0</th>\n",
              "      <td id=\"T_ce61c_row0_col0\" class=\"data row0 col0\" >0.6366</td>\n",
              "      <td id=\"T_ce61c_row0_col1\" class=\"data row0 col1\" >0.6378</td>\n",
              "      <td id=\"T_ce61c_row0_col2\" class=\"data row0 col2\" >0.5243</td>\n",
              "      <td id=\"T_ce61c_row0_col3\" class=\"data row0 col3\" >0.2604</td>\n",
              "      <td id=\"T_ce61c_row0_col4\" class=\"data row0 col4\" >0.3480</td>\n",
              "      <td id=\"T_ce61c_row0_col5\" class=\"data row0 col5\" >0.1340</td>\n",
              "      <td id=\"T_ce61c_row0_col6\" class=\"data row0 col6\" >0.1497</td>\n",
              "    </tr>\n",
              "    <tr>\n",
              "      <th id=\"T_ce61c_level0_row1\" class=\"row_heading level0 row1\" >1</th>\n",
              "      <td id=\"T_ce61c_row1_col0\" class=\"data row1 col0\" >0.6373</td>\n",
              "      <td id=\"T_ce61c_row1_col1\" class=\"data row1 col1\" >0.6477</td>\n",
              "      <td id=\"T_ce61c_row1_col2\" class=\"data row1 col2\" >0.5351</td>\n",
              "      <td id=\"T_ce61c_row1_col3\" class=\"data row1 col3\" >0.2635</td>\n",
              "      <td id=\"T_ce61c_row1_col4\" class=\"data row1 col4\" >0.3531</td>\n",
              "      <td id=\"T_ce61c_row1_col5\" class=\"data row1 col5\" >0.1399</td>\n",
              "      <td id=\"T_ce61c_row1_col6\" class=\"data row1 col6\" >0.1569</td>\n",
              "    </tr>\n",
              "    <tr>\n",
              "      <th id=\"T_ce61c_level0_row2\" class=\"row_heading level0 row2\" >2</th>\n",
              "      <td id=\"T_ce61c_row2_col0\" class=\"data row2 col0\" >0.6391</td>\n",
              "      <td id=\"T_ce61c_row2_col1\" class=\"data row2 col1\" >0.6443</td>\n",
              "      <td id=\"T_ce61c_row2_col2\" class=\"data row2 col2\" >0.5289</td>\n",
              "      <td id=\"T_ce61c_row2_col3\" class=\"data row2 col3\" >0.2632</td>\n",
              "      <td id=\"T_ce61c_row2_col4\" class=\"data row2 col4\" >0.3515</td>\n",
              "      <td id=\"T_ce61c_row2_col5\" class=\"data row2 col5\" >0.1389</td>\n",
              "      <td id=\"T_ce61c_row2_col6\" class=\"data row2 col6\" >0.1551</td>\n",
              "    </tr>\n",
              "    <tr>\n",
              "      <th id=\"T_ce61c_level0_row3\" class=\"row_heading level0 row3\" >3</th>\n",
              "      <td id=\"T_ce61c_row3_col0\" class=\"data row3 col0\" >0.6339</td>\n",
              "      <td id=\"T_ce61c_row3_col1\" class=\"data row3 col1\" >0.6468</td>\n",
              "      <td id=\"T_ce61c_row3_col2\" class=\"data row3 col2\" >0.5549</td>\n",
              "      <td id=\"T_ce61c_row3_col3\" class=\"data row3 col3\" >0.2656</td>\n",
              "      <td id=\"T_ce61c_row3_col4\" class=\"data row3 col4\" >0.3592</td>\n",
              "      <td id=\"T_ce61c_row3_col5\" class=\"data row3 col5\" >0.1455</td>\n",
              "      <td id=\"T_ce61c_row3_col6\" class=\"data row3 col6\" >0.1648</td>\n",
              "    </tr>\n",
              "    <tr>\n",
              "      <th id=\"T_ce61c_level0_row4\" class=\"row_heading level0 row4\" >4</th>\n",
              "      <td id=\"T_ce61c_row4_col0\" class=\"data row4 col0\" >0.6325</td>\n",
              "      <td id=\"T_ce61c_row4_col1\" class=\"data row4 col1\" >0.6277</td>\n",
              "      <td id=\"T_ce61c_row4_col2\" class=\"data row4 col2\" >0.5108</td>\n",
              "      <td id=\"T_ce61c_row4_col3\" class=\"data row4 col3\" >0.2543</td>\n",
              "      <td id=\"T_ce61c_row4_col4\" class=\"data row4 col4\" >0.3395</td>\n",
              "      <td id=\"T_ce61c_row4_col5\" class=\"data row4 col5\" >0.1229</td>\n",
              "      <td id=\"T_ce61c_row4_col6\" class=\"data row4 col6\" >0.1373</td>\n",
              "    </tr>\n",
              "    <tr>\n",
              "      <th id=\"T_ce61c_level0_row5\" class=\"row_heading level0 row5\" >Mean</th>\n",
              "      <td id=\"T_ce61c_row5_col0\" class=\"data row5 col0\" >0.6359</td>\n",
              "      <td id=\"T_ce61c_row5_col1\" class=\"data row5 col1\" >0.6409</td>\n",
              "      <td id=\"T_ce61c_row5_col2\" class=\"data row5 col2\" >0.5308</td>\n",
              "      <td id=\"T_ce61c_row5_col3\" class=\"data row5 col3\" >0.2614</td>\n",
              "      <td id=\"T_ce61c_row5_col4\" class=\"data row5 col4\" >0.3503</td>\n",
              "      <td id=\"T_ce61c_row5_col5\" class=\"data row5 col5\" >0.1362</td>\n",
              "      <td id=\"T_ce61c_row5_col6\" class=\"data row5 col6\" >0.1528</td>\n",
              "    </tr>\n",
              "    <tr>\n",
              "      <th id=\"T_ce61c_level0_row6\" class=\"row_heading level0 row6\" >Std</th>\n",
              "      <td id=\"T_ce61c_row6_col0\" class=\"data row6 col0\" >0.0024</td>\n",
              "      <td id=\"T_ce61c_row6_col1\" class=\"data row6 col1\" >0.0074</td>\n",
              "      <td id=\"T_ce61c_row6_col2\" class=\"data row6 col2\" >0.0145</td>\n",
              "      <td id=\"T_ce61c_row6_col3\" class=\"data row6 col3\" >0.0039</td>\n",
              "      <td id=\"T_ce61c_row6_col4\" class=\"data row6 col4\" >0.0065</td>\n",
              "      <td id=\"T_ce61c_row6_col5\" class=\"data row6 col5\" >0.0076</td>\n",
              "      <td id=\"T_ce61c_row6_col6\" class=\"data row6 col6\" >0.0091</td>\n",
              "    </tr>\n",
              "  </tbody>\n",
              "</table>\n"
            ]
          },
          "metadata": {}
        },
        {
          "output_type": "display_data",
          "data": {
            "text/plain": [
              "Processing:   0%|          | 0/4 [00:00<?, ?it/s]"
            ],
            "application/vnd.jupyter.widget-view+json": {
              "version_major": 2,
              "version_minor": 0,
              "model_id": "bcfc9a4eebfa4908b08003976d7c7e7c"
            }
          },
          "metadata": {
            "application/vnd.jupyter.widget-view+json": {
              "colab": {
                "custom_widget_manager": {
                  "url": "https://ssl.gstatic.com/colaboratory-static/widgets/colab-cdn-widget-manager/b3e629b1971e1542/manager.min.js"
                }
              }
            }
          }
        },
        {
          "output_type": "display_data",
          "data": {
            "text/plain": [
              "<IPython.core.display.HTML object>"
            ],
            "text/html": []
          },
          "metadata": {}
        }
      ]
    },
    {
      "cell_type": "code",
      "source": [
        "plot_model(lr_classifier, plot = 'feature')"
      ],
      "metadata": {
        "colab": {
          "base_uri": "https://localhost:8080/",
          "height": 478
        },
        "id": "inSB_8MiC4WY",
        "outputId": "b38c43b5-aa28-4bd6-83cf-147b2991617b"
      },
      "execution_count": 84,
      "outputs": [
        {
          "output_type": "display_data",
          "data": {
            "text/plain": [
              "<IPython.core.display.HTML object>"
            ],
            "text/html": []
          },
          "metadata": {}
        },
        {
          "output_type": "display_data",
          "data": {
            "text/plain": [
              "<Figure size 800x500 with 1 Axes>"
            ],
            "image/png": "[encoded data removed]"
          },
          "metadata": {
            "needs_background": "light"
          }
        }
      ]
    },
    {
      "cell_type": "markdown",
      "source": [
        "## 05.05. Posibles mejoras al modelo para incrementar su performance"
      ],
      "metadata": {
        "id": "4MWykujj-MK1"
      }
    },
    {
      "cell_type": "markdown",
      "source": [
        "En relación a la mejora del performance del modelo podríamos explorar diversos enfoques basados en los datos y en las características de los modelos. Por otra parte podríamos tener mejoras, que aunque no tienen que ver explícitamente con su performance, si tienen que ver con la industrialización y consumo del modelo.\n",
        "\n"
      ],
      "metadata": {
        "id": "CE6Jnkanu1aC"
      }
    },
    {
      "cell_type": "markdown",
      "source": [
        "### ---> Mejoras en relación a los datos:\n",
        "- **Datos existentes:** Podemos explorar con mayor detalle diferentes alternativas de encoding para las diferentes categorías y la selección de los features de mayor relevancia, reduciendo así el tamaño de los datasets de entrenamiento y evaluación y con ello el tiempo de estimación del modelo, mientras mantenemos o incrementamos sus métricas objetivo.\n",
        "- **Datos complementarios (Inclusión de información complementaría y relevante de negocio):** podría indagarse con las personas de negocio si existen otros features que pudieran tenerse, y que aunque no se incluyeron en el dataset, podrían presentar gran relevancia para la estimación de los atrasos, y por ende de la mejora del performance. El tipo de aeronave (características de mantenimiento y operaciones), la composición de los vuelos en relación con el tipo de tiquete (manejo de gate y abordaje), la procedencia del vuelo anterior (retrasos debido a otros arribos), etc."
      ],
      "metadata": {
        "id": "vFrwlU_ByADj"
      }
    },
    {
      "cell_type": "markdown",
      "source": [
        "### ---> Mejoras en relación a los modelos:\n",
        "- **Optimización de hiperparámetros:** Los modelos propuestos son modelos base que fueron entrenados con sus características por defecto. Haciendo uso del `grid search` y del `random search`, podríamos generar algunos pipelines que nos permitieran evaluar diferentes configuraciones de hiperparametros, y elegir con ello los que presentan un mejor performance.\n",
        "- **Técnicas para tratar el desbalance de los datos:** si bien tuvimos en cuenta el desbalance de los datos tanto en el train test split, así como en los parámetros de los modelos, podrían evaluarse otras técnicas de sampleo (oversampling, undersampling) para saber si una composición diferente de los datos puede dar lugar a una mejora en la estimación.\n"
      ],
      "metadata": {
        "id": "31aiPzUByABO"
      }
    },
    {
      "cell_type": "markdown",
      "source": [
        "### ---> Mejoras en relación a la industrialización y consumo del modelo:\n",
        "- **Unificación de pilelines:** Si bien presentamos 2 secciones de transformación basadas en pipeline, y posteriormente una sección de estimación, podríamos agregar estas etapas en un único pipeline que puede generar todo el proceso de principio a fin. Esto nos permitirá almacenarlo como un único elemento que puede ser llamado para que directamente a partir de un dato de entrada realice la estimación tras pasar por todas sus etapas.\n",
        "- **Registro de los experimentos y modelos evaluados**: podríamos tener un versionamiento de los diferentes experimentos y modelos evaluados si empleamos una herramienta como MLFlow para el tracking de toda la etapa de desarrollo del modelo.\n",
        "- **Desarrollo de un API para consumo del modelo**En el caso que quisiéramos disponibilizar el modelo para su consumo podríamos emplear herramientas como Flask o FastAPI para crear un API que permitiera consumir el modelo."
      ],
      "metadata": {
        "id": "nD-vySnVx_-o"
      }
    }
  ]
}