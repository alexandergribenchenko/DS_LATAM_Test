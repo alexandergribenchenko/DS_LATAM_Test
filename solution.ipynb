{
  "nbformat": 4,
  "nbformat_minor": 0,
  "metadata": {
    "colab": {
      "provenance": [],
      "toc_visible": true,
      "include_colab_link": true
    },
    "kernelspec": {
      "name": "python3",
      "display_name": "Python 3"
    },
    "language_info": {
      "name": "python"
    }
  },
  "cells": [
    {
      "cell_type": "markdown",
      "metadata": {
        "id": "view-in-github",
        "colab_type": "text"
      },
      "source": [
        "<a href=\"https://colab.research.google.com/github/alexandergribenchenko/DS_LATAM_Test/blob/main/solution.ipynb\" target=\"_parent\"><img src=\"https://colab.research.google.com/assets/colab-badge.svg\" alt=\"Open In Colab\"/></a>"
      ]
    },
    {
      "cell_type": "markdown",
      "source": [
        "# ¿Cuál es la proabilidad de que se retrase mi vuelo?\n",
        "**Data Scientist Challenge - LATAM Airlines (Presentado por: Alexander Ortega, Marzo 2023)**\n",
        "\n"
      ],
      "metadata": {
        "id": "PJ7HBoIdUHm4"
      }
    },
    {
      "cell_type": "markdown",
      "source": [
        "Este notebook presenta la solución al reto analítico propuesto por LATAM que consiste en predecir la probabilidad de atraso de los vuelos que aterrizan o despegan del aeropuerto de Santiago de Chile (SCL).\n",
        " \n",
        "El notebook está compuesto de 5 secciones que dan respuesta a cada uno de los ítems descritos en la sección de `Desafío`:\n",
        " \n",
        "- **Sección 01. Distribución de los datos:** se analiza la distribución de los datos para cada uno de los features que componen el dataset.\n",
        "- **Sección 02. Generación de Columnas Adicionales:** se genera un dataset denominado `synthetic_features.csv` con las columnas adicionales que dan cuenta de la temporada (alta o baja), el retraso en minutos, la etiqueta de atrasado (si, no) si el retraso es superior a 15 minutos y por último en periodo del día (mañana, tarde o noche).\n",
        "- **Sección 03. Comportamiento del atraso vs features relevantes:** se describe la relación entre la variable de retraso y las variables destino, aerolínea, mes del año, día de la semana, temporada y tipo de vuelo. A partir de sus resultados se discuten cuáles son las que pueden presentar mayor relevancia en el modelo.\n",
        "- **Sección 04. Entrenamiento de modelos propuestos:** se presenta el pipeline que compone el procesamiento de datos y entrenamiento de 3 modelos base: Logistic Regression, Decision Tree Classifier y Xgboost. De manera adicional se presenta la alternativa para la evaluación de un conjunto más amplio de modelos a partir del uso de la librería de AutoML Pycaret.\n",
        "- **Sección 05. Evaluación de modelos propuestos:** se discute la métrica elegida para evaluar el performance del modelo y se presentan los resultados para cada uno de los modelos. Así mismo se discuten las variables que mayor influencia presentan en la predicción y algunas alternativas para mejorar su performance.\n"
      ],
      "metadata": {
        "id": "ojvuq0N9UsNp"
      }
    },
    {
      "cell_type": "markdown",
      "source": [
        "# A. Líbrerías"
      ],
      "metadata": {
        "id": "wAUWsWfum0VC"
      }
    },
    {
      "cell_type": "code",
      "execution_count": 1,
      "metadata": {
        "id": "aG5HunFirai0"
      },
      "outputs": [],
      "source": [
        "import pandas as pd\n",
        "\n",
        "import seaborn as sns\n",
        "import matplotlib.pyplot as plt\n",
        "sns.set_theme(style=\"whitegrid\")\n",
        "\n",
        "from sklearn.base import BaseEstimator, TransformerMixin\n",
        "from sklearn.pipeline import Pipeline\n",
        "\n",
        "from sklearn.preprocessing import OneHotEncoder\n",
        "from sklearn.compose import ColumnTransformer\n",
        "\n",
        "from sklearn.model_selection import train_test_split\n",
        "from sklearn.linear_model import LogisticRegression\n",
        "from sklearn.tree import DecisionTreeClassifier\n",
        "from sklearn.metrics import confusion_matrix, classification_report\n",
        "\n",
        "import xgboost as xgb\n",
        "\n",
        "import warnings\n",
        "warnings.filterwarnings(\"ignore\")"
      ]
    },
    {
      "cell_type": "code",
      "source": [
        "!pip install pycaret > /dev/null\n",
        "import pycaret\n",
        "from pycaret.classification import *"
      ],
      "metadata": {
        "id": "8qZLSc-x75Le"
      },
      "execution_count": 2,
      "outputs": []
    },
    {
      "cell_type": "markdown",
      "source": [
        "# B. Dataframe raw"
      ],
      "metadata": {
        "id": "5FjYqdd6m_vd"
      }
    },
    {
      "cell_type": "code",
      "source": [
        "path_github = 'https://raw.githubusercontent.com/alexandergribenchenko/DS_LATAM_Test/main/data/dataset_SCL.csv'"
      ],
      "metadata": {
        "id": "AWhUExDhrt34"
      },
      "execution_count": 3,
      "outputs": []
    },
    {
      "cell_type": "code",
      "source": [
        "df_raw = pd.read_csv(path_github, dtype=object)\n",
        "df_raw"
      ],
      "metadata": {
        "colab": {
          "base_uri": "https://localhost:8080/",
          "height": 467
        },
        "id": "cnK82fRJrt1w",
        "outputId": "b43b2f5f-50cd-466c-cf66-70bff02c4171"
      },
      "execution_count": 4,
      "outputs": [
        {
          "output_type": "execute_result",
          "data": {
            "text/plain": [
              "                   Fecha-I Vlo-I Ori-I Des-I Emp-I              Fecha-O  \\\n",
              "0      2017-01-01 23:30:00   226  SCEL  KMIA   AAL  2017-01-01 23:33:00   \n",
              "1      2017-01-02 23:30:00   226  SCEL  KMIA   AAL  2017-01-02 23:39:00   \n",
              "2      2017-01-03 23:30:00   226  SCEL  KMIA   AAL  2017-01-03 23:39:00   \n",
              "3      2017-01-04 23:30:00   226  SCEL  KMIA   AAL  2017-01-04 23:33:00   \n",
              "4      2017-01-05 23:30:00   226  SCEL  KMIA   AAL  2017-01-05 23:28:00   \n",
              "...                    ...   ...   ...   ...   ...                  ...   \n",
              "68201  2017-12-22 14:55:00   400  SCEL  SPJC   JAT  2017-12-22 15:41:00   \n",
              "68202  2017-12-25 14:55:00   400  SCEL  SPJC   JAT  2017-12-25 15:11:00   \n",
              "68203  2017-12-27 14:55:00   400  SCEL  SPJC   JAT  2017-12-27 15:35:00   \n",
              "68204  2017-12-29 14:55:00   400  SCEL  SPJC   JAT  2017-12-29 15:08:00   \n",
              "68205  2017-12-31 14:55:00   400  SCEL  SPJC   JAT  2017-12-31 15:04:00   \n",
              "\n",
              "       Vlo-O Ori-O Des-O Emp-O DIA MES   AÑO     DIANOM TIPOVUELO  \\\n",
              "0        226  SCEL  KMIA   AAL   1   1  2017    Domingo         I   \n",
              "1        226  SCEL  KMIA   AAL   2   1  2017      Lunes         I   \n",
              "2        226  SCEL  KMIA   AAL   3   1  2017     Martes         I   \n",
              "3        226  SCEL  KMIA   AAL   4   1  2017  Miercoles         I   \n",
              "4        226  SCEL  KMIA   AAL   5   1  2017     Jueves         I   \n",
              "...      ...   ...   ...   ...  ..  ..   ...        ...       ...   \n",
              "68201  400.0  SCEL  SPJC   JAT  22  12  2017    Viernes         I   \n",
              "68202  400.0  SCEL  SPJC   JAT  25  12  2017      Lunes         I   \n",
              "68203  400.0  SCEL  SPJC   JAT  27  12  2017  Miercoles         I   \n",
              "68204  400.0  SCEL  SPJC   JAT  29  12  2017    Viernes         I   \n",
              "68205  400.0  SCEL  SPJC   JAT  31  12  2017    Domingo         I   \n",
              "\n",
              "                   OPERA  SIGLAORI SIGLADES  \n",
              "0      American Airlines  Santiago    Miami  \n",
              "1      American Airlines  Santiago    Miami  \n",
              "2      American Airlines  Santiago    Miami  \n",
              "3      American Airlines  Santiago    Miami  \n",
              "4      American Airlines  Santiago    Miami  \n",
              "...                  ...       ...      ...  \n",
              "68201       JetSmart SPA  Santiago     Lima  \n",
              "68202       JetSmart SPA  Santiago     Lima  \n",
              "68203       JetSmart SPA  Santiago     Lima  \n",
              "68204       JetSmart SPA  Santiago     Lima  \n",
              "68205       JetSmart SPA  Santiago     Lima  \n",
              "\n",
              "[68206 rows x 18 columns]"
            ],
            "text/html": [
              "\n",
              "  <div id=\"df-f45ac5b6-536a-4830-8284-af4f866ff428\">\n",
              "    <div class=\"colab-df-container\">\n",
              "      <div>\n",
              "<style scoped>\n",
              "    .dataframe tbody tr th:only-of-type {\n",
              "        vertical-align: middle;\n",
              "    }\n",
              "\n",
              "    .dataframe tbody tr th {\n",
              "        vertical-align: top;\n",
              "    }\n",
              "\n",
              "    .dataframe thead th {\n",
              "        text-align: right;\n",
              "    }\n",
              "</style>\n",
              "<table border=\"1\" class=\"dataframe\">\n",
              "  <thead>\n",
              "    <tr style=\"text-align: right;\">\n",
              "      <th></th>\n",
              "      <th>Fecha-I</th>\n",
              "      <th>Vlo-I</th>\n",
              "      <th>Ori-I</th>\n",
              "      <th>Des-I</th>\n",
              "      <th>Emp-I</th>\n",
              "      <th>Fecha-O</th>\n",
              "      <th>Vlo-O</th>\n",
              "      <th>Ori-O</th>\n",
              "      <th>Des-O</th>\n",
              "      <th>Emp-O</th>\n",
              "      <th>DIA</th>\n",
              "      <th>MES</th>\n",
              "      <th>AÑO</th>\n",
              "      <th>DIANOM</th>\n",
              "      <th>TIPOVUELO</th>\n",
              "      <th>OPERA</th>\n",
              "      <th>SIGLAORI</th>\n",
              "      <th>SIGLADES</th>\n",
              "    </tr>\n",
              "  </thead>\n",
              "  <tbody>\n",
              "    <tr>\n",
              "      <th>0</th>\n",
              "      <td>2017-01-01 23:30:00</td>\n",
              "      <td>226</td>\n",
              "      <td>SCEL</td>\n",
              "      <td>KMIA</td>\n",
              "      <td>AAL</td>\n",
              "      <td>2017-01-01 23:33:00</td>\n",
              "      <td>226</td>\n",
              "      <td>SCEL</td>\n",
              "      <td>KMIA</td>\n",
              "      <td>AAL</td>\n",
              "      <td>1</td>\n",
              "      <td>1</td>\n",
              "      <td>2017</td>\n",
              "      <td>Domingo</td>\n",
              "      <td>I</td>\n",
              "      <td>American Airlines</td>\n",
              "      <td>Santiago</td>\n",
              "      <td>Miami</td>\n",
              "    </tr>\n",
              "    <tr>\n",
              "      <th>1</th>\n",
              "      <td>2017-01-02 23:30:00</td>\n",
              "      <td>226</td>\n",
              "      <td>SCEL</td>\n",
              "      <td>KMIA</td>\n",
              "      <td>AAL</td>\n",
              "      <td>2017-01-02 23:39:00</td>\n",
              "      <td>226</td>\n",
              "      <td>SCEL</td>\n",
              "      <td>KMIA</td>\n",
              "      <td>AAL</td>\n",
              "      <td>2</td>\n",
              "      <td>1</td>\n",
              "      <td>2017</td>\n",
              "      <td>Lunes</td>\n",
              "      <td>I</td>\n",
              "      <td>American Airlines</td>\n",
              "      <td>Santiago</td>\n",
              "      <td>Miami</td>\n",
              "    </tr>\n",
              "    <tr>\n",
              "      <th>2</th>\n",
              "      <td>2017-01-03 23:30:00</td>\n",
              "      <td>226</td>\n",
              "      <td>SCEL</td>\n",
              "      <td>KMIA</td>\n",
              "      <td>AAL</td>\n",
              "      <td>2017-01-03 23:39:00</td>\n",
              "      <td>226</td>\n",
              "      <td>SCEL</td>\n",
              "      <td>KMIA</td>\n",
              "      <td>AAL</td>\n",
              "      <td>3</td>\n",
              "      <td>1</td>\n",
              "      <td>2017</td>\n",
              "      <td>Martes</td>\n",
              "      <td>I</td>\n",
              "      <td>American Airlines</td>\n",
              "      <td>Santiago</td>\n",
              "      <td>Miami</td>\n",
              "    </tr>\n",
              "    <tr>\n",
              "      <th>3</th>\n",
              "      <td>2017-01-04 23:30:00</td>\n",
              "      <td>226</td>\n",
              "      <td>SCEL</td>\n",
              "      <td>KMIA</td>\n",
              "      <td>AAL</td>\n",
              "      <td>2017-01-04 23:33:00</td>\n",
              "      <td>226</td>\n",
              "      <td>SCEL</td>\n",
              "      <td>KMIA</td>\n",
              "      <td>AAL</td>\n",
              "      <td>4</td>\n",
              "      <td>1</td>\n",
              "      <td>2017</td>\n",
              "      <td>Miercoles</td>\n",
              "      <td>I</td>\n",
              "      <td>American Airlines</td>\n",
              "      <td>Santiago</td>\n",
              "      <td>Miami</td>\n",
              "    </tr>\n",
              "    <tr>\n",
              "      <th>4</th>\n",
              "      <td>2017-01-05 23:30:00</td>\n",
              "      <td>226</td>\n",
              "      <td>SCEL</td>\n",
              "      <td>KMIA</td>\n",
              "      <td>AAL</td>\n",
              "      <td>2017-01-05 23:28:00</td>\n",
              "      <td>226</td>\n",
              "      <td>SCEL</td>\n",
              "      <td>KMIA</td>\n",
              "      <td>AAL</td>\n",
              "      <td>5</td>\n",
              "      <td>1</td>\n",
              "      <td>2017</td>\n",
              "      <td>Jueves</td>\n",
              "      <td>I</td>\n",
              "      <td>American Airlines</td>\n",
              "      <td>Santiago</td>\n",
              "      <td>Miami</td>\n",
              "    </tr>\n",
              "    <tr>\n",
              "      <th>...</th>\n",
              "      <td>...</td>\n",
              "      <td>...</td>\n",
              "      <td>...</td>\n",
              "      <td>...</td>\n",
              "      <td>...</td>\n",
              "      <td>...</td>\n",
              "      <td>...</td>\n",
              "      <td>...</td>\n",
              "      <td>...</td>\n",
              "      <td>...</td>\n",
              "      <td>...</td>\n",
              "      <td>...</td>\n",
              "      <td>...</td>\n",
              "      <td>...</td>\n",
              "      <td>...</td>\n",
              "      <td>...</td>\n",
              "      <td>...</td>\n",
              "      <td>...</td>\n",
              "    </tr>\n",
              "    <tr>\n",
              "      <th>68201</th>\n",
              "      <td>2017-12-22 14:55:00</td>\n",
              "      <td>400</td>\n",
              "      <td>SCEL</td>\n",
              "      <td>SPJC</td>\n",
              "      <td>JAT</td>\n",
              "      <td>2017-12-22 15:41:00</td>\n",
              "      <td>400.0</td>\n",
              "      <td>SCEL</td>\n",
              "      <td>SPJC</td>\n",
              "      <td>JAT</td>\n",
              "      <td>22</td>\n",
              "      <td>12</td>\n",
              "      <td>2017</td>\n",
              "      <td>Viernes</td>\n",
              "      <td>I</td>\n",
              "      <td>JetSmart SPA</td>\n",
              "      <td>Santiago</td>\n",
              "      <td>Lima</td>\n",
              "    </tr>\n",
              "    <tr>\n",
              "      <th>68202</th>\n",
              "      <td>2017-12-25 14:55:00</td>\n",
              "      <td>400</td>\n",
              "      <td>SCEL</td>\n",
              "      <td>SPJC</td>\n",
              "      <td>JAT</td>\n",
              "      <td>2017-12-25 15:11:00</td>\n",
              "      <td>400.0</td>\n",
              "      <td>SCEL</td>\n",
              "      <td>SPJC</td>\n",
              "      <td>JAT</td>\n",
              "      <td>25</td>\n",
              "      <td>12</td>\n",
              "      <td>2017</td>\n",
              "      <td>Lunes</td>\n",
              "      <td>I</td>\n",
              "      <td>JetSmart SPA</td>\n",
              "      <td>Santiago</td>\n",
              "      <td>Lima</td>\n",
              "    </tr>\n",
              "    <tr>\n",
              "      <th>68203</th>\n",
              "      <td>2017-12-27 14:55:00</td>\n",
              "      <td>400</td>\n",
              "      <td>SCEL</td>\n",
              "      <td>SPJC</td>\n",
              "      <td>JAT</td>\n",
              "      <td>2017-12-27 15:35:00</td>\n",
              "      <td>400.0</td>\n",
              "      <td>SCEL</td>\n",
              "      <td>SPJC</td>\n",
              "      <td>JAT</td>\n",
              "      <td>27</td>\n",
              "      <td>12</td>\n",
              "      <td>2017</td>\n",
              "      <td>Miercoles</td>\n",
              "      <td>I</td>\n",
              "      <td>JetSmart SPA</td>\n",
              "      <td>Santiago</td>\n",
              "      <td>Lima</td>\n",
              "    </tr>\n",
              "    <tr>\n",
              "      <th>68204</th>\n",
              "      <td>2017-12-29 14:55:00</td>\n",
              "      <td>400</td>\n",
              "      <td>SCEL</td>\n",
              "      <td>SPJC</td>\n",
              "      <td>JAT</td>\n",
              "      <td>2017-12-29 15:08:00</td>\n",
              "      <td>400.0</td>\n",
              "      <td>SCEL</td>\n",
              "      <td>SPJC</td>\n",
              "      <td>JAT</td>\n",
              "      <td>29</td>\n",
              "      <td>12</td>\n",
              "      <td>2017</td>\n",
              "      <td>Viernes</td>\n",
              "      <td>I</td>\n",
              "      <td>JetSmart SPA</td>\n",
              "      <td>Santiago</td>\n",
              "      <td>Lima</td>\n",
              "    </tr>\n",
              "    <tr>\n",
              "      <th>68205</th>\n",
              "      <td>2017-12-31 14:55:00</td>\n",
              "      <td>400</td>\n",
              "      <td>SCEL</td>\n",
              "      <td>SPJC</td>\n",
              "      <td>JAT</td>\n",
              "      <td>2017-12-31 15:04:00</td>\n",
              "      <td>400.0</td>\n",
              "      <td>SCEL</td>\n",
              "      <td>SPJC</td>\n",
              "      <td>JAT</td>\n",
              "      <td>31</td>\n",
              "      <td>12</td>\n",
              "      <td>2017</td>\n",
              "      <td>Domingo</td>\n",
              "      <td>I</td>\n",
              "      <td>JetSmart SPA</td>\n",
              "      <td>Santiago</td>\n",
              "      <td>Lima</td>\n",
              "    </tr>\n",
              "  </tbody>\n",
              "</table>\n",
              "<p>68206 rows × 18 columns</p>\n",
              "</div>\n",
              "      <button class=\"colab-df-convert\" onclick=\"convertToInteractive('df-f45ac5b6-536a-4830-8284-af4f866ff428')\"\n",
              "              title=\"Convert this dataframe to an interactive table.\"\n",
              "              style=\"display:none;\">\n",
              "        \n",
              "  <svg xmlns=\"http://www.w3.org/2000/svg\" height=\"24px\"viewBox=\"0 0 24 24\"\n",
              "       width=\"24px\">\n",
              "    <path d=\"M0 0h24v24H0V0z\" fill=\"none\"/>\n",
              "    <path d=\"M18.56 5.44l.94 2.06.94-2.06 2.06-.94-2.06-.94-.94-2.06-.94 2.06-2.06.94zm-11 1L8.5 8.5l.94-2.06 2.06-.94-2.06-.94L8.5 2.5l-.94 2.06-2.06.94zm10 10l.94 2.06.94-2.06 2.06-.94-2.06-.94-.94-2.06-.94 2.06-2.06.94z\"/><path d=\"M17.41 7.96l-1.37-1.37c-.4-.4-.92-.59-1.43-.59-.52 0-1.04.2-1.43.59L10.3 9.45l-7.72 7.72c-.78.78-.78 2.05 0 2.83L4 21.41c.39.39.9.59 1.41.59.51 0 1.02-.2 1.41-.59l7.78-7.78 2.81-2.81c.8-.78.8-2.07 0-2.86zM5.41 20L4 18.59l7.72-7.72 1.47 1.35L5.41 20z\"/>\n",
              "  </svg>\n",
              "      </button>\n",
              "      \n",
              "  <style>\n",
              "    .colab-df-container {\n",
              "      display:flex;\n",
              "      flex-wrap:wrap;\n",
              "      gap: 12px;\n",
              "    }\n",
              "\n",
              "    .colab-df-convert {\n",
              "      background-color: #E8F0FE;\n",
              "      border: none;\n",
              "      border-radius: 50%;\n",
              "      cursor: pointer;\n",
              "      display: none;\n",
              "      fill: #1967D2;\n",
              "      height: 32px;\n",
              "      padding: 0 0 0 0;\n",
              "      width: 32px;\n",
              "    }\n",
              "\n",
              "    .colab-df-convert:hover {\n",
              "      background-color: #E2EBFA;\n",
              "      box-shadow: 0px 1px 2px rgba(60, 64, 67, 0.3), 0px 1px 3px 1px rgba(60, 64, 67, 0.15);\n",
              "      fill: #174EA6;\n",
              "    }\n",
              "\n",
              "    [theme=dark] .colab-df-convert {\n",
              "      background-color: #3B4455;\n",
              "      fill: #D2E3FC;\n",
              "    }\n",
              "\n",
              "    [theme=dark] .colab-df-convert:hover {\n",
              "      background-color: #434B5C;\n",
              "      box-shadow: 0px 1px 3px 1px rgba(0, 0, 0, 0.15);\n",
              "      filter: drop-shadow(0px 1px 2px rgba(0, 0, 0, 0.3));\n",
              "      fill: #FFFFFF;\n",
              "    }\n",
              "  </style>\n",
              "\n",
              "      <script>\n",
              "        const buttonEl =\n",
              "          document.querySelector('#df-f45ac5b6-536a-4830-8284-af4f866ff428 button.colab-df-convert');\n",
              "        buttonEl.style.display =\n",
              "          google.colab.kernel.accessAllowed ? 'block' : 'none';\n",
              "\n",
              "        async function convertToInteractive(key) {\n",
              "          const element = document.querySelector('#df-f45ac5b6-536a-4830-8284-af4f866ff428');\n",
              "          const dataTable =\n",
              "            await google.colab.kernel.invokeFunction('convertToInteractive',\n",
              "                                                     [key], {});\n",
              "          if (!dataTable) return;\n",
              "\n",
              "          const docLinkHtml = 'Like what you see? Visit the ' +\n",
              "            '<a target=\"_blank\" href=https://colab.research.google.com/notebooks/data_table.ipynb>data table notebook</a>'\n",
              "            + ' to learn more about interactive tables.';\n",
              "          element.innerHTML = '';\n",
              "          dataTable['output_type'] = 'display_data';\n",
              "          await google.colab.output.renderOutput(dataTable, element);\n",
              "          const docLink = document.createElement('div');\n",
              "          docLink.innerHTML = docLinkHtml;\n",
              "          element.appendChild(docLink);\n",
              "        }\n",
              "      </script>\n",
              "    </div>\n",
              "  </div>\n",
              "  "
            ]
          },
          "metadata": {},
          "execution_count": 4
        }
      ]
    },
    {
      "cell_type": "code",
      "source": [
        "df_raw.info()"
      ],
      "metadata": {
        "colab": {
          "base_uri": "https://localhost:8080/"
        },
        "id": "jurmWwlrrtzs",
        "outputId": "45407920-8041-49b8-8d7d-ae30298056ce"
      },
      "execution_count": 5,
      "outputs": [
        {
          "output_type": "stream",
          "name": "stdout",
          "text": [
            "<class 'pandas.core.frame.DataFrame'>\n",
            "RangeIndex: 68206 entries, 0 to 68205\n",
            "Data columns (total 18 columns):\n",
            " #   Column     Non-Null Count  Dtype \n",
            "---  ------     --------------  ----- \n",
            " 0   Fecha-I    68206 non-null  object\n",
            " 1   Vlo-I      68206 non-null  object\n",
            " 2   Ori-I      68206 non-null  object\n",
            " 3   Des-I      68206 non-null  object\n",
            " 4   Emp-I      68206 non-null  object\n",
            " 5   Fecha-O    68206 non-null  object\n",
            " 6   Vlo-O      68205 non-null  object\n",
            " 7   Ori-O      68206 non-null  object\n",
            " 8   Des-O      68206 non-null  object\n",
            " 9   Emp-O      68206 non-null  object\n",
            " 10  DIA        68206 non-null  object\n",
            " 11  MES        68206 non-null  object\n",
            " 12  AÑO        68206 non-null  object\n",
            " 13  DIANOM     68206 non-null  object\n",
            " 14  TIPOVUELO  68206 non-null  object\n",
            " 15  OPERA      68206 non-null  object\n",
            " 16  SIGLAORI   68206 non-null  object\n",
            " 17  SIGLADES   68206 non-null  object\n",
            "dtypes: object(18)\n",
            "memory usage: 9.4+ MB\n"
          ]
        }
      ]
    },
    {
      "cell_type": "markdown",
      "source": [
        "# Sección 01. Distribución de los datos"
      ],
      "metadata": {
        "id": "uOSVzygenScm"
      }
    },
    {
      "cell_type": "markdown",
      "source": [
        "# Sección 02. Generación de Columnas Adicionales\n",
        "\n",
        "En esta sección se genera un dataset denominado `synthetic_features.csv` con las columnas adicionales que dan cuenta de la temporada (alta o baja), el retraso en minutos, la etiqueta de atrasado (si o no) si el retraso es superior a 15 minutos y por último en periodo del día (mañana, tarde o noche).\n"
      ],
      "metadata": {
        "id": "f65xZgtlMQ1T"
      }
    },
    {
      "cell_type": "markdown",
      "source": [
        "### ---> Aproximación de la solución:\n",
        "Esta sección se desarrolla empleando en uso transformadores y pipelines bajo la aproximación de programación OOP. Si bien el procedimiento para un proceso de transformación simple puede prescindir de ello, la idea de esta aproximación presenta algunas ventajas:\n",
        "- **Estandarización del desarrollo:**  se pueda contar con transformadores y pipelines que estandarizan los procedimientos garantizando que se estarán haciendo de la misma manera sobre cualquier conjunto de datos. \n",
        "- **Facilita pruebas unitarias**: dado que los transformadores y pipelines cumplen con tareas específicas se pueden facilitar las pruebas unitarias sobre el desarrollo.\n",
        "- **Parametrización y agilidad en el desarrollo:** permite que el desarrollo sea fácilmente parametrizable pues cambiando únicamente las entradas de los transformadores se pueden crear nuevos pipelines para necesidades específicas."
      ],
      "metadata": {
        "id": "eRN5T9HQqaJC"
      }
    },
    {
      "cell_type": "markdown",
      "source": [
        "## 02.01. Definición de los Transformadores"
      ],
      "metadata": {
        "id": "7KejINP1f1ET"
      }
    },
    {
      "cell_type": "markdown",
      "source": [
        "### ---> FeatureSelector\n",
        "Filtra las columnas seleccionadas en el dataset de entrada."
      ],
      "metadata": {
        "id": "UAqdz-d0f8as"
      }
    },
    {
      "cell_type": "code",
      "source": [
        "class FeatureSelector(BaseEstimator, TransformerMixin):\n",
        "    \n",
        "    def __init__(self, params_FeatureSelector):\n",
        "        self.feature_names = params_FeatureSelector['feature_names'] \n",
        "    \n",
        "    def fit(self, X, y = None):\n",
        "        return self \n",
        "    \n",
        "    def transform(self, X, y = None):\n",
        "      X_output = X[self.feature_names]\n",
        "      return X_output"
      ],
      "metadata": {
        "id": "mGpzDmr_frtY"
      },
      "execution_count": 6,
      "outputs": []
    },
    {
      "cell_type": "markdown",
      "source": [
        "### ---> DateType\n",
        "Convierte a formato `datetime` las columnas seleccionadas."
      ],
      "metadata": {
        "id": "sxp3bo3rrntK"
      }
    },
    {
      "cell_type": "code",
      "source": [
        "class DateType(BaseEstimator, TransformerMixin):\n",
        "    \n",
        "    def __init__(self, params_FeatureSelector):\n",
        "        self.cols_dates = params_DateType['cols_dates'] \n",
        "    \n",
        "    def fit(self, X, y = None):\n",
        "        return self \n",
        "    \n",
        "    def transform(self, X, y = None):\n",
        "      X_output = X.copy()\n",
        "      for col in self.cols_dates:\n",
        "        X_output[col] = pd.to_datetime(X_output[col])\n",
        "      return X_output"
      ],
      "metadata": {
        "id": "oF31aOlurRm7"
      },
      "execution_count": 7,
      "outputs": []
    },
    {
      "cell_type": "markdown",
      "source": [
        "### ---> TemporadaAlta\n",
        "Crea la columna `temporada_alta` a partir de una columna de fecha que se le especifíque. \n",
        "\n",
        "EL criterio usado es: \n",
        "- temporada_alta(1): si Fecha-I está entre 15-Dic y 3-Mar, o 15-Jul y 31-Jul, o 11-Sep y 30-Sep.\n",
        "- temporada_alta(0): si es diferente a las fechas descritas en 1."
      ],
      "metadata": {
        "id": "yc2A1Uzkkx_r"
      }
    },
    {
      "cell_type": "code",
      "source": [
        "class TemporadaAlta(BaseEstimator, TransformerMixin):\n",
        "    \n",
        "    def __init__(self, params_TemporadaAlta):\n",
        "        self.columna_fecha = params_TemporadaAlta['columna_fecha'] \n",
        "    \n",
        "    def fit(self, X, y = None):\n",
        "        return self\n",
        "\n",
        "    def fun_temporada_alta(self, fecha):\n",
        "      mes = fecha.month\n",
        "      dia = fecha.day\n",
        "      if (mes == 12 and dia >= 15) or \\\n",
        "      (mes in [1, 2]) or \\\n",
        "      (mes == 3 and dia <= 3) or \\\n",
        "      (mes == 7 and (dia >= 15 and dia <= 31)) or \\\n",
        "      (mes == 9 and (dia >= 11 and dia <= 30)):\n",
        "          return 1\n",
        "      else:\n",
        "          return 0\n",
        "    \n",
        "    def transform(self, X, y = None):\n",
        "      X_output = X.copy()\n",
        "      X_output['temporada_alta'] = X_output[self.columna_fecha].apply(self.fun_temporada_alta)\n",
        "      return X_output"
      ],
      "metadata": {
        "id": "YcNiTxRAkOfh"
      },
      "execution_count": 8,
      "outputs": []
    },
    {
      "cell_type": "markdown",
      "source": [
        "### ---> DifMin\n",
        "Crea la columna `dif_min` que es la diferencia en minutos entre Fecha-O y Fecha-I. Básicamante el tiempo en minutos que se retraso el vuelo."
      ],
      "metadata": {
        "id": "Kfhptw5uqOms"
      }
    },
    {
      "cell_type": "code",
      "source": [
        "class DifMin(BaseEstimator, TransformerMixin):\n",
        "    \n",
        "    def __init__(self, params_DifMin):\n",
        "        self.empty = params_DifMin \n",
        "    \n",
        "    def fit(self, X, y = None):\n",
        "        return self\n",
        "    \n",
        "    def transform(self, X, y = None):\n",
        "      X_output = X.copy()\n",
        "      X_output['dif_min'] = (X_output['Fecha-O']-X_output['Fecha-I'])/pd.Timedelta(minutes=1)\n",
        "      return X_output"
      ],
      "metadata": {
        "id": "N4kime5nqG-W"
      },
      "execution_count": 9,
      "outputs": []
    },
    {
      "cell_type": "markdown",
      "source": [
        "### ---> Atraso15\n",
        "Crea la columna `atraso_15` a partir de una columna `dif_min`. Esta columna es la que servirá como target en nuestro modelo de clasificación.\n",
        "\n",
        "EL criterio usado es: \n",
        "- temporada_alta(1): si dif_min > 15\n",
        "- temporada_alta(0): si dif_min <= 15"
      ],
      "metadata": {
        "id": "N4_9yX1KyizR"
      }
    },
    {
      "cell_type": "code",
      "source": [
        "class Atraso15(BaseEstimator, TransformerMixin):\n",
        "    \n",
        "    def __init__(self, params_Atraso15):\n",
        "        self.empty = params_Atraso15 \n",
        "    \n",
        "    def fit(self, X, y = None):\n",
        "        return self\n",
        "    \n",
        "    def transform(self, X, y = None):\n",
        "      X_output = X.copy()\n",
        "      X_output['atraso_15'] = (X_output['dif_min'] > 15).astype(int)\n",
        "      return X_output"
      ],
      "metadata": {
        "id": "iG9KDF49x7ei"
      },
      "execution_count": 10,
      "outputs": []
    },
    {
      "cell_type": "markdown",
      "source": [
        "### ---> PeriodoDia\n",
        "Crea la columna `periodo_dia` a partir de una columna de fecha que se le especifíque. \n",
        "\n",
        "EL criterio usado es: \n",
        "- periodo_dia(mañana): entre 5:00 y 11:59 hrs.\n",
        "- periodo_dia(tarde): entre 12:00 y 18:59 hrs.\n",
        "- periodo_dia(noche): entre 19:00 y 4:59 hrs.\n",
        "\n"
      ],
      "metadata": {
        "id": "JH-5LDzUvTIz"
      }
    },
    {
      "cell_type": "code",
      "source": [
        "class PeriodoDia(BaseEstimator, TransformerMixin):\n",
        "    \n",
        "    def __init__(self, params_PeriodoDia):\n",
        "        self.columna_fecha = params_PeriodoDia['columna_fecha'] \n",
        "    \n",
        "    def fit(self, X, y = None):\n",
        "        return self\n",
        "\n",
        "    def fun_periodo_dia(self, fecha):\n",
        "      hora = fecha.hour\n",
        "      if hora >= 5 and hora <= 11:\n",
        "          return 'mañana'\n",
        "      elif hora >= 12 and hora <= 18:\n",
        "          return 'tarde'\n",
        "      else:\n",
        "          return 'noche'\n",
        "    \n",
        "    def transform(self, X, y = None):\n",
        "      X_output = X.copy()\n",
        "      X_output['periodo_dia'] = X_output[self.columna_fecha].apply(self.fun_periodo_dia)\n",
        "      return X_output"
      ],
      "metadata": {
        "id": "fGO9TlPBvSpY"
      },
      "execution_count": 11,
      "outputs": []
    },
    {
      "cell_type": "markdown",
      "source": [
        "### ---> OrderOutput\n",
        "Filtra las columnas seleccionadas en el dataset de entrada. Lo usamos para obtener las columnas que deseamos en el dataset de salida."
      ],
      "metadata": {
        "id": "hPx8sfpI1rOn"
      }
    },
    {
      "cell_type": "code",
      "source": [
        "class OrderOutput(BaseEstimator, TransformerMixin):\n",
        "    \n",
        "    def __init__(self, params_OrderOutput):\n",
        "        self.feature_names = params_OrderOutput['feature_names'] \n",
        "    \n",
        "    def fit(self, X, y = None):\n",
        "        return self \n",
        "    \n",
        "    def transform(self, X, y = None):\n",
        "      X_output = X[self.feature_names]\n",
        "      return X_output"
      ],
      "metadata": {
        "id": "RQp6t_0OvQ7o"
      },
      "execution_count": 12,
      "outputs": []
    },
    {
      "cell_type": "markdown",
      "source": [
        "## 02.02. Definición de Pipeline"
      ],
      "metadata": {
        "id": "mQ8rq9T8gKSD"
      }
    },
    {
      "cell_type": "markdown",
      "source": [
        "### ---> Parámetros de los transformadores\n",
        "Definimos cada uno de los parámetros de entrada que deben tener los transformadores para nuestro pipeline."
      ],
      "metadata": {
        "id": "0OIi1r9ogX8Y"
      }
    },
    {
      "cell_type": "code",
      "source": [
        "params_FeatureSelector = {}\n",
        "params_FeatureSelector['feature_names']= ['Fecha-I', \n",
        "                                          'Des-I',\n",
        "                                          'Emp-I', \n",
        "                                          'TIPOVUELO', \n",
        "                                          'Fecha-O',\n",
        "                                         ]\n",
        "\n",
        "params_DateType = {}\n",
        "params_DateType['cols_dates']= ['Fecha-I', 'Fecha-O']\n",
        "\n",
        "params_TemporadaAlta = {}\n",
        "params_TemporadaAlta['columna_fecha']= 'Fecha-I'\n",
        "\n",
        "params_DifMin = {}\n",
        "\n",
        "params_Atraso15 = params_DifMin\n",
        "\n",
        "params_PeriodoDia = params_TemporadaAlta\n",
        "\n",
        "params_OrderOutput = {}\n",
        "params_OrderOutput['feature_names']= ['temporada_alta',\n",
        "                                      'dif_min',\n",
        "                                      'atraso_15',\t\n",
        "                                      'periodo_dia'\n",
        "                                         ]"
      ],
      "metadata": {
        "id": "1KivIP0zfrrU"
      },
      "execution_count": 13,
      "outputs": []
    },
    {
      "cell_type": "markdown",
      "source": [
        "### ---> Instanciamiento de los Transformadores"
      ],
      "metadata": {
        "id": "7tZGTkRJgUXc"
      }
    },
    {
      "cell_type": "markdown",
      "source": [
        "Instanciamos nuestros transformadores."
      ],
      "metadata": {
        "id": "x7e6RerCldb_"
      }
    },
    {
      "cell_type": "code",
      "source": [
        "Transformer_FeatureSelector = FeatureSelector(params_FeatureSelector)\n",
        "Transformer_DateType = DateType(params_DateType)\n",
        "Transformer_TemporadaAlta = TemporadaAlta(params_TemporadaAlta)\n",
        "Transformer_DifMin = DifMin(params_DifMin)\n",
        "Transformer_Atraso15 = Atraso15(params_Atraso15)\n",
        "Transformer_PeriodoDia = PeriodoDia(params_PeriodoDia)\n",
        "Transformer_OrderOutput = OrderOutput(params_OrderOutput)"
      ],
      "metadata": {
        "id": "kFrAuO8Rfrpc"
      },
      "execution_count": 14,
      "outputs": []
    },
    {
      "cell_type": "markdown",
      "source": [
        "### ---> Instanciamiento del Pipeline\n",
        "Instanciamos el pipeline que dará origen al dataset `synthetic_features.csv`."
      ],
      "metadata": {
        "id": "oM-mq2y0gbxQ"
      }
    },
    {
      "cell_type": "code",
      "source": [
        "pipeline_synthetic_features = Pipeline(steps=[('NameFeatureSelector', Transformer_FeatureSelector),\n",
        "                              ('NameDateType', Transformer_DateType),\n",
        "                              ('NameTemporadaAlta', Transformer_TemporadaAlta),\n",
        "                              ('NameDifMin', Transformer_DifMin),\n",
        "                              ('NameDateAtraso15', Transformer_Atraso15),\n",
        "                              ('NamePeriodoDia', Transformer_PeriodoDia),\n",
        "                              ('NameOrderOutput', Transformer_OrderOutput)\n",
        "                              ])"
      ],
      "metadata": {
        "id": "Ui94hQ_bfrlR"
      },
      "execution_count": 15,
      "outputs": []
    },
    {
      "cell_type": "markdown",
      "source": [
        "## 02.03. Generación del dataframe solicitado\n",
        "Generamos el dataset solicitado con las 4 columnas y lo almacenamos. Esta dataset posteriormente se mueve y queda almacenado en el folder `data` del repositorio principal.\n",
        "\n",
        "**Supuesto**: se asume que se desean únicamente las 4 columnas descritas en este archivo. Si se desearan otras adicionales solo se deberían cambiar los parámetros de los transformadores FeatureSelector y OrderOutput."
      ],
      "metadata": {
        "id": "s0Vi2eO_gpes"
      }
    },
    {
      "cell_type": "code",
      "source": [
        "df_synthetic_features = pipeline_synthetic_features.transform(df_raw)\n",
        "df_synthetic_features"
      ],
      "metadata": {
        "colab": {
          "base_uri": "https://localhost:8080/",
          "height": 423
        },
        "id": "-62AsiUqfu6h",
        "outputId": "d849cc96-e337-4317-bf30-0da2172ff2d9"
      },
      "execution_count": 16,
      "outputs": [
        {
          "output_type": "execute_result",
          "data": {
            "text/plain": [
              "       temporada_alta  dif_min  atraso_15 periodo_dia\n",
              "0                   1      3.0          0       noche\n",
              "1                   1      9.0          0       noche\n",
              "2                   1      9.0          0       noche\n",
              "3                   1      3.0          0       noche\n",
              "4                   1     -2.0          0       noche\n",
              "...               ...      ...        ...         ...\n",
              "68201               1     46.0          1       tarde\n",
              "68202               1     16.0          1       tarde\n",
              "68203               1     40.0          1       tarde\n",
              "68204               1     13.0          0       tarde\n",
              "68205               1      9.0          0       tarde\n",
              "\n",
              "[68206 rows x 4 columns]"
            ],
            "text/html": [
              "\n",
              "  <div id=\"df-6042e7a8-1b18-44e7-8c2b-07f62b696077\">\n",
              "    <div class=\"colab-df-container\">\n",
              "      <div>\n",
              "<style scoped>\n",
              "    .dataframe tbody tr th:only-of-type {\n",
              "        vertical-align: middle;\n",
              "    }\n",
              "\n",
              "    .dataframe tbody tr th {\n",
              "        vertical-align: top;\n",
              "    }\n",
              "\n",
              "    .dataframe thead th {\n",
              "        text-align: right;\n",
              "    }\n",
              "</style>\n",
              "<table border=\"1\" class=\"dataframe\">\n",
              "  <thead>\n",
              "    <tr style=\"text-align: right;\">\n",
              "      <th></th>\n",
              "      <th>temporada_alta</th>\n",
              "      <th>dif_min</th>\n",
              "      <th>atraso_15</th>\n",
              "      <th>periodo_dia</th>\n",
              "    </tr>\n",
              "  </thead>\n",
              "  <tbody>\n",
              "    <tr>\n",
              "      <th>0</th>\n",
              "      <td>1</td>\n",
              "      <td>3.0</td>\n",
              "      <td>0</td>\n",
              "      <td>noche</td>\n",
              "    </tr>\n",
              "    <tr>\n",
              "      <th>1</th>\n",
              "      <td>1</td>\n",
              "      <td>9.0</td>\n",
              "      <td>0</td>\n",
              "      <td>noche</td>\n",
              "    </tr>\n",
              "    <tr>\n",
              "      <th>2</th>\n",
              "      <td>1</td>\n",
              "      <td>9.0</td>\n",
              "      <td>0</td>\n",
              "      <td>noche</td>\n",
              "    </tr>\n",
              "    <tr>\n",
              "      <th>3</th>\n",
              "      <td>1</td>\n",
              "      <td>3.0</td>\n",
              "      <td>0</td>\n",
              "      <td>noche</td>\n",
              "    </tr>\n",
              "    <tr>\n",
              "      <th>4</th>\n",
              "      <td>1</td>\n",
              "      <td>-2.0</td>\n",
              "      <td>0</td>\n",
              "      <td>noche</td>\n",
              "    </tr>\n",
              "    <tr>\n",
              "      <th>...</th>\n",
              "      <td>...</td>\n",
              "      <td>...</td>\n",
              "      <td>...</td>\n",
              "      <td>...</td>\n",
              "    </tr>\n",
              "    <tr>\n",
              "      <th>68201</th>\n",
              "      <td>1</td>\n",
              "      <td>46.0</td>\n",
              "      <td>1</td>\n",
              "      <td>tarde</td>\n",
              "    </tr>\n",
              "    <tr>\n",
              "      <th>68202</th>\n",
              "      <td>1</td>\n",
              "      <td>16.0</td>\n",
              "      <td>1</td>\n",
              "      <td>tarde</td>\n",
              "    </tr>\n",
              "    <tr>\n",
              "      <th>68203</th>\n",
              "      <td>1</td>\n",
              "      <td>40.0</td>\n",
              "      <td>1</td>\n",
              "      <td>tarde</td>\n",
              "    </tr>\n",
              "    <tr>\n",
              "      <th>68204</th>\n",
              "      <td>1</td>\n",
              "      <td>13.0</td>\n",
              "      <td>0</td>\n",
              "      <td>tarde</td>\n",
              "    </tr>\n",
              "    <tr>\n",
              "      <th>68205</th>\n",
              "      <td>1</td>\n",
              "      <td>9.0</td>\n",
              "      <td>0</td>\n",
              "      <td>tarde</td>\n",
              "    </tr>\n",
              "  </tbody>\n",
              "</table>\n",
              "<p>68206 rows × 4 columns</p>\n",
              "</div>\n",
              "      <button class=\"colab-df-convert\" onclick=\"convertToInteractive('df-6042e7a8-1b18-44e7-8c2b-07f62b696077')\"\n",
              "              title=\"Convert this dataframe to an interactive table.\"\n",
              "              style=\"display:none;\">\n",
              "        \n",
              "  <svg xmlns=\"http://www.w3.org/2000/svg\" height=\"24px\"viewBox=\"0 0 24 24\"\n",
              "       width=\"24px\">\n",
              "    <path d=\"M0 0h24v24H0V0z\" fill=\"none\"/>\n",
              "    <path d=\"M18.56 5.44l.94 2.06.94-2.06 2.06-.94-2.06-.94-.94-2.06-.94 2.06-2.06.94zm-11 1L8.5 8.5l.94-2.06 2.06-.94-2.06-.94L8.5 2.5l-.94 2.06-2.06.94zm10 10l.94 2.06.94-2.06 2.06-.94-2.06-.94-.94-2.06-.94 2.06-2.06.94z\"/><path d=\"M17.41 7.96l-1.37-1.37c-.4-.4-.92-.59-1.43-.59-.52 0-1.04.2-1.43.59L10.3 9.45l-7.72 7.72c-.78.78-.78 2.05 0 2.83L4 21.41c.39.39.9.59 1.41.59.51 0 1.02-.2 1.41-.59l7.78-7.78 2.81-2.81c.8-.78.8-2.07 0-2.86zM5.41 20L4 18.59l7.72-7.72 1.47 1.35L5.41 20z\"/>\n",
              "  </svg>\n",
              "      </button>\n",
              "      \n",
              "  <style>\n",
              "    .colab-df-container {\n",
              "      display:flex;\n",
              "      flex-wrap:wrap;\n",
              "      gap: 12px;\n",
              "    }\n",
              "\n",
              "    .colab-df-convert {\n",
              "      background-color: #E8F0FE;\n",
              "      border: none;\n",
              "      border-radius: 50%;\n",
              "      cursor: pointer;\n",
              "      display: none;\n",
              "      fill: #1967D2;\n",
              "      height: 32px;\n",
              "      padding: 0 0 0 0;\n",
              "      width: 32px;\n",
              "    }\n",
              "\n",
              "    .colab-df-convert:hover {\n",
              "      background-color: #E2EBFA;\n",
              "      box-shadow: 0px 1px 2px rgba(60, 64, 67, 0.3), 0px 1px 3px 1px rgba(60, 64, 67, 0.15);\n",
              "      fill: #174EA6;\n",
              "    }\n",
              "\n",
              "    [theme=dark] .colab-df-convert {\n",
              "      background-color: #3B4455;\n",
              "      fill: #D2E3FC;\n",
              "    }\n",
              "\n",
              "    [theme=dark] .colab-df-convert:hover {\n",
              "      background-color: #434B5C;\n",
              "      box-shadow: 0px 1px 3px 1px rgba(0, 0, 0, 0.15);\n",
              "      filter: drop-shadow(0px 1px 2px rgba(0, 0, 0, 0.3));\n",
              "      fill: #FFFFFF;\n",
              "    }\n",
              "  </style>\n",
              "\n",
              "      <script>\n",
              "        const buttonEl =\n",
              "          document.querySelector('#df-6042e7a8-1b18-44e7-8c2b-07f62b696077 button.colab-df-convert');\n",
              "        buttonEl.style.display =\n",
              "          google.colab.kernel.accessAllowed ? 'block' : 'none';\n",
              "\n",
              "        async function convertToInteractive(key) {\n",
              "          const element = document.querySelector('#df-6042e7a8-1b18-44e7-8c2b-07f62b696077');\n",
              "          const dataTable =\n",
              "            await google.colab.kernel.invokeFunction('convertToInteractive',\n",
              "                                                     [key], {});\n",
              "          if (!dataTable) return;\n",
              "\n",
              "          const docLinkHtml = 'Like what you see? Visit the ' +\n",
              "            '<a target=\"_blank\" href=https://colab.research.google.com/notebooks/data_table.ipynb>data table notebook</a>'\n",
              "            + ' to learn more about interactive tables.';\n",
              "          element.innerHTML = '';\n",
              "          dataTable['output_type'] = 'display_data';\n",
              "          await google.colab.output.renderOutput(dataTable, element);\n",
              "          const docLink = document.createElement('div');\n",
              "          docLink.innerHTML = docLinkHtml;\n",
              "          element.appendChild(docLink);\n",
              "        }\n",
              "      </script>\n",
              "    </div>\n",
              "  </div>\n",
              "  "
            ]
          },
          "metadata": {},
          "execution_count": 16
        }
      ]
    },
    {
      "cell_type": "code",
      "source": [
        "df_synthetic_features.to_csv('synthetic_features.csv', index=False)"
      ],
      "metadata": {
        "id": "5eEB7PESnWOs"
      },
      "execution_count": 17,
      "outputs": []
    },
    {
      "cell_type": "markdown",
      "source": [
        "# Sección 03. Composición de la tasa de atraso"
      ],
      "metadata": {
        "id": "pWJZe_HSPiAN"
      }
    },
    {
      "cell_type": "markdown",
      "source": [
        "En la presente sección se describe la relación entre la variable de retraso y las variables destino, aerolínea, mes del año, día de la semana, temporada y tipo de vuelo. Para cada una de las variables hay una pequeña discución de los elementos mas relevantes que presentan sus distribuciiones, y en el numeral final de la sección se discuten cuáles son las que se estima pueden presentar mayor relevancia en el modelo. "
      ],
      "metadata": {
        "id": "x7mwV92Vaxj2"
      }
    },
    {
      "cell_type": "markdown",
      "source": [
        "### ---> Aproximación de la solución:\n",
        "Esta sección se presentan para cada una de las variables descritas una tabla con las siguientes variables:\n",
        "- `porcentaje_vuelos_con_atraso`: porcentaje de vuelos dentro del grupo de interes que presentaron retraso. \n",
        "- `porcentaje_vuelos_sin_atraso`: porcentaje de vuelos dentro del grupo de interes que no presentaron retraso.\n",
        "- `vuelos_con_atraso`: cantidad de vuelos dentro del grupo de interes que presentaron retraso.\n",
        "- `vuelos_sin_atraso`: cantidad de vuelos dentro del grupo de interes que no presentaron retraso.\n",
        "\n",
        "A su vez, tambien se presentan 2 gráficos para cada una de las variables: \n",
        "- `Gráfico izquierdo (absoluto por grupo)`: presenta la cantidad de vuelos (totales, sin atraso y con atraso) organizados descendentemente en relación con el grupo que mayores atrasos presenta. Es decir permite evidenciar en cantidad, cuales son los grupos que de manera absoluta que más aportan a los retrasos.\n",
        "- `Grafico derecho (relativo por grupo)`: presenta de manera porcentual la taza de vuelos con y sin retraso para cada uno de los grupos. Esta organizado descendentemente acorde al grupo que mayor porcentaje de retraso presenta. Nos permite evidenciar intpendientemente de la cantidad de vuelos cual es grupo presentas más retrasos de manera porcentual.\n",
        "\n"
      ],
      "metadata": {
        "id": "Vfwz8vCva_L1"
      }
    },
    {
      "cell_type": "markdown",
      "source": [
        "### ---> Dataset preparado para el numeral:"
      ],
      "metadata": {
        "id": "-KWpr6TEfx-V"
      }
    },
    {
      "cell_type": "code",
      "source": [
        "columnas_interes = ['SIGLADES','OPERA', 'MES', 'DIANOM', 'temporada_alta', 'TIPOVUELO', 'atraso_15']\n",
        "df_atraso = pd.concat([df_raw, df_synthetic_features], axis=1)[columnas_interes]\n",
        "df_atraso['temporada_alta'] = df_atraso['temporada_alta'].astype(str)\n",
        "df_atraso"
      ],
      "metadata": {
        "id": "JNCVf92ieYct",
        "colab": {
          "base_uri": "https://localhost:8080/",
          "height": 423
        },
        "outputId": "c2eb1f45-3b7b-4701-9d44-da4d4d120777"
      },
      "execution_count": 18,
      "outputs": [
        {
          "output_type": "execute_result",
          "data": {
            "text/plain": [
              "      SIGLADES              OPERA MES     DIANOM temporada_alta TIPOVUELO  \\\n",
              "0        Miami  American Airlines   1    Domingo              1         I   \n",
              "1        Miami  American Airlines   1      Lunes              1         I   \n",
              "2        Miami  American Airlines   1     Martes              1         I   \n",
              "3        Miami  American Airlines   1  Miercoles              1         I   \n",
              "4        Miami  American Airlines   1     Jueves              1         I   \n",
              "...        ...                ...  ..        ...            ...       ...   \n",
              "68201     Lima       JetSmart SPA  12    Viernes              1         I   \n",
              "68202     Lima       JetSmart SPA  12      Lunes              1         I   \n",
              "68203     Lima       JetSmart SPA  12  Miercoles              1         I   \n",
              "68204     Lima       JetSmart SPA  12    Viernes              1         I   \n",
              "68205     Lima       JetSmart SPA  12    Domingo              1         I   \n",
              "\n",
              "       atraso_15  \n",
              "0              0  \n",
              "1              0  \n",
              "2              0  \n",
              "3              0  \n",
              "4              0  \n",
              "...          ...  \n",
              "68201          1  \n",
              "68202          1  \n",
              "68203          1  \n",
              "68204          0  \n",
              "68205          0  \n",
              "\n",
              "[68206 rows x 7 columns]"
            ],
            "text/html": [
              "\n",
              "  <div id=\"df-6ee009ff-04f6-4475-8dac-adeec3778df3\">\n",
              "    <div class=\"colab-df-container\">\n",
              "      <div>\n",
              "<style scoped>\n",
              "    .dataframe tbody tr th:only-of-type {\n",
              "        vertical-align: middle;\n",
              "    }\n",
              "\n",
              "    .dataframe tbody tr th {\n",
              "        vertical-align: top;\n",
              "    }\n",
              "\n",
              "    .dataframe thead th {\n",
              "        text-align: right;\n",
              "    }\n",
              "</style>\n",
              "<table border=\"1\" class=\"dataframe\">\n",
              "  <thead>\n",
              "    <tr style=\"text-align: right;\">\n",
              "      <th></th>\n",
              "      <th>SIGLADES</th>\n",
              "      <th>OPERA</th>\n",
              "      <th>MES</th>\n",
              "      <th>DIANOM</th>\n",
              "      <th>temporada_alta</th>\n",
              "      <th>TIPOVUELO</th>\n",
              "      <th>atraso_15</th>\n",
              "    </tr>\n",
              "  </thead>\n",
              "  <tbody>\n",
              "    <tr>\n",
              "      <th>0</th>\n",
              "      <td>Miami</td>\n",
              "      <td>American Airlines</td>\n",
              "      <td>1</td>\n",
              "      <td>Domingo</td>\n",
              "      <td>1</td>\n",
              "      <td>I</td>\n",
              "      <td>0</td>\n",
              "    </tr>\n",
              "    <tr>\n",
              "      <th>1</th>\n",
              "      <td>Miami</td>\n",
              "      <td>American Airlines</td>\n",
              "      <td>1</td>\n",
              "      <td>Lunes</td>\n",
              "      <td>1</td>\n",
              "      <td>I</td>\n",
              "      <td>0</td>\n",
              "    </tr>\n",
              "    <tr>\n",
              "      <th>2</th>\n",
              "      <td>Miami</td>\n",
              "      <td>American Airlines</td>\n",
              "      <td>1</td>\n",
              "      <td>Martes</td>\n",
              "      <td>1</td>\n",
              "      <td>I</td>\n",
              "      <td>0</td>\n",
              "    </tr>\n",
              "    <tr>\n",
              "      <th>3</th>\n",
              "      <td>Miami</td>\n",
              "      <td>American Airlines</td>\n",
              "      <td>1</td>\n",
              "      <td>Miercoles</td>\n",
              "      <td>1</td>\n",
              "      <td>I</td>\n",
              "      <td>0</td>\n",
              "    </tr>\n",
              "    <tr>\n",
              "      <th>4</th>\n",
              "      <td>Miami</td>\n",
              "      <td>American Airlines</td>\n",
              "      <td>1</td>\n",
              "      <td>Jueves</td>\n",
              "      <td>1</td>\n",
              "      <td>I</td>\n",
              "      <td>0</td>\n",
              "    </tr>\n",
              "    <tr>\n",
              "      <th>...</th>\n",
              "      <td>...</td>\n",
              "      <td>...</td>\n",
              "      <td>...</td>\n",
              "      <td>...</td>\n",
              "      <td>...</td>\n",
              "      <td>...</td>\n",
              "      <td>...</td>\n",
              "    </tr>\n",
              "    <tr>\n",
              "      <th>68201</th>\n",
              "      <td>Lima</td>\n",
              "      <td>JetSmart SPA</td>\n",
              "      <td>12</td>\n",
              "      <td>Viernes</td>\n",
              "      <td>1</td>\n",
              "      <td>I</td>\n",
              "      <td>1</td>\n",
              "    </tr>\n",
              "    <tr>\n",
              "      <th>68202</th>\n",
              "      <td>Lima</td>\n",
              "      <td>JetSmart SPA</td>\n",
              "      <td>12</td>\n",
              "      <td>Lunes</td>\n",
              "      <td>1</td>\n",
              "      <td>I</td>\n",
              "      <td>1</td>\n",
              "    </tr>\n",
              "    <tr>\n",
              "      <th>68203</th>\n",
              "      <td>Lima</td>\n",
              "      <td>JetSmart SPA</td>\n",
              "      <td>12</td>\n",
              "      <td>Miercoles</td>\n",
              "      <td>1</td>\n",
              "      <td>I</td>\n",
              "      <td>1</td>\n",
              "    </tr>\n",
              "    <tr>\n",
              "      <th>68204</th>\n",
              "      <td>Lima</td>\n",
              "      <td>JetSmart SPA</td>\n",
              "      <td>12</td>\n",
              "      <td>Viernes</td>\n",
              "      <td>1</td>\n",
              "      <td>I</td>\n",
              "      <td>0</td>\n",
              "    </tr>\n",
              "    <tr>\n",
              "      <th>68205</th>\n",
              "      <td>Lima</td>\n",
              "      <td>JetSmart SPA</td>\n",
              "      <td>12</td>\n",
              "      <td>Domingo</td>\n",
              "      <td>1</td>\n",
              "      <td>I</td>\n",
              "      <td>0</td>\n",
              "    </tr>\n",
              "  </tbody>\n",
              "</table>\n",
              "<p>68206 rows × 7 columns</p>\n",
              "</div>\n",
              "      <button class=\"colab-df-convert\" onclick=\"convertToInteractive('df-6ee009ff-04f6-4475-8dac-adeec3778df3')\"\n",
              "              title=\"Convert this dataframe to an interactive table.\"\n",
              "              style=\"display:none;\">\n",
              "        \n",
              "  <svg xmlns=\"http://www.w3.org/2000/svg\" height=\"24px\"viewBox=\"0 0 24 24\"\n",
              "       width=\"24px\">\n",
              "    <path d=\"M0 0h24v24H0V0z\" fill=\"none\"/>\n",
              "    <path d=\"M18.56 5.44l.94 2.06.94-2.06 2.06-.94-2.06-.94-.94-2.06-.94 2.06-2.06.94zm-11 1L8.5 8.5l.94-2.06 2.06-.94-2.06-.94L8.5 2.5l-.94 2.06-2.06.94zm10 10l.94 2.06.94-2.06 2.06-.94-2.06-.94-.94-2.06-.94 2.06-2.06.94z\"/><path d=\"M17.41 7.96l-1.37-1.37c-.4-.4-.92-.59-1.43-.59-.52 0-1.04.2-1.43.59L10.3 9.45l-7.72 7.72c-.78.78-.78 2.05 0 2.83L4 21.41c.39.39.9.59 1.41.59.51 0 1.02-.2 1.41-.59l7.78-7.78 2.81-2.81c.8-.78.8-2.07 0-2.86zM5.41 20L4 18.59l7.72-7.72 1.47 1.35L5.41 20z\"/>\n",
              "  </svg>\n",
              "      </button>\n",
              "      \n",
              "  <style>\n",
              "    .colab-df-container {\n",
              "      display:flex;\n",
              "      flex-wrap:wrap;\n",
              "      gap: 12px;\n",
              "    }\n",
              "\n",
              "    .colab-df-convert {\n",
              "      background-color: #E8F0FE;\n",
              "      border: none;\n",
              "      border-radius: 50%;\n",
              "      cursor: pointer;\n",
              "      display: none;\n",
              "      fill: #1967D2;\n",
              "      height: 32px;\n",
              "      padding: 0 0 0 0;\n",
              "      width: 32px;\n",
              "    }\n",
              "\n",
              "    .colab-df-convert:hover {\n",
              "      background-color: #E2EBFA;\n",
              "      box-shadow: 0px 1px 2px rgba(60, 64, 67, 0.3), 0px 1px 3px 1px rgba(60, 64, 67, 0.15);\n",
              "      fill: #174EA6;\n",
              "    }\n",
              "\n",
              "    [theme=dark] .colab-df-convert {\n",
              "      background-color: #3B4455;\n",
              "      fill: #D2E3FC;\n",
              "    }\n",
              "\n",
              "    [theme=dark] .colab-df-convert:hover {\n",
              "      background-color: #434B5C;\n",
              "      box-shadow: 0px 1px 3px 1px rgba(0, 0, 0, 0.15);\n",
              "      filter: drop-shadow(0px 1px 2px rgba(0, 0, 0, 0.3));\n",
              "      fill: #FFFFFF;\n",
              "    }\n",
              "  </style>\n",
              "\n",
              "      <script>\n",
              "        const buttonEl =\n",
              "          document.querySelector('#df-6ee009ff-04f6-4475-8dac-adeec3778df3 button.colab-df-convert');\n",
              "        buttonEl.style.display =\n",
              "          google.colab.kernel.accessAllowed ? 'block' : 'none';\n",
              "\n",
              "        async function convertToInteractive(key) {\n",
              "          const element = document.querySelector('#df-6ee009ff-04f6-4475-8dac-adeec3778df3');\n",
              "          const dataTable =\n",
              "            await google.colab.kernel.invokeFunction('convertToInteractive',\n",
              "                                                     [key], {});\n",
              "          if (!dataTable) return;\n",
              "\n",
              "          const docLinkHtml = 'Like what you see? Visit the ' +\n",
              "            '<a target=\"_blank\" href=https://colab.research.google.com/notebooks/data_table.ipynb>data table notebook</a>'\n",
              "            + ' to learn more about interactive tables.';\n",
              "          element.innerHTML = '';\n",
              "          dataTable['output_type'] = 'display_data';\n",
              "          await google.colab.output.renderOutput(dataTable, element);\n",
              "          const docLink = document.createElement('div');\n",
              "          docLink.innerHTML = docLinkHtml;\n",
              "          element.appendChild(docLink);\n",
              "        }\n",
              "      </script>\n",
              "    </div>\n",
              "  </div>\n",
              "  "
            ]
          },
          "metadata": {},
          "execution_count": 18
        }
      ]
    },
    {
      "cell_type": "markdown",
      "source": [
        "### ---> Funciones para la generación de la tabla y gráficos del numeral:"
      ],
      "metadata": {
        "id": "XAV5EwfJgDu0"
      }
    },
    {
      "cell_type": "code",
      "source": [
        "def dataframe_atraso_por(df_atraso, col_interes):\n",
        "  df_output = df_atraso.groupby([col_interes], as_index=False).\\\n",
        "                            agg(porcentaje_vuelos_con_atraso = ('atraso_15', lambda x: round(100*(x == 1).sum()/x.count(),2)),\n",
        "                                porcentaje_vuelos_sin_atraso = ('atraso_15', lambda x: round(100*(x == 0).sum()/x.count(),2)),\n",
        "                                vuelos_con_atraso = ('atraso_15', lambda x: (x == 1).sum()), \n",
        "                                vuelos_sin_atraso = ('atraso_15', lambda x: (x == 0).sum()),\n",
        "                                vuelos_total=('atraso_15', 'count'),\n",
        "                                ).\\\n",
        "                            sort_values(by=[col_interes], ascending=[True])\n",
        "\n",
        "  return df_output"
      ],
      "metadata": {
        "id": "470fOIVNi9H3"
      },
      "execution_count": 19,
      "outputs": []
    },
    {
      "cell_type": "code",
      "source": [
        "def plot_absoluto_porcentual(df_atraso_por_destino, col_interes, width, length):\n",
        "\n",
        "  order_absoluto = list(df_atraso_por_destino.sort_values(by=['vuelos_con_atraso'], ascending=[False])[col_interes])\n",
        "  order_porcentual = list(df_atraso_por_destino.sort_values(by=['porcentaje_vuelos_con_atraso'], ascending=[False])[col_interes])\n",
        "\n",
        "  fig, axs = plt.subplots(nrows=1, ncols=2, sharey=False)\n",
        "  fig.set_size_inches(width, length)\n",
        "  fig.subplots_adjust(wspace=0.5)\n",
        "\n",
        "  # Grafico derecho: Absoluto\n",
        "  sns.set_color_codes(\"pastel\")\n",
        "  sns.barplot(ax=axs[0], x=\"vuelos_total\", y=col_interes, data=df_atraso_por_destino,\n",
        "              label=\"Total\", color=\"g\", order=order_absoluto)\n",
        "\n",
        "  sns.set_color_codes(\"muted\")\n",
        "  sns.barplot(ax=axs[0], x=\"vuelos_sin_atraso\", y=col_interes, data=df_atraso_por_destino,\n",
        "              label=\"vuelos_sin_atraso\", color=\"b\", order=order_absoluto )\n",
        "\n",
        "  sns.barplot(ax=axs[0], x=\"vuelos_con_atraso\", y=col_interes, data=df_atraso_por_destino,\n",
        "              label=\"vuelos_con_atraso\", color=\"r\", order=order_absoluto)\n",
        "\n",
        "  axs[0].legend(ncol=3, loc=\"upper right\", bbox_to_anchor=(1,1.05), frameon=True)\n",
        "  axs[0].set_xlabel(\"Cantidad de vuelos\")\n",
        "  axs[0].set_ylabel(\"\")\n",
        "\n",
        "  # Grafico derecho: Porcentual\n",
        "  sns.set_color_codes(\"muted\")\n",
        "  sns.barplot(ax=axs[1], x=\"porcentaje_vuelos_sin_atraso\", y=col_interes, data=df_atraso_por_destino,\n",
        "              label=\"porcentaje_vuelos_sin_atraso\", color=\"b\", order=order_porcentual, alpha=0.7)\n",
        "\n",
        "  sns.barplot(ax=axs[1], x=\"porcentaje_vuelos_con_atraso\", y=col_interes, data=df_atraso_por_destino,\n",
        "              label=\"porcentaje_vuelos_con_atraso\", color=\"r\", order=order_porcentual, alpha=0.7)\n",
        "\n",
        "  axs[1].legend(ncol=2, loc=\"upper right\", bbox_to_anchor=(1,1.05), frameon=True)\n",
        "  axs[1].set_xlabel(\"Porcentaje\")\n",
        "  axs[1].set_ylabel(\"\")\n",
        "  axs[1].set_xlim(0, 100)\n",
        "\n",
        "  plt.show()"
      ],
      "metadata": {
        "id": "k5y9F27d3lMj"
      },
      "execution_count": 20,
      "outputs": []
    },
    {
      "cell_type": "markdown",
      "source": [
        "## 03.01. Tasa de atraso por destino"
      ],
      "metadata": {
        "id": "cezlcgpdiGjX"
      }
    },
    {
      "cell_type": "markdown",
      "source": [
        "Principales hallazgos:\n",
        "- Existe una diferencia importante en los valores absolutos para cada uno de los destinos (una fracción pequeña de destino vuelos, representa una cantidad importante de la totalidad de los vuelos). \n",
        "- De manera general que los destinos que mayor tasa absoluta de retraso presentan, son los que presentan al mismo tiempo una mayor cantidad total de vuelos.\n",
        "- Sin embargo, si evaluamos porcentualmente cuales son los destinos que presentan mayores retrasos porcentuales, estos no corresponden de manera general con los que de manera absoluta presentan las mayores retrasos.\n",
        "\n",
        "\n",
        "Posible tratamiento para los datos y para el problema de negocio:\n",
        "- Acorde al problema de negocio los 2 frentes son problemáticos: tanto las rutas que presentan de manera absoluta muchas retrasos, aunque tengan muchos vuelos, así como las rutas que aunque tengan pocas retrasos (quiza aun mas molesto para los usuarios, porque aun con pocos vuelos los retrasos son muy frecuentes). \n",
        "- Un posible criterio para atender este problema es fijar un umbral a partir de un percentil (Q3 por ejemplo) a partir del cual deban priorizar la atención para los vuelos que superen el umbral ya sea de manera relativa o absoluta. \n",
        "\n",
        "Posible tratamiento de los datos para el modelo:\n",
        "- Si se quisiera reducir la cardinalidad de esta variable (dada la gran cantidad de destinos) podrían analizarse diferentes criterios de agregación. El de la distribución por percentiles puede ser uno de ellos, pero debería explorarse con mayor detalle en caso de que sea necesario.\n",
        "\n",
        "**Nota:** todos los valores descritos de manera general podrian cálcularse en detalle en caso de ser necesario. Por el alcance y tiempo de la prueba no se desarrollan con mayor detalle."
      ],
      "metadata": {
        "id": "J5MifM3iiELA"
      }
    },
    {
      "cell_type": "code",
      "source": [
        "df_atraso_por_destino = dataframe_atraso_por(df_atraso, 'SIGLADES')\n",
        "df_atraso_por_destino"
      ],
      "metadata": {
        "id": "V-W1NS7wkBwU",
        "colab": {
          "base_uri": "https://localhost:8080/",
          "height": 423
        },
        "outputId": "577cb0cd-e203-4cb3-970e-bb700a98fb53"
      },
      "execution_count": 21,
      "outputs": [
        {
          "output_type": "execute_result",
          "data": {
            "text/plain": [
              "         SIGLADES  porcentaje_vuelos_con_atraso  porcentaje_vuelos_sin_atraso  \\\n",
              "0     Antofagasta                         14.64                         85.36   \n",
              "1           Arica                         13.55                         86.45   \n",
              "2        Asuncion                         28.45                         71.55   \n",
              "3         Atlanta                          5.87                         94.13   \n",
              "4   Auckland N.Z.                         37.40                         62.60   \n",
              "..            ...                           ...                           ...   \n",
              "57        Toronto                         31.45                         68.55   \n",
              "58        Tucuman                         26.32                         73.68   \n",
              "59         Ushuia                         66.67                         33.33   \n",
              "60       Valdivia                         15.54                         84.46   \n",
              "61     Washington                          0.00                        100.00   \n",
              "\n",
              "    vuelos_con_atraso  vuelos_sin_atraso  vuelos_total  \n",
              "0                 847               4939          5786  \n",
              "1                 330               2106          2436  \n",
              "2                  66                166           232  \n",
              "3                  21                337           358  \n",
              "4                 135                226           361  \n",
              "..                ...                ...           ...  \n",
              "57                 89                194           283  \n",
              "58                 10                 28            38  \n",
              "59                  4                  2             6  \n",
              "60                117                636           753  \n",
              "61                  0                  1             1  \n",
              "\n",
              "[62 rows x 6 columns]"
            ],
            "text/html": [
              "\n",
              "  <div id=\"df-8a6b6496-d8a7-4ee9-93e2-53b1b260913b\">\n",
              "    <div class=\"colab-df-container\">\n",
              "      <div>\n",
              "<style scoped>\n",
              "    .dataframe tbody tr th:only-of-type {\n",
              "        vertical-align: middle;\n",
              "    }\n",
              "\n",
              "    .dataframe tbody tr th {\n",
              "        vertical-align: top;\n",
              "    }\n",
              "\n",
              "    .dataframe thead th {\n",
              "        text-align: right;\n",
              "    }\n",
              "</style>\n",
              "<table border=\"1\" class=\"dataframe\">\n",
              "  <thead>\n",
              "    <tr style=\"text-align: right;\">\n",
              "      <th></th>\n",
              "      <th>SIGLADES</th>\n",
              "      <th>porcentaje_vuelos_con_atraso</th>\n",
              "      <th>porcentaje_vuelos_sin_atraso</th>\n",
              "      <th>vuelos_con_atraso</th>\n",
              "      <th>vuelos_sin_atraso</th>\n",
              "      <th>vuelos_total</th>\n",
              "    </tr>\n",
              "  </thead>\n",
              "  <tbody>\n",
              "    <tr>\n",
              "      <th>0</th>\n",
              "      <td>Antofagasta</td>\n",
              "      <td>14.64</td>\n",
              "      <td>85.36</td>\n",
              "      <td>847</td>\n",
              "      <td>4939</td>\n",
              "      <td>5786</td>\n",
              "    </tr>\n",
              "    <tr>\n",
              "      <th>1</th>\n",
              "      <td>Arica</td>\n",
              "      <td>13.55</td>\n",
              "      <td>86.45</td>\n",
              "      <td>330</td>\n",
              "      <td>2106</td>\n",
              "      <td>2436</td>\n",
              "    </tr>\n",
              "    <tr>\n",
              "      <th>2</th>\n",
              "      <td>Asuncion</td>\n",
              "      <td>28.45</td>\n",
              "      <td>71.55</td>\n",
              "      <td>66</td>\n",
              "      <td>166</td>\n",
              "      <td>232</td>\n",
              "    </tr>\n",
              "    <tr>\n",
              "      <th>3</th>\n",
              "      <td>Atlanta</td>\n",
              "      <td>5.87</td>\n",
              "      <td>94.13</td>\n",
              "      <td>21</td>\n",
              "      <td>337</td>\n",
              "      <td>358</td>\n",
              "    </tr>\n",
              "    <tr>\n",
              "      <th>4</th>\n",
              "      <td>Auckland N.Z.</td>\n",
              "      <td>37.40</td>\n",
              "      <td>62.60</td>\n",
              "      <td>135</td>\n",
              "      <td>226</td>\n",
              "      <td>361</td>\n",
              "    </tr>\n",
              "    <tr>\n",
              "      <th>...</th>\n",
              "      <td>...</td>\n",
              "      <td>...</td>\n",
              "      <td>...</td>\n",
              "      <td>...</td>\n",
              "      <td>...</td>\n",
              "      <td>...</td>\n",
              "    </tr>\n",
              "    <tr>\n",
              "      <th>57</th>\n",
              "      <td>Toronto</td>\n",
              "      <td>31.45</td>\n",
              "      <td>68.55</td>\n",
              "      <td>89</td>\n",
              "      <td>194</td>\n",
              "      <td>283</td>\n",
              "    </tr>\n",
              "    <tr>\n",
              "      <th>58</th>\n",
              "      <td>Tucuman</td>\n",
              "      <td>26.32</td>\n",
              "      <td>73.68</td>\n",
              "      <td>10</td>\n",
              "      <td>28</td>\n",
              "      <td>38</td>\n",
              "    </tr>\n",
              "    <tr>\n",
              "      <th>59</th>\n",
              "      <td>Ushuia</td>\n",
              "      <td>66.67</td>\n",
              "      <td>33.33</td>\n",
              "      <td>4</td>\n",
              "      <td>2</td>\n",
              "      <td>6</td>\n",
              "    </tr>\n",
              "    <tr>\n",
              "      <th>60</th>\n",
              "      <td>Valdivia</td>\n",
              "      <td>15.54</td>\n",
              "      <td>84.46</td>\n",
              "      <td>117</td>\n",
              "      <td>636</td>\n",
              "      <td>753</td>\n",
              "    </tr>\n",
              "    <tr>\n",
              "      <th>61</th>\n",
              "      <td>Washington</td>\n",
              "      <td>0.00</td>\n",
              "      <td>100.00</td>\n",
              "      <td>0</td>\n",
              "      <td>1</td>\n",
              "      <td>1</td>\n",
              "    </tr>\n",
              "  </tbody>\n",
              "</table>\n",
              "<p>62 rows × 6 columns</p>\n",
              "</div>\n",
              "      <button class=\"colab-df-convert\" onclick=\"convertToInteractive('df-8a6b6496-d8a7-4ee9-93e2-53b1b260913b')\"\n",
              "              title=\"Convert this dataframe to an interactive table.\"\n",
              "              style=\"display:none;\">\n",
              "        \n",
              "  <svg xmlns=\"http://www.w3.org/2000/svg\" height=\"24px\"viewBox=\"0 0 24 24\"\n",
              "       width=\"24px\">\n",
              "    <path d=\"M0 0h24v24H0V0z\" fill=\"none\"/>\n",
              "    <path d=\"M18.56 5.44l.94 2.06.94-2.06 2.06-.94-2.06-.94-.94-2.06-.94 2.06-2.06.94zm-11 1L8.5 8.5l.94-2.06 2.06-.94-2.06-.94L8.5 2.5l-.94 2.06-2.06.94zm10 10l.94 2.06.94-2.06 2.06-.94-2.06-.94-.94-2.06-.94 2.06-2.06.94z\"/><path d=\"M17.41 7.96l-1.37-1.37c-.4-.4-.92-.59-1.43-.59-.52 0-1.04.2-1.43.59L10.3 9.45l-7.72 7.72c-.78.78-.78 2.05 0 2.83L4 21.41c.39.39.9.59 1.41.59.51 0 1.02-.2 1.41-.59l7.78-7.78 2.81-2.81c.8-.78.8-2.07 0-2.86zM5.41 20L4 18.59l7.72-7.72 1.47 1.35L5.41 20z\"/>\n",
              "  </svg>\n",
              "      </button>\n",
              "      \n",
              "  <style>\n",
              "    .colab-df-container {\n",
              "      display:flex;\n",
              "      flex-wrap:wrap;\n",
              "      gap: 12px;\n",
              "    }\n",
              "\n",
              "    .colab-df-convert {\n",
              "      background-color: #E8F0FE;\n",
              "      border: none;\n",
              "      border-radius: 50%;\n",
              "      cursor: pointer;\n",
              "      display: none;\n",
              "      fill: #1967D2;\n",
              "      height: 32px;\n",
              "      padding: 0 0 0 0;\n",
              "      width: 32px;\n",
              "    }\n",
              "\n",
              "    .colab-df-convert:hover {\n",
              "      background-color: #E2EBFA;\n",
              "      box-shadow: 0px 1px 2px rgba(60, 64, 67, 0.3), 0px 1px 3px 1px rgba(60, 64, 67, 0.15);\n",
              "      fill: #174EA6;\n",
              "    }\n",
              "\n",
              "    [theme=dark] .colab-df-convert {\n",
              "      background-color: #3B4455;\n",
              "      fill: #D2E3FC;\n",
              "    }\n",
              "\n",
              "    [theme=dark] .colab-df-convert:hover {\n",
              "      background-color: #434B5C;\n",
              "      box-shadow: 0px 1px 3px 1px rgba(0, 0, 0, 0.15);\n",
              "      filter: drop-shadow(0px 1px 2px rgba(0, 0, 0, 0.3));\n",
              "      fill: #FFFFFF;\n",
              "    }\n",
              "  </style>\n",
              "\n",
              "      <script>\n",
              "        const buttonEl =\n",
              "          document.querySelector('#df-8a6b6496-d8a7-4ee9-93e2-53b1b260913b button.colab-df-convert');\n",
              "        buttonEl.style.display =\n",
              "          google.colab.kernel.accessAllowed ? 'block' : 'none';\n",
              "\n",
              "        async function convertToInteractive(key) {\n",
              "          const element = document.querySelector('#df-8a6b6496-d8a7-4ee9-93e2-53b1b260913b');\n",
              "          const dataTable =\n",
              "            await google.colab.kernel.invokeFunction('convertToInteractive',\n",
              "                                                     [key], {});\n",
              "          if (!dataTable) return;\n",
              "\n",
              "          const docLinkHtml = 'Like what you see? Visit the ' +\n",
              "            '<a target=\"_blank\" href=https://colab.research.google.com/notebooks/data_table.ipynb>data table notebook</a>'\n",
              "            + ' to learn more about interactive tables.';\n",
              "          element.innerHTML = '';\n",
              "          dataTable['output_type'] = 'display_data';\n",
              "          await google.colab.output.renderOutput(dataTable, element);\n",
              "          const docLink = document.createElement('div');\n",
              "          docLink.innerHTML = docLinkHtml;\n",
              "          element.appendChild(docLink);\n",
              "        }\n",
              "      </script>\n",
              "    </div>\n",
              "  </div>\n",
              "  "
            ]
          },
          "metadata": {},
          "execution_count": 21
        }
      ]
    },
    {
      "cell_type": "code",
      "source": [
        "plot_absoluto_porcentual(df_atraso_por_destino, 'SIGLADES', 15, 15)"
      ],
      "metadata": {
        "id": "H1lWFJiL3ouK",
        "colab": {
          "base_uri": "https://localhost:8080/",
          "height": 913
        },
        "outputId": "bcda7339-e1ca-4850-c927-bd4b73ad605b"
      },
      "execution_count": 22,
      "outputs": [
        {
          "output_type": "display_data",
          "data": {
            "text/plain": [
              "<Figure size 1080x1080 with 2 Axes>"
            ],
            "image/png": "[encoded data removed]"
          },
          "metadata": {
            "needs_background": "light"
          }
        }
      ]
    },
    {
      "cell_type": "markdown",
      "source": [
        "## 03.02. Tasa de atraso por aerolinea"
      ],
      "metadata": {
        "id": "1GFy1KV90rtp"
      }
    },
    {
      "cell_type": "markdown",
      "source": [
        "Los hallazgos y el posible tratamiento para los datos y para el problema de negocio, es similar al ya descrito para la variable destino `destino`."
      ],
      "metadata": {
        "id": "Na2F3sERn8iW"
      }
    },
    {
      "cell_type": "code",
      "source": [
        "df_atraso_por_aerolinea = dataframe_atraso_por(df_atraso, 'OPERA')\n",
        "df_atraso_por_aerolinea"
      ],
      "metadata": {
        "id": "LXfaw4fr0rtr",
        "colab": {
          "base_uri": "https://localhost:8080/",
          "height": 770
        },
        "outputId": "c8fa5ea6-8a50-493b-9bb2-4817bcea858c"
      },
      "execution_count": 23,
      "outputs": [
        {
          "output_type": "execute_result",
          "data": {
            "text/plain": [
              "                       OPERA  porcentaje_vuelos_con_atraso  \\\n",
              "0      Aerolineas Argentinas                         24.01   \n",
              "1                 Aeromexico                          2.85   \n",
              "2                 Air Canada                         45.66   \n",
              "3                 Air France                          8.38   \n",
              "4                   Alitalia                         11.20   \n",
              "5          American Airlines                          6.74   \n",
              "6                    Austral                         20.27   \n",
              "7                    Avianca                         26.56   \n",
              "8            British Airways                         14.15   \n",
              "9                   Copa Air                          6.27   \n",
              "10                 Delta Air                          5.87   \n",
              "11                 Gol Trans                         35.61   \n",
              "12               Grupo LATAM                         17.87   \n",
              "13                    Iberia                          9.94   \n",
              "14              JetSmart SPA                         17.90   \n",
              "15                    K.L.M.                          8.37   \n",
              "16                     Lacsa                         11.96   \n",
              "17      Latin American Wings                         40.68   \n",
              "18    Oceanair Linhas Aereas                         15.41   \n",
              "19  Plus Ultra Lineas Aereas                         61.22   \n",
              "20            Qantas Airways                         57.95   \n",
              "21               Sky Airline                         17.76   \n",
              "22           United Airlines                          5.07   \n",
              "\n",
              "    porcentaje_vuelos_sin_atraso  vuelos_con_atraso  vuelos_sin_atraso  \\\n",
              "0                          75.99                468               1481   \n",
              "1                          97.15                 10                341   \n",
              "2                          54.34                258                307   \n",
              "3                          91.62                 30                328   \n",
              "4                          88.80                 29                230   \n",
              "5                          93.26                 51                706   \n",
              "6                          79.73                 15                 59   \n",
              "7                          73.44                306                846   \n",
              "8                          85.85                 29                176   \n",
              "9                          93.73                116               1734   \n",
              "10                         94.13                 21                337   \n",
              "11                         64.39                287                519   \n",
              "12                         82.13               7306              33586   \n",
              "13                         90.06                 36                326   \n",
              "14                         82.10                196                899   \n",
              "15                         91.63                 21                230   \n",
              "16                         88.04                 11                 81   \n",
              "17                         59.32                681                993   \n",
              "18                         84.59                 43                236   \n",
              "19                         38.78                 30                 19   \n",
              "20                         42.05                113                 82   \n",
              "21                         82.24               2540              11758   \n",
              "22                         94.93                 17                318   \n",
              "\n",
              "    vuelos_total  \n",
              "0           1949  \n",
              "1            351  \n",
              "2            565  \n",
              "3            358  \n",
              "4            259  \n",
              "5            757  \n",
              "6             74  \n",
              "7           1152  \n",
              "8            205  \n",
              "9           1850  \n",
              "10           358  \n",
              "11           806  \n",
              "12         40892  \n",
              "13           362  \n",
              "14          1095  \n",
              "15           251  \n",
              "16            92  \n",
              "17          1674  \n",
              "18           279  \n",
              "19            49  \n",
              "20           195  \n",
              "21         14298  \n",
              "22           335  "
            ],
            "text/html": [
              "\n",
              "  <div id=\"df-eac13e13-21ac-451d-ba7b-24621420f5bf\">\n",
              "    <div class=\"colab-df-container\">\n",
              "      <div>\n",
              "<style scoped>\n",
              "    .dataframe tbody tr th:only-of-type {\n",
              "        vertical-align: middle;\n",
              "    }\n",
              "\n",
              "    .dataframe tbody tr th {\n",
              "        vertical-align: top;\n",
              "    }\n",
              "\n",
              "    .dataframe thead th {\n",
              "        text-align: right;\n",
              "    }\n",
              "</style>\n",
              "<table border=\"1\" class=\"dataframe\">\n",
              "  <thead>\n",
              "    <tr style=\"text-align: right;\">\n",
              "      <th></th>\n",
              "      <th>OPERA</th>\n",
              "      <th>porcentaje_vuelos_con_atraso</th>\n",
              "      <th>porcentaje_vuelos_sin_atraso</th>\n",
              "      <th>vuelos_con_atraso</th>\n",
              "      <th>vuelos_sin_atraso</th>\n",
              "      <th>vuelos_total</th>\n",
              "    </tr>\n",
              "  </thead>\n",
              "  <tbody>\n",
              "    <tr>\n",
              "      <th>0</th>\n",
              "      <td>Aerolineas Argentinas</td>\n",
              "      <td>24.01</td>\n",
              "      <td>75.99</td>\n",
              "      <td>468</td>\n",
              "      <td>1481</td>\n",
              "      <td>1949</td>\n",
              "    </tr>\n",
              "    <tr>\n",
              "      <th>1</th>\n",
              "      <td>Aeromexico</td>\n",
              "      <td>2.85</td>\n",
              "      <td>97.15</td>\n",
              "      <td>10</td>\n",
              "      <td>341</td>\n",
              "      <td>351</td>\n",
              "    </tr>\n",
              "    <tr>\n",
              "      <th>2</th>\n",
              "      <td>Air Canada</td>\n",
              "      <td>45.66</td>\n",
              "      <td>54.34</td>\n",
              "      <td>258</td>\n",
              "      <td>307</td>\n",
              "      <td>565</td>\n",
              "    </tr>\n",
              "    <tr>\n",
              "      <th>3</th>\n",
              "      <td>Air France</td>\n",
              "      <td>8.38</td>\n",
              "      <td>91.62</td>\n",
              "      <td>30</td>\n",
              "      <td>328</td>\n",
              "      <td>358</td>\n",
              "    </tr>\n",
              "    <tr>\n",
              "      <th>4</th>\n",
              "      <td>Alitalia</td>\n",
              "      <td>11.20</td>\n",
              "      <td>88.80</td>\n",
              "      <td>29</td>\n",
              "      <td>230</td>\n",
              "      <td>259</td>\n",
              "    </tr>\n",
              "    <tr>\n",
              "      <th>5</th>\n",
              "      <td>American Airlines</td>\n",
              "      <td>6.74</td>\n",
              "      <td>93.26</td>\n",
              "      <td>51</td>\n",
              "      <td>706</td>\n",
              "      <td>757</td>\n",
              "    </tr>\n",
              "    <tr>\n",
              "      <th>6</th>\n",
              "      <td>Austral</td>\n",
              "      <td>20.27</td>\n",
              "      <td>79.73</td>\n",
              "      <td>15</td>\n",
              "      <td>59</td>\n",
              "      <td>74</td>\n",
              "    </tr>\n",
              "    <tr>\n",
              "      <th>7</th>\n",
              "      <td>Avianca</td>\n",
              "      <td>26.56</td>\n",
              "      <td>73.44</td>\n",
              "      <td>306</td>\n",
              "      <td>846</td>\n",
              "      <td>1152</td>\n",
              "    </tr>\n",
              "    <tr>\n",
              "      <th>8</th>\n",
              "      <td>British Airways</td>\n",
              "      <td>14.15</td>\n",
              "      <td>85.85</td>\n",
              "      <td>29</td>\n",
              "      <td>176</td>\n",
              "      <td>205</td>\n",
              "    </tr>\n",
              "    <tr>\n",
              "      <th>9</th>\n",
              "      <td>Copa Air</td>\n",
              "      <td>6.27</td>\n",
              "      <td>93.73</td>\n",
              "      <td>116</td>\n",
              "      <td>1734</td>\n",
              "      <td>1850</td>\n",
              "    </tr>\n",
              "    <tr>\n",
              "      <th>10</th>\n",
              "      <td>Delta Air</td>\n",
              "      <td>5.87</td>\n",
              "      <td>94.13</td>\n",
              "      <td>21</td>\n",
              "      <td>337</td>\n",
              "      <td>358</td>\n",
              "    </tr>\n",
              "    <tr>\n",
              "      <th>11</th>\n",
              "      <td>Gol Trans</td>\n",
              "      <td>35.61</td>\n",
              "      <td>64.39</td>\n",
              "      <td>287</td>\n",
              "      <td>519</td>\n",
              "      <td>806</td>\n",
              "    </tr>\n",
              "    <tr>\n",
              "      <th>12</th>\n",
              "      <td>Grupo LATAM</td>\n",
              "      <td>17.87</td>\n",
              "      <td>82.13</td>\n",
              "      <td>7306</td>\n",
              "      <td>33586</td>\n",
              "      <td>40892</td>\n",
              "    </tr>\n",
              "    <tr>\n",
              "      <th>13</th>\n",
              "      <td>Iberia</td>\n",
              "      <td>9.94</td>\n",
              "      <td>90.06</td>\n",
              "      <td>36</td>\n",
              "      <td>326</td>\n",
              "      <td>362</td>\n",
              "    </tr>\n",
              "    <tr>\n",
              "      <th>14</th>\n",
              "      <td>JetSmart SPA</td>\n",
              "      <td>17.90</td>\n",
              "      <td>82.10</td>\n",
              "      <td>196</td>\n",
              "      <td>899</td>\n",
              "      <td>1095</td>\n",
              "    </tr>\n",
              "    <tr>\n",
              "      <th>15</th>\n",
              "      <td>K.L.M.</td>\n",
              "      <td>8.37</td>\n",
              "      <td>91.63</td>\n",
              "      <td>21</td>\n",
              "      <td>230</td>\n",
              "      <td>251</td>\n",
              "    </tr>\n",
              "    <tr>\n",
              "      <th>16</th>\n",
              "      <td>Lacsa</td>\n",
              "      <td>11.96</td>\n",
              "      <td>88.04</td>\n",
              "      <td>11</td>\n",
              "      <td>81</td>\n",
              "      <td>92</td>\n",
              "    </tr>\n",
              "    <tr>\n",
              "      <th>17</th>\n",
              "      <td>Latin American Wings</td>\n",
              "      <td>40.68</td>\n",
              "      <td>59.32</td>\n",
              "      <td>681</td>\n",
              "      <td>993</td>\n",
              "      <td>1674</td>\n",
              "    </tr>\n",
              "    <tr>\n",
              "      <th>18</th>\n",
              "      <td>Oceanair Linhas Aereas</td>\n",
              "      <td>15.41</td>\n",
              "      <td>84.59</td>\n",
              "      <td>43</td>\n",
              "      <td>236</td>\n",
              "      <td>279</td>\n",
              "    </tr>\n",
              "    <tr>\n",
              "      <th>19</th>\n",
              "      <td>Plus Ultra Lineas Aereas</td>\n",
              "      <td>61.22</td>\n",
              "      <td>38.78</td>\n",
              "      <td>30</td>\n",
              "      <td>19</td>\n",
              "      <td>49</td>\n",
              "    </tr>\n",
              "    <tr>\n",
              "      <th>20</th>\n",
              "      <td>Qantas Airways</td>\n",
              "      <td>57.95</td>\n",
              "      <td>42.05</td>\n",
              "      <td>113</td>\n",
              "      <td>82</td>\n",
              "      <td>195</td>\n",
              "    </tr>\n",
              "    <tr>\n",
              "      <th>21</th>\n",
              "      <td>Sky Airline</td>\n",
              "      <td>17.76</td>\n",
              "      <td>82.24</td>\n",
              "      <td>2540</td>\n",
              "      <td>11758</td>\n",
              "      <td>14298</td>\n",
              "    </tr>\n",
              "    <tr>\n",
              "      <th>22</th>\n",
              "      <td>United Airlines</td>\n",
              "      <td>5.07</td>\n",
              "      <td>94.93</td>\n",
              "      <td>17</td>\n",
              "      <td>318</td>\n",
              "      <td>335</td>\n",
              "    </tr>\n",
              "  </tbody>\n",
              "</table>\n",
              "</div>\n",
              "      <button class=\"colab-df-convert\" onclick=\"convertToInteractive('df-eac13e13-21ac-451d-ba7b-24621420f5bf')\"\n",
              "              title=\"Convert this dataframe to an interactive table.\"\n",
              "              style=\"display:none;\">\n",
              "        \n",
              "  <svg xmlns=\"http://www.w3.org/2000/svg\" height=\"24px\"viewBox=\"0 0 24 24\"\n",
              "       width=\"24px\">\n",
              "    <path d=\"M0 0h24v24H0V0z\" fill=\"none\"/>\n",
              "    <path d=\"M18.56 5.44l.94 2.06.94-2.06 2.06-.94-2.06-.94-.94-2.06-.94 2.06-2.06.94zm-11 1L8.5 8.5l.94-2.06 2.06-.94-2.06-.94L8.5 2.5l-.94 2.06-2.06.94zm10 10l.94 2.06.94-2.06 2.06-.94-2.06-.94-.94-2.06-.94 2.06-2.06.94z\"/><path d=\"M17.41 7.96l-1.37-1.37c-.4-.4-.92-.59-1.43-.59-.52 0-1.04.2-1.43.59L10.3 9.45l-7.72 7.72c-.78.78-.78 2.05 0 2.83L4 21.41c.39.39.9.59 1.41.59.51 0 1.02-.2 1.41-.59l7.78-7.78 2.81-2.81c.8-.78.8-2.07 0-2.86zM5.41 20L4 18.59l7.72-7.72 1.47 1.35L5.41 20z\"/>\n",
              "  </svg>\n",
              "      </button>\n",
              "      \n",
              "  <style>\n",
              "    .colab-df-container {\n",
              "      display:flex;\n",
              "      flex-wrap:wrap;\n",
              "      gap: 12px;\n",
              "    }\n",
              "\n",
              "    .colab-df-convert {\n",
              "      background-color: #E8F0FE;\n",
              "      border: none;\n",
              "      border-radius: 50%;\n",
              "      cursor: pointer;\n",
              "      display: none;\n",
              "      fill: #1967D2;\n",
              "      height: 32px;\n",
              "      padding: 0 0 0 0;\n",
              "      width: 32px;\n",
              "    }\n",
              "\n",
              "    .colab-df-convert:hover {\n",
              "      background-color: #E2EBFA;\n",
              "      box-shadow: 0px 1px 2px rgba(60, 64, 67, 0.3), 0px 1px 3px 1px rgba(60, 64, 67, 0.15);\n",
              "      fill: #174EA6;\n",
              "    }\n",
              "\n",
              "    [theme=dark] .colab-df-convert {\n",
              "      background-color: #3B4455;\n",
              "      fill: #D2E3FC;\n",
              "    }\n",
              "\n",
              "    [theme=dark] .colab-df-convert:hover {\n",
              "      background-color: #434B5C;\n",
              "      box-shadow: 0px 1px 3px 1px rgba(0, 0, 0, 0.15);\n",
              "      filter: drop-shadow(0px 1px 2px rgba(0, 0, 0, 0.3));\n",
              "      fill: #FFFFFF;\n",
              "    }\n",
              "  </style>\n",
              "\n",
              "      <script>\n",
              "        const buttonEl =\n",
              "          document.querySelector('#df-eac13e13-21ac-451d-ba7b-24621420f5bf button.colab-df-convert');\n",
              "        buttonEl.style.display =\n",
              "          google.colab.kernel.accessAllowed ? 'block' : 'none';\n",
              "\n",
              "        async function convertToInteractive(key) {\n",
              "          const element = document.querySelector('#df-eac13e13-21ac-451d-ba7b-24621420f5bf');\n",
              "          const dataTable =\n",
              "            await google.colab.kernel.invokeFunction('convertToInteractive',\n",
              "                                                     [key], {});\n",
              "          if (!dataTable) return;\n",
              "\n",
              "          const docLinkHtml = 'Like what you see? Visit the ' +\n",
              "            '<a target=\"_blank\" href=https://colab.research.google.com/notebooks/data_table.ipynb>data table notebook</a>'\n",
              "            + ' to learn more about interactive tables.';\n",
              "          element.innerHTML = '';\n",
              "          dataTable['output_type'] = 'display_data';\n",
              "          await google.colab.output.renderOutput(dataTable, element);\n",
              "          const docLink = document.createElement('div');\n",
              "          docLink.innerHTML = docLinkHtml;\n",
              "          element.appendChild(docLink);\n",
              "        }\n",
              "      </script>\n",
              "    </div>\n",
              "  </div>\n",
              "  "
            ]
          },
          "metadata": {},
          "execution_count": 23
        }
      ]
    },
    {
      "cell_type": "code",
      "source": [
        "plot_absoluto_porcentual(df_atraso_por_aerolinea, \"OPERA\", 15, 10)"
      ],
      "metadata": {
        "id": "PXpFHuvJhrTL",
        "colab": {
          "base_uri": "https://localhost:8080/",
          "height": 628
        },
        "outputId": "331d132d-bd17-4019-8063-798f71d279ad"
      },
      "execution_count": 24,
      "outputs": [
        {
          "output_type": "display_data",
          "data": {
            "text/plain": [
              "<Figure size 1080x720 with 2 Axes>"
            ],
            "image/png": "[encoded data removed]"
          },
          "metadata": {
            "needs_background": "light"
          }
        }
      ]
    },
    {
      "cell_type": "markdown",
      "source": [
        "## 03.03. Tasa de atraso por mes del año"
      ],
      "metadata": {
        "id": "DRdXiKP03FeD"
      }
    },
    {
      "cell_type": "markdown",
      "source": [
        "Principales hallazgos:\n",
        "- Si bien existe una diferencia entre los valores absolutos de los grupos, esta diferencia no es tan significativa como en el caso de los destinos y las aerolíneas. \n",
        "- Por lo anterior de manera general el orden tanto de manera absoluta como relativa se conserva.\n",
        "- Se observa que varios de los meses que presentan mayores retrasos se encuentran también en temporadas altas (julio, diciembre) y que el último trimestre del año es el periodo con mayores retrasos.\n",
        "- Si se desea reducir la cardinalidad podría explorarse la opción de los trimestres como forma de agregación.\n"
      ],
      "metadata": {
        "id": "omqaJKceozPD"
      }
    },
    {
      "cell_type": "code",
      "source": [
        "df_atraso_por_mes = dataframe_atraso_por(df_atraso, 'MES')\n",
        "df_atraso_por_mes"
      ],
      "metadata": {
        "id": "Y8rmBFQn0jlQ",
        "colab": {
          "base_uri": "https://localhost:8080/",
          "height": 425
        },
        "outputId": "baedada3-19e2-411d-b154-80cc2467bc95"
      },
      "execution_count": 25,
      "outputs": [
        {
          "output_type": "execute_result",
          "data": {
            "text/plain": [
              "   MES  porcentaje_vuelos_con_atraso  porcentaje_vuelos_sin_atraso  \\\n",
              "0    1                         16.01                         83.99   \n",
              "1   10                         22.60                         77.40   \n",
              "2   11                         19.72                         80.28   \n",
              "3   12                         25.41                         74.59   \n",
              "4    2                         15.16                         84.84   \n",
              "5    3                         11.51                         88.49   \n",
              "6    4                         11.65                         88.35   \n",
              "7    5                         15.78                         84.22   \n",
              "8    6                         17.10                         82.90   \n",
              "9    7                         29.34                         70.66   \n",
              "10   8                         17.34                         82.66   \n",
              "11   9                         17.24                         82.76   \n",
              "\n",
              "    vuelos_con_atraso  vuelos_sin_atraso  vuelos_total  \n",
              "0                 978               5130          6108  \n",
              "1                1363               4669          6032  \n",
              "2                1199               4881          6080  \n",
              "3                1615               4741          6356  \n",
              "4                 843               4718          5561  \n",
              "5                 631               4851          5482  \n",
              "6                 585               4435          5020  \n",
              "7                 827               4413          5240  \n",
              "8                 852               4129          4981  \n",
              "9                1758               4234          5992  \n",
              "10                996               4748          5744  \n",
              "11                967               4643          5610  "
            ],
            "text/html": [
              "\n",
              "  <div id=\"df-a4a4b00c-8d21-4c96-97cb-577a825c8d42\">\n",
              "    <div class=\"colab-df-container\">\n",
              "      <div>\n",
              "<style scoped>\n",
              "    .dataframe tbody tr th:only-of-type {\n",
              "        vertical-align: middle;\n",
              "    }\n",
              "\n",
              "    .dataframe tbody tr th {\n",
              "        vertical-align: top;\n",
              "    }\n",
              "\n",
              "    .dataframe thead th {\n",
              "        text-align: right;\n",
              "    }\n",
              "</style>\n",
              "<table border=\"1\" class=\"dataframe\">\n",
              "  <thead>\n",
              "    <tr style=\"text-align: right;\">\n",
              "      <th></th>\n",
              "      <th>MES</th>\n",
              "      <th>porcentaje_vuelos_con_atraso</th>\n",
              "      <th>porcentaje_vuelos_sin_atraso</th>\n",
              "      <th>vuelos_con_atraso</th>\n",
              "      <th>vuelos_sin_atraso</th>\n",
              "      <th>vuelos_total</th>\n",
              "    </tr>\n",
              "  </thead>\n",
              "  <tbody>\n",
              "    <tr>\n",
              "      <th>0</th>\n",
              "      <td>1</td>\n",
              "      <td>16.01</td>\n",
              "      <td>83.99</td>\n",
              "      <td>978</td>\n",
              "      <td>5130</td>\n",
              "      <td>6108</td>\n",
              "    </tr>\n",
              "    <tr>\n",
              "      <th>1</th>\n",
              "      <td>10</td>\n",
              "      <td>22.60</td>\n",
              "      <td>77.40</td>\n",
              "      <td>1363</td>\n",
              "      <td>4669</td>\n",
              "      <td>6032</td>\n",
              "    </tr>\n",
              "    <tr>\n",
              "      <th>2</th>\n",
              "      <td>11</td>\n",
              "      <td>19.72</td>\n",
              "      <td>80.28</td>\n",
              "      <td>1199</td>\n",
              "      <td>4881</td>\n",
              "      <td>6080</td>\n",
              "    </tr>\n",
              "    <tr>\n",
              "      <th>3</th>\n",
              "      <td>12</td>\n",
              "      <td>25.41</td>\n",
              "      <td>74.59</td>\n",
              "      <td>1615</td>\n",
              "      <td>4741</td>\n",
              "      <td>6356</td>\n",
              "    </tr>\n",
              "    <tr>\n",
              "      <th>4</th>\n",
              "      <td>2</td>\n",
              "      <td>15.16</td>\n",
              "      <td>84.84</td>\n",
              "      <td>843</td>\n",
              "      <td>4718</td>\n",
              "      <td>5561</td>\n",
              "    </tr>\n",
              "    <tr>\n",
              "      <th>5</th>\n",
              "      <td>3</td>\n",
              "      <td>11.51</td>\n",
              "      <td>88.49</td>\n",
              "      <td>631</td>\n",
              "      <td>4851</td>\n",
              "      <td>5482</td>\n",
              "    </tr>\n",
              "    <tr>\n",
              "      <th>6</th>\n",
              "      <td>4</td>\n",
              "      <td>11.65</td>\n",
              "      <td>88.35</td>\n",
              "      <td>585</td>\n",
              "      <td>4435</td>\n",
              "      <td>5020</td>\n",
              "    </tr>\n",
              "    <tr>\n",
              "      <th>7</th>\n",
              "      <td>5</td>\n",
              "      <td>15.78</td>\n",
              "      <td>84.22</td>\n",
              "      <td>827</td>\n",
              "      <td>4413</td>\n",
              "      <td>5240</td>\n",
              "    </tr>\n",
              "    <tr>\n",
              "      <th>8</th>\n",
              "      <td>6</td>\n",
              "      <td>17.10</td>\n",
              "      <td>82.90</td>\n",
              "      <td>852</td>\n",
              "      <td>4129</td>\n",
              "      <td>4981</td>\n",
              "    </tr>\n",
              "    <tr>\n",
              "      <th>9</th>\n",
              "      <td>7</td>\n",
              "      <td>29.34</td>\n",
              "      <td>70.66</td>\n",
              "      <td>1758</td>\n",
              "      <td>4234</td>\n",
              "      <td>5992</td>\n",
              "    </tr>\n",
              "    <tr>\n",
              "      <th>10</th>\n",
              "      <td>8</td>\n",
              "      <td>17.34</td>\n",
              "      <td>82.66</td>\n",
              "      <td>996</td>\n",
              "      <td>4748</td>\n",
              "      <td>5744</td>\n",
              "    </tr>\n",
              "    <tr>\n",
              "      <th>11</th>\n",
              "      <td>9</td>\n",
              "      <td>17.24</td>\n",
              "      <td>82.76</td>\n",
              "      <td>967</td>\n",
              "      <td>4643</td>\n",
              "      <td>5610</td>\n",
              "    </tr>\n",
              "  </tbody>\n",
              "</table>\n",
              "</div>\n",
              "      <button class=\"colab-df-convert\" onclick=\"convertToInteractive('df-a4a4b00c-8d21-4c96-97cb-577a825c8d42')\"\n",
              "              title=\"Convert this dataframe to an interactive table.\"\n",
              "              style=\"display:none;\">\n",
              "        \n",
              "  <svg xmlns=\"http://www.w3.org/2000/svg\" height=\"24px\"viewBox=\"0 0 24 24\"\n",
              "       width=\"24px\">\n",
              "    <path d=\"M0 0h24v24H0V0z\" fill=\"none\"/>\n",
              "    <path d=\"M18.56 5.44l.94 2.06.94-2.06 2.06-.94-2.06-.94-.94-2.06-.94 2.06-2.06.94zm-11 1L8.5 8.5l.94-2.06 2.06-.94-2.06-.94L8.5 2.5l-.94 2.06-2.06.94zm10 10l.94 2.06.94-2.06 2.06-.94-2.06-.94-.94-2.06-.94 2.06-2.06.94z\"/><path d=\"M17.41 7.96l-1.37-1.37c-.4-.4-.92-.59-1.43-.59-.52 0-1.04.2-1.43.59L10.3 9.45l-7.72 7.72c-.78.78-.78 2.05 0 2.83L4 21.41c.39.39.9.59 1.41.59.51 0 1.02-.2 1.41-.59l7.78-7.78 2.81-2.81c.8-.78.8-2.07 0-2.86zM5.41 20L4 18.59l7.72-7.72 1.47 1.35L5.41 20z\"/>\n",
              "  </svg>\n",
              "      </button>\n",
              "      \n",
              "  <style>\n",
              "    .colab-df-container {\n",
              "      display:flex;\n",
              "      flex-wrap:wrap;\n",
              "      gap: 12px;\n",
              "    }\n",
              "\n",
              "    .colab-df-convert {\n",
              "      background-color: #E8F0FE;\n",
              "      border: none;\n",
              "      border-radius: 50%;\n",
              "      cursor: pointer;\n",
              "      display: none;\n",
              "      fill: #1967D2;\n",
              "      height: 32px;\n",
              "      padding: 0 0 0 0;\n",
              "      width: 32px;\n",
              "    }\n",
              "\n",
              "    .colab-df-convert:hover {\n",
              "      background-color: #E2EBFA;\n",
              "      box-shadow: 0px 1px 2px rgba(60, 64, 67, 0.3), 0px 1px 3px 1px rgba(60, 64, 67, 0.15);\n",
              "      fill: #174EA6;\n",
              "    }\n",
              "\n",
              "    [theme=dark] .colab-df-convert {\n",
              "      background-color: #3B4455;\n",
              "      fill: #D2E3FC;\n",
              "    }\n",
              "\n",
              "    [theme=dark] .colab-df-convert:hover {\n",
              "      background-color: #434B5C;\n",
              "      box-shadow: 0px 1px 3px 1px rgba(0, 0, 0, 0.15);\n",
              "      filter: drop-shadow(0px 1px 2px rgba(0, 0, 0, 0.3));\n",
              "      fill: #FFFFFF;\n",
              "    }\n",
              "  </style>\n",
              "\n",
              "      <script>\n",
              "        const buttonEl =\n",
              "          document.querySelector('#df-a4a4b00c-8d21-4c96-97cb-577a825c8d42 button.colab-df-convert');\n",
              "        buttonEl.style.display =\n",
              "          google.colab.kernel.accessAllowed ? 'block' : 'none';\n",
              "\n",
              "        async function convertToInteractive(key) {\n",
              "          const element = document.querySelector('#df-a4a4b00c-8d21-4c96-97cb-577a825c8d42');\n",
              "          const dataTable =\n",
              "            await google.colab.kernel.invokeFunction('convertToInteractive',\n",
              "                                                     [key], {});\n",
              "          if (!dataTable) return;\n",
              "\n",
              "          const docLinkHtml = 'Like what you see? Visit the ' +\n",
              "            '<a target=\"_blank\" href=https://colab.research.google.com/notebooks/data_table.ipynb>data table notebook</a>'\n",
              "            + ' to learn more about interactive tables.';\n",
              "          element.innerHTML = '';\n",
              "          dataTable['output_type'] = 'display_data';\n",
              "          await google.colab.output.renderOutput(dataTable, element);\n",
              "          const docLink = document.createElement('div');\n",
              "          docLink.innerHTML = docLinkHtml;\n",
              "          element.appendChild(docLink);\n",
              "        }\n",
              "      </script>\n",
              "    </div>\n",
              "  </div>\n",
              "  "
            ]
          },
          "metadata": {},
          "execution_count": 25
        }
      ]
    },
    {
      "cell_type": "code",
      "source": [
        "plot_absoluto_porcentual(df_atraso_por_mes, 'MES', 15, 8)"
      ],
      "metadata": {
        "id": "pm3kqyW-0jik",
        "colab": {
          "base_uri": "https://localhost:8080/",
          "height": 514
        },
        "outputId": "8f568e8f-8847-4720-ee11-d54601cb1a7c"
      },
      "execution_count": 26,
      "outputs": [
        {
          "output_type": "display_data",
          "data": {
            "text/plain": [
              "<Figure size 1080x576 with 2 Axes>"
            ],
            "image/png": "[encoded data removed]"
          },
          "metadata": {
            "needs_background": "light"
          }
        }
      ]
    },
    {
      "cell_type": "markdown",
      "source": [
        "## 03.04. Tasa de atraso por día de la semana"
      ],
      "metadata": {
        "id": "f6A56spj3U9K"
      }
    },
    {
      "cell_type": "markdown",
      "source": [
        "Los hallazgos son similares para el mes de año, con los viernes y los lunes como grupos mayoritarios, y los domingos y sábados como grupos minoritarios."
      ],
      "metadata": {
        "id": "sO8SSg-esZjs"
      }
    },
    {
      "cell_type": "code",
      "source": [
        "df_atraso_por_dia_semana = dataframe_atraso_por(df_atraso, 'DIANOM')\n",
        "df_atraso_por_dia_semana"
      ],
      "metadata": {
        "id": "obDVzta90jfx",
        "colab": {
          "base_uri": "https://localhost:8080/",
          "height": 269
        },
        "outputId": "356d656a-2871-4b74-babe-8ceefdec58cd"
      },
      "execution_count": 27,
      "outputs": [
        {
          "output_type": "execute_result",
          "data": {
            "text/plain": [
              "      DIANOM  porcentaje_vuelos_con_atraso  porcentaje_vuelos_sin_atraso  \\\n",
              "0    Domingo                         16.11                         83.89   \n",
              "1     Jueves                         19.95                         80.05   \n",
              "2      Lunes                         20.22                         79.78   \n",
              "3     Martes                         16.91                         83.09   \n",
              "4  Miercoles                         17.08                         82.92   \n",
              "5     Sabado                         16.32                         83.68   \n",
              "6    Viernes                         22.20                         77.80   \n",
              "\n",
              "   vuelos_con_atraso  vuelos_sin_atraso  vuelos_total  \n",
              "0               1578               8218          9796  \n",
              "1               2045               8206         10251  \n",
              "2               2048               8083         10131  \n",
              "3               1634               8028          9662  \n",
              "4               1661               8061          9722  \n",
              "5               1363               6989          8352  \n",
              "6               2285               8007         10292  "
            ],
            "text/html": [
              "\n",
              "  <div id=\"df-fcddc90c-8bd2-4f84-9cb3-ddd88b3259c2\">\n",
              "    <div class=\"colab-df-container\">\n",
              "      <div>\n",
              "<style scoped>\n",
              "    .dataframe tbody tr th:only-of-type {\n",
              "        vertical-align: middle;\n",
              "    }\n",
              "\n",
              "    .dataframe tbody tr th {\n",
              "        vertical-align: top;\n",
              "    }\n",
              "\n",
              "    .dataframe thead th {\n",
              "        text-align: right;\n",
              "    }\n",
              "</style>\n",
              "<table border=\"1\" class=\"dataframe\">\n",
              "  <thead>\n",
              "    <tr style=\"text-align: right;\">\n",
              "      <th></th>\n",
              "      <th>DIANOM</th>\n",
              "      <th>porcentaje_vuelos_con_atraso</th>\n",
              "      <th>porcentaje_vuelos_sin_atraso</th>\n",
              "      <th>vuelos_con_atraso</th>\n",
              "      <th>vuelos_sin_atraso</th>\n",
              "      <th>vuelos_total</th>\n",
              "    </tr>\n",
              "  </thead>\n",
              "  <tbody>\n",
              "    <tr>\n",
              "      <th>0</th>\n",
              "      <td>Domingo</td>\n",
              "      <td>16.11</td>\n",
              "      <td>83.89</td>\n",
              "      <td>1578</td>\n",
              "      <td>8218</td>\n",
              "      <td>9796</td>\n",
              "    </tr>\n",
              "    <tr>\n",
              "      <th>1</th>\n",
              "      <td>Jueves</td>\n",
              "      <td>19.95</td>\n",
              "      <td>80.05</td>\n",
              "      <td>2045</td>\n",
              "      <td>8206</td>\n",
              "      <td>10251</td>\n",
              "    </tr>\n",
              "    <tr>\n",
              "      <th>2</th>\n",
              "      <td>Lunes</td>\n",
              "      <td>20.22</td>\n",
              "      <td>79.78</td>\n",
              "      <td>2048</td>\n",
              "      <td>8083</td>\n",
              "      <td>10131</td>\n",
              "    </tr>\n",
              "    <tr>\n",
              "      <th>3</th>\n",
              "      <td>Martes</td>\n",
              "      <td>16.91</td>\n",
              "      <td>83.09</td>\n",
              "      <td>1634</td>\n",
              "      <td>8028</td>\n",
              "      <td>9662</td>\n",
              "    </tr>\n",
              "    <tr>\n",
              "      <th>4</th>\n",
              "      <td>Miercoles</td>\n",
              "      <td>17.08</td>\n",
              "      <td>82.92</td>\n",
              "      <td>1661</td>\n",
              "      <td>8061</td>\n",
              "      <td>9722</td>\n",
              "    </tr>\n",
              "    <tr>\n",
              "      <th>5</th>\n",
              "      <td>Sabado</td>\n",
              "      <td>16.32</td>\n",
              "      <td>83.68</td>\n",
              "      <td>1363</td>\n",
              "      <td>6989</td>\n",
              "      <td>8352</td>\n",
              "    </tr>\n",
              "    <tr>\n",
              "      <th>6</th>\n",
              "      <td>Viernes</td>\n",
              "      <td>22.20</td>\n",
              "      <td>77.80</td>\n",
              "      <td>2285</td>\n",
              "      <td>8007</td>\n",
              "      <td>10292</td>\n",
              "    </tr>\n",
              "  </tbody>\n",
              "</table>\n",
              "</div>\n",
              "      <button class=\"colab-df-convert\" onclick=\"convertToInteractive('df-fcddc90c-8bd2-4f84-9cb3-ddd88b3259c2')\"\n",
              "              title=\"Convert this dataframe to an interactive table.\"\n",
              "              style=\"display:none;\">\n",
              "        \n",
              "  <svg xmlns=\"http://www.w3.org/2000/svg\" height=\"24px\"viewBox=\"0 0 24 24\"\n",
              "       width=\"24px\">\n",
              "    <path d=\"M0 0h24v24H0V0z\" fill=\"none\"/>\n",
              "    <path d=\"M18.56 5.44l.94 2.06.94-2.06 2.06-.94-2.06-.94-.94-2.06-.94 2.06-2.06.94zm-11 1L8.5 8.5l.94-2.06 2.06-.94-2.06-.94L8.5 2.5l-.94 2.06-2.06.94zm10 10l.94 2.06.94-2.06 2.06-.94-2.06-.94-.94-2.06-.94 2.06-2.06.94z\"/><path d=\"M17.41 7.96l-1.37-1.37c-.4-.4-.92-.59-1.43-.59-.52 0-1.04.2-1.43.59L10.3 9.45l-7.72 7.72c-.78.78-.78 2.05 0 2.83L4 21.41c.39.39.9.59 1.41.59.51 0 1.02-.2 1.41-.59l7.78-7.78 2.81-2.81c.8-.78.8-2.07 0-2.86zM5.41 20L4 18.59l7.72-7.72 1.47 1.35L5.41 20z\"/>\n",
              "  </svg>\n",
              "      </button>\n",
              "      \n",
              "  <style>\n",
              "    .colab-df-container {\n",
              "      display:flex;\n",
              "      flex-wrap:wrap;\n",
              "      gap: 12px;\n",
              "    }\n",
              "\n",
              "    .colab-df-convert {\n",
              "      background-color: #E8F0FE;\n",
              "      border: none;\n",
              "      border-radius: 50%;\n",
              "      cursor: pointer;\n",
              "      display: none;\n",
              "      fill: #1967D2;\n",
              "      height: 32px;\n",
              "      padding: 0 0 0 0;\n",
              "      width: 32px;\n",
              "    }\n",
              "\n",
              "    .colab-df-convert:hover {\n",
              "      background-color: #E2EBFA;\n",
              "      box-shadow: 0px 1px 2px rgba(60, 64, 67, 0.3), 0px 1px 3px 1px rgba(60, 64, 67, 0.15);\n",
              "      fill: #174EA6;\n",
              "    }\n",
              "\n",
              "    [theme=dark] .colab-df-convert {\n",
              "      background-color: #3B4455;\n",
              "      fill: #D2E3FC;\n",
              "    }\n",
              "\n",
              "    [theme=dark] .colab-df-convert:hover {\n",
              "      background-color: #434B5C;\n",
              "      box-shadow: 0px 1px 3px 1px rgba(0, 0, 0, 0.15);\n",
              "      filter: drop-shadow(0px 1px 2px rgba(0, 0, 0, 0.3));\n",
              "      fill: #FFFFFF;\n",
              "    }\n",
              "  </style>\n",
              "\n",
              "      <script>\n",
              "        const buttonEl =\n",
              "          document.querySelector('#df-fcddc90c-8bd2-4f84-9cb3-ddd88b3259c2 button.colab-df-convert');\n",
              "        buttonEl.style.display =\n",
              "          google.colab.kernel.accessAllowed ? 'block' : 'none';\n",
              "\n",
              "        async function convertToInteractive(key) {\n",
              "          const element = document.querySelector('#df-fcddc90c-8bd2-4f84-9cb3-ddd88b3259c2');\n",
              "          const dataTable =\n",
              "            await google.colab.kernel.invokeFunction('convertToInteractive',\n",
              "                                                     [key], {});\n",
              "          if (!dataTable) return;\n",
              "\n",
              "          const docLinkHtml = 'Like what you see? Visit the ' +\n",
              "            '<a target=\"_blank\" href=https://colab.research.google.com/notebooks/data_table.ipynb>data table notebook</a>'\n",
              "            + ' to learn more about interactive tables.';\n",
              "          element.innerHTML = '';\n",
              "          dataTable['output_type'] = 'display_data';\n",
              "          await google.colab.output.renderOutput(dataTable, element);\n",
              "          const docLink = document.createElement('div');\n",
              "          docLink.innerHTML = docLinkHtml;\n",
              "          element.appendChild(docLink);\n",
              "        }\n",
              "      </script>\n",
              "    </div>\n",
              "  </div>\n",
              "  "
            ]
          },
          "metadata": {},
          "execution_count": 27
        }
      ]
    },
    {
      "cell_type": "code",
      "source": [
        "plot_absoluto_porcentual(df_atraso_por_dia_semana, 'DIANOM', 15, 8)"
      ],
      "metadata": {
        "id": "FaMZW54F6M86",
        "colab": {
          "base_uri": "https://localhost:8080/",
          "height": 514
        },
        "outputId": "7f2885dc-c3f1-4c3e-c39a-135547ba291a"
      },
      "execution_count": 28,
      "outputs": [
        {
          "output_type": "display_data",
          "data": {
            "text/plain": [
              "<Figure size 1080x576 with 2 Axes>"
            ],
            "image/png": "[encoded data removed]"
          },
          "metadata": {
            "needs_background": "light"
          }
        }
      ]
    },
    {
      "cell_type": "markdown",
      "source": [
        "## 03.05. Tasa de atraso por temporada"
      ],
      "metadata": {
        "id": "hPevfsn35AsE"
      }
    },
    {
      "cell_type": "markdown",
      "source": [
        "Aunque de manera absoluta hay una diferencia casi del doble tanto en la cantidad de vuelos como de retrasos, de manera relativa el comportamiento de las temporadas es casi similar."
      ],
      "metadata": {
        "id": "WtNWnarttq4m"
      }
    },
    {
      "cell_type": "code",
      "source": [
        "df_atraso_por_temporada = dataframe_atraso_por(df_atraso, 'temporada_alta')\n",
        "df_atraso_por_temporada"
      ],
      "metadata": {
        "id": "7gf1u50c0jX9",
        "colab": {
          "base_uri": "https://localhost:8080/",
          "height": 112
        },
        "outputId": "37805a18-4050-4d07-ac58-1abce16c8b75"
      },
      "execution_count": 29,
      "outputs": [
        {
          "output_type": "execute_result",
          "data": {
            "text/plain": [
              "  temporada_alta  porcentaje_vuelos_con_atraso  porcentaje_vuelos_sin_atraso  \\\n",
              "0              0                         17.92                         82.08   \n",
              "1              1                         19.64                         80.36   \n",
              "\n",
              "   vuelos_con_atraso  vuelos_sin_atraso  vuelos_total  \n",
              "0               8144              37300         45444  \n",
              "1               4470              18292         22762  "
            ],
            "text/html": [
              "\n",
              "  <div id=\"df-d6c04948-e919-4880-a51b-9c07e7012bdb\">\n",
              "    <div class=\"colab-df-container\">\n",
              "      <div>\n",
              "<style scoped>\n",
              "    .dataframe tbody tr th:only-of-type {\n",
              "        vertical-align: middle;\n",
              "    }\n",
              "\n",
              "    .dataframe tbody tr th {\n",
              "        vertical-align: top;\n",
              "    }\n",
              "\n",
              "    .dataframe thead th {\n",
              "        text-align: right;\n",
              "    }\n",
              "</style>\n",
              "<table border=\"1\" class=\"dataframe\">\n",
              "  <thead>\n",
              "    <tr style=\"text-align: right;\">\n",
              "      <th></th>\n",
              "      <th>temporada_alta</th>\n",
              "      <th>porcentaje_vuelos_con_atraso</th>\n",
              "      <th>porcentaje_vuelos_sin_atraso</th>\n",
              "      <th>vuelos_con_atraso</th>\n",
              "      <th>vuelos_sin_atraso</th>\n",
              "      <th>vuelos_total</th>\n",
              "    </tr>\n",
              "  </thead>\n",
              "  <tbody>\n",
              "    <tr>\n",
              "      <th>0</th>\n",
              "      <td>0</td>\n",
              "      <td>17.92</td>\n",
              "      <td>82.08</td>\n",
              "      <td>8144</td>\n",
              "      <td>37300</td>\n",
              "      <td>45444</td>\n",
              "    </tr>\n",
              "    <tr>\n",
              "      <th>1</th>\n",
              "      <td>1</td>\n",
              "      <td>19.64</td>\n",
              "      <td>80.36</td>\n",
              "      <td>4470</td>\n",
              "      <td>18292</td>\n",
              "      <td>22762</td>\n",
              "    </tr>\n",
              "  </tbody>\n",
              "</table>\n",
              "</div>\n",
              "      <button class=\"colab-df-convert\" onclick=\"convertToInteractive('df-d6c04948-e919-4880-a51b-9c07e7012bdb')\"\n",
              "              title=\"Convert this dataframe to an interactive table.\"\n",
              "              style=\"display:none;\">\n",
              "        \n",
              "  <svg xmlns=\"http://www.w3.org/2000/svg\" height=\"24px\"viewBox=\"0 0 24 24\"\n",
              "       width=\"24px\">\n",
              "    <path d=\"M0 0h24v24H0V0z\" fill=\"none\"/>\n",
              "    <path d=\"M18.56 5.44l.94 2.06.94-2.06 2.06-.94-2.06-.94-.94-2.06-.94 2.06-2.06.94zm-11 1L8.5 8.5l.94-2.06 2.06-.94-2.06-.94L8.5 2.5l-.94 2.06-2.06.94zm10 10l.94 2.06.94-2.06 2.06-.94-2.06-.94-.94-2.06-.94 2.06-2.06.94z\"/><path d=\"M17.41 7.96l-1.37-1.37c-.4-.4-.92-.59-1.43-.59-.52 0-1.04.2-1.43.59L10.3 9.45l-7.72 7.72c-.78.78-.78 2.05 0 2.83L4 21.41c.39.39.9.59 1.41.59.51 0 1.02-.2 1.41-.59l7.78-7.78 2.81-2.81c.8-.78.8-2.07 0-2.86zM5.41 20L4 18.59l7.72-7.72 1.47 1.35L5.41 20z\"/>\n",
              "  </svg>\n",
              "      </button>\n",
              "      \n",
              "  <style>\n",
              "    .colab-df-container {\n",
              "      display:flex;\n",
              "      flex-wrap:wrap;\n",
              "      gap: 12px;\n",
              "    }\n",
              "\n",
              "    .colab-df-convert {\n",
              "      background-color: #E8F0FE;\n",
              "      border: none;\n",
              "      border-radius: 50%;\n",
              "      cursor: pointer;\n",
              "      display: none;\n",
              "      fill: #1967D2;\n",
              "      height: 32px;\n",
              "      padding: 0 0 0 0;\n",
              "      width: 32px;\n",
              "    }\n",
              "\n",
              "    .colab-df-convert:hover {\n",
              "      background-color: #E2EBFA;\n",
              "      box-shadow: 0px 1px 2px rgba(60, 64, 67, 0.3), 0px 1px 3px 1px rgba(60, 64, 67, 0.15);\n",
              "      fill: #174EA6;\n",
              "    }\n",
              "\n",
              "    [theme=dark] .colab-df-convert {\n",
              "      background-color: #3B4455;\n",
              "      fill: #D2E3FC;\n",
              "    }\n",
              "\n",
              "    [theme=dark] .colab-df-convert:hover {\n",
              "      background-color: #434B5C;\n",
              "      box-shadow: 0px 1px 3px 1px rgba(0, 0, 0, 0.15);\n",
              "      filter: drop-shadow(0px 1px 2px rgba(0, 0, 0, 0.3));\n",
              "      fill: #FFFFFF;\n",
              "    }\n",
              "  </style>\n",
              "\n",
              "      <script>\n",
              "        const buttonEl =\n",
              "          document.querySelector('#df-d6c04948-e919-4880-a51b-9c07e7012bdb button.colab-df-convert');\n",
              "        buttonEl.style.display =\n",
              "          google.colab.kernel.accessAllowed ? 'block' : 'none';\n",
              "\n",
              "        async function convertToInteractive(key) {\n",
              "          const element = document.querySelector('#df-d6c04948-e919-4880-a51b-9c07e7012bdb');\n",
              "          const dataTable =\n",
              "            await google.colab.kernel.invokeFunction('convertToInteractive',\n",
              "                                                     [key], {});\n",
              "          if (!dataTable) return;\n",
              "\n",
              "          const docLinkHtml = 'Like what you see? Visit the ' +\n",
              "            '<a target=\"_blank\" href=https://colab.research.google.com/notebooks/data_table.ipynb>data table notebook</a>'\n",
              "            + ' to learn more about interactive tables.';\n",
              "          element.innerHTML = '';\n",
              "          dataTable['output_type'] = 'display_data';\n",
              "          await google.colab.output.renderOutput(dataTable, element);\n",
              "          const docLink = document.createElement('div');\n",
              "          docLink.innerHTML = docLinkHtml;\n",
              "          element.appendChild(docLink);\n",
              "        }\n",
              "      </script>\n",
              "    </div>\n",
              "  </div>\n",
              "  "
            ]
          },
          "metadata": {},
          "execution_count": 29
        }
      ]
    },
    {
      "cell_type": "code",
      "source": [
        "plot_absoluto_porcentual(df_atraso_por_temporada, 'temporada_alta', 15, 4)"
      ],
      "metadata": {
        "id": "mckdmeDt0jDn",
        "colab": {
          "base_uri": "https://localhost:8080/",
          "height": 285
        },
        "outputId": "b1a69a5e-f38c-4542-e54a-b47cf20c6113"
      },
      "execution_count": 30,
      "outputs": [
        {
          "output_type": "display_data",
          "data": {
            "text/plain": [
              "<Figure size 1080x288 with 2 Axes>"
            ],
            "image/png": "[encoded data removed]"
          },
          "metadata": {
            "needs_background": "light"
          }
        }
      ]
    },
    {
      "cell_type": "markdown",
      "source": [
        "## 03.06. Tasa de atraso por tipo de vuelo"
      ],
      "metadata": {
        "id": "UTIzuFRn5HY4"
      }
    },
    {
      "cell_type": "markdown",
      "source": [
        "Puede notarse que aun cuando hay una menor cantidad de vuelos internacionales que nacionales, los primero presentan una mayor cantidad de atrasos, por lo cual parece ser una característica relevante, que evidentemente podría relacionarse con la variable de destino, si se incluyera información extra en el dataset."
      ],
      "metadata": {
        "id": "CxaZawcyuTF-"
      }
    },
    {
      "cell_type": "code",
      "source": [
        "df_atraso_por_tipo_vuelo = dataframe_atraso_por(df_atraso, 'TIPOVUELO')\n",
        "df_atraso_por_tipo_vuelo"
      ],
      "metadata": {
        "id": "MwEFUYCV0jBb",
        "colab": {
          "base_uri": "https://localhost:8080/",
          "height": 112
        },
        "outputId": "aa79e572-b130-438b-c7ee-0ebefa7354a4"
      },
      "execution_count": 31,
      "outputs": [
        {
          "output_type": "execute_result",
          "data": {
            "text/plain": [
              "  TIPOVUELO  porcentaje_vuelos_con_atraso  porcentaje_vuelos_sin_atraso  \\\n",
              "0         I                         22.56                         77.44   \n",
              "1         N                         15.06                         84.94   \n",
              "\n",
              "   vuelos_con_atraso  vuelos_sin_atraso  vuelos_total  \n",
              "0               7048              24192         31240  \n",
              "1               5566              31400         36966  "
            ],
            "text/html": [
              "\n",
              "  <div id=\"df-f02f075c-d037-4a14-9512-e7e5e37b91b6\">\n",
              "    <div class=\"colab-df-container\">\n",
              "      <div>\n",
              "<style scoped>\n",
              "    .dataframe tbody tr th:only-of-type {\n",
              "        vertical-align: middle;\n",
              "    }\n",
              "\n",
              "    .dataframe tbody tr th {\n",
              "        vertical-align: top;\n",
              "    }\n",
              "\n",
              "    .dataframe thead th {\n",
              "        text-align: right;\n",
              "    }\n",
              "</style>\n",
              "<table border=\"1\" class=\"dataframe\">\n",
              "  <thead>\n",
              "    <tr style=\"text-align: right;\">\n",
              "      <th></th>\n",
              "      <th>TIPOVUELO</th>\n",
              "      <th>porcentaje_vuelos_con_atraso</th>\n",
              "      <th>porcentaje_vuelos_sin_atraso</th>\n",
              "      <th>vuelos_con_atraso</th>\n",
              "      <th>vuelos_sin_atraso</th>\n",
              "      <th>vuelos_total</th>\n",
              "    </tr>\n",
              "  </thead>\n",
              "  <tbody>\n",
              "    <tr>\n",
              "      <th>0</th>\n",
              "      <td>I</td>\n",
              "      <td>22.56</td>\n",
              "      <td>77.44</td>\n",
              "      <td>7048</td>\n",
              "      <td>24192</td>\n",
              "      <td>31240</td>\n",
              "    </tr>\n",
              "    <tr>\n",
              "      <th>1</th>\n",
              "      <td>N</td>\n",
              "      <td>15.06</td>\n",
              "      <td>84.94</td>\n",
              "      <td>5566</td>\n",
              "      <td>31400</td>\n",
              "      <td>36966</td>\n",
              "    </tr>\n",
              "  </tbody>\n",
              "</table>\n",
              "</div>\n",
              "      <button class=\"colab-df-convert\" onclick=\"convertToInteractive('df-f02f075c-d037-4a14-9512-e7e5e37b91b6')\"\n",
              "              title=\"Convert this dataframe to an interactive table.\"\n",
              "              style=\"display:none;\">\n",
              "        \n",
              "  <svg xmlns=\"http://www.w3.org/2000/svg\" height=\"24px\"viewBox=\"0 0 24 24\"\n",
              "       width=\"24px\">\n",
              "    <path d=\"M0 0h24v24H0V0z\" fill=\"none\"/>\n",
              "    <path d=\"M18.56 5.44l.94 2.06.94-2.06 2.06-.94-2.06-.94-.94-2.06-.94 2.06-2.06.94zm-11 1L8.5 8.5l.94-2.06 2.06-.94-2.06-.94L8.5 2.5l-.94 2.06-2.06.94zm10 10l.94 2.06.94-2.06 2.06-.94-2.06-.94-.94-2.06-.94 2.06-2.06.94z\"/><path d=\"M17.41 7.96l-1.37-1.37c-.4-.4-.92-.59-1.43-.59-.52 0-1.04.2-1.43.59L10.3 9.45l-7.72 7.72c-.78.78-.78 2.05 0 2.83L4 21.41c.39.39.9.59 1.41.59.51 0 1.02-.2 1.41-.59l7.78-7.78 2.81-2.81c.8-.78.8-2.07 0-2.86zM5.41 20L4 18.59l7.72-7.72 1.47 1.35L5.41 20z\"/>\n",
              "  </svg>\n",
              "      </button>\n",
              "      \n",
              "  <style>\n",
              "    .colab-df-container {\n",
              "      display:flex;\n",
              "      flex-wrap:wrap;\n",
              "      gap: 12px;\n",
              "    }\n",
              "\n",
              "    .colab-df-convert {\n",
              "      background-color: #E8F0FE;\n",
              "      border: none;\n",
              "      border-radius: 50%;\n",
              "      cursor: pointer;\n",
              "      display: none;\n",
              "      fill: #1967D2;\n",
              "      height: 32px;\n",
              "      padding: 0 0 0 0;\n",
              "      width: 32px;\n",
              "    }\n",
              "\n",
              "    .colab-df-convert:hover {\n",
              "      background-color: #E2EBFA;\n",
              "      box-shadow: 0px 1px 2px rgba(60, 64, 67, 0.3), 0px 1px 3px 1px rgba(60, 64, 67, 0.15);\n",
              "      fill: #174EA6;\n",
              "    }\n",
              "\n",
              "    [theme=dark] .colab-df-convert {\n",
              "      background-color: #3B4455;\n",
              "      fill: #D2E3FC;\n",
              "    }\n",
              "\n",
              "    [theme=dark] .colab-df-convert:hover {\n",
              "      background-color: #434B5C;\n",
              "      box-shadow: 0px 1px 3px 1px rgba(0, 0, 0, 0.15);\n",
              "      filter: drop-shadow(0px 1px 2px rgba(0, 0, 0, 0.3));\n",
              "      fill: #FFFFFF;\n",
              "    }\n",
              "  </style>\n",
              "\n",
              "      <script>\n",
              "        const buttonEl =\n",
              "          document.querySelector('#df-f02f075c-d037-4a14-9512-e7e5e37b91b6 button.colab-df-convert');\n",
              "        buttonEl.style.display =\n",
              "          google.colab.kernel.accessAllowed ? 'block' : 'none';\n",
              "\n",
              "        async function convertToInteractive(key) {\n",
              "          const element = document.querySelector('#df-f02f075c-d037-4a14-9512-e7e5e37b91b6');\n",
              "          const dataTable =\n",
              "            await google.colab.kernel.invokeFunction('convertToInteractive',\n",
              "                                                     [key], {});\n",
              "          if (!dataTable) return;\n",
              "\n",
              "          const docLinkHtml = 'Like what you see? Visit the ' +\n",
              "            '<a target=\"_blank\" href=https://colab.research.google.com/notebooks/data_table.ipynb>data table notebook</a>'\n",
              "            + ' to learn more about interactive tables.';\n",
              "          element.innerHTML = '';\n",
              "          dataTable['output_type'] = 'display_data';\n",
              "          await google.colab.output.renderOutput(dataTable, element);\n",
              "          const docLink = document.createElement('div');\n",
              "          docLink.innerHTML = docLinkHtml;\n",
              "          element.appendChild(docLink);\n",
              "        }\n",
              "      </script>\n",
              "    </div>\n",
              "  </div>\n",
              "  "
            ]
          },
          "metadata": {},
          "execution_count": 31
        }
      ]
    },
    {
      "cell_type": "code",
      "source": [
        "plot_absoluto_porcentual(df_atraso_por_tipo_vuelo, 'TIPOVUELO', 15, 4)"
      ],
      "metadata": {
        "id": "2TXbvW8I5YrD",
        "colab": {
          "base_uri": "https://localhost:8080/",
          "height": 285
        },
        "outputId": "36394fb4-19fb-4a05-f1e6-a8353b4948ad"
      },
      "execution_count": 32,
      "outputs": [
        {
          "output_type": "display_data",
          "data": {
            "text/plain": [
              "<Figure size 1080x288 with 2 Axes>"
            ],
            "image/png": "[encoded data removed]"
          },
          "metadata": {
            "needs_background": "light"
          }
        }
      ]
    },
    {
      "cell_type": "markdown",
      "source": [
        "## 03.07. Expectativa en relación a las variables más influyentes en el modelo"
      ],
      "metadata": {
        "id": "2TcAA0ca5ZSP"
      }
    },
    {
      "cell_type": "markdown",
      "source": [
        "Acorde a los hallazgos presentados el conjunto de numerales anteriores se espera que las variables que puedan llegar a tener mayor relevancia en el modelo son inicialmente el destino y la aerolínea pues son las que de manera relativa presentan una distribución muy diferenciada para sus grupos. Si bien son variables categóricas de alta cardinalidad, pueden intentar trabajarse como están (si el volumen de datos no es muy grande), o puede analizarse el criterio de agregación para tener grupos más reducidos (como el de la tasa de cancelación por ejemplo). \n",
        "\n",
        "Indirectamente también en el destino también ya estaría incluido si el vuelo es internacional o no, que es otro criterio que muestra alguna relevancia. \n",
        "\n",
        "Las variables restantes como el periodo de al año y el dia de la seman también se estima que tendrán contribución pero se espera que sea menos que las inicialmente descritas.\n",
        "\n"
      ],
      "metadata": {
        "id": "YvZ_fxvYAiE7"
      }
    },
    {
      "cell_type": "markdown",
      "source": [
        "# Sección 04. Entrenamiento de modelos propuestos"
      ],
      "metadata": {
        "id": "QIFBj4WTx-6v"
      }
    },
    {
      "cell_type": "markdown",
      "source": [
        "En la actual sección se presenta el pipeline que compone el procesamiento de datos y entrenamiento de 3 modelos base: Logistic Regression, Decision Tree Classifier y Xgboost. De manera adicional se presenta la alternativa para la evaluación de un conjunto más amplio de modelos a partir del uso de la librería de AutoML Pycaret."
      ],
      "metadata": {
        "id": "1zjV0w7ecE34"
      }
    },
    {
      "cell_type": "markdown",
      "source": [
        "## 04.01. Generación del dataset base para el entrenamiento y evaluación de los modelos"
      ],
      "metadata": {
        "id": "NR-TqiFN1wLZ"
      }
    },
    {
      "cell_type": "markdown",
      "source": [
        "### ---> Parámetros de los transformadores\n",
        "Definimos cada uno de los parámetros de entrada que deben tener los transformadores para nuestro pipeline. Incluimos columnas adicionales para que en la salida esten todas las columnas que deseamos evaluar."
      ],
      "metadata": {
        "id": "tCFPObq8cYFs"
      }
    },
    {
      "cell_type": "code",
      "source": [
        "params_FeatureSelector = {}\n",
        "params_FeatureSelector['feature_names']= ['Fecha-I', \n",
        "                                          'Des-I',\n",
        "                                          'Emp-I', \n",
        "                                          'TIPOVUELO', \n",
        "                                          'Fecha-O',\n",
        "                                         ]\n",
        "\n",
        "params_DateType = {}\n",
        "params_DateType['cols_dates']= ['Fecha-I', 'Fecha-O']\n",
        "\n",
        "params_TemporadaAlta = {}\n",
        "params_TemporadaAlta['columna_fecha']= 'Fecha-I'\n",
        "\n",
        "params_DifMin = {}\n",
        "\n",
        "params_Atraso15 = params_DifMin\n",
        "\n",
        "params_PeriodoDia = params_TemporadaAlta\n",
        "\n",
        "params_OrderOutput = {}\n",
        "params_OrderOutput['feature_names']= ['Des-I',\n",
        "                                      'Emp-I', \n",
        "                                      'TIPOVUELO',\n",
        "                                      'temporada_alta',\n",
        "                                      'periodo_dia',\n",
        "                                      'atraso_15'\t\n",
        "                                      ]"
      ],
      "metadata": {
        "id": "R6wnH8pZhRMd"
      },
      "execution_count": 33,
      "outputs": []
    },
    {
      "cell_type": "markdown",
      "source": [
        "### ---> Instanciamiento de los Transformadores"
      ],
      "metadata": {
        "id": "09jEaGDwc52F"
      }
    },
    {
      "cell_type": "code",
      "source": [
        "Transformer_FeatureSelector = FeatureSelector(params_FeatureSelector)\n",
        "Transformer_DateType = DateType(params_DateType)\n",
        "Transformer_TemporadaAlta = TemporadaAlta(params_TemporadaAlta)\n",
        "Transformer_DifMin = DifMin(params_DifMin)\n",
        "Transformer_Atraso15 = Atraso15(params_Atraso15)\n",
        "Transformer_PeriodoDia = PeriodoDia(params_PeriodoDia)\n",
        "Transformer_OrderOutput = OrderOutput(params_OrderOutput)"
      ],
      "metadata": {
        "id": "224I3r0XhRJ7"
      },
      "execution_count": 34,
      "outputs": []
    },
    {
      "cell_type": "markdown",
      "source": [
        "### ---> Instanciamiento del Pipeline"
      ],
      "metadata": {
        "id": "N_bXu-XQdTAL"
      }
    },
    {
      "cell_type": "code",
      "source": [
        "pipeline_data_model = Pipeline(steps=[('NameFeatureSelector', Transformer_FeatureSelector),\n",
        "                              ('NameDateType', Transformer_DateType),\n",
        "                              ('NameTemporadaAlta', Transformer_TemporadaAlta),\n",
        "                              ('NameDifMin', Transformer_DifMin),\n",
        "                              ('NameDateAtraso15', Transformer_Atraso15),\n",
        "                              ('NamePeriodoDia', Transformer_PeriodoDia),\n",
        "                              ('NameOrderOutput', Transformer_OrderOutput)\n",
        "                              ])"
      ],
      "metadata": {
        "id": "T1mMdbF-hRHh"
      },
      "execution_count": 35,
      "outputs": []
    },
    {
      "cell_type": "markdown",
      "source": [
        "### ---> Obtención del dataframe base para el modelo"
      ],
      "metadata": {
        "id": "EAqOyNwTdYJc"
      }
    },
    {
      "cell_type": "code",
      "source": [
        "df_data_model = pipeline_data_model.transform(df_raw)\n",
        "df_data_model"
      ],
      "metadata": {
        "colab": {
          "base_uri": "https://localhost:8080/",
          "height": 423
        },
        "id": "ITdwoA96yKpz",
        "outputId": "9d239031-390c-49c8-fbae-4921f88beb41"
      },
      "execution_count": 36,
      "outputs": [
        {
          "output_type": "execute_result",
          "data": {
            "text/plain": [
              "      Des-I Emp-I TIPOVUELO  temporada_alta periodo_dia  atraso_15\n",
              "0      KMIA   AAL         I               1       noche          0\n",
              "1      KMIA   AAL         I               1       noche          0\n",
              "2      KMIA   AAL         I               1       noche          0\n",
              "3      KMIA   AAL         I               1       noche          0\n",
              "4      KMIA   AAL         I               1       noche          0\n",
              "...     ...   ...       ...             ...         ...        ...\n",
              "68201  SPJC   JAT         I               1       tarde          1\n",
              "68202  SPJC   JAT         I               1       tarde          1\n",
              "68203  SPJC   JAT         I               1       tarde          1\n",
              "68204  SPJC   JAT         I               1       tarde          0\n",
              "68205  SPJC   JAT         I               1       tarde          0\n",
              "\n",
              "[68206 rows x 6 columns]"
            ],
            "text/html": [
              "\n",
              "  <div id=\"df-ee359970-798b-4310-aa77-d7e0ea687d35\">\n",
              "    <div class=\"colab-df-container\">\n",
              "      <div>\n",
              "<style scoped>\n",
              "    .dataframe tbody tr th:only-of-type {\n",
              "        vertical-align: middle;\n",
              "    }\n",
              "\n",
              "    .dataframe tbody tr th {\n",
              "        vertical-align: top;\n",
              "    }\n",
              "\n",
              "    .dataframe thead th {\n",
              "        text-align: right;\n",
              "    }\n",
              "</style>\n",
              "<table border=\"1\" class=\"dataframe\">\n",
              "  <thead>\n",
              "    <tr style=\"text-align: right;\">\n",
              "      <th></th>\n",
              "      <th>Des-I</th>\n",
              "      <th>Emp-I</th>\n",
              "      <th>TIPOVUELO</th>\n",
              "      <th>temporada_alta</th>\n",
              "      <th>periodo_dia</th>\n",
              "      <th>atraso_15</th>\n",
              "    </tr>\n",
              "  </thead>\n",
              "  <tbody>\n",
              "    <tr>\n",
              "      <th>0</th>\n",
              "      <td>KMIA</td>\n",
              "      <td>AAL</td>\n",
              "      <td>I</td>\n",
              "      <td>1</td>\n",
              "      <td>noche</td>\n",
              "      <td>0</td>\n",
              "    </tr>\n",
              "    <tr>\n",
              "      <th>1</th>\n",
              "      <td>KMIA</td>\n",
              "      <td>AAL</td>\n",
              "      <td>I</td>\n",
              "      <td>1</td>\n",
              "      <td>noche</td>\n",
              "      <td>0</td>\n",
              "    </tr>\n",
              "    <tr>\n",
              "      <th>2</th>\n",
              "      <td>KMIA</td>\n",
              "      <td>AAL</td>\n",
              "      <td>I</td>\n",
              "      <td>1</td>\n",
              "      <td>noche</td>\n",
              "      <td>0</td>\n",
              "    </tr>\n",
              "    <tr>\n",
              "      <th>3</th>\n",
              "      <td>KMIA</td>\n",
              "      <td>AAL</td>\n",
              "      <td>I</td>\n",
              "      <td>1</td>\n",
              "      <td>noche</td>\n",
              "      <td>0</td>\n",
              "    </tr>\n",
              "    <tr>\n",
              "      <th>4</th>\n",
              "      <td>KMIA</td>\n",
              "      <td>AAL</td>\n",
              "      <td>I</td>\n",
              "      <td>1</td>\n",
              "      <td>noche</td>\n",
              "      <td>0</td>\n",
              "    </tr>\n",
              "    <tr>\n",
              "      <th>...</th>\n",
              "      <td>...</td>\n",
              "      <td>...</td>\n",
              "      <td>...</td>\n",
              "      <td>...</td>\n",
              "      <td>...</td>\n",
              "      <td>...</td>\n",
              "    </tr>\n",
              "    <tr>\n",
              "      <th>68201</th>\n",
              "      <td>SPJC</td>\n",
              "      <td>JAT</td>\n",
              "      <td>I</td>\n",
              "      <td>1</td>\n",
              "      <td>tarde</td>\n",
              "      <td>1</td>\n",
              "    </tr>\n",
              "    <tr>\n",
              "      <th>68202</th>\n",
              "      <td>SPJC</td>\n",
              "      <td>JAT</td>\n",
              "      <td>I</td>\n",
              "      <td>1</td>\n",
              "      <td>tarde</td>\n",
              "      <td>1</td>\n",
              "    </tr>\n",
              "    <tr>\n",
              "      <th>68203</th>\n",
              "      <td>SPJC</td>\n",
              "      <td>JAT</td>\n",
              "      <td>I</td>\n",
              "      <td>1</td>\n",
              "      <td>tarde</td>\n",
              "      <td>1</td>\n",
              "    </tr>\n",
              "    <tr>\n",
              "      <th>68204</th>\n",
              "      <td>SPJC</td>\n",
              "      <td>JAT</td>\n",
              "      <td>I</td>\n",
              "      <td>1</td>\n",
              "      <td>tarde</td>\n",
              "      <td>0</td>\n",
              "    </tr>\n",
              "    <tr>\n",
              "      <th>68205</th>\n",
              "      <td>SPJC</td>\n",
              "      <td>JAT</td>\n",
              "      <td>I</td>\n",
              "      <td>1</td>\n",
              "      <td>tarde</td>\n",
              "      <td>0</td>\n",
              "    </tr>\n",
              "  </tbody>\n",
              "</table>\n",
              "<p>68206 rows × 6 columns</p>\n",
              "</div>\n",
              "      <button class=\"colab-df-convert\" onclick=\"convertToInteractive('df-ee359970-798b-4310-aa77-d7e0ea687d35')\"\n",
              "              title=\"Convert this dataframe to an interactive table.\"\n",
              "              style=\"display:none;\">\n",
              "        \n",
              "  <svg xmlns=\"http://www.w3.org/2000/svg\" height=\"24px\"viewBox=\"0 0 24 24\"\n",
              "       width=\"24px\">\n",
              "    <path d=\"M0 0h24v24H0V0z\" fill=\"none\"/>\n",
              "    <path d=\"M18.56 5.44l.94 2.06.94-2.06 2.06-.94-2.06-.94-.94-2.06-.94 2.06-2.06.94zm-11 1L8.5 8.5l.94-2.06 2.06-.94-2.06-.94L8.5 2.5l-.94 2.06-2.06.94zm10 10l.94 2.06.94-2.06 2.06-.94-2.06-.94-.94-2.06-.94 2.06-2.06.94z\"/><path d=\"M17.41 7.96l-1.37-1.37c-.4-.4-.92-.59-1.43-.59-.52 0-1.04.2-1.43.59L10.3 9.45l-7.72 7.72c-.78.78-.78 2.05 0 2.83L4 21.41c.39.39.9.59 1.41.59.51 0 1.02-.2 1.41-.59l7.78-7.78 2.81-2.81c.8-.78.8-2.07 0-2.86zM5.41 20L4 18.59l7.72-7.72 1.47 1.35L5.41 20z\"/>\n",
              "  </svg>\n",
              "      </button>\n",
              "      \n",
              "  <style>\n",
              "    .colab-df-container {\n",
              "      display:flex;\n",
              "      flex-wrap:wrap;\n",
              "      gap: 12px;\n",
              "    }\n",
              "\n",
              "    .colab-df-convert {\n",
              "      background-color: #E8F0FE;\n",
              "      border: none;\n",
              "      border-radius: 50%;\n",
              "      cursor: pointer;\n",
              "      display: none;\n",
              "      fill: #1967D2;\n",
              "      height: 32px;\n",
              "      padding: 0 0 0 0;\n",
              "      width: 32px;\n",
              "    }\n",
              "\n",
              "    .colab-df-convert:hover {\n",
              "      background-color: #E2EBFA;\n",
              "      box-shadow: 0px 1px 2px rgba(60, 64, 67, 0.3), 0px 1px 3px 1px rgba(60, 64, 67, 0.15);\n",
              "      fill: #174EA6;\n",
              "    }\n",
              "\n",
              "    [theme=dark] .colab-df-convert {\n",
              "      background-color: #3B4455;\n",
              "      fill: #D2E3FC;\n",
              "    }\n",
              "\n",
              "    [theme=dark] .colab-df-convert:hover {\n",
              "      background-color: #434B5C;\n",
              "      box-shadow: 0px 1px 3px 1px rgba(0, 0, 0, 0.15);\n",
              "      filter: drop-shadow(0px 1px 2px rgba(0, 0, 0, 0.3));\n",
              "      fill: #FFFFFF;\n",
              "    }\n",
              "  </style>\n",
              "\n",
              "      <script>\n",
              "        const buttonEl =\n",
              "          document.querySelector('#df-ee359970-798b-4310-aa77-d7e0ea687d35 button.colab-df-convert');\n",
              "        buttonEl.style.display =\n",
              "          google.colab.kernel.accessAllowed ? 'block' : 'none';\n",
              "\n",
              "        async function convertToInteractive(key) {\n",
              "          const element = document.querySelector('#df-ee359970-798b-4310-aa77-d7e0ea687d35');\n",
              "          const dataTable =\n",
              "            await google.colab.kernel.invokeFunction('convertToInteractive',\n",
              "                                                     [key], {});\n",
              "          if (!dataTable) return;\n",
              "\n",
              "          const docLinkHtml = 'Like what you see? Visit the ' +\n",
              "            '<a target=\"_blank\" href=https://colab.research.google.com/notebooks/data_table.ipynb>data table notebook</a>'\n",
              "            + ' to learn more about interactive tables.';\n",
              "          element.innerHTML = '';\n",
              "          dataTable['output_type'] = 'display_data';\n",
              "          await google.colab.output.renderOutput(dataTable, element);\n",
              "          const docLink = document.createElement('div');\n",
              "          docLink.innerHTML = docLinkHtml;\n",
              "          element.appendChild(docLink);\n",
              "        }\n",
              "      </script>\n",
              "    </div>\n",
              "  </div>\n",
              "  "
            ]
          },
          "metadata": {},
          "execution_count": 36
        }
      ]
    },
    {
      "cell_type": "markdown",
      "source": [
        "## 04.02. Pipeline de transformación de datos para consumo del modelo\n",
        "Dado que el dataframe base que hemos elegido para el modelo contiene únicamente columnas categóricas generaremos un pipeline de transformación que presenta solo una etapa de `one hot encoding`. Esta etapa puede hacerse más compleja en la medida que deseemos hacer diferentes tipo de transformaciones sobre nuestro dataset base."
      ],
      "metadata": {
        "id": "8eCl8ehm2Byj"
      }
    },
    {
      "cell_type": "markdown",
      "source": [
        "### ---> Separación entre target y variables de entrenamiento"
      ],
      "metadata": {
        "id": "p26MKn3ZetpZ"
      }
    },
    {
      "cell_type": "code",
      "source": [
        "X = df_data_model.drop('atraso_15', axis=1)\n",
        "y = df_data_model.atraso_15"
      ],
      "metadata": {
        "id": "KjARMttzzXsc"
      },
      "execution_count": 37,
      "outputs": []
    },
    {
      "cell_type": "markdown",
      "source": [
        "### ---> Definición de columnas sobre las que se aplicará la transformación"
      ],
      "metadata": {
        "id": "1s9PtIZne7z6"
      }
    },
    {
      "cell_type": "code",
      "source": [
        "ohe_cols = ['Des-I', 'Emp-I', 'TIPOVUELO', 'temporada_alta', 'periodo_dia']"
      ],
      "metadata": {
        "id": "ZXU3rPdIzXpi"
      },
      "execution_count": 38,
      "outputs": []
    },
    {
      "cell_type": "markdown",
      "source": [
        "### ---> Pipeline implementado y aplicado"
      ],
      "metadata": {
        "id": "MYpzd4fAfJRd"
      }
    },
    {
      "cell_type": "code",
      "source": [
        "ohe_transformer = ColumnTransformer(\n",
        "                    transformers=\n",
        "                    [('ohe', OneHotEncoder(), ohe_cols)], remainder='passthrough'\n",
        "                    )"
      ],
      "metadata": {
        "id": "WIBdli1_zXlm"
      },
      "execution_count": 39,
      "outputs": []
    },
    {
      "cell_type": "code",
      "source": [
        "pipeline_model = Pipeline(steps=[('ohe_transformer', ohe_transformer)])"
      ],
      "metadata": {
        "id": "H5Qk11-gzXjV"
      },
      "execution_count": 40,
      "outputs": []
    },
    {
      "cell_type": "code",
      "source": [
        "X_prep = pipeline_model.fit_transform(X)"
      ],
      "metadata": {
        "id": "TpV40t8yzXhU"
      },
      "execution_count": 41,
      "outputs": []
    },
    {
      "cell_type": "markdown",
      "source": [
        "## 04.03. Train - Test split"
      ],
      "metadata": {
        "id": "NtCbd0X81b1n"
      }
    },
    {
      "cell_type": "markdown",
      "source": [
        "Una vez se ha hecho la transformación sobre el dataset de entrada es necesario generar la separación entre los datos de entrenamiento y los datos de prueba. En este caso es importante destacar que se trata de un dataset desbalanceado en una proporción aproximada de 80/20 donde la clase minoritaria corresponde precisamente con la etiqueta de interés: los vuelos que presentaron retraso.\n",
        "\n",
        "Es por ello que al momento de hacer el `train - test split` se debe incluir el parámetro `stratify` que tiene en cuenta esta distribución de las clases, y la mantiene cuando separa los datos de entrenamiento y evaluación. \n",
        "\n",
        "Se incluye una evidencia que da cuenta de que la proporción se mantiene en los datos posteriores al split.\n"
      ],
      "metadata": {
        "id": "LtPIHhL7fP6p"
      }
    },
    {
      "cell_type": "code",
      "source": [
        "X_train, X_test, y_train, y_test = train_test_split(X_prep, y, stratify=y, test_size=0.3, random_state=42)"
      ],
      "metadata": {
        "id": "dj3aNddizXfB"
      },
      "execution_count": 42,
      "outputs": []
    },
    {
      "cell_type": "code",
      "source": [
        "y.value_counts(normalize=True)"
      ],
      "metadata": {
        "colab": {
          "base_uri": "https://localhost:8080/"
        },
        "id": "oQKymLzlyKj0",
        "outputId": "9c430095-6252-4c7b-ac2b-238cbbacb2e7"
      },
      "execution_count": 43,
      "outputs": [
        {
          "output_type": "execute_result",
          "data": {
            "text/plain": [
              "0    0.81506\n",
              "1    0.18494\n",
              "Name: atraso_15, dtype: float64"
            ]
          },
          "metadata": {},
          "execution_count": 43
        }
      ]
    },
    {
      "cell_type": "code",
      "source": [
        "y_train.value_counts(normalize=True)"
      ],
      "metadata": {
        "colab": {
          "base_uri": "https://localhost:8080/"
        },
        "id": "ww6uwx-2yKhk",
        "outputId": "df8dd599-a766-49ee-ce3c-aef05f443733"
      },
      "execution_count": 44,
      "outputs": [
        {
          "output_type": "execute_result",
          "data": {
            "text/plain": [
              "0    0.815055\n",
              "1    0.184945\n",
              "Name: atraso_15, dtype: float64"
            ]
          },
          "metadata": {},
          "execution_count": 44
        }
      ]
    },
    {
      "cell_type": "code",
      "source": [
        "y_test.value_counts(normalize=True)"
      ],
      "metadata": {
        "colab": {
          "base_uri": "https://localhost:8080/"
        },
        "id": "8a7Ro1B5yKfN",
        "outputId": "8f4528a9-520a-47ec-ecb6-0ccf133fa466"
      },
      "execution_count": 45,
      "outputs": [
        {
          "output_type": "execute_result",
          "data": {
            "text/plain": [
              "0    0.815072\n",
              "1    0.184928\n",
              "Name: atraso_15, dtype: float64"
            ]
          },
          "metadata": {},
          "execution_count": 45
        }
      ]
    },
    {
      "cell_type": "markdown",
      "source": [
        "## 04.04. Almacenamiento de la data de entrenamiento y evaluación del modelo\n",
        "\n",
        "Con el fin de soportar soportar el desarrollo y permitir cualquier evaluación posterior, se almacenan tanto el dataframe base, como los conjuntos de entrenamiento y test.\n",
        "\n",
        "Estos datasets fueron almacenados también en el folder `data` del repositorio principal."
      ],
      "metadata": {
        "id": "iiBslZsS2siq"
      }
    },
    {
      "cell_type": "code",
      "source": [
        "df_data_model.to_csv('data_model.csv', index=False)\n",
        "pd.DataFrame(X_train.toarray()).to_csv('X_train.csv', index=False)\n",
        "pd.DataFrame(X_test.toarray()).to_csv('X_test.csv', index=False)\n",
        "pd.DataFrame(y_train).to_csv('y_train.csv', index=False)\n",
        "pd.DataFrame(y_test).to_csv('y_test.csv', index=False)"
      ],
      "metadata": {
        "id": "jFzSQRKyyKa4"
      },
      "execution_count": 46,
      "outputs": []
    },
    {
      "cell_type": "markdown",
      "source": [
        "## 04.05. Entrenamiento de los modelos\n",
        "Por último se instancian y se entrenan los 3 modelos propuestos (Logistic Regression, Decision Tree Classifier y Xgboost). Para cada uno de ellos se tiene en cuenta que hay un desbalance entre los datos por lo cual se tienen en cuenta activar el parámetro `class_weight` para los modelos Logistic Regression y Decision Tree Classifier, y el parámetro `scale_pos_weight` de Xgboost.\n",
        "\n",
        "Por último como plus se presenta la alternativa de Pycaret, una librería de AutoML de alto nivel que permite instanciar y evaluar un conjunto mucho más amplio de modelos y transformaciones. Si bien tiene la aproximación de la simplicidad de una librería de AutoML, no es una caja negra y se pueden obtener de manera detallada los hiperparametros y los detalles de cada uno de los procesos que componen lo pipelines de transformación y estimación.\n"
      ],
      "metadata": {
        "id": "scr0fKjV6JV6"
      }
    },
    {
      "cell_type": "markdown",
      "source": [
        "### ---> Logistic Regression"
      ],
      "metadata": {
        "id": "ewx42zTiZmXL"
      }
    },
    {
      "cell_type": "code",
      "source": [
        "lr = LogisticRegression(class_weight = 'balanced', random_state=42)\n",
        "lr_model = lr.fit(X_train, y_train)"
      ],
      "metadata": {
        "id": "TVMTt4Xs5mX6"
      },
      "execution_count": 47,
      "outputs": []
    },
    {
      "cell_type": "markdown",
      "source": [
        "### ---> Decision Tree Classifier"
      ],
      "metadata": {
        "id": "Q7raSeQUZnqD"
      }
    },
    {
      "cell_type": "code",
      "source": [
        "dt = DecisionTreeClassifier(class_weight='balanced', random_state=42)\n",
        "dt_model = dt.fit(X_train, y_train)"
      ],
      "metadata": {
        "id": "JYGi8Z-06ktl"
      },
      "execution_count": 48,
      "outputs": []
    },
    {
      "cell_type": "markdown",
      "source": [
        "### ---> Xgboost"
      ],
      "metadata": {
        "id": "Gn1mOo55ZoOx"
      }
    },
    {
      "cell_type": "code",
      "source": [
        "ratio = len(y_train[y_train == 0])/len(y_train[y_train == 1])\n",
        "xgboost = xgb.XGBClassifier(objective='binary:logistic', scale_pos_weight = ratio, random_state=42)\n",
        "xgboost_model = xgboost.fit(X_train, y_train)"
      ],
      "metadata": {
        "id": "FkOdS5SuN_j9"
      },
      "execution_count": 49,
      "outputs": []
    },
    {
      "cell_type": "markdown",
      "source": [
        "### ---> Pycaret AutoML"
      ],
      "metadata": {
        "id": "-PaZvybf7jl9"
      }
    },
    {
      "cell_type": "code",
      "source": [
        "columnas_interes = ['Des-I', 'Emp-I', 'DIANOM', 'TIPOVUELO', 'temporada_alta','periodo_dia','atraso_15']\n",
        "df_automl = pd.concat([df_raw, df_synthetic_features], axis=1)[columnas_interes]"
      ],
      "metadata": {
        "id": "Hl5KpTEwAis8"
      },
      "execution_count": 50,
      "outputs": []
    },
    {
      "cell_type": "code",
      "source": [
        "clasificacion = setup(data=df_automl,\n",
        "                      target='atraso_15',\n",
        "                      train_size = 0.7,\n",
        "                      session_id=123,\n",
        "                      imputation_type = None,\n",
        "                      feature_selection = False,\n",
        "                      fix_imbalance=True)"
      ],
      "metadata": {
        "colab": {
          "base_uri": "https://localhost:8080/",
          "height": 770
        },
        "id": "KqX6xjZ46kv5",
        "outputId": "d4ccf7b6-8839-4ae5-8fff-68d36eca5483"
      },
      "execution_count": 51,
      "outputs": [
        {
          "output_type": "display_data",
          "data": {
            "text/plain": [
              "<pandas.io.formats.style.Styler at 0x7f3c27aaeb20>"
            ],
            "text/html": [
              "<style type=\"text/css\">\n",
              "#T_c137b_row10_col1, #T_c137b_row14_col1 {\n",
              "  background-color: lightgreen;\n",
              "}\n",
              "</style>\n",
              "<table id=\"T_c137b\" class=\"dataframe\">\n",
              "  <thead>\n",
              "    <tr>\n",
              "      <th class=\"blank level0\" >&nbsp;</th>\n",
              "      <th id=\"T_c137b_level0_col0\" class=\"col_heading level0 col0\" >Description</th>\n",
              "      <th id=\"T_c137b_level0_col1\" class=\"col_heading level0 col1\" >Value</th>\n",
              "    </tr>\n",
              "  </thead>\n",
              "  <tbody>\n",
              "    <tr>\n",
              "      <th id=\"T_c137b_level0_row0\" class=\"row_heading level0 row0\" >0</th>\n",
              "      <td id=\"T_c137b_row0_col0\" class=\"data row0 col0\" >Session id</td>\n",
              "      <td id=\"T_c137b_row0_col1\" class=\"data row0 col1\" >123</td>\n",
              "    </tr>\n",
              "    <tr>\n",
              "      <th id=\"T_c137b_level0_row1\" class=\"row_heading level0 row1\" >1</th>\n",
              "      <td id=\"T_c137b_row1_col0\" class=\"data row1 col0\" >Target</td>\n",
              "      <td id=\"T_c137b_row1_col1\" class=\"data row1 col1\" >atraso_15</td>\n",
              "    </tr>\n",
              "    <tr>\n",
              "      <th id=\"T_c137b_level0_row2\" class=\"row_heading level0 row2\" >2</th>\n",
              "      <td id=\"T_c137b_row2_col0\" class=\"data row2 col0\" >Target type</td>\n",
              "      <td id=\"T_c137b_row2_col1\" class=\"data row2 col1\" >Binary</td>\n",
              "    </tr>\n",
              "    <tr>\n",
              "      <th id=\"T_c137b_level0_row3\" class=\"row_heading level0 row3\" >3</th>\n",
              "      <td id=\"T_c137b_row3_col0\" class=\"data row3 col0\" >Original data shape</td>\n",
              "      <td id=\"T_c137b_row3_col1\" class=\"data row3 col1\" >(68206, 7)</td>\n",
              "    </tr>\n",
              "    <tr>\n",
              "      <th id=\"T_c137b_level0_row4\" class=\"row_heading level0 row4\" >4</th>\n",
              "      <td id=\"T_c137b_row4_col0\" class=\"data row4 col0\" >Transformed data shape</td>\n",
              "      <td id=\"T_c137b_row4_col1\" class=\"data row4 col1\" >(98290, 15)</td>\n",
              "    </tr>\n",
              "    <tr>\n",
              "      <th id=\"T_c137b_level0_row5\" class=\"row_heading level0 row5\" >5</th>\n",
              "      <td id=\"T_c137b_row5_col0\" class=\"data row5 col0\" >Transformed train set shape</td>\n",
              "      <td id=\"T_c137b_row5_col1\" class=\"data row5 col1\" >(77828, 15)</td>\n",
              "    </tr>\n",
              "    <tr>\n",
              "      <th id=\"T_c137b_level0_row6\" class=\"row_heading level0 row6\" >6</th>\n",
              "      <td id=\"T_c137b_row6_col0\" class=\"data row6 col0\" >Transformed test set shape</td>\n",
              "      <td id=\"T_c137b_row6_col1\" class=\"data row6 col1\" >(20462, 15)</td>\n",
              "    </tr>\n",
              "    <tr>\n",
              "      <th id=\"T_c137b_level0_row7\" class=\"row_heading level0 row7\" >7</th>\n",
              "      <td id=\"T_c137b_row7_col0\" class=\"data row7 col0\" >Ordinal features</td>\n",
              "      <td id=\"T_c137b_row7_col1\" class=\"data row7 col1\" >1</td>\n",
              "    </tr>\n",
              "    <tr>\n",
              "      <th id=\"T_c137b_level0_row8\" class=\"row_heading level0 row8\" >8</th>\n",
              "      <td id=\"T_c137b_row8_col0\" class=\"data row8 col0\" >Numeric features</td>\n",
              "      <td id=\"T_c137b_row8_col1\" class=\"data row8 col1\" >1</td>\n",
              "    </tr>\n",
              "    <tr>\n",
              "      <th id=\"T_c137b_level0_row9\" class=\"row_heading level0 row9\" >9</th>\n",
              "      <td id=\"T_c137b_row9_col0\" class=\"data row9 col0\" >Categorical features</td>\n",
              "      <td id=\"T_c137b_row9_col1\" class=\"data row9 col1\" >5</td>\n",
              "    </tr>\n",
              "    <tr>\n",
              "      <th id=\"T_c137b_level0_row10\" class=\"row_heading level0 row10\" >10</th>\n",
              "      <td id=\"T_c137b_row10_col0\" class=\"data row10 col0\" >Preprocess</td>\n",
              "      <td id=\"T_c137b_row10_col1\" class=\"data row10 col1\" >True</td>\n",
              "    </tr>\n",
              "    <tr>\n",
              "      <th id=\"T_c137b_level0_row11\" class=\"row_heading level0 row11\" >11</th>\n",
              "      <td id=\"T_c137b_row11_col0\" class=\"data row11 col0\" >Imputation type</td>\n",
              "      <td id=\"T_c137b_row11_col1\" class=\"data row11 col1\" >None</td>\n",
              "    </tr>\n",
              "    <tr>\n",
              "      <th id=\"T_c137b_level0_row12\" class=\"row_heading level0 row12\" >12</th>\n",
              "      <td id=\"T_c137b_row12_col0\" class=\"data row12 col0\" >Maximum one-hot encoding</td>\n",
              "      <td id=\"T_c137b_row12_col1\" class=\"data row12 col1\" >25</td>\n",
              "    </tr>\n",
              "    <tr>\n",
              "      <th id=\"T_c137b_level0_row13\" class=\"row_heading level0 row13\" >13</th>\n",
              "      <td id=\"T_c137b_row13_col0\" class=\"data row13 col0\" >Encoding method</td>\n",
              "      <td id=\"T_c137b_row13_col1\" class=\"data row13 col1\" >None</td>\n",
              "    </tr>\n",
              "    <tr>\n",
              "      <th id=\"T_c137b_level0_row14\" class=\"row_heading level0 row14\" >14</th>\n",
              "      <td id=\"T_c137b_row14_col0\" class=\"data row14 col0\" >Fix imbalance</td>\n",
              "      <td id=\"T_c137b_row14_col1\" class=\"data row14 col1\" >True</td>\n",
              "    </tr>\n",
              "    <tr>\n",
              "      <th id=\"T_c137b_level0_row15\" class=\"row_heading level0 row15\" >15</th>\n",
              "      <td id=\"T_c137b_row15_col0\" class=\"data row15 col0\" >Fix imbalance method</td>\n",
              "      <td id=\"T_c137b_row15_col1\" class=\"data row15 col1\" >SMOTE</td>\n",
              "    </tr>\n",
              "    <tr>\n",
              "      <th id=\"T_c137b_level0_row16\" class=\"row_heading level0 row16\" >16</th>\n",
              "      <td id=\"T_c137b_row16_col0\" class=\"data row16 col0\" >Fold Generator</td>\n",
              "      <td id=\"T_c137b_row16_col1\" class=\"data row16 col1\" >StratifiedKFold</td>\n",
              "    </tr>\n",
              "    <tr>\n",
              "      <th id=\"T_c137b_level0_row17\" class=\"row_heading level0 row17\" >17</th>\n",
              "      <td id=\"T_c137b_row17_col0\" class=\"data row17 col0\" >Fold Number</td>\n",
              "      <td id=\"T_c137b_row17_col1\" class=\"data row17 col1\" >10</td>\n",
              "    </tr>\n",
              "    <tr>\n",
              "      <th id=\"T_c137b_level0_row18\" class=\"row_heading level0 row18\" >18</th>\n",
              "      <td id=\"T_c137b_row18_col0\" class=\"data row18 col0\" >CPU Jobs</td>\n",
              "      <td id=\"T_c137b_row18_col1\" class=\"data row18 col1\" >-1</td>\n",
              "    </tr>\n",
              "    <tr>\n",
              "      <th id=\"T_c137b_level0_row19\" class=\"row_heading level0 row19\" >19</th>\n",
              "      <td id=\"T_c137b_row19_col0\" class=\"data row19 col0\" >Use GPU</td>\n",
              "      <td id=\"T_c137b_row19_col1\" class=\"data row19 col1\" >False</td>\n",
              "    </tr>\n",
              "    <tr>\n",
              "      <th id=\"T_c137b_level0_row20\" class=\"row_heading level0 row20\" >20</th>\n",
              "      <td id=\"T_c137b_row20_col0\" class=\"data row20 col0\" >Log Experiment</td>\n",
              "      <td id=\"T_c137b_row20_col1\" class=\"data row20 col1\" >False</td>\n",
              "    </tr>\n",
              "    <tr>\n",
              "      <th id=\"T_c137b_level0_row21\" class=\"row_heading level0 row21\" >21</th>\n",
              "      <td id=\"T_c137b_row21_col0\" class=\"data row21 col0\" >Experiment Name</td>\n",
              "      <td id=\"T_c137b_row21_col1\" class=\"data row21 col1\" >clf-default-name</td>\n",
              "    </tr>\n",
              "    <tr>\n",
              "      <th id=\"T_c137b_level0_row22\" class=\"row_heading level0 row22\" >22</th>\n",
              "      <td id=\"T_c137b_row22_col0\" class=\"data row22 col0\" >USI</td>\n",
              "      <td id=\"T_c137b_row22_col1\" class=\"data row22 col1\" >fe0a</td>\n",
              "    </tr>\n",
              "  </tbody>\n",
              "</table>\n"
            ]
          },
          "metadata": {}
        }
      ]
    },
    {
      "cell_type": "code",
      "source": [
        "models()"
      ],
      "metadata": {
        "colab": {
          "base_uri": "https://localhost:8080/",
          "height": 645
        },
        "id": "2hW0mlqQ8nBZ",
        "outputId": "98bc687f-40d8-4803-a31f-50858c6b70ca"
      },
      "execution_count": 52,
      "outputs": [
        {
          "output_type": "execute_result",
          "data": {
            "text/plain": [
              "                                     Name  \\\n",
              "ID                                          \n",
              "lr                    Logistic Regression   \n",
              "knn                K Neighbors Classifier   \n",
              "nb                            Naive Bayes   \n",
              "dt               Decision Tree Classifier   \n",
              "svm                   SVM - Linear Kernel   \n",
              "rbfsvm                SVM - Radial Kernel   \n",
              "gpc           Gaussian Process Classifier   \n",
              "mlp                        MLP Classifier   \n",
              "ridge                    Ridge Classifier   \n",
              "rf               Random Forest Classifier   \n",
              "qda       Quadratic Discriminant Analysis   \n",
              "ada                  Ada Boost Classifier   \n",
              "gbc          Gradient Boosting Classifier   \n",
              "lda          Linear Discriminant Analysis   \n",
              "et                 Extra Trees Classifier   \n",
              "xgboost         Extreme Gradient Boosting   \n",
              "lightgbm  Light Gradient Boosting Machine   \n",
              "dummy                    Dummy Classifier   \n",
              "\n",
              "                                                  Reference  Turbo  \n",
              "ID                                                                  \n",
              "lr        sklearn.linear_model._logistic.LogisticRegression   True  \n",
              "knn       sklearn.neighbors._classification.KNeighborsCl...   True  \n",
              "nb                           sklearn.naive_bayes.GaussianNB   True  \n",
              "dt             sklearn.tree._classes.DecisionTreeClassifier   True  \n",
              "svm       sklearn.linear_model._stochastic_gradient.SGDC...   True  \n",
              "rbfsvm                             sklearn.svm._classes.SVC  False  \n",
              "gpc       sklearn.gaussian_process._gpc.GaussianProcessC...  False  \n",
              "mlp       sklearn.neural_network._multilayer_perceptron....  False  \n",
              "ridge           sklearn.linear_model._ridge.RidgeClassifier   True  \n",
              "rf          sklearn.ensemble._forest.RandomForestClassifier   True  \n",
              "qda       sklearn.discriminant_analysis.QuadraticDiscrim...   True  \n",
              "ada       sklearn.ensemble._weight_boosting.AdaBoostClas...   True  \n",
              "gbc         sklearn.ensemble._gb.GradientBoostingClassifier   True  \n",
              "lda       sklearn.discriminant_analysis.LinearDiscrimina...   True  \n",
              "et            sklearn.ensemble._forest.ExtraTreesClassifier   True  \n",
              "xgboost                       xgboost.sklearn.XGBClassifier   True  \n",
              "lightgbm                    lightgbm.sklearn.LGBMClassifier   True  \n",
              "dummy                         sklearn.dummy.DummyClassifier   True  "
            ],
            "text/html": [
              "\n",
              "  <div id=\"df-e1068981-ee1f-473d-9c26-11e95907b765\">\n",
              "    <div class=\"colab-df-container\">\n",
              "      <div>\n",
              "<style scoped>\n",
              "    .dataframe tbody tr th:only-of-type {\n",
              "        vertical-align: middle;\n",
              "    }\n",
              "\n",
              "    .dataframe tbody tr th {\n",
              "        vertical-align: top;\n",
              "    }\n",
              "\n",
              "    .dataframe thead th {\n",
              "        text-align: right;\n",
              "    }\n",
              "</style>\n",
              "<table border=\"1\" class=\"dataframe\">\n",
              "  <thead>\n",
              "    <tr style=\"text-align: right;\">\n",
              "      <th></th>\n",
              "      <th>Name</th>\n",
              "      <th>Reference</th>\n",
              "      <th>Turbo</th>\n",
              "    </tr>\n",
              "    <tr>\n",
              "      <th>ID</th>\n",
              "      <th></th>\n",
              "      <th></th>\n",
              "      <th></th>\n",
              "    </tr>\n",
              "  </thead>\n",
              "  <tbody>\n",
              "    <tr>\n",
              "      <th>lr</th>\n",
              "      <td>Logistic Regression</td>\n",
              "      <td>sklearn.linear_model._logistic.LogisticRegression</td>\n",
              "      <td>True</td>\n",
              "    </tr>\n",
              "    <tr>\n",
              "      <th>knn</th>\n",
              "      <td>K Neighbors Classifier</td>\n",
              "      <td>sklearn.neighbors._classification.KNeighborsCl...</td>\n",
              "      <td>True</td>\n",
              "    </tr>\n",
              "    <tr>\n",
              "      <th>nb</th>\n",
              "      <td>Naive Bayes</td>\n",
              "      <td>sklearn.naive_bayes.GaussianNB</td>\n",
              "      <td>True</td>\n",
              "    </tr>\n",
              "    <tr>\n",
              "      <th>dt</th>\n",
              "      <td>Decision Tree Classifier</td>\n",
              "      <td>sklearn.tree._classes.DecisionTreeClassifier</td>\n",
              "      <td>True</td>\n",
              "    </tr>\n",
              "    <tr>\n",
              "      <th>svm</th>\n",
              "      <td>SVM - Linear Kernel</td>\n",
              "      <td>sklearn.linear_model._stochastic_gradient.SGDC...</td>\n",
              "      <td>True</td>\n",
              "    </tr>\n",
              "    <tr>\n",
              "      <th>rbfsvm</th>\n",
              "      <td>SVM - Radial Kernel</td>\n",
              "      <td>sklearn.svm._classes.SVC</td>\n",
              "      <td>False</td>\n",
              "    </tr>\n",
              "    <tr>\n",
              "      <th>gpc</th>\n",
              "      <td>Gaussian Process Classifier</td>\n",
              "      <td>sklearn.gaussian_process._gpc.GaussianProcessC...</td>\n",
              "      <td>False</td>\n",
              "    </tr>\n",
              "    <tr>\n",
              "      <th>mlp</th>\n",
              "      <td>MLP Classifier</td>\n",
              "      <td>sklearn.neural_network._multilayer_perceptron....</td>\n",
              "      <td>False</td>\n",
              "    </tr>\n",
              "    <tr>\n",
              "      <th>ridge</th>\n",
              "      <td>Ridge Classifier</td>\n",
              "      <td>sklearn.linear_model._ridge.RidgeClassifier</td>\n",
              "      <td>True</td>\n",
              "    </tr>\n",
              "    <tr>\n",
              "      <th>rf</th>\n",
              "      <td>Random Forest Classifier</td>\n",
              "      <td>sklearn.ensemble._forest.RandomForestClassifier</td>\n",
              "      <td>True</td>\n",
              "    </tr>\n",
              "    <tr>\n",
              "      <th>qda</th>\n",
              "      <td>Quadratic Discriminant Analysis</td>\n",
              "      <td>sklearn.discriminant_analysis.QuadraticDiscrim...</td>\n",
              "      <td>True</td>\n",
              "    </tr>\n",
              "    <tr>\n",
              "      <th>ada</th>\n",
              "      <td>Ada Boost Classifier</td>\n",
              "      <td>sklearn.ensemble._weight_boosting.AdaBoostClas...</td>\n",
              "      <td>True</td>\n",
              "    </tr>\n",
              "    <tr>\n",
              "      <th>gbc</th>\n",
              "      <td>Gradient Boosting Classifier</td>\n",
              "      <td>sklearn.ensemble._gb.GradientBoostingClassifier</td>\n",
              "      <td>True</td>\n",
              "    </tr>\n",
              "    <tr>\n",
              "      <th>lda</th>\n",
              "      <td>Linear Discriminant Analysis</td>\n",
              "      <td>sklearn.discriminant_analysis.LinearDiscrimina...</td>\n",
              "      <td>True</td>\n",
              "    </tr>\n",
              "    <tr>\n",
              "      <th>et</th>\n",
              "      <td>Extra Trees Classifier</td>\n",
              "      <td>sklearn.ensemble._forest.ExtraTreesClassifier</td>\n",
              "      <td>True</td>\n",
              "    </tr>\n",
              "    <tr>\n",
              "      <th>xgboost</th>\n",
              "      <td>Extreme Gradient Boosting</td>\n",
              "      <td>xgboost.sklearn.XGBClassifier</td>\n",
              "      <td>True</td>\n",
              "    </tr>\n",
              "    <tr>\n",
              "      <th>lightgbm</th>\n",
              "      <td>Light Gradient Boosting Machine</td>\n",
              "      <td>lightgbm.sklearn.LGBMClassifier</td>\n",
              "      <td>True</td>\n",
              "    </tr>\n",
              "    <tr>\n",
              "      <th>dummy</th>\n",
              "      <td>Dummy Classifier</td>\n",
              "      <td>sklearn.dummy.DummyClassifier</td>\n",
              "      <td>True</td>\n",
              "    </tr>\n",
              "  </tbody>\n",
              "</table>\n",
              "</div>\n",
              "      <button class=\"colab-df-convert\" onclick=\"convertToInteractive('df-e1068981-ee1f-473d-9c26-11e95907b765')\"\n",
              "              title=\"Convert this dataframe to an interactive table.\"\n",
              "              style=\"display:none;\">\n",
              "        \n",
              "  <svg xmlns=\"http://www.w3.org/2000/svg\" height=\"24px\"viewBox=\"0 0 24 24\"\n",
              "       width=\"24px\">\n",
              "    <path d=\"M0 0h24v24H0V0z\" fill=\"none\"/>\n",
              "    <path d=\"M18.56 5.44l.94 2.06.94-2.06 2.06-.94-2.06-.94-.94-2.06-.94 2.06-2.06.94zm-11 1L8.5 8.5l.94-2.06 2.06-.94-2.06-.94L8.5 2.5l-.94 2.06-2.06.94zm10 10l.94 2.06.94-2.06 2.06-.94-2.06-.94-.94-2.06-.94 2.06-2.06.94z\"/><path d=\"M17.41 7.96l-1.37-1.37c-.4-.4-.92-.59-1.43-.59-.52 0-1.04.2-1.43.59L10.3 9.45l-7.72 7.72c-.78.78-.78 2.05 0 2.83L4 21.41c.39.39.9.59 1.41.59.51 0 1.02-.2 1.41-.59l7.78-7.78 2.81-2.81c.8-.78.8-2.07 0-2.86zM5.41 20L4 18.59l7.72-7.72 1.47 1.35L5.41 20z\"/>\n",
              "  </svg>\n",
              "      </button>\n",
              "      \n",
              "  <style>\n",
              "    .colab-df-container {\n",
              "      display:flex;\n",
              "      flex-wrap:wrap;\n",
              "      gap: 12px;\n",
              "    }\n",
              "\n",
              "    .colab-df-convert {\n",
              "      background-color: #E8F0FE;\n",
              "      border: none;\n",
              "      border-radius: 50%;\n",
              "      cursor: pointer;\n",
              "      display: none;\n",
              "      fill: #1967D2;\n",
              "      height: 32px;\n",
              "      padding: 0 0 0 0;\n",
              "      width: 32px;\n",
              "    }\n",
              "\n",
              "    .colab-df-convert:hover {\n",
              "      background-color: #E2EBFA;\n",
              "      box-shadow: 0px 1px 2px rgba(60, 64, 67, 0.3), 0px 1px 3px 1px rgba(60, 64, 67, 0.15);\n",
              "      fill: #174EA6;\n",
              "    }\n",
              "\n",
              "    [theme=dark] .colab-df-convert {\n",
              "      background-color: #3B4455;\n",
              "      fill: #D2E3FC;\n",
              "    }\n",
              "\n",
              "    [theme=dark] .colab-df-convert:hover {\n",
              "      background-color: #434B5C;\n",
              "      box-shadow: 0px 1px 3px 1px rgba(0, 0, 0, 0.15);\n",
              "      filter: drop-shadow(0px 1px 2px rgba(0, 0, 0, 0.3));\n",
              "      fill: #FFFFFF;\n",
              "    }\n",
              "  </style>\n",
              "\n",
              "      <script>\n",
              "        const buttonEl =\n",
              "          document.querySelector('#df-e1068981-ee1f-473d-9c26-11e95907b765 button.colab-df-convert');\n",
              "        buttonEl.style.display =\n",
              "          google.colab.kernel.accessAllowed ? 'block' : 'none';\n",
              "\n",
              "        async function convertToInteractive(key) {\n",
              "          const element = document.querySelector('#df-e1068981-ee1f-473d-9c26-11e95907b765');\n",
              "          const dataTable =\n",
              "            await google.colab.kernel.invokeFunction('convertToInteractive',\n",
              "                                                     [key], {});\n",
              "          if (!dataTable) return;\n",
              "\n",
              "          const docLinkHtml = 'Like what you see? Visit the ' +\n",
              "            '<a target=\"_blank\" href=https://colab.research.google.com/notebooks/data_table.ipynb>data table notebook</a>'\n",
              "            + ' to learn more about interactive tables.';\n",
              "          element.innerHTML = '';\n",
              "          dataTable['output_type'] = 'display_data';\n",
              "          await google.colab.output.renderOutput(dataTable, element);\n",
              "          const docLink = document.createElement('div');\n",
              "          docLink.innerHTML = docLinkHtml;\n",
              "          element.appendChild(docLink);\n",
              "        }\n",
              "      </script>\n",
              "    </div>\n",
              "  </div>\n",
              "  "
            ]
          },
          "metadata": {},
          "execution_count": 52
        }
      ]
    },
    {
      "cell_type": "markdown",
      "source": [
        "# Sección 05. Evaluación de modelos propuestos"
      ],
      "metadata": {
        "id": "PvnzCUAn88El"
      }
    },
    {
      "cell_type": "markdown",
      "source": [
        "## 05.01. Métricas elegidas para evaluar los modelos propuestos"
      ],
      "metadata": {
        "id": "HAzUrF8b9RLg"
      }
    },
    {
      "cell_type": "code",
      "source": [],
      "metadata": {
        "id": "y89F0BLD9PmQ"
      },
      "execution_count": null,
      "outputs": []
    },
    {
      "cell_type": "markdown",
      "source": [
        "## 05.02. Evaluación de los modelos"
      ],
      "metadata": {
        "id": "Jr4l8seE9jpr"
      }
    },
    {
      "cell_type": "code",
      "source": [
        "def plot_confusion_matrix(y_test, y_pred):\n",
        "    cm = confusion_matrix(y_test, y_pred)\n",
        "    fig, ax = plt.subplots(figsize=(6, 4))\n",
        "    sns.heatmap(ax=ax, data=cm, annot=True, cmap='Blues', fmt='g')\n",
        "    ax.set_xlabel('Valores predichos')\n",
        "    ax.set_ylabel('Valores verdaderos')\n",
        "    ax.set_title('Matriz de confusión')\n",
        "    plt.show()"
      ],
      "metadata": {
        "id": "bpyGGo4lUCsy"
      },
      "execution_count": null,
      "outputs": []
    },
    {
      "cell_type": "markdown",
      "source": [
        "### ---> Logistic Regression"
      ],
      "metadata": {
        "id": "fMDw7reIUuXl"
      }
    },
    {
      "cell_type": "code",
      "source": [
        "%%timeit\n",
        "y_pred_lr = lr_model.predict(X_test)"
      ],
      "metadata": {
        "id": "SS3kCHllQ2V5"
      },
      "execution_count": null,
      "outputs": []
    },
    {
      "cell_type": "code",
      "source": [
        "plot_confusion_matrix(y_test, y_pred_lr)"
      ],
      "metadata": {
        "id": "FaHYEr7gU_iF"
      },
      "execution_count": null,
      "outputs": []
    },
    {
      "cell_type": "code",
      "source": [
        "print(classification_report(y_test, y_pred_lr))"
      ],
      "metadata": {
        "id": "cWM28SaQRg9_"
      },
      "execution_count": null,
      "outputs": []
    },
    {
      "cell_type": "markdown",
      "source": [
        "### ---> Decision Tree Classifier"
      ],
      "metadata": {
        "id": "frgYRWR_VLRI"
      }
    },
    {
      "cell_type": "code",
      "source": [
        "%%timeit\n",
        "y_pred_dt = dt_model.predict(X_test)"
      ],
      "metadata": {
        "id": "L2f88dMh8tbx"
      },
      "execution_count": null,
      "outputs": []
    },
    {
      "cell_type": "code",
      "source": [
        "plot_confusion_matrix(y_test, y_pred_dt)"
      ],
      "metadata": {
        "id": "VpxY5VvNVuis"
      },
      "execution_count": null,
      "outputs": []
    },
    {
      "cell_type": "code",
      "source": [
        "print(classification_report(y_test, y_pred_dt))"
      ],
      "metadata": {
        "id": "uJbwis8PRYvX"
      },
      "execution_count": null,
      "outputs": []
    },
    {
      "cell_type": "markdown",
      "source": [
        "### ---> Xgboost"
      ],
      "metadata": {
        "id": "VXVTm3tIVf9B"
      }
    },
    {
      "cell_type": "code",
      "source": [
        "%%timeit\n",
        "y_pred_xgboost = xgboost_model.predict(X_test)"
      ],
      "metadata": {
        "id": "t1LGWc6aQ2Nq"
      },
      "execution_count": null,
      "outputs": []
    },
    {
      "cell_type": "code",
      "source": [
        "plot_confusion_matrix(y_test, y_pred_xgboost)"
      ],
      "metadata": {
        "id": "bIfvuYHpV4mr"
      },
      "execution_count": null,
      "outputs": []
    },
    {
      "cell_type": "code",
      "source": [
        "print(classification_report(y_test, y_pred_xgboost))"
      ],
      "metadata": {
        "id": "XVpf2M3qQ2LY"
      },
      "execution_count": null,
      "outputs": []
    },
    {
      "cell_type": "markdown",
      "source": [
        "### ---> Pycaret AutoML"
      ],
      "metadata": {
        "id": "_wj8s9I7WIJm"
      }
    },
    {
      "cell_type": "code",
      "source": [
        "top_models = compare_models(sort='Recall', \n",
        "                            fold=5)"
      ],
      "metadata": {
        "id": "6-yy5_4k-91c"
      },
      "execution_count": null,
      "outputs": []
    },
    {
      "cell_type": "markdown",
      "source": [
        "## 05.03. Elección del modelo en particular"
      ],
      "metadata": {
        "id": "dE2-41Y49ygE"
      }
    },
    {
      "cell_type": "code",
      "source": [],
      "metadata": {
        "id": "wytW8Llq9wkF"
      },
      "execution_count": null,
      "outputs": []
    },
    {
      "cell_type": "markdown",
      "source": [
        "## 05.04. Variables que más influyen en la predicción"
      ],
      "metadata": {
        "id": "2irTDs0Q97lj"
      }
    },
    {
      "cell_type": "code",
      "source": [
        "lr_classifier = create_model('lr', fold = 5)"
      ],
      "metadata": {
        "id": "DDoWZWj0CkHs"
      },
      "execution_count": null,
      "outputs": []
    },
    {
      "cell_type": "code",
      "source": [
        "plot_model(lr_classifier, plot = 'feature')"
      ],
      "metadata": {
        "id": "inSB_8MiC4WY"
      },
      "execution_count": null,
      "outputs": []
    },
    {
      "cell_type": "code",
      "source": [
        "plot_model(lr_classifier, plot = 'auc')"
      ],
      "metadata": {
        "id": "yf7NslN-M1PL"
      },
      "execution_count": null,
      "outputs": []
    },
    {
      "cell_type": "code",
      "source": [
        "plot_model(lr_classifier, plot='parameter')"
      ],
      "metadata": {
        "id": "rjL3vxLY97LP"
      },
      "execution_count": null,
      "outputs": []
    },
    {
      "cell_type": "code",
      "source": [],
      "metadata": {
        "id": "taNpE94uSyuv"
      },
      "execution_count": null,
      "outputs": []
    },
    {
      "cell_type": "markdown",
      "source": [
        "## 05.05. Posibles mejoras al modelo para incrementar su performance"
      ],
      "metadata": {
        "id": "4MWykujj-MK1"
      }
    },
    {
      "cell_type": "code",
      "source": [],
      "metadata": {
        "id": "LMNAXxtz8472"
      },
      "execution_count": null,
      "outputs": []
    },
    {
      "cell_type": "code",
      "source": [],
      "metadata": {
        "id": "8Xn3VKy885Aj"
      },
      "execution_count": null,
      "outputs": []
    },
    {
      "cell_type": "code",
      "source": [],
      "metadata": {
        "id": "H8FrMXOq85OW"
      },
      "execution_count": null,
      "outputs": []
    }
  ]
}